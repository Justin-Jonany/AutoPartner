{
  "nbformat": 4,
  "nbformat_minor": 0,
  "metadata": {
    "colab": {
      "provenance": [],
      "toc_visible": true,
      "gpuType": "T4",
      "mount_file_id": "1MGjVKysEjUtKhlftQtKN3CyIpHTelgLA",
      "authorship_tag": "ABX9TyNLnhOZtQnqEeE5c5Y3UGVB",
      "include_colab_link": true
    },
    "kernelspec": {
      "name": "python3",
      "display_name": "Python 3"
    },
    "language_info": {
      "name": "python"
    },
    "accelerator": "GPU"
  },
  "cells": [
    {
      "cell_type": "markdown",
      "metadata": {
        "id": "view-in-github",
        "colab_type": "text"
      },
      "source": [
        "<a href=\"https://colab.research.google.com/github/Justin-Jonany/AutoPartner/blob/main/autopartner_improved_blending_algorithm.ipynb\" target=\"_parent\"><img src=\"https://colab.research.google.com/assets/colab-badge.svg\" alt=\"Open In Colab\"/></a>"
      ]
    },
    {
      "cell_type": "markdown",
      "source": [
        "# AutoPartner\n",
        "This dataset is retrieved from https://www.kaggle.com/datasets/deepcontractor/car-price-prediction-challenge/data.\n",
        "\n",
        "### Goal\n",
        "The goal of this notebook is to create an effective model to predict car sales price. However, this notebook is an extension of the previous notebook where I'm going to implement an imrpoved blending algorithm with neural networks\n",
        "\n",
        "### Attributes\n",
        "1. ID\n",
        "2. Price: price of the care(Target Column)\n",
        "3. Levy\n",
        "4. Manufacturer\n",
        "5. Model\n",
        "6. Prod. year\n",
        "7. Category\n",
        "8. Leather interior\n",
        "9. Fuel type\n",
        "10. Engine volume\n",
        "11. Mileage\n",
        "12. Cylinders\n",
        "13. Gear box type\n",
        "14. Drive wheels\n",
        "15. Doors\n",
        "16. Wheel\n",
        "17. Color\n",
        "18. Airbags"
      ],
      "metadata": {
        "id": "uOCALFq3xFVI"
      }
    },
    {
      "cell_type": "markdown",
      "metadata": {
        "id": "6c858714"
      },
      "source": [
        "## Libraries"
      ]
    },
    {
      "cell_type": "code",
      "execution_count": null,
      "metadata": {
        "id": "07036a87"
      },
      "outputs": [],
      "source": [
        "import pandas as pd\n",
        "import numpy as np\n",
        "import matplotlib.pyplot as plt\n",
        "import random\n",
        "import tensorflow as tf\n",
        "%matplotlib inline\n",
        "\n",
        "from sklearn.model_selection import train_test_split\n",
        "from sklearn.pipeline import Pipeline\n",
        "from sklearn.preprocessing import StandardScaler, OneHotEncoder, FunctionTransformer\n",
        "from sklearn.linear_model import LinearRegression, LogisticRegression, ElasticNet, Ridge, Lasso, SGDRegressor\n",
        "from sklearn.neighbors import KNeighborsRegressor\n",
        "from sklearn.ensemble import RandomForestRegressor, ExtraTreesRegressor, AdaBoostRegressor\n",
        "from sklearn.svm import LinearSVR, SVR\n",
        "from sklearn.tree import DecisionTreeRegressor\n",
        "from xgboost import XGBRegressor\n",
        "from sklearn.base import BaseEstimator, TransformerMixin, RegressorMixin\n",
        "from sklearn.compose import ColumnTransformer\n",
        "from sklearn.metrics import mean_absolute_error, mean_absolute_percentage_error, mean_squared_error, r2_score\n",
        "from statistics import mean\n",
        "from sklearn.preprocessing import StandardScaler, normalize\n",
        "\n",
        "import seaborn as sns"
      ]
    },
    {
      "cell_type": "markdown",
      "source": [
        "## Data"
      ],
      "metadata": {
        "id": "N7pSeU8IxUc2"
      }
    },
    {
      "cell_type": "code",
      "execution_count": null,
      "metadata": {
        "id": "5b8e3cf9",
        "outputId": "7253c8a9-f83f-410b-8be3-445ca1791374",
        "colab": {
          "base_uri": "https://localhost:8080/"
        }
      },
      "outputs": [
        {
          "output_type": "execute_result",
          "data": {
            "text/plain": [
              "(19237, 18)"
            ]
          },
          "metadata": {},
          "execution_count": 2
        }
      ],
      "source": [
        "df = pd.read_csv(\"/content/drive/MyDrive/ColabNotebooks/projects/AutoPartner/car_price_prediction.csv\")\n",
        "df.shape"
      ]
    },
    {
      "cell_type": "markdown",
      "metadata": {
        "id": "ad5b476c"
      },
      "source": [
        "### Splitting Data Into Training, Validation, and Test Set\n",
        "Note that unlike the previous notebook, here I'm going to create a validation set too\n",
        "\n",
        "we need to classify the **Price** column into a few categories in order to **stratify split** the data."
      ]
    },
    {
      "cell_type": "code",
      "execution_count": null,
      "metadata": {
        "id": "712aaac4"
      },
      "outputs": [],
      "source": [
        "df[\"Price_cat\"] = pd.cut(df[\"Price\"],\n",
        "                               bins=[0., 4000, 8000, 12000, 14000, 18000, np.inf],\n",
        "                               labels=[1, 2, 3, 4, 5, 6])"
      ]
    },
    {
      "cell_type": "code",
      "execution_count": null,
      "metadata": {
        "id": "3899f765",
        "outputId": "9fc576b3-c94d-4271-c2bd-0d0e097fc11c",
        "colab": {
          "base_uri": "https://localhost:8080/"
        }
      },
      "outputs": [
        {
          "output_type": "execute_result",
          "data": {
            "text/plain": [
              "6    6681\n",
              "1    4174\n",
              "3    2584\n",
              "5    2429\n",
              "2    2228\n",
              "4    1141\n",
              "Name: Price_cat, dtype: int64"
            ]
          },
          "metadata": {},
          "execution_count": 4
        }
      ],
      "source": [
        "df.Price_cat.value_counts()"
      ]
    },
    {
      "cell_type": "code",
      "execution_count": null,
      "metadata": {
        "id": "88600648",
        "outputId": "fe16fe26-563a-4218-80c5-3c2b07e7bab7",
        "colab": {
          "base_uri": "https://localhost:8080/"
        }
      },
      "outputs": [
        {
          "output_type": "execute_result",
          "data": {
            "text/plain": [
              "(19237, 19)"
            ]
          },
          "metadata": {},
          "execution_count": 5
        }
      ],
      "source": [
        "df.shape"
      ]
    },
    {
      "cell_type": "code",
      "execution_count": null,
      "metadata": {
        "id": "9b245f54",
        "outputId": "b5968fe2-cce3-471f-f68b-05b43a12c560",
        "colab": {
          "base_uri": "https://localhost:8080/"
        }
      },
      "outputs": [
        {
          "output_type": "execute_result",
          "data": {
            "text/plain": [
              "((15774, 19), (3463, 19))"
            ]
          },
          "metadata": {},
          "execution_count": 6
        }
      ],
      "source": [
        "df_train_val, df_test = train_test_split(df, stratify=df['Price_cat'], test_size=0.18)\n",
        "df_train_val.shape, df_test.shape"
      ]
    },
    {
      "cell_type": "code",
      "source": [
        "df_train, df_val = train_test_split(df_train_val, stratify=df_train_val['Price_cat'], test_size=0.12)\n",
        "df_train.shape, df_val.shape"
      ],
      "metadata": {
        "colab": {
          "base_uri": "https://localhost:8080/"
        },
        "id": "4udLBGmxB7r_",
        "outputId": "1d346d18-33cc-4163-a825-34a1e0f7a339"
      },
      "execution_count": null,
      "outputs": [
        {
          "output_type": "execute_result",
          "data": {
            "text/plain": [
              "((13881, 19), (1893, 19))"
            ]
          },
          "metadata": {},
          "execution_count": 7
        }
      ]
    },
    {
      "cell_type": "code",
      "source": [
        "df_train.Price_cat.value_counts(len(df_train))"
      ],
      "metadata": {
        "colab": {
          "base_uri": "https://localhost:8080/"
        },
        "id": "xnbECLGcCQ1l",
        "outputId": "da1135ed-363c-437a-da7f-246165778e4a"
      },
      "execution_count": null,
      "outputs": [
        {
          "output_type": "execute_result",
          "data": {
            "text/plain": [
              "6    0.347237\n",
              "1    0.216987\n",
              "3    0.134356\n",
              "5    0.126288\n",
              "2    0.115842\n",
              "4    0.059290\n",
              "Name: Price_cat, dtype: float64"
            ]
          },
          "metadata": {},
          "execution_count": 8
        }
      ]
    },
    {
      "cell_type": "code",
      "execution_count": null,
      "metadata": {
        "id": "42aaa8e3",
        "outputId": "27747224-d5df-4669-b38a-c1d18d7b0db4",
        "colab": {
          "base_uri": "https://localhost:8080/"
        }
      },
      "outputs": [
        {
          "output_type": "execute_result",
          "data": {
            "text/plain": [
              "6    0.347596\n",
              "1    0.217116\n",
              "3    0.134179\n",
              "5    0.126255\n",
              "2    0.115689\n",
              "4    0.059165\n",
              "Name: Price_cat, dtype: float64"
            ]
          },
          "metadata": {},
          "execution_count": 9
        }
      ],
      "source": [
        "df_val.Price_cat.value_counts(len(df_train))"
      ]
    },
    {
      "cell_type": "code",
      "execution_count": null,
      "metadata": {
        "id": "edc6fc61",
        "outputId": "3452dd2b-5656-4520-b3c0-2e7f46c1b1a8",
        "colab": {
          "base_uri": "https://localhost:8080/"
        }
      },
      "outputs": [
        {
          "output_type": "execute_result",
          "data": {
            "text/plain": [
              "6    0.347387\n",
              "1    0.216864\n",
              "3    0.134277\n",
              "5    0.126191\n",
              "2    0.115796\n",
              "4    0.059486\n",
              "Name: Price_cat, dtype: float64"
            ]
          },
          "metadata": {},
          "execution_count": 10
        }
      ],
      "source": [
        "df_test.Price_cat.value_counts(len(df_test))"
      ]
    },
    {
      "cell_type": "markdown",
      "metadata": {
        "id": "b793450c"
      },
      "source": [
        "Both training and testing set have proportional target labels, so now we can remove `Price_label` from both sets"
      ]
    },
    {
      "cell_type": "code",
      "execution_count": null,
      "metadata": {
        "id": "bddf1150"
      },
      "outputs": [],
      "source": [
        "df_test.drop('Price_cat', axis=1, inplace=True);\n",
        "df_train.drop('Price_cat', axis=1, inplace=True);\n",
        "df_val.drop('Price_cat', axis=1, inplace=True);"
      ]
    },
    {
      "cell_type": "markdown",
      "metadata": {
        "id": "5e47abcc"
      },
      "source": [
        "### Data Preprocessing\n",
        "\n",
        "For explaination, look at the previous notebook\n"
      ]
    },
    {
      "cell_type": "code",
      "source": [
        "def detect_outliers(df,features,thold):\n",
        "    outlier_indices = []\n",
        "\n",
        "    for c in features:\n",
        "        # 1st quartile\n",
        "        Q1 = np.percentile(df[c],25)\n",
        "        # 3rd quartile\n",
        "        Q3 = np.percentile(df[c],75)\n",
        "        # IQR\n",
        "        IQR = Q3 - Q1\n",
        "        # Outlier step\n",
        "        outlier_step = IQR * thold\n",
        "        # Detect outlier and their indeces\n",
        "        outlier_list_col = df[(df[c] < Q1 - outlier_step) | (df[c] > Q3 + outlier_step)].index\n",
        "        # Store indeces\n",
        "        outlier_indices.extend(outlier_list_col)\n",
        "\n",
        "\n",
        "    return outlier_indices"
      ],
      "metadata": {
        "id": "pej34yL_yOtm"
      },
      "execution_count": null,
      "outputs": []
    },
    {
      "cell_type": "code",
      "execution_count": null,
      "metadata": {
        "id": "d1cb485c"
      },
      "outputs": [],
      "source": [
        "NUM_ATTRIBS = ['Levy', 'Prod. year', 'Engine volume', 'Mileage', 'Doors', 'Cylinders', 'Airbags']\n",
        "CAT_ATTRIBS = ['Manufacturer', 'Model', 'Category', 'Leather interior', 'Fuel type',\n",
        "               'Gear box type', 'Drive wheels', 'Wheel', 'Color', 'Turbo']"
      ]
    },
    {
      "cell_type": "code",
      "execution_count": null,
      "metadata": {
        "id": "66a2d034"
      },
      "outputs": [],
      "source": [
        "class DropID(BaseEstimator, TransformerMixin):\n",
        "    '''\n",
        "    A transformer to drop ID\n",
        "    '''\n",
        "    def __init__(self, drop=True):\n",
        "        self.drop = drop\n",
        "    def fit(self, X, y=None):\n",
        "        return self  # nothing else to do\n",
        "    def transform(self, X, y=None):\n",
        "        X = X.drop(['ID'], axis=1)\n",
        "\n",
        "        return X"
      ]
    },
    {
      "cell_type": "code",
      "execution_count": null,
      "metadata": {
        "id": "2d5b1f79"
      },
      "outputs": [],
      "source": [
        "class CustomImputer(BaseEstimator, TransformerMixin):\n",
        "    '''\n",
        "    A transformer to remove all instances with '-' in the Levy column if drop=True (default),\n",
        "    or change to np.nan if drop=False\n",
        "    '''\n",
        "    def __init__(self):\n",
        "        return\n",
        "    def fit(self, X, y=None):\n",
        "        return self  # nothing else to do\n",
        "    def transform(self, X, y=None):\n",
        "        X['Levy'].replace({'-':np.nan}, inplace = True)\n",
        "\n",
        "        return X"
      ]
    },
    {
      "cell_type": "code",
      "execution_count": null,
      "metadata": {
        "id": "7fc43b6c"
      },
      "outputs": [],
      "source": [
        "class ConvertToNumerical(BaseEstimator, TransformerMixin):\n",
        "    '''\n",
        "    A transformer to convert 'Levy', 'Engine Volume', 'Mileage', and 'Doors' into clean\n",
        "    and numeric data. Also, optionally remove_outliers for Levy, Price, and Mileage. We\n",
        "    also add a new feature 'Turbo'.\n",
        "\n",
        "    '''\n",
        "    def __init__(self, remove_outliers=False):\n",
        "        self.remove_outliers = remove_outliers\n",
        "    def fit(self, X, y=None):\n",
        "        return self  # nothing else to do\n",
        "    def transform(self, X, y=None):\n",
        "        X['Levy'] = X['Levy'].astype('float64')\n",
        "        X['Levy'].replace({np.nan:X['Levy'].median()}, inplace = True)\n",
        "        X['Turbo'] = [(1 if len(s) > 3 else 0) for s in X['Engine volume']]\n",
        "        X['Engine volume'] = np.array([s[:3] for s in X['Engine volume']]).astype(float)\n",
        "        X['Mileage'] = np.array([s[:len(s) - 2] for s in X['Mileage']]).astype(int)\n",
        "        X['Doors'].replace({'04-May':4, '02-Mar':2, '>5':5}, inplace=True)\n",
        "\n",
        "        if self.remove_outliers:\n",
        "            print('Removing Outliers in columns: Price, Levy, and Mileage')\n",
        "            features = ['Price', 'Levy', 'Mileage']\n",
        "            outliers = detect_outliers(X,features, 1.5)\n",
        "            X.drop(X.loc[outliers].index,axis=0, inplace=True)\n",
        "\n",
        "        return X"
      ]
    },
    {
      "cell_type": "code",
      "execution_count": null,
      "metadata": {
        "id": "ee8d1227"
      },
      "outputs": [],
      "source": [
        "class ConvertToFloat(BaseEstimator, TransformerMixin):\n",
        "    '''\n",
        "    Converts all columns to float\n",
        "    '''\n",
        "    def __init__(self, remove_outliers=False):\n",
        "        self.remove_outliers = remove_outliers\n",
        "    def fit(self, X, y=None):\n",
        "        return self  # nothing else to do\n",
        "    def transform(self, X, y=None):\n",
        "        for i in NUM_ATTRIBS:\n",
        "            X[i] = X[i].astype(float)\n",
        "        return X"
      ]
    },
    {
      "cell_type": "code",
      "execution_count": null,
      "metadata": {
        "id": "022c2062"
      },
      "outputs": [],
      "source": [
        "# NUM ATTRIBUTES\n",
        "pipeline_numerical_unstandardized = Pipeline([\n",
        "    ('drop_id', DropID()),\n",
        "    ('custom_imputer', CustomImputer()),\n",
        "    ('convert_to_numerical', ConvertToNumerical()),\n",
        "])\n",
        "\n",
        "pipline_numerical_standardize = ColumnTransformer([\n",
        "    ('standardize', StandardScaler(), NUM_ATTRIBS)\n",
        "], remainder='passthrough')\n",
        "\n",
        "\n",
        "names = ['Levy', 'Prod. year', 'Engine volume', 'Mileage', 'Doors', 'Cylinders', 'Airbags', 'Price',\n",
        "         'Manufacturer', 'Model', 'Category', 'Leather interior', 'Fuel type', 'Gear box type', 'Drive wheels',\n",
        "        'Wheel', 'Color', 'Turbo']\n",
        "\n",
        "# Note: we have to separate standardizing and cleaning because when we clean, we can remove\n",
        "# some instances in some cases. Changing shapes in ColumnTransformer doesn't work, but we need\n",
        "# ColumnTransformer for StandardScaler(). Therefore, we make sure to do any instances changes before\n",
        "pipeline_numerical_full = Pipeline([\n",
        "    ('cleaning_numeric', pipeline_numerical_unstandardized),\n",
        "    ('standardize',pipline_numerical_standardize),\n",
        "    (\"pandarizer\", FunctionTransformer(lambda x: pd.DataFrame(x, columns = names))),\n",
        "    ('reconvert_to_float', ConvertToFloat())\n",
        "    # pandas is buggy and requires each column to be converted to float again for some reason, or else the\n",
        "    # dtype will be 'object'\n",
        "])\n",
        "\n",
        "\n",
        "# ====================================================================================================\n",
        "\n",
        "# CATEGORICAL ATTRIBUTES\n",
        "pipeline_cat_full = ColumnTransformer([\n",
        "        (\"cat\", OneHotEncoder(handle_unknown='ignore'), CAT_ATTRIBS),\n",
        "    ], remainder='passthrough')"
      ]
    },
    {
      "cell_type": "markdown",
      "metadata": {
        "id": "38aa9b31"
      },
      "source": [
        "### Splitting Data into X & y"
      ]
    },
    {
      "cell_type": "code",
      "execution_count": null,
      "metadata": {
        "id": "02df6360"
      },
      "outputs": [],
      "source": [
        "def full_pipeline(df, training=False):\n",
        "    '''\n",
        "    Cleans the data and add a new feature. Outliers will be removed if it's the training data. It will\n",
        "    return the X and y in a tuple.\n",
        "    '''\n",
        "    if training:\n",
        "        new_df = pipeline_numerical_full.set_params(\n",
        "                                            cleaning_numeric__convert_to_numerical__remove_outliers=True).fit_transform(df)\n",
        "        X = new_df.drop('Price', axis = 1)\n",
        "        encoded_X = pipeline_cat_full.fit_transform(X)\n",
        "\n",
        "    else:\n",
        "        new_df = pipeline_numerical_full.transform(df)\n",
        "        X = new_df.drop('Price', axis = 1)\n",
        "        encoded_X = pipeline_cat_full.transform(X)\n",
        "\n",
        "    y = new_df['Price']\n",
        "\n",
        "    return encoded_X, y\n"
      ]
    },
    {
      "cell_type": "code",
      "execution_count": null,
      "metadata": {
        "id": "fd1b5f28",
        "outputId": "26ca3112-1d1b-49fb-b74c-0eaee498d4b5",
        "colab": {
          "base_uri": "https://localhost:8080/"
        }
      },
      "outputs": [
        {
          "output_type": "stream",
          "name": "stdout",
          "text": [
            "Removing Outliers in columns: Price, Levy, and Mileage\n",
            "Removing Outliers in columns: Price, Levy, and Mileage\n",
            "Removing Outliers in columns: Price, Levy, and Mileage\n"
          ]
        }
      ],
      "source": [
        "X_train, y_train = full_pipeline(df_train, training=True)\n",
        "X_val, y_val = full_pipeline(df_val)\n",
        "X_test, y_test = full_pipeline(df_test)"
      ]
    },
    {
      "cell_type": "code",
      "execution_count": null,
      "metadata": {
        "id": "357fc0f8"
      },
      "outputs": [],
      "source": [
        "X_train, y_train, X_val, y_val, X_test, y_test = X_train.astype(float), y_train.astype(float), X_val.astype(float), y_val.astype(float), X_test.astype(float), y_test.astype(float)"
      ]
    },
    {
      "cell_type": "markdown",
      "source": [
        "## Previous Best Model\n",
        "The project was made quite early in the beginning of my journey, and I didn't save the model properly. So, I'll attach an image from the previous notebook.\n",
        "\n",
        "![image](https://drive.google.com/uc?export=view&id=1g8ppaUiQHGHlS2-bHo6CvWxdtsk8TiGJ)\n"
      ],
      "metadata": {
        "id": "2o2C26-gyIJk"
      }
    },
    {
      "cell_type": "markdown",
      "source": [
        "So the goal is to have an RMSE lower than 5230.980"
      ],
      "metadata": {
        "id": "B-J0A7WOzl2B"
      }
    },
    {
      "cell_type": "markdown",
      "source": [
        "## Model Trainings"
      ],
      "metadata": {
        "id": "Mo6WrDCr9fCe"
      }
    },
    {
      "cell_type": "markdown",
      "source": [
        "### Scikit-Learn RandomForestRegressor"
      ],
      "metadata": {
        "id": "4PSTxiyR7Nfv"
      }
    },
    {
      "cell_type": "code",
      "source": [
        "rfr = RandomForestRegressor()\n",
        "rfr.fit(X_train, y_train)"
      ],
      "metadata": {
        "colab": {
          "base_uri": "https://localhost:8080/",
          "height": 75
        },
        "id": "0fNpT1K77PI5",
        "outputId": "1fdd4fdd-c27a-4b75-bf08-82a09ac7350c"
      },
      "execution_count": null,
      "outputs": [
        {
          "output_type": "execute_result",
          "data": {
            "text/plain": [
              "RandomForestRegressor()"
            ],
            "text/html": [
              "<style>#sk-container-id-1 {color: black;background-color: white;}#sk-container-id-1 pre{padding: 0;}#sk-container-id-1 div.sk-toggleable {background-color: white;}#sk-container-id-1 label.sk-toggleable__label {cursor: pointer;display: block;width: 100%;margin-bottom: 0;padding: 0.3em;box-sizing: border-box;text-align: center;}#sk-container-id-1 label.sk-toggleable__label-arrow:before {content: \"▸\";float: left;margin-right: 0.25em;color: #696969;}#sk-container-id-1 label.sk-toggleable__label-arrow:hover:before {color: black;}#sk-container-id-1 div.sk-estimator:hover label.sk-toggleable__label-arrow:before {color: black;}#sk-container-id-1 div.sk-toggleable__content {max-height: 0;max-width: 0;overflow: hidden;text-align: left;background-color: #f0f8ff;}#sk-container-id-1 div.sk-toggleable__content pre {margin: 0.2em;color: black;border-radius: 0.25em;background-color: #f0f8ff;}#sk-container-id-1 input.sk-toggleable__control:checked~div.sk-toggleable__content {max-height: 200px;max-width: 100%;overflow: auto;}#sk-container-id-1 input.sk-toggleable__control:checked~label.sk-toggleable__label-arrow:before {content: \"▾\";}#sk-container-id-1 div.sk-estimator input.sk-toggleable__control:checked~label.sk-toggleable__label {background-color: #d4ebff;}#sk-container-id-1 div.sk-label input.sk-toggleable__control:checked~label.sk-toggleable__label {background-color: #d4ebff;}#sk-container-id-1 input.sk-hidden--visually {border: 0;clip: rect(1px 1px 1px 1px);clip: rect(1px, 1px, 1px, 1px);height: 1px;margin: -1px;overflow: hidden;padding: 0;position: absolute;width: 1px;}#sk-container-id-1 div.sk-estimator {font-family: monospace;background-color: #f0f8ff;border: 1px dotted black;border-radius: 0.25em;box-sizing: border-box;margin-bottom: 0.5em;}#sk-container-id-1 div.sk-estimator:hover {background-color: #d4ebff;}#sk-container-id-1 div.sk-parallel-item::after {content: \"\";width: 100%;border-bottom: 1px solid gray;flex-grow: 1;}#sk-container-id-1 div.sk-label:hover label.sk-toggleable__label {background-color: #d4ebff;}#sk-container-id-1 div.sk-serial::before {content: \"\";position: absolute;border-left: 1px solid gray;box-sizing: border-box;top: 0;bottom: 0;left: 50%;z-index: 0;}#sk-container-id-1 div.sk-serial {display: flex;flex-direction: column;align-items: center;background-color: white;padding-right: 0.2em;padding-left: 0.2em;position: relative;}#sk-container-id-1 div.sk-item {position: relative;z-index: 1;}#sk-container-id-1 div.sk-parallel {display: flex;align-items: stretch;justify-content: center;background-color: white;position: relative;}#sk-container-id-1 div.sk-item::before, #sk-container-id-1 div.sk-parallel-item::before {content: \"\";position: absolute;border-left: 1px solid gray;box-sizing: border-box;top: 0;bottom: 0;left: 50%;z-index: -1;}#sk-container-id-1 div.sk-parallel-item {display: flex;flex-direction: column;z-index: 1;position: relative;background-color: white;}#sk-container-id-1 div.sk-parallel-item:first-child::after {align-self: flex-end;width: 50%;}#sk-container-id-1 div.sk-parallel-item:last-child::after {align-self: flex-start;width: 50%;}#sk-container-id-1 div.sk-parallel-item:only-child::after {width: 0;}#sk-container-id-1 div.sk-dashed-wrapped {border: 1px dashed gray;margin: 0 0.4em 0.5em 0.4em;box-sizing: border-box;padding-bottom: 0.4em;background-color: white;}#sk-container-id-1 div.sk-label label {font-family: monospace;font-weight: bold;display: inline-block;line-height: 1.2em;}#sk-container-id-1 div.sk-label-container {text-align: center;}#sk-container-id-1 div.sk-container {/* jupyter's `normalize.less` sets `[hidden] { display: none; }` but bootstrap.min.css set `[hidden] { display: none !important; }` so we also need the `!important` here to be able to override the default hidden behavior on the sphinx rendered scikit-learn.org. See: https://github.com/scikit-learn/scikit-learn/issues/21755 */display: inline-block !important;position: relative;}#sk-container-id-1 div.sk-text-repr-fallback {display: none;}</style><div id=\"sk-container-id-1\" class=\"sk-top-container\"><div class=\"sk-text-repr-fallback\"><pre>RandomForestRegressor()</pre><b>In a Jupyter environment, please rerun this cell to show the HTML representation or trust the notebook. <br />On GitHub, the HTML representation is unable to render, please try loading this page with nbviewer.org.</b></div><div class=\"sk-container\" hidden><div class=\"sk-item\"><div class=\"sk-estimator sk-toggleable\"><input class=\"sk-toggleable__control sk-hidden--visually\" id=\"sk-estimator-id-1\" type=\"checkbox\" checked><label for=\"sk-estimator-id-1\" class=\"sk-toggleable__label sk-toggleable__label-arrow\">RandomForestRegressor</label><div class=\"sk-toggleable__content\"><pre>RandomForestRegressor()</pre></div></div></div></div></div>"
            ]
          },
          "metadata": {},
          "execution_count": 22
        }
      ]
    },
    {
      "cell_type": "code",
      "source": [
        "y_pred = rfr.predict(X_val)\n",
        "rfr_result = tf.sqrt(mean_squared_error(y_val, y_pred))\n",
        "rfr_result"
      ],
      "metadata": {
        "colab": {
          "base_uri": "https://localhost:8080/"
        },
        "id": "4zprQfxiCib3",
        "outputId": "e1b8d7c5-ad02-482d-84c0-990c6a826f46"
      },
      "execution_count": null,
      "outputs": [
        {
          "output_type": "execute_result",
          "data": {
            "text/plain": [
              "<tf.Tensor: shape=(), dtype=float64, numpy=5155.783716341994>"
            ]
          },
          "metadata": {},
          "execution_count": 23
        }
      ]
    },
    {
      "cell_type": "code",
      "source": [
        "y_pred = rfr.predict(X_test)\n",
        "rfr_result = tf.sqrt(mean_squared_error(y_test, y_pred))\n",
        "rfr_result"
      ],
      "metadata": {
        "colab": {
          "base_uri": "https://localhost:8080/"
        },
        "id": "7Sgwc7zjISLk",
        "outputId": "1e13153e-6cea-42c2-a9a2-c90b170730de"
      },
      "execution_count": null,
      "outputs": [
        {
          "output_type": "execute_result",
          "data": {
            "text/plain": [
              "<tf.Tensor: shape=(), dtype=float64, numpy=5640.996175230046>"
            ]
          },
          "metadata": {},
          "execution_count": 24
        }
      ]
    },
    {
      "cell_type": "markdown",
      "source": [
        "### Blending Algorithm\n",
        "\n",
        "Let's restart the blending algorithm in the previous notebook\n",
        "\n",
        "Blending is an ensemble machine learning technique that uses a machine learning model to learn how to best combine the predictions from multiple contributing ensemble member models.\n",
        "\n",
        "The architecture of a stacking model involves two or more base models, often referred to as level-0 models, and a meta-model that combines the predictions of the base models, referred to as a level-1 model. The meta-model is trained on the predictions made by base models on out-of-sample data.\n",
        "\n",
        "* Level-0 Models (Base-Models): Models fit on the training data and whose predictions are compiled.\n",
        "* Level-1 Model (Meta-Model): Model that learns how to best combine the predictions of the base models.\n",
        "\n",
        "Here, I'm going to implement the level-0 with the following base models:\n",
        "- Linear Regression\n",
        "- SVR\n",
        "- K-Nearest Neighbour Regression\n",
        "- Random Forest Regressor\n",
        "- XGBoost\n",
        "- AdaBoost\n",
        "\n",
        "It's best to use models that have different predictive methods\n",
        "\n",
        "\n",
        "Finally, I'm going to use a linear regression to learn to combine the prediction of the base models (**the blender**)\n",
        "\n",
        "This is **Multi Layered Perceptron (MLP)**, since there's no hidden layers"
      ],
      "metadata": {
        "id": "MPYeP4Zf0_a0"
      }
    },
    {
      "cell_type": "code",
      "execution_count": null,
      "metadata": {
        "id": "a805b0a8",
        "outputId": "cb9dae33-e7e6-43a7-8584-fc34f1b6259c",
        "colab": {
          "base_uri": "https://localhost:8080/"
        }
      },
      "outputs": [
        {
          "output_type": "execute_result",
          "data": {
            "text/plain": [
              "((7102, 1205), (3499, 1205), (7102,), (3499,))"
            ]
          },
          "metadata": {},
          "execution_count": 26
        }
      ],
      "source": [
        "X_train_blend, X_val_blend, y_train_blend, y_val_blend = train_test_split(X_train, y_train, test_size=0.33)\n",
        "X_train_blend.shape, X_val_blend.shape, y_train_blend.shape, y_val_blend.shape"
      ]
    },
    {
      "cell_type": "code",
      "source": [
        "X_train_blend_val, X_val_blend_val, y_train_blend_val, y_val_blend_val = train_test_split(X_val, y_val, test_size=0.33)\n",
        "X_train_blend_val.shape, X_val_blend_val.shape, y_train_blend_val.shape, y_val_blend_val.shape"
      ],
      "metadata": {
        "colab": {
          "base_uri": "https://localhost:8080/"
        },
        "id": "m5KXOBWymw1y",
        "outputId": "5e21bbd3-b869-47e9-c65f-6e8ef961f83f"
      },
      "execution_count": null,
      "outputs": [
        {
          "output_type": "execute_result",
          "data": {
            "text/plain": [
              "((986, 1205), (487, 1205), (986,), (487,))"
            ]
          },
          "metadata": {},
          "execution_count": 27
        }
      ]
    },
    {
      "cell_type": "code",
      "source": [
        "X_train_blend_test, X_val_blend_test, y_train_blend_test, y_val_blend_test = train_test_split(X_test, y_test, test_size=0.33)\n",
        "X_train_blend_test.shape, X_val_blend_test.shape, y_train_blend_test.shape, y_val_blend_test.shape"
      ],
      "metadata": {
        "colab": {
          "base_uri": "https://localhost:8080/"
        },
        "id": "P-KKXG_2CGdQ",
        "outputId": "2aa87786-a292-4839-cfd4-d5e915a3080d"
      },
      "execution_count": null,
      "outputs": [
        {
          "output_type": "execute_result",
          "data": {
            "text/plain": [
              "((1754, 1205), (864, 1205), (1754,), (864,))"
            ]
          },
          "metadata": {},
          "execution_count": 28
        }
      ]
    },
    {
      "cell_type": "markdown",
      "metadata": {
        "id": "187967cf"
      },
      "source": [
        "#### First Layer\n",
        "Training the models and combining the predictions"
      ]
    },
    {
      "cell_type": "code",
      "execution_count": null,
      "metadata": {
        "id": "437f7c36"
      },
      "outputs": [],
      "source": [
        "def get_models():\n",
        "    models = list()\n",
        "    models.append(('lr', LinearRegression()))\n",
        "    models.append(('knn', KNeighborsRegressor()))\n",
        "    models.append(('svm', SVR()))\n",
        "    models.append(('rfr', RandomForestRegressor()))\n",
        "    models.append(('xgb', XGBRegressor()))\n",
        "    models.append(('abr', AdaBoostRegressor()))\n",
        "    return models"
      ]
    },
    {
      "cell_type": "code",
      "execution_count": null,
      "metadata": {
        "id": "24256211"
      },
      "outputs": [],
      "source": [
        "def prediction_combiner(models, X_train_b, X_val_b, y_train_b, y_val_b):\n",
        "    '''\n",
        "    Fits X_train and y_train into models and create predictions on X_val. The results will be combined\n",
        "    into a matrix, which will be used to train the blender. The function returns the trained blender.\n",
        "    '''\n",
        "\n",
        "    # To Hold all the predictions\n",
        "    meta_X = list()\n",
        "\n",
        "    for name, model in models:\n",
        "        # Train on the training set\n",
        "        model.fit(X_train_b, y_train_b)\n",
        "\n",
        "        # Predict on hold-out set\n",
        "        y_pred = model.predict(X_val_b)\n",
        "        y_pred = y_pred.reshape(len(y_pred), 1) # To combine all the data into meta_X\n",
        "        meta_X.append(y_pred)\n",
        "\n",
        "    meta_X = np.hstack(meta_X) # Shapes meta_X into the correct format for training data\n",
        "    return meta_X"
      ]
    },
    {
      "cell_type": "markdown",
      "metadata": {
        "id": "b4b2bc53"
      },
      "source": [
        "#### Second Layer\n",
        "Making predictions"
      ]
    },
    {
      "cell_type": "code",
      "execution_count": null,
      "metadata": {
        "id": "cbd91f40"
      },
      "outputs": [],
      "source": [
        "def predict_ensemble(models, blender, X):\n",
        "    '''\n",
        "    Returns the predictions of X using the blender\n",
        "    '''\n",
        "    # We need to create the meta_X from the models we already trained\n",
        "    meta_X = list()\n",
        "    for name, model in models:\n",
        "        y_pred = model.predict(X)\n",
        "        y_pred = y_pred.reshape(len(y_pred), 1) # To combine all the data into meta_X\n",
        "        meta_X.append(y_pred)\n",
        "\n",
        "    meta_X = np.hstack(meta_X)\n",
        "\n",
        "    return blender.predict(meta_X)\n"
      ]
    },
    {
      "cell_type": "markdown",
      "metadata": {
        "id": "49d92aae"
      },
      "source": [
        "#### Using the blending algorithm"
      ]
    },
    {
      "cell_type": "code",
      "execution_count": null,
      "metadata": {
        "id": "bb0fe0ab",
        "outputId": "661bf850-beb6-4c27-dd49-0ff8922228c5",
        "colab": {
          "base_uri": "https://localhost:8080/"
        }
      },
      "outputs": [
        {
          "output_type": "stream",
          "name": "stdout",
          "text": [
            "Blending RMSE:  3764.0138494097664\n"
          ]
        }
      ],
      "source": [
        "models = get_models()\n",
        "meta_X = prediction_combiner(models, X_train_blend, X_val_blend, y_train_blend, y_val_blend)\n",
        "blender = LinearRegression()\n",
        "blender.fit(meta_X, y_val_blend)\n",
        "y_pred = predict_ensemble(models, blender, X_train)\n",
        "\n",
        "blending_score = np.sqrt(mean_squared_error(y_train, y_pred))\n",
        "\n",
        "print('Blending RMSE: ', blending_score)\n"
      ]
    },
    {
      "cell_type": "markdown",
      "metadata": {
        "id": "1fb8f858"
      },
      "source": [
        "#### Turning it into a custom blending estimator"
      ]
    },
    {
      "cell_type": "code",
      "execution_count": null,
      "metadata": {
        "id": "1aabd31f"
      },
      "outputs": [],
      "source": [
        "class Blending(RegressorMixin, BaseEstimator):\n",
        "    def __init__(self):\n",
        "        pass\n",
        "\n",
        "    def fit(self, X, y, models):\n",
        "        X_train_b, X_val_b, y_train_b, y_val_b = train_test_split(X, y, test_size=0.33)\n",
        "\n",
        "        meta_X = list()\n",
        "\n",
        "        for name, model in models:\n",
        "            # Train on the training set\n",
        "            model.fit(X_train_b, y_train_b)\n",
        "\n",
        "            # Predict on hold-out set\n",
        "            y_pred = model.predict(X_val_b)\n",
        "            y_pred = y_pred.reshape(len(y_pred), 1) # To combine all the data into meta_X\n",
        "            meta_X.append(y_pred)\n",
        "\n",
        "        meta_X = np.hstack(meta_X) # Turning into the correct format\n",
        "\n",
        "        self.blender = LinearRegression() # Our blender / meta-model\n",
        "        self.blender.fit(meta_X, y_val_b)\n",
        "        self.models = models\n",
        "\n",
        "        return self\n",
        "\n",
        "    def predict(self, X):\n",
        "        # We need to create the meta_X from the models we already trained\n",
        "        meta_X = list()\n",
        "        for name, model in self.models:\n",
        "            y_pred = model.predict(X)\n",
        "            y_pred = y_pred.reshape(len(y_pred), 1) # To combine all the data into meta_X\n",
        "            meta_X.append(y_pred)\n",
        "\n",
        "        meta_X = np.hstack(meta_X)\n",
        "        print(meta_X)\n",
        "        return self.blender.predict(meta_X)"
      ]
    },
    {
      "cell_type": "code",
      "execution_count": null,
      "metadata": {
        "id": "273093ae"
      },
      "outputs": [],
      "source": [
        "bl = Blending()"
      ]
    },
    {
      "cell_type": "code",
      "execution_count": null,
      "metadata": {
        "id": "44e0b233",
        "outputId": "bcc248fe-141a-4c6d-b89f-395eedb2ac28",
        "colab": {
          "base_uri": "https://localhost:8080/",
          "height": 75
        }
      },
      "outputs": [
        {
          "output_type": "execute_result",
          "data": {
            "text/plain": [
              "Blending()"
            ],
            "text/html": [
              "<style>#sk-container-id-2 {color: black;background-color: white;}#sk-container-id-2 pre{padding: 0;}#sk-container-id-2 div.sk-toggleable {background-color: white;}#sk-container-id-2 label.sk-toggleable__label {cursor: pointer;display: block;width: 100%;margin-bottom: 0;padding: 0.3em;box-sizing: border-box;text-align: center;}#sk-container-id-2 label.sk-toggleable__label-arrow:before {content: \"▸\";float: left;margin-right: 0.25em;color: #696969;}#sk-container-id-2 label.sk-toggleable__label-arrow:hover:before {color: black;}#sk-container-id-2 div.sk-estimator:hover label.sk-toggleable__label-arrow:before {color: black;}#sk-container-id-2 div.sk-toggleable__content {max-height: 0;max-width: 0;overflow: hidden;text-align: left;background-color: #f0f8ff;}#sk-container-id-2 div.sk-toggleable__content pre {margin: 0.2em;color: black;border-radius: 0.25em;background-color: #f0f8ff;}#sk-container-id-2 input.sk-toggleable__control:checked~div.sk-toggleable__content {max-height: 200px;max-width: 100%;overflow: auto;}#sk-container-id-2 input.sk-toggleable__control:checked~label.sk-toggleable__label-arrow:before {content: \"▾\";}#sk-container-id-2 div.sk-estimator input.sk-toggleable__control:checked~label.sk-toggleable__label {background-color: #d4ebff;}#sk-container-id-2 div.sk-label input.sk-toggleable__control:checked~label.sk-toggleable__label {background-color: #d4ebff;}#sk-container-id-2 input.sk-hidden--visually {border: 0;clip: rect(1px 1px 1px 1px);clip: rect(1px, 1px, 1px, 1px);height: 1px;margin: -1px;overflow: hidden;padding: 0;position: absolute;width: 1px;}#sk-container-id-2 div.sk-estimator {font-family: monospace;background-color: #f0f8ff;border: 1px dotted black;border-radius: 0.25em;box-sizing: border-box;margin-bottom: 0.5em;}#sk-container-id-2 div.sk-estimator:hover {background-color: #d4ebff;}#sk-container-id-2 div.sk-parallel-item::after {content: \"\";width: 100%;border-bottom: 1px solid gray;flex-grow: 1;}#sk-container-id-2 div.sk-label:hover label.sk-toggleable__label {background-color: #d4ebff;}#sk-container-id-2 div.sk-serial::before {content: \"\";position: absolute;border-left: 1px solid gray;box-sizing: border-box;top: 0;bottom: 0;left: 50%;z-index: 0;}#sk-container-id-2 div.sk-serial {display: flex;flex-direction: column;align-items: center;background-color: white;padding-right: 0.2em;padding-left: 0.2em;position: relative;}#sk-container-id-2 div.sk-item {position: relative;z-index: 1;}#sk-container-id-2 div.sk-parallel {display: flex;align-items: stretch;justify-content: center;background-color: white;position: relative;}#sk-container-id-2 div.sk-item::before, #sk-container-id-2 div.sk-parallel-item::before {content: \"\";position: absolute;border-left: 1px solid gray;box-sizing: border-box;top: 0;bottom: 0;left: 50%;z-index: -1;}#sk-container-id-2 div.sk-parallel-item {display: flex;flex-direction: column;z-index: 1;position: relative;background-color: white;}#sk-container-id-2 div.sk-parallel-item:first-child::after {align-self: flex-end;width: 50%;}#sk-container-id-2 div.sk-parallel-item:last-child::after {align-self: flex-start;width: 50%;}#sk-container-id-2 div.sk-parallel-item:only-child::after {width: 0;}#sk-container-id-2 div.sk-dashed-wrapped {border: 1px dashed gray;margin: 0 0.4em 0.5em 0.4em;box-sizing: border-box;padding-bottom: 0.4em;background-color: white;}#sk-container-id-2 div.sk-label label {font-family: monospace;font-weight: bold;display: inline-block;line-height: 1.2em;}#sk-container-id-2 div.sk-label-container {text-align: center;}#sk-container-id-2 div.sk-container {/* jupyter's `normalize.less` sets `[hidden] { display: none; }` but bootstrap.min.css set `[hidden] { display: none !important; }` so we also need the `!important` here to be able to override the default hidden behavior on the sphinx rendered scikit-learn.org. See: https://github.com/scikit-learn/scikit-learn/issues/21755 */display: inline-block !important;position: relative;}#sk-container-id-2 div.sk-text-repr-fallback {display: none;}</style><div id=\"sk-container-id-2\" class=\"sk-top-container\"><div class=\"sk-text-repr-fallback\"><pre>Blending()</pre><b>In a Jupyter environment, please rerun this cell to show the HTML representation or trust the notebook. <br />On GitHub, the HTML representation is unable to render, please try loading this page with nbviewer.org.</b></div><div class=\"sk-container\" hidden><div class=\"sk-item\"><div class=\"sk-estimator sk-toggleable\"><input class=\"sk-toggleable__control sk-hidden--visually\" id=\"sk-estimator-id-2\" type=\"checkbox\" checked><label for=\"sk-estimator-id-2\" class=\"sk-toggleable__label sk-toggleable__label-arrow\">Blending</label><div class=\"sk-toggleable__content\"><pre>Blending()</pre></div></div></div></div></div>"
            ]
          },
          "metadata": {},
          "execution_count": 36
        }
      ],
      "source": [
        "bl.fit(X_train, y_train, get_models())"
      ]
    },
    {
      "cell_type": "markdown",
      "source": [
        "#### Evaluation on validation set\n",
        "Let's see performance on the validation set"
      ],
      "metadata": {
        "id": "2M7qo7k3Cpm5"
      }
    },
    {
      "cell_type": "code",
      "source": [
        "X_train"
      ],
      "metadata": {
        "colab": {
          "base_uri": "https://localhost:8080/"
        },
        "id": "exTuUYA-Eda5",
        "outputId": "13284ef0-ea02-47be-db8c-636b708abd0b"
      },
      "execution_count": null,
      "outputs": [
        {
          "output_type": "execute_result",
          "data": {
            "text/plain": [
              "<10601x1205 sparse matrix of type '<class 'numpy.float64'>'\n",
              "\twith 180217 stored elements in Compressed Sparse Row format>"
            ]
          },
          "metadata": {},
          "execution_count": 37
        }
      ]
    },
    {
      "cell_type": "code",
      "source": [
        "X_val"
      ],
      "metadata": {
        "colab": {
          "base_uri": "https://localhost:8080/"
        },
        "id": "ZsQQdrpSEcMl",
        "outputId": "c2f87931-2c1b-4743-9528-c65b5393130f"
      },
      "execution_count": null,
      "outputs": [
        {
          "output_type": "execute_result",
          "data": {
            "text/plain": [
              "<1473x1205 sparse matrix of type '<class 'numpy.float64'>'\n",
              "\twith 24933 stored elements in Compressed Sparse Row format>"
            ]
          },
          "metadata": {},
          "execution_count": 38
        }
      ]
    },
    {
      "cell_type": "code",
      "source": [
        "y_pred = bl.predict(X_val)\n",
        "y_pred[:10]"
      ],
      "metadata": {
        "colab": {
          "base_uri": "https://localhost:8080/"
        },
        "id": "AS7QR1r52k4d",
        "outputId": "908675a0-6357-46b4-c3e2-2ba67a3ada10"
      },
      "execution_count": null,
      "outputs": [
        {
          "output_type": "stream",
          "name": "stdout",
          "text": [
            "[[ 9266.84271984  1850.4        13597.18041616  4680.74\n",
            "   2516.71484375 13332.33913043]\n",
            " [13784.13906393 10411.6        13462.79995044 12269.41\n",
            "  15401.6328125  11715.6860177 ]\n",
            " [13354.44423706 12482.         13518.55176079  7297.29\n",
            "  11801.80175781 13055.29120559]\n",
            " ...\n",
            " [30869.38548029 16373.6        13741.58720931 16443.75\n",
            "  14698.61523438 19645.95801527]\n",
            " [19559.2693749   8009.8        13528.69461295 13052.29\n",
            "  15643.04101562 16874.38461538]\n",
            " [11223.93963229 20330.6        13476.42496138 16849.34\n",
            "  15708.00097656 20281.68552036]]\n"
          ]
        },
        {
          "output_type": "execute_result",
          "data": {
            "text/plain": [
              "array([ 3187.45341606, 13176.5614757 ,  9549.55775819, 37316.55959593,\n",
              "       21160.30646819,  9966.13309348,  6493.24485229,  7787.83519025,\n",
              "       16580.1594137 ,  6596.23946922])"
            ]
          },
          "metadata": {},
          "execution_count": 39
        }
      ]
    },
    {
      "cell_type": "code",
      "source": [
        "bl_score = np.sqrt(mean_squared_error(y_val, y_pred))\n",
        "bl_score"
      ],
      "metadata": {
        "colab": {
          "base_uri": "https://localhost:8080/"
        },
        "id": "Uf0zmb_D2osK",
        "outputId": "d855e9c2-dfdb-44c5-9c66-39cd9323f84a"
      },
      "execution_count": null,
      "outputs": [
        {
          "output_type": "execute_result",
          "data": {
            "text/plain": [
              "5222.66016409529"
            ]
          },
          "metadata": {},
          "execution_count": 40
        }
      ]
    },
    {
      "cell_type": "markdown",
      "source": [
        "### DNN Blending Algorithm\n",
        "\n",
        "Now the idea behind this is we set an input layer that accepts an array of length six where each array is the result from each model.\n",
        "\n",
        "The input layer can then be followed by an arbitrary amount of dense layers and end with an output layer with one node."
      ],
      "metadata": {
        "id": "vDyrvxw0FJZ3"
      }
    },
    {
      "cell_type": "code",
      "source": [
        "class Network(object):\n",
        "\n",
        "    def __init__(self, layers, epochs, learning_rate=0.001, batch_size=32,\n",
        "                 validation_split=0.2, verbose=1):\n",
        "      self.layer_structure = layers\n",
        "      self.batch_size = batch_size\n",
        "      self.epochs = epochs\n",
        "      self.learning_rate = learning_rate\n",
        "      self.validation_split = validation_split\n",
        "      self.verbose = verbose\n",
        "      self.losses  = {\"train\": [], \"validation\": []}\n",
        "      self.layers = None\n",
        "\n",
        "    def fit(self, X, y):\n",
        "      # validation split\n",
        "      X, X_valid, y, y_valid = train_test_split(X, y, test_size=self.validation_split, random_state=42)\n",
        "\n",
        "      # initialization of layers\n",
        "      self.layers = self.init_layers()\n",
        "      for epoch in range(self.epochs):\n",
        "          epoch_losses = []\n",
        "          for i in range(1, len(self.layers)):\n",
        "              # forward pass\n",
        "              x_batch = X[i:(i+self.batch_size)]\n",
        "              y_batch = y[i:(i+self.batch_size)]\n",
        "              pred, hidden = self.forward(x_batch)\n",
        "\n",
        "              # calculate loss\n",
        "              loss = self.calculate_loss(y_batch, pred)\n",
        "              epoch_losses.append(np.mean(loss ** 2))\n",
        "\n",
        "              # backward prop\n",
        "              self.backward(hidden, loss)\n",
        "\n",
        "          # calculate validation loss\n",
        "          valid_preds, _ = self.forward(X_valid)\n",
        "          train_loss = mean(epoch_losses)\n",
        "          valid_loss = np.mean(self.calculate_mse(valid_preds,y_valid))\n",
        "          self.losses[\"train\"].append(train_loss)\n",
        "          self.losses[\"validation\"].append(valid_loss)\n",
        "\n",
        "          if self.verbose:\n",
        "              print(f\"Epoch: {epoch} Train RMSE: {np.sqrt(train_loss)} Valid RMSE: {np.sqrt(valid_loss)}\")\n",
        "\n",
        "      return\n",
        "\n",
        "    def predict(self, X):\n",
        "      pred, hidden = self.forward(X)\n",
        "      return pred\n",
        "\n",
        "    def plot_learning(self):\n",
        "      '''\n",
        "      Plots the loss and curves\n",
        "      '''\n",
        "      plt.plot(self.losses[\"train\"],label=\"loss\")\n",
        "      plt.plot(self.losses[\"validation\"],label=\"validation\")\n",
        "      plt.legend()\n",
        "\n",
        "    def init_layers(self):\n",
        "      layers = []\n",
        "      for i in range(1, len(self.layer_structure)):\n",
        "          layers.append([\n",
        "              np.random.rand(self.layer_structure[i-1], self.layer_structure[i]) / 5 - .1,\n",
        "              np.ones((1,self.layer_structure[i]))\n",
        "          ])\n",
        "      return layers\n",
        "\n",
        "    def forward(self, batch):\n",
        "      '''\n",
        "      Forward pass through the network\n",
        "      '''\n",
        "      hidden = [batch.copy()]\n",
        "      for i in range(len(self.layers)):\n",
        "          batch = np.matmul(batch, self.layers[i][0]) + self.layers[i][1]\n",
        "          if i < len(self.layers) - 1:\n",
        "              batch = np.maximum(batch, 0)\n",
        "          # Store the forward pass hidden values for use in backprop\n",
        "          hidden.append(batch.copy())\n",
        "      return batch, hidden\n",
        "\n",
        "    def calculate_loss(self, y_true, y_pred):\n",
        "      '''\n",
        "      Calcualtes loss\n",
        "      '''\n",
        "      return y_pred - y_true\n",
        "\n",
        "\n",
        "    def calculate_mse(self, y_true, y_pred):\n",
        "      '''\n",
        "      Calcuates the mean squared error of y_pred and y_true\n",
        "      '''\n",
        "      return ((y_true - y_pred) ** 2)\n",
        "\n",
        "    def backward(self, hidden, grad):\n",
        "      '''\n",
        "      Backword propagation\n",
        "      '''\n",
        "      for i in range(len(self.layers)-1, -1, -1):\n",
        "          if i != len(self.layers) - 1:\n",
        "              grad = np.multiply(grad, np.heaviside(hidden[i+1], 0))\n",
        "\n",
        "          w_grad = hidden[i].T @ grad\n",
        "          b_grad = np.mean(grad, axis=0)\n",
        "\n",
        "          self.layers[i][0] -= w_grad * self.learning_rate\n",
        "          self.layers[i][1] -= b_grad * self.learning_rate\n",
        "\n",
        "          grad = grad @ self.layers[i][0].T\n",
        "      return\n"
      ],
      "metadata": {
        "id": "Y132Tj2ZSynM"
      },
      "execution_count": null,
      "outputs": []
    },
    {
      "cell_type": "markdown",
      "source": [
        "#### Preparing all datasets for all experiments"
      ],
      "metadata": {
        "id": "XlvT6eomxykN"
      }
    },
    {
      "cell_type": "code",
      "source": [
        "scaler = StandardScaler()"
      ],
      "metadata": {
        "id": "y7LzVNTYx7Y1"
      },
      "execution_count": null,
      "outputs": []
    },
    {
      "cell_type": "code",
      "source": [
        "models_original = [\n",
        "    ('lr', LinearRegression()),\n",
        "    ('knn', KNeighborsRegressor()),\n",
        "    ('svm', SVR()),\n",
        "    ('rfr', RandomForestRegressor()),\n",
        "    ('xgb', XGBRegressor()),\n",
        "    ('abr', AdaBoostRegressor())\n",
        "]\n",
        "\n",
        "# 6 models\n",
        "meta_X_train_original = prediction_combiner(models_original, X_train_blend, X_val_blend, y_train_blend, y_val_blend)\n",
        "meta_X_train_formatted_original = scaler.fit_transform(meta_X_train_original)\n",
        "\n",
        "meta_X_val_original = prediction_combiner(models_original, X_train_blend_val, X_val_blend_val, y_train_blend_val, y_val_blend_val)\n",
        "meta_X_val_formatted_original = scaler.fit_transform(meta_X_val_original)\n",
        "\n",
        "meta_X_test_original = prediction_combiner(models_original, X_train_blend_test, X_val_blend_test, y_train_blend_test, y_val_blend_test)\n",
        "meta_X_test_formatted_original = scaler.fit_transform(meta_X_test_original)"
      ],
      "metadata": {
        "id": "HkU0Xqnbxyu3"
      },
      "execution_count": null,
      "outputs": []
    },
    {
      "cell_type": "code",
      "source": [
        "models_selected = [\n",
        "    ('lr', LinearRegression()),\n",
        "    ('knn', KNeighborsRegressor()),\n",
        "    ('rfr', RandomForestRegressor()),\n",
        "    ('xgb', XGBRegressor()),\n",
        "    ('abr', AdaBoostRegressor())\n",
        "]\n",
        "\n",
        "# 5 models\n",
        "meta_X_train_selected = prediction_combiner(models_selected, X_train_blend, X_val_blend, y_train_blend, y_val_blend)\n",
        "meta_X_train_formatted_selected = scaler.fit_transform(meta_X_train_selected)\n",
        "\n",
        "meta_X_val_selected = prediction_combiner(models_selected, X_train_blend_val, X_val_blend_val, y_train_blend_val, y_val_blend_val)\n",
        "meta_X_val_formatted_selected = scaler.fit_transform(meta_X_val_selected)\n",
        "\n",
        "meta_X_test_selected = prediction_combiner(models_selected, X_train_blend_test, X_val_blend_test, y_train_blend_test, y_val_blend_test)\n",
        "meta_X_test_formatted_selected = scaler.fit_transform(meta_X_test_selected)"
      ],
      "metadata": {
        "id": "JLt4lVF9xyu4"
      },
      "execution_count": null,
      "outputs": []
    },
    {
      "cell_type": "code",
      "source": [
        "models_selected_2 = [\n",
        "    ('lr', LinearRegression()),\n",
        "    ('knn', KNeighborsRegressor()),\n",
        "    ('rfr', RandomForestRegressor()),\n",
        "    ('xgb', XGBRegressor()),\n",
        "]\n",
        "\n",
        "# 4 models\n",
        "meta_X_train_selected_2 = prediction_combiner(models_selected_2, X_train_blend, X_val_blend, y_train_blend, y_val_blend)\n",
        "meta_X_train_formatted_selected_2 = scaler.fit_transform(meta_X_train_selected_2)\n",
        "\n",
        "meta_X_val_selected_2 = prediction_combiner(models_selected_2, X_train_blend_val, X_val_blend_val, y_train_blend_val, y_val_blend_val)\n",
        "meta_X_val_formatted_selected_2 = scaler.fit_transform(meta_X_val_selected_2)\n",
        "\n",
        "meta_X_test_selected_2 = prediction_combiner(models_selected_2, X_train_blend_test, X_val_blend_test, y_train_blend_test, y_val_blend_test)\n",
        "meta_X_test_formatted_selected_2 = scaler.fit_transform(meta_X_test_selected_2)"
      ],
      "metadata": {
        "id": "oqc4aSIwxyu4"
      },
      "execution_count": null,
      "outputs": []
    },
    {
      "cell_type": "code",
      "source": [
        "models_selected_3 = [\n",
        "    ('knn', KNeighborsRegressor()),\n",
        "    ('rfr', RandomForestRegressor()),\n",
        "    ('xgb', XGBRegressor()),\n",
        "]\n",
        "\n",
        "# 3 models\n",
        "meta_X_train_selected_3 = prediction_combiner(models_selected_3, X_train_blend, X_val_blend, y_train_blend, y_val_blend)\n",
        "meta_X_train_formatted_selected_3 = scaler.fit_transform(meta_X_train_selected_3)\n",
        "\n",
        "meta_X_val_selected_3 = prediction_combiner(models_selected_3, X_train_blend_val, X_val_blend_val, y_train_blend_val, y_val_blend_val)\n",
        "meta_X_val_formatted_selected_3 = scaler.fit_transform(meta_X_val_selected_3)\n",
        "\n",
        "meta_X_test_selected_3 = prediction_combiner(models_selected_3, X_train_blend_test, X_val_blend_test, y_train_blend_test, y_val_blend_test)\n",
        "meta_X_test_formatted_selected_3 = scaler.fit_transform(meta_X_test_selected_3)"
      ],
      "metadata": {
        "id": "Z-E0q5MYxyu4"
      },
      "execution_count": null,
      "outputs": []
    },
    {
      "cell_type": "markdown",
      "source": [
        "#### Labels"
      ],
      "metadata": {
        "id": "CmRBszXpzHBp"
      }
    },
    {
      "cell_type": "code",
      "source": [
        "y_train_formatted = np.array(y_val_blend).reshape(-1, 1)\n",
        "y_val_formatted = np.array(y_val_blend_val).reshape(-1, 1)\n",
        "y_test_formatted = np.array(y_val_blend_test).reshape(-1, 1)"
      ],
      "metadata": {
        "id": "k_mXkUvvzXLe"
      },
      "execution_count": null,
      "outputs": []
    },
    {
      "cell_type": "markdown",
      "source": [
        "#### Model 1: ANN with unsuitable epochs and learning rate"
      ],
      "metadata": {
        "id": "8vLrs0DEITVU"
      }
    },
    {
      "cell_type": "code",
      "source": [
        "models_original"
      ],
      "metadata": {
        "colab": {
          "base_uri": "https://localhost:8080/"
        },
        "id": "V1dTI1oHzvv5",
        "outputId": "23d27f73-9079-4ea7-e5f1-2a8d78db58b4"
      },
      "execution_count": null,
      "outputs": [
        {
          "output_type": "execute_result",
          "data": {
            "text/plain": [
              "[('lr', LinearRegression()),\n",
              " ('knn', KNeighborsRegressor()),\n",
              " ('svm', SVR()),\n",
              " ('rfr', RandomForestRegressor()),\n",
              " ('xgb',\n",
              "  XGBRegressor(base_score=None, booster=None, callbacks=None,\n",
              "               colsample_bylevel=None, colsample_bynode=None,\n",
              "               colsample_bytree=None, device=None, early_stopping_rounds=None,\n",
              "               enable_categorical=False, eval_metric=None, feature_types=None,\n",
              "               gamma=None, grow_policy=None, importance_type=None,\n",
              "               interaction_constraints=None, learning_rate=None, max_bin=None,\n",
              "               max_cat_threshold=None, max_cat_to_onehot=None,\n",
              "               max_delta_step=None, max_depth=None, max_leaves=None,\n",
              "               min_child_weight=None, missing=nan, monotone_constraints=None,\n",
              "               multi_strategy=None, n_estimators=None, n_jobs=None,\n",
              "               num_parallel_tree=None, random_state=None, ...)),\n",
              " ('abr', AdaBoostRegressor())]"
            ]
          },
          "metadata": {},
          "execution_count": 48
        }
      ]
    },
    {
      "cell_type": "code",
      "source": [
        "layer_structure = [6,4,1]\n",
        "net_1 = Network(layer_structure, 100)\n",
        "net_1.fit(meta_X_train_formatted_original, y_train_formatted)\n"
      ],
      "metadata": {
        "colab": {
          "base_uri": "https://localhost:8080/"
        },
        "id": "TMlSXp4bI2m0",
        "outputId": "fbb30ca7-70bc-4bf7-a32f-3f0652ef289c"
      },
      "execution_count": null,
      "outputs": [
        {
          "output_type": "stream",
          "name": "stdout",
          "text": [
            "Epoch: 0 Train RMSE: 16949.116770303197 Valid RMSE: 867060433.7403694\n",
            "Epoch: 1 Train RMSE: 949037421.6426569 Valid RMSE: 9.358492388831712e+34\n",
            "Epoch: 2 Train RMSE: 1.0310288395000307e+35 Valid RMSE: 1.1310990638925564e+144\n",
            "Epoch: 3 Train RMSE: 1.2468758982525324e+144 Valid RMSE: nan\n",
            "Epoch: 4 Train RMSE: nan Valid RMSE: nan\n",
            "Epoch: 5 Train RMSE: nan Valid RMSE: nan\n",
            "Epoch: 6 Train RMSE: nan Valid RMSE: nan\n",
            "Epoch: 7 Train RMSE: nan Valid RMSE: nan\n",
            "Epoch: 8 Train RMSE: nan Valid RMSE: nan\n",
            "Epoch: 9 Train RMSE: nan Valid RMSE: nan\n",
            "Epoch: 10 Train RMSE: nan Valid RMSE: nan\n",
            "Epoch: 11 Train RMSE: nan Valid RMSE: nan\n",
            "Epoch: 12 Train RMSE: nan Valid RMSE: nan\n",
            "Epoch: 13 Train RMSE: nan Valid RMSE: nan\n",
            "Epoch: 14 Train RMSE: nan Valid RMSE: nan\n",
            "Epoch: 15 Train RMSE: nan Valid RMSE: nan\n",
            "Epoch: 16 Train RMSE: nan Valid RMSE: nan\n",
            "Epoch: 17 Train RMSE: nan Valid RMSE: nan\n",
            "Epoch: 18 Train RMSE: nan Valid RMSE: nan\n",
            "Epoch: 19 Train RMSE: nan Valid RMSE: nan\n",
            "Epoch: 20 Train RMSE: nan Valid RMSE: nan\n",
            "Epoch: 21 Train RMSE: nan Valid RMSE: nan\n",
            "Epoch: 22 Train RMSE: nan Valid RMSE: nan\n",
            "Epoch: 23 Train RMSE: nan Valid RMSE: nan\n",
            "Epoch: 24 Train RMSE: nan Valid RMSE: nan\n",
            "Epoch: 25 Train RMSE: nan Valid RMSE: nan\n",
            "Epoch: 26 Train RMSE: nan Valid RMSE: nan\n",
            "Epoch: 27 Train RMSE: nan Valid RMSE: nan\n",
            "Epoch: 28 Train RMSE: nan Valid RMSE: nan\n",
            "Epoch: 29 Train RMSE: nan Valid RMSE: nan\n",
            "Epoch: 30 Train RMSE: nan Valid RMSE: nan\n",
            "Epoch: 31 Train RMSE: nan Valid RMSE: nan\n",
            "Epoch: 32 Train RMSE: nan Valid RMSE: nan\n",
            "Epoch: 33 Train RMSE: nan Valid RMSE: nan\n",
            "Epoch: 34 Train RMSE: nan Valid RMSE: nan\n",
            "Epoch: 35 Train RMSE: nan Valid RMSE: nan\n",
            "Epoch: 36 Train RMSE: nan Valid RMSE: nan\n",
            "Epoch: 37 Train RMSE: nan Valid RMSE: nan\n",
            "Epoch: 38 Train RMSE: nan Valid RMSE: nan\n",
            "Epoch: 39 Train RMSE: nan Valid RMSE: nan\n",
            "Epoch: 40 Train RMSE: nan Valid RMSE: nan\n",
            "Epoch: 41 Train RMSE: nan Valid RMSE: nan\n",
            "Epoch: 42 Train RMSE: nan Valid RMSE: nan\n",
            "Epoch: 43 Train RMSE: nan Valid RMSE: nan\n",
            "Epoch: 44 Train RMSE: nan Valid RMSE: nan\n",
            "Epoch: 45 Train RMSE: nan Valid RMSE: nan\n",
            "Epoch: 46 Train RMSE: nan Valid RMSE: nan\n",
            "Epoch: 47 Train RMSE: nan Valid RMSE: nan\n",
            "Epoch: 48 Train RMSE: nan Valid RMSE: nan\n",
            "Epoch: 49 Train RMSE: nan Valid RMSE: nan\n",
            "Epoch: 50 Train RMSE: nan Valid RMSE: nan\n",
            "Epoch: 51 Train RMSE: nan Valid RMSE: nan\n",
            "Epoch: 52 Train RMSE: nan Valid RMSE: nan\n",
            "Epoch: 53 Train RMSE: nan Valid RMSE: nan\n",
            "Epoch: 54 Train RMSE: nan Valid RMSE: nan\n",
            "Epoch: 55 Train RMSE: nan Valid RMSE: nan\n",
            "Epoch: 56 Train RMSE: nan Valid RMSE: nan\n",
            "Epoch: 57 Train RMSE: nan Valid RMSE: nan\n",
            "Epoch: 58 Train RMSE: nan Valid RMSE: nan\n",
            "Epoch: 59 Train RMSE: nan Valid RMSE: nan\n",
            "Epoch: 60 Train RMSE: nan Valid RMSE: nan\n",
            "Epoch: 61 Train RMSE: nan Valid RMSE: nan\n",
            "Epoch: 62 Train RMSE: nan Valid RMSE: nan\n",
            "Epoch: 63 Train RMSE: nan Valid RMSE: nan\n",
            "Epoch: 64 Train RMSE: nan Valid RMSE: nan\n",
            "Epoch: 65 Train RMSE: nan Valid RMSE: nan\n",
            "Epoch: 66 Train RMSE: nan Valid RMSE: nan\n",
            "Epoch: 67 Train RMSE: nan Valid RMSE: nan\n",
            "Epoch: 68 Train RMSE: nan Valid RMSE: nan\n",
            "Epoch: 69 Train RMSE: nan Valid RMSE: nan\n",
            "Epoch: 70 Train RMSE: nan Valid RMSE: nan\n",
            "Epoch: 71 Train RMSE: nan Valid RMSE: nan\n",
            "Epoch: 72 Train RMSE: nan Valid RMSE: nan\n",
            "Epoch: 73 Train RMSE: nan Valid RMSE: nan\n",
            "Epoch: 74 Train RMSE: nan Valid RMSE: nan\n",
            "Epoch: 75 Train RMSE: nan Valid RMSE: nan\n",
            "Epoch: 76 Train RMSE: nan Valid RMSE: nan\n",
            "Epoch: 77 Train RMSE: nan Valid RMSE: nan\n",
            "Epoch: 78 Train RMSE: nan Valid RMSE: nan\n",
            "Epoch: 79 Train RMSE: nan Valid RMSE: nan\n",
            "Epoch: 80 Train RMSE: nan Valid RMSE: nan\n",
            "Epoch: 81 Train RMSE: nan Valid RMSE: nan\n",
            "Epoch: 82 Train RMSE: nan Valid RMSE: nan\n",
            "Epoch: 83 Train RMSE: nan Valid RMSE: nan\n",
            "Epoch: 84 Train RMSE: nan Valid RMSE: nan\n",
            "Epoch: 85 Train RMSE: nan Valid RMSE: nan\n",
            "Epoch: 86 Train RMSE: nan Valid RMSE: nan\n",
            "Epoch: 87 Train RMSE: nan Valid RMSE: nan\n",
            "Epoch: 88 Train RMSE: nan Valid RMSE: nan\n",
            "Epoch: 89 Train RMSE: nan Valid RMSE: nan\n",
            "Epoch: 90 Train RMSE: nan Valid RMSE: nan\n",
            "Epoch: 91 Train RMSE: nan Valid RMSE: nan\n",
            "Epoch: 92 Train RMSE: nan Valid RMSE: nan\n",
            "Epoch: 93 Train RMSE: nan Valid RMSE: nan\n",
            "Epoch: 94 Train RMSE: nan Valid RMSE: nan\n",
            "Epoch: 95 Train RMSE: nan Valid RMSE: nan\n",
            "Epoch: 96 Train RMSE: nan Valid RMSE: nan\n",
            "Epoch: 97 Train RMSE: nan Valid RMSE: nan\n",
            "Epoch: 98 Train RMSE: nan Valid RMSE: nan\n",
            "Epoch: 99 Train RMSE: nan Valid RMSE: nan\n"
          ]
        },
        {
          "output_type": "stream",
          "name": "stderr",
          "text": [
            "<ipython-input-41-846114378341>:108: RuntimeWarning: overflow encountered in matmul\n",
            "  grad = grad @ self.layers[i][0].T\n",
            "<ipython-input-41-846114378341>:102: RuntimeWarning: invalid value encountered in matmul\n",
            "  w_grad = hidden[i].T @ grad\n"
          ]
        }
      ]
    },
    {
      "cell_type": "markdown",
      "source": [
        "seems like the leaerning rate is too high"
      ],
      "metadata": {
        "id": "s9QNrZSvKBGd"
      }
    },
    {
      "cell_type": "markdown",
      "source": [
        "#### Model 2: ANN with unsuitable epochs and learning rate 2"
      ],
      "metadata": {
        "id": "kraK1dC3JGwy"
      }
    },
    {
      "cell_type": "code",
      "source": [
        "layer_structure = [6,4,1]\n",
        "net_2 = Network(layer_structure, 200, 1e-6)\n",
        "net_2.fit(meta_X_train_formatted_original, y_train_formatted)\n"
      ],
      "metadata": {
        "colab": {
          "base_uri": "https://localhost:8080/"
        },
        "id": "_oC3SZ55TkM7",
        "outputId": "1876e612-a7e1-4012-a3ea-9381b35f7e50"
      },
      "execution_count": null,
      "outputs": [
        {
          "output_type": "stream",
          "name": "stdout",
          "text": [
            "Epoch: 0 Train RMSE: 16949.03193425245 Valid RMSE: 18158.687249754996\n",
            "Epoch: 1 Train RMSE: 16947.008338164298 Valid RMSE: 18152.341084493615\n",
            "Epoch: 2 Train RMSE: 16940.07414241259 Valid RMSE: 18124.328282223258\n",
            "Epoch: 3 Train RMSE: 16909.338730989715 Valid RMSE: 17993.53948723443\n",
            "Epoch: 4 Train RMSE: 16765.810781987664 Valid RMSE: 17395.947486705914\n",
            "Epoch: 5 Train RMSE: 16109.279694982775 Valid RMSE: 15042.994589678035\n",
            "Epoch: 6 Train RMSE: 13558.45779894729 Valid RMSE: 10943.716460029678\n",
            "Epoch: 7 Train RMSE: 9873.945024094637 Valid RMSE: 10766.529597089007\n",
            "Epoch: 8 Train RMSE: 9821.18029061289 Valid RMSE: 10817.603500713363\n",
            "Epoch: 9 Train RMSE: 9755.771504666518 Valid RMSE: 10709.219418364682\n",
            "Epoch: 10 Train RMSE: 9687.444936290645 Valid RMSE: 10707.749468910346\n",
            "Epoch: 11 Train RMSE: 9624.405088078898 Valid RMSE: 10638.109065222592\n",
            "Epoch: 12 Train RMSE: 9563.231366404136 Valid RMSE: 10616.838899855224\n",
            "Epoch: 13 Train RMSE: 9505.354402840867 Valid RMSE: 10566.235995992969\n",
            "Epoch: 14 Train RMSE: 9448.529983533816 Valid RMSE: 10537.784433866445\n",
            "Epoch: 15 Train RMSE: 9385.363357970355 Valid RMSE: 10492.659874581579\n",
            "Epoch: 16 Train RMSE: 9320.925593355614 Valid RMSE: 10457.18647408417\n",
            "Epoch: 17 Train RMSE: 9259.351353064721 Valid RMSE: 10416.79371516128\n",
            "Epoch: 18 Train RMSE: 9200.47599546011 Valid RMSE: 10380.28817728245\n",
            "Epoch: 19 Train RMSE: 9144.473924385306 Valid RMSE: 10342.545094700852\n",
            "Epoch: 20 Train RMSE: 9091.347560295522 Valid RMSE: 10307.344660199838\n",
            "Epoch: 21 Train RMSE: 9041.219760812164 Valid RMSE: 10273.031605010627\n",
            "Epoch: 22 Train RMSE: 8994.139442429609 Valid RMSE: 10241.37013069695\n",
            "Epoch: 23 Train RMSE: 8950.18105317789 Valid RMSE: 10211.595602506737\n",
            "Epoch: 24 Train RMSE: 8908.964334910055 Valid RMSE: 10183.141196965846\n",
            "Epoch: 25 Train RMSE: 8859.215653049712 Valid RMSE: 10146.880787248114\n",
            "Epoch: 26 Train RMSE: 8805.951253350806 Valid RMSE: 10110.153357374138\n",
            "Epoch: 27 Train RMSE: 8757.248182234036 Valid RMSE: 10076.996977122446\n",
            "Epoch: 28 Train RMSE: 8713.09335509167 Valid RMSE: 10044.43657945074\n",
            "Epoch: 29 Train RMSE: 8673.324000457613 Valid RMSE: 10014.308884530557\n",
            "Epoch: 30 Train RMSE: 8637.743886231485 Valid RMSE: 9986.0776711817\n",
            "Epoch: 31 Train RMSE: 8606.068832732668 Valid RMSE: 9960.139681876173\n",
            "Epoch: 32 Train RMSE: 8577.980411342258 Valid RMSE: 9936.228606355016\n",
            "Epoch: 33 Train RMSE: 8553.120629932533 Valid RMSE: 9914.245687068416\n",
            "Epoch: 34 Train RMSE: 8523.228159200939 Valid RMSE: 9920.1144891212\n",
            "Epoch: 35 Train RMSE: 8440.705378626766 Valid RMSE: 9886.515336469985\n",
            "Epoch: 36 Train RMSE: 8335.267627423787 Valid RMSE: 9878.32722167088\n",
            "Epoch: 37 Train RMSE: 8225.117265550589 Valid RMSE: 9851.223063994332\n",
            "Epoch: 38 Train RMSE: 8127.812983946503 Valid RMSE: 9836.470591050183\n",
            "Epoch: 39 Train RMSE: 8052.765508634048 Valid RMSE: 9830.901587547753\n",
            "Epoch: 40 Train RMSE: 7991.108971783082 Valid RMSE: 9813.610279579474\n",
            "Epoch: 41 Train RMSE: 7946.115093394725 Valid RMSE: 9812.958673602918\n",
            "Epoch: 42 Train RMSE: 7912.559926481225 Valid RMSE: 9804.470888294354\n",
            "Epoch: 43 Train RMSE: 7881.739236263186 Valid RMSE: 9799.675817255167\n",
            "Epoch: 44 Train RMSE: 7853.419247346061 Valid RMSE: 9778.584847759532\n",
            "Epoch: 45 Train RMSE: 7829.285150949858 Valid RMSE: 9774.116884421901\n",
            "Epoch: 46 Train RMSE: 7807.768754066447 Valid RMSE: 9752.179334905335\n",
            "Epoch: 47 Train RMSE: 7787.7130992161165 Valid RMSE: 9747.241464575753\n",
            "Epoch: 48 Train RMSE: 7768.570517837456 Valid RMSE: 9723.318000731204\n",
            "Epoch: 49 Train RMSE: 7749.867078969844 Valid RMSE: 9719.591265399415\n",
            "Epoch: 50 Train RMSE: 7729.269409073342 Valid RMSE: 9705.070174576766\n",
            "Epoch: 51 Train RMSE: 7683.978425906535 Valid RMSE: 9674.19068505462\n",
            "Epoch: 52 Train RMSE: 7630.496197825825 Valid RMSE: 9637.829838323816\n",
            "Epoch: 53 Train RMSE: 7579.94329926435 Valid RMSE: 9599.626870096114\n",
            "Epoch: 54 Train RMSE: 7524.710295854778 Valid RMSE: 9534.519845875948\n",
            "Epoch: 55 Train RMSE: 7456.99549345284 Valid RMSE: 9455.766363822917\n",
            "Epoch: 56 Train RMSE: 7233.975552067985 Valid RMSE: 9190.396304509159\n",
            "Epoch: 57 Train RMSE: 6837.32312727987 Valid RMSE: 8926.255862054119\n",
            "Epoch: 58 Train RMSE: 6682.556491514737 Valid RMSE: 8916.4200757576\n",
            "Epoch: 59 Train RMSE: 6625.930377988518 Valid RMSE: 8830.82456955889\n",
            "Epoch: 60 Train RMSE: 6575.096681100112 Valid RMSE: 8842.454306585396\n",
            "Epoch: 61 Train RMSE: 6514.999526319911 Valid RMSE: 8783.197207161267\n",
            "Epoch: 62 Train RMSE: 6395.048158487904 Valid RMSE: 8726.847187091425\n",
            "Epoch: 63 Train RMSE: 6305.632939557468 Valid RMSE: 8698.749833201518\n",
            "Epoch: 64 Train RMSE: 6244.604210263796 Valid RMSE: 8621.861968004236\n",
            "Epoch: 65 Train RMSE: 6244.098505063074 Valid RMSE: 8613.692245265762\n",
            "Epoch: 66 Train RMSE: 6203.481726033634 Valid RMSE: 8625.027477438365\n",
            "Epoch: 67 Train RMSE: 6247.9856918360965 Valid RMSE: 8575.375066690896\n",
            "Epoch: 68 Train RMSE: 6248.806416589348 Valid RMSE: 8720.483753639392\n",
            "Epoch: 69 Train RMSE: 6405.402959927521 Valid RMSE: 8578.912540385516\n",
            "Epoch: 70 Train RMSE: 6409.051280826656 Valid RMSE: 8905.312971036104\n",
            "Epoch: 71 Train RMSE: 6722.7655754875495 Valid RMSE: 8628.622910834487\n",
            "Epoch: 72 Train RMSE: 6641.916046626474 Valid RMSE: 9104.640118736112\n",
            "Epoch: 73 Train RMSE: 7042.866843122898 Valid RMSE: 8477.41230722455\n",
            "Epoch: 74 Train RMSE: 6565.157738187143 Valid RMSE: 8894.729718402297\n",
            "Epoch: 75 Train RMSE: 6460.467276555976 Valid RMSE: 8641.006394503993\n",
            "Epoch: 76 Train RMSE: 6606.930447941329 Valid RMSE: 9103.171053060803\n",
            "Epoch: 77 Train RMSE: 6962.09264858414 Valid RMSE: 8442.196210581913\n",
            "Epoch: 78 Train RMSE: 6378.129253575505 Valid RMSE: 8796.242319177183\n",
            "Epoch: 79 Train RMSE: 6601.048411639759 Valid RMSE: 8386.515314801767\n",
            "Epoch: 80 Train RMSE: 6253.731264552234 Valid RMSE: 8676.201728790864\n",
            "Epoch: 81 Train RMSE: 6431.9193797286625 Valid RMSE: 8363.953204515758\n",
            "Epoch: 82 Train RMSE: 6213.388101717796 Valid RMSE: 8639.076735429207\n",
            "Epoch: 83 Train RMSE: 6378.239069642175 Valid RMSE: 8338.364109166441\n",
            "Epoch: 84 Train RMSE: 6192.430466632565 Valid RMSE: 8614.934698578667\n",
            "Epoch: 85 Train RMSE: 6354.685409114303 Valid RMSE: 8317.710477251701\n",
            "Epoch: 86 Train RMSE: 6181.418564340688 Valid RMSE: 8600.377955200813\n",
            "Epoch: 87 Train RMSE: 6343.197441635434 Valid RMSE: 8296.608464412451\n",
            "Epoch: 88 Train RMSE: 6173.6066648243195 Valid RMSE: 8592.221971686522\n",
            "Epoch: 89 Train RMSE: 6353.708205878716 Valid RMSE: 8272.28727530955\n",
            "Epoch: 90 Train RMSE: 6162.208988318314 Valid RMSE: 8583.351030773361\n",
            "Epoch: 91 Train RMSE: 6376.771480029104 Valid RMSE: 8238.307486378688\n",
            "Epoch: 92 Train RMSE: 6131.965356686342 Valid RMSE: 8547.667416606933\n",
            "Epoch: 93 Train RMSE: 6344.459295522632 Valid RMSE: 8209.406878304508\n",
            "Epoch: 94 Train RMSE: 6101.212371143693 Valid RMSE: 8513.18707123078\n",
            "Epoch: 95 Train RMSE: 6311.682270225014 Valid RMSE: 8184.144995724496\n",
            "Epoch: 96 Train RMSE: 6077.117966577468 Valid RMSE: 8484.460366643276\n",
            "Epoch: 97 Train RMSE: 6284.9458617231585 Valid RMSE: 8192.522042765337\n",
            "Epoch: 98 Train RMSE: 6101.767234506267 Valid RMSE: 8514.409843987762\n",
            "Epoch: 99 Train RMSE: 6321.410837022096 Valid RMSE: 8157.212344718328\n",
            "Epoch: 100 Train RMSE: 6105.551997641488 Valid RMSE: 8408.058750841159\n",
            "Epoch: 101 Train RMSE: 5991.7376994615815 Valid RMSE: 8252.755730031642\n",
            "Epoch: 102 Train RMSE: 6168.947630100588 Valid RMSE: 8637.202307894064\n",
            "Epoch: 103 Train RMSE: 6444.271683085359 Valid RMSE: 8163.130659686054\n",
            "Epoch: 104 Train RMSE: 6150.959015221689 Valid RMSE: 8581.11309522647\n",
            "Epoch: 105 Train RMSE: 6435.026443190268 Valid RMSE: 8104.728048134444\n",
            "Epoch: 106 Train RMSE: 6069.821394898928 Valid RMSE: 8489.043238901557\n",
            "Epoch: 107 Train RMSE: 6323.904087133033 Valid RMSE: 8067.486908399162\n",
            "Epoch: 108 Train RMSE: 6011.333244421816 Valid RMSE: 8427.531055536238\n",
            "Epoch: 109 Train RMSE: 6245.5227388648045 Valid RMSE: 8081.628470796864\n",
            "Epoch: 110 Train RMSE: 6031.964077014994 Valid RMSE: 8461.060315300683\n",
            "Epoch: 111 Train RMSE: 6276.129672124286 Valid RMSE: 8051.779416293689\n",
            "Epoch: 112 Train RMSE: 6018.83850822297 Valid RMSE: 8321.245629608758\n",
            "Epoch: 113 Train RMSE: 5883.363564301104 Valid RMSE: 8155.324392364555\n",
            "Epoch: 114 Train RMSE: 6079.592100392889 Valid RMSE: 8604.810951729733\n",
            "Epoch: 115 Train RMSE: 6404.438232893719 Valid RMSE: 8069.374345756321\n",
            "Epoch: 116 Train RMSE: 6084.309571821154 Valid RMSE: 8567.67007710454\n",
            "Epoch: 117 Train RMSE: 6419.831380306788 Valid RMSE: 8006.422038883549\n",
            "Epoch: 118 Train RMSE: 5994.915198154793 Valid RMSE: 8468.428247345488\n",
            "Epoch: 119 Train RMSE: 6292.8092030290045 Valid RMSE: 8025.434643020816\n",
            "Epoch: 120 Train RMSE: 6017.68253459096 Valid RMSE: 8509.615881101796\n",
            "Epoch: 121 Train RMSE: 6319.478388383197 Valid RMSE: 8003.402727355161\n",
            "Epoch: 122 Train RMSE: 5997.977916408802 Valid RMSE: 8388.990475909868\n",
            "Epoch: 123 Train RMSE: 5991.448970681564 Valid RMSE: 8003.720657691228\n",
            "Epoch: 124 Train RMSE: 5917.936154123816 Valid RMSE: 8468.642888455648\n",
            "Epoch: 125 Train RMSE: 6229.048066990361 Valid RMSE: 7991.322374533772\n",
            "Epoch: 126 Train RMSE: 5956.618994893871 Valid RMSE: 8494.388990025342\n",
            "Epoch: 127 Train RMSE: 6284.099769346932 Valid RMSE: 7942.516337139448\n",
            "Epoch: 128 Train RMSE: 5941.015186908698 Valid RMSE: 8297.975110892286\n",
            "Epoch: 129 Train RMSE: 5782.320742777608 Valid RMSE: 8005.552247981567\n",
            "Epoch: 130 Train RMSE: 5886.94165132224 Valid RMSE: 8519.972387377353\n",
            "Epoch: 131 Train RMSE: 6255.556532280854 Valid RMSE: 8014.584037180543\n",
            "Epoch: 132 Train RMSE: 6030.4309979556465 Valid RMSE: 8634.618966108446\n",
            "Epoch: 133 Train RMSE: 6444.404732368039 Valid RMSE: 7966.2722089513645\n",
            "Epoch: 134 Train RMSE: 6030.8153533814175 Valid RMSE: 8393.097299009936\n",
            "Epoch: 135 Train RMSE: 5882.746739208757 Valid RMSE: 8037.494723492173\n",
            "Epoch: 136 Train RMSE: 6009.95071498644 Valid RMSE: 8693.916706515345\n",
            "Epoch: 137 Train RMSE: 6457.513360840057 Valid RMSE: 8044.682447562457\n",
            "Epoch: 138 Train RMSE: 6157.294901540341 Valid RMSE: 8837.458848230233\n",
            "Epoch: 139 Train RMSE: 6700.007714536632 Valid RMSE: 7995.7285725882275\n",
            "Epoch: 140 Train RMSE: 6223.621976315194 Valid RMSE: 8577.655867862497\n",
            "Epoch: 141 Train RMSE: 6083.257321543827 Valid RMSE: 8094.592504740592\n",
            "Epoch: 142 Train RMSE: 6196.712204130198 Valid RMSE: 8953.371226634494\n",
            "Epoch: 143 Train RMSE: 6761.13476992623 Valid RMSE: 8116.613328237456\n",
            "Epoch: 144 Train RMSE: 6379.794920492316 Valid RMSE: 9143.920117531512\n",
            "Epoch: 145 Train RMSE: 7041.721676903923 Valid RMSE: 8103.889525181438\n",
            "Epoch: 146 Train RMSE: 6653.155102478147 Valid RMSE: 9040.267083733983\n",
            "Epoch: 147 Train RMSE: 6602.160432403115 Valid RMSE: 8379.466754097446\n",
            "Epoch: 148 Train RMSE: 6859.800425630405 Valid RMSE: 9958.699927326998\n",
            "Epoch: 149 Train RMSE: 7983.638114770189 Valid RMSE: 8901.65580466349\n",
            "Epoch: 150 Train RMSE: 8150.494861936593 Valid RMSE: 11017.153575118617\n",
            "Epoch: 151 Train RMSE: 9022.680007135912 Valid RMSE: 11776.511982975126\n",
            "Epoch: 152 Train RMSE: 12076.936693789707 Valid RMSE: 21314.33507328026\n",
            "Epoch: 153 Train RMSE: 20843.406914190262 Valid RMSE: 82402.79142963611\n",
            "Epoch: 154 Train RMSE: 92847.24251215365 Valid RMSE: 27508944.18783802\n",
            "Epoch: 155 Train RMSE: 30333206.976620577 Valid RMSE: 8.586892464631485e+17\n",
            "Epoch: 156 Train RMSE: 9.466527859649106e+17 Valid RMSE: 2.5714479271936826e+62\n",
            "Epoch: 157 Train RMSE: 2.8347829147865423e+62 Valid RMSE: inf\n",
            "Epoch: 158 Train RMSE: inf Valid RMSE: nan\n",
            "Epoch: 159 Train RMSE: nan Valid RMSE: nan\n",
            "Epoch: 160 Train RMSE: nan Valid RMSE: nan\n",
            "Epoch: 161 Train RMSE: nan Valid RMSE: nan\n",
            "Epoch: 162 Train RMSE: nan Valid RMSE: nan\n",
            "Epoch: 163 Train RMSE: nan Valid RMSE: nan\n",
            "Epoch: 164 Train RMSE: nan Valid RMSE: nan\n",
            "Epoch: 165 Train RMSE: nan Valid RMSE: nan\n",
            "Epoch: 166 Train RMSE: nan Valid RMSE: nan\n",
            "Epoch: 167 Train RMSE: nan Valid RMSE: nan\n",
            "Epoch: 168 Train RMSE: nan Valid RMSE: nan\n",
            "Epoch: 169 Train RMSE: nan Valid RMSE: nan\n",
            "Epoch: 170 Train RMSE: nan Valid RMSE: nan\n",
            "Epoch: 171 Train RMSE: nan Valid RMSE: nan\n",
            "Epoch: 172 Train RMSE: nan Valid RMSE: nan\n",
            "Epoch: 173 Train RMSE: nan Valid RMSE: nan\n",
            "Epoch: 174 Train RMSE: nan Valid RMSE: nan\n",
            "Epoch: 175 Train RMSE: nan Valid RMSE: nan\n",
            "Epoch: 176 Train RMSE: nan Valid RMSE: nan\n",
            "Epoch: 177 Train RMSE: nan Valid RMSE: nan\n",
            "Epoch: 178 Train RMSE: nan Valid RMSE: nan\n",
            "Epoch: 179 Train RMSE: nan Valid RMSE: nan\n",
            "Epoch: 180 Train RMSE: nan Valid RMSE: nan\n",
            "Epoch: 181 Train RMSE: nan Valid RMSE: nan\n",
            "Epoch: 182 Train RMSE: nan Valid RMSE: nan\n",
            "Epoch: 183 Train RMSE: nan Valid RMSE: nan\n",
            "Epoch: 184 Train RMSE: nan Valid RMSE: nan\n",
            "Epoch: 185 Train RMSE: nan Valid RMSE: nan\n",
            "Epoch: 186 Train RMSE: nan Valid RMSE: nan\n",
            "Epoch: 187 Train RMSE: nan Valid RMSE: nan\n",
            "Epoch: 188 Train RMSE: nan Valid RMSE: nan\n",
            "Epoch: 189 Train RMSE: nan Valid RMSE: nan\n",
            "Epoch: 190 Train RMSE: nan Valid RMSE: nan\n",
            "Epoch: 191 Train RMSE: nan Valid RMSE: nan\n",
            "Epoch: 192 Train RMSE: nan Valid RMSE: nan\n",
            "Epoch: 193 Train RMSE: nan Valid RMSE: nan\n",
            "Epoch: 194 Train RMSE: nan Valid RMSE: nan\n",
            "Epoch: 195 Train RMSE: nan Valid RMSE: nan\n",
            "Epoch: 196 Train RMSE: nan Valid RMSE: nan\n",
            "Epoch: 197 Train RMSE: nan Valid RMSE: nan\n",
            "Epoch: 198 Train RMSE: nan Valid RMSE: nan\n",
            "Epoch: 199 Train RMSE: nan Valid RMSE: nan\n"
          ]
        },
        {
          "output_type": "stream",
          "name": "stderr",
          "text": [
            "<ipython-input-41-846114378341>:108: RuntimeWarning: overflow encountered in matmul\n",
            "  grad = grad @ self.layers[i][0].T\n",
            "<ipython-input-41-846114378341>:92: RuntimeWarning: overflow encountered in square\n",
            "  return ((y_true - y_pred) ** 2)\n",
            "<ipython-input-41-846114378341>:30: RuntimeWarning: overflow encountered in square\n",
            "  epoch_losses.append(np.mean(loss ** 2))\n",
            "<ipython-input-41-846114378341>:102: RuntimeWarning: overflow encountered in matmul\n",
            "  w_grad = hidden[i].T @ grad\n",
            "<ipython-input-41-846114378341>:100: RuntimeWarning: invalid value encountered in multiply\n",
            "  grad = np.multiply(grad, np.heaviside(hidden[i+1], 0))\n"
          ]
        }
      ]
    },
    {
      "cell_type": "code",
      "source": [
        "y_pred =  net_2.predict(meta_X_val_formatted_original)\n",
        "model_2_result = np.sqrt(mean_squared_error(y_val_formatted, y_pred))\n",
        "model_2_result"
      ],
      "metadata": {
        "colab": {
          "base_uri": "https://localhost:8080/",
          "height": 381
        },
        "id": "h4f9mGdP2LMo",
        "outputId": "54fc11c8-0f1b-4cce-fc93-323d4713e52c"
      },
      "execution_count": null,
      "outputs": [
        {
          "output_type": "error",
          "ename": "ValueError",
          "evalue": "ignored",
          "traceback": [
            "\u001b[0;31m---------------------------------------------------------------------------\u001b[0m",
            "\u001b[0;31mValueError\u001b[0m                                Traceback (most recent call last)",
            "\u001b[0;32m<ipython-input-51-f18a462dc442>\u001b[0m in \u001b[0;36m<cell line: 2>\u001b[0;34m()\u001b[0m\n\u001b[1;32m      1\u001b[0m \u001b[0my_pred\u001b[0m \u001b[0;34m=\u001b[0m  \u001b[0mnet_2\u001b[0m\u001b[0;34m.\u001b[0m\u001b[0mpredict\u001b[0m\u001b[0;34m(\u001b[0m\u001b[0mmeta_X_val_formatted_original\u001b[0m\u001b[0;34m)\u001b[0m\u001b[0;34m\u001b[0m\u001b[0;34m\u001b[0m\u001b[0m\n\u001b[0;32m----> 2\u001b[0;31m \u001b[0mmodel_2_result\u001b[0m \u001b[0;34m=\u001b[0m \u001b[0mnp\u001b[0m\u001b[0;34m.\u001b[0m\u001b[0msqrt\u001b[0m\u001b[0;34m(\u001b[0m\u001b[0mmean_squared_error\u001b[0m\u001b[0;34m(\u001b[0m\u001b[0my_val_formatted\u001b[0m\u001b[0;34m,\u001b[0m \u001b[0my_pred\u001b[0m\u001b[0;34m)\u001b[0m\u001b[0;34m)\u001b[0m\u001b[0;34m\u001b[0m\u001b[0;34m\u001b[0m\u001b[0m\n\u001b[0m\u001b[1;32m      3\u001b[0m \u001b[0mmodel_2_result\u001b[0m\u001b[0;34m\u001b[0m\u001b[0;34m\u001b[0m\u001b[0m\n",
            "\u001b[0;32m/usr/local/lib/python3.10/dist-packages/sklearn/metrics/_regression.py\u001b[0m in \u001b[0;36mmean_squared_error\u001b[0;34m(y_true, y_pred, sample_weight, multioutput, squared)\u001b[0m\n\u001b[1;32m    440\u001b[0m     \u001b[0;36m0.825\u001b[0m\u001b[0;34m...\u001b[0m\u001b[0;34m\u001b[0m\u001b[0;34m\u001b[0m\u001b[0m\n\u001b[1;32m    441\u001b[0m     \"\"\"\n\u001b[0;32m--> 442\u001b[0;31m     y_type, y_true, y_pred, multioutput = _check_reg_targets(\n\u001b[0m\u001b[1;32m    443\u001b[0m         \u001b[0my_true\u001b[0m\u001b[0;34m,\u001b[0m \u001b[0my_pred\u001b[0m\u001b[0;34m,\u001b[0m \u001b[0mmultioutput\u001b[0m\u001b[0;34m\u001b[0m\u001b[0;34m\u001b[0m\u001b[0m\n\u001b[1;32m    444\u001b[0m     )\n",
            "\u001b[0;32m/usr/local/lib/python3.10/dist-packages/sklearn/metrics/_regression.py\u001b[0m in \u001b[0;36m_check_reg_targets\u001b[0;34m(y_true, y_pred, multioutput, dtype)\u001b[0m\n\u001b[1;32m    100\u001b[0m     \u001b[0mcheck_consistent_length\u001b[0m\u001b[0;34m(\u001b[0m\u001b[0my_true\u001b[0m\u001b[0;34m,\u001b[0m \u001b[0my_pred\u001b[0m\u001b[0;34m)\u001b[0m\u001b[0;34m\u001b[0m\u001b[0;34m\u001b[0m\u001b[0m\n\u001b[1;32m    101\u001b[0m     \u001b[0my_true\u001b[0m \u001b[0;34m=\u001b[0m \u001b[0mcheck_array\u001b[0m\u001b[0;34m(\u001b[0m\u001b[0my_true\u001b[0m\u001b[0;34m,\u001b[0m \u001b[0mensure_2d\u001b[0m\u001b[0;34m=\u001b[0m\u001b[0;32mFalse\u001b[0m\u001b[0;34m,\u001b[0m \u001b[0mdtype\u001b[0m\u001b[0;34m=\u001b[0m\u001b[0mdtype\u001b[0m\u001b[0;34m)\u001b[0m\u001b[0;34m\u001b[0m\u001b[0;34m\u001b[0m\u001b[0m\n\u001b[0;32m--> 102\u001b[0;31m     \u001b[0my_pred\u001b[0m \u001b[0;34m=\u001b[0m \u001b[0mcheck_array\u001b[0m\u001b[0;34m(\u001b[0m\u001b[0my_pred\u001b[0m\u001b[0;34m,\u001b[0m \u001b[0mensure_2d\u001b[0m\u001b[0;34m=\u001b[0m\u001b[0;32mFalse\u001b[0m\u001b[0;34m,\u001b[0m \u001b[0mdtype\u001b[0m\u001b[0;34m=\u001b[0m\u001b[0mdtype\u001b[0m\u001b[0;34m)\u001b[0m\u001b[0;34m\u001b[0m\u001b[0;34m\u001b[0m\u001b[0m\n\u001b[0m\u001b[1;32m    103\u001b[0m \u001b[0;34m\u001b[0m\u001b[0m\n\u001b[1;32m    104\u001b[0m     \u001b[0;32mif\u001b[0m \u001b[0my_true\u001b[0m\u001b[0;34m.\u001b[0m\u001b[0mndim\u001b[0m \u001b[0;34m==\u001b[0m \u001b[0;36m1\u001b[0m\u001b[0;34m:\u001b[0m\u001b[0;34m\u001b[0m\u001b[0;34m\u001b[0m\u001b[0m\n",
            "\u001b[0;32m/usr/local/lib/python3.10/dist-packages/sklearn/utils/validation.py\u001b[0m in \u001b[0;36mcheck_array\u001b[0;34m(array, accept_sparse, accept_large_sparse, dtype, order, copy, force_all_finite, ensure_2d, allow_nd, ensure_min_samples, ensure_min_features, estimator, input_name)\u001b[0m\n\u001b[1;32m    919\u001b[0m \u001b[0;34m\u001b[0m\u001b[0m\n\u001b[1;32m    920\u001b[0m         \u001b[0;32mif\u001b[0m \u001b[0mforce_all_finite\u001b[0m\u001b[0;34m:\u001b[0m\u001b[0;34m\u001b[0m\u001b[0;34m\u001b[0m\u001b[0m\n\u001b[0;32m--> 921\u001b[0;31m             _assert_all_finite(\n\u001b[0m\u001b[1;32m    922\u001b[0m                 \u001b[0marray\u001b[0m\u001b[0;34m,\u001b[0m\u001b[0;34m\u001b[0m\u001b[0;34m\u001b[0m\u001b[0m\n\u001b[1;32m    923\u001b[0m                 \u001b[0minput_name\u001b[0m\u001b[0;34m=\u001b[0m\u001b[0minput_name\u001b[0m\u001b[0;34m,\u001b[0m\u001b[0;34m\u001b[0m\u001b[0;34m\u001b[0m\u001b[0m\n",
            "\u001b[0;32m/usr/local/lib/python3.10/dist-packages/sklearn/utils/validation.py\u001b[0m in \u001b[0;36m_assert_all_finite\u001b[0;34m(X, allow_nan, msg_dtype, estimator_name, input_name)\u001b[0m\n\u001b[1;32m    159\u001b[0m                 \u001b[0;34m\"#estimators-that-handle-nan-values\"\u001b[0m\u001b[0;34m\u001b[0m\u001b[0;34m\u001b[0m\u001b[0m\n\u001b[1;32m    160\u001b[0m             )\n\u001b[0;32m--> 161\u001b[0;31m         \u001b[0;32mraise\u001b[0m \u001b[0mValueError\u001b[0m\u001b[0;34m(\u001b[0m\u001b[0mmsg_err\u001b[0m\u001b[0;34m)\u001b[0m\u001b[0;34m\u001b[0m\u001b[0;34m\u001b[0m\u001b[0m\n\u001b[0m\u001b[1;32m    162\u001b[0m \u001b[0;34m\u001b[0m\u001b[0m\n\u001b[1;32m    163\u001b[0m \u001b[0;34m\u001b[0m\u001b[0m\n",
            "\u001b[0;31mValueError\u001b[0m: Input contains NaN."
          ]
        }
      ]
    },
    {
      "cell_type": "markdown",
      "source": [
        "NOT GOOD!"
      ],
      "metadata": {
        "id": "tw1TYzyqLGxc"
      }
    },
    {
      "cell_type": "markdown",
      "source": [
        "#### Model 3: ANN with suitable learning rate and epochs"
      ],
      "metadata": {
        "id": "F-iDfi55Kc13"
      }
    },
    {
      "cell_type": "code",
      "source": [
        "layer_structure = [6,4,1]\n",
        "net_3 = Network(layer_structure, 120, 1e-6)\n",
        "net_3.fit(meta_X_train_formatted_original, y_train_formatted)\n"
      ],
      "metadata": {
        "colab": {
          "base_uri": "https://localhost:8080/"
        },
        "id": "TN1JqUNKKgD8",
        "outputId": "ab90cfc2-b03e-4b33-cf1f-c95e65e24ca9"
      },
      "execution_count": null,
      "outputs": [
        {
          "output_type": "stream",
          "name": "stdout",
          "text": [
            "Epoch: 0 Train RMSE: 16949.34934885503 Valid RMSE: 18158.973065951934\n",
            "Epoch: 1 Train RMSE: 16947.313822961056 Valid RMSE: 18152.998559082218\n",
            "Epoch: 2 Train RMSE: 16940.79327832921 Valid RMSE: 18126.99475996772\n",
            "Epoch: 3 Train RMSE: 16912.29385121987 Valid RMSE: 18005.643986289546\n",
            "Epoch: 4 Train RMSE: 16779.163585673952 Valid RMSE: 17449.913616370206\n",
            "Epoch: 5 Train RMSE: 16168.720327540723 Valid RMSE: 15230.200669575148\n",
            "Epoch: 6 Train RMSE: 13758.610122474118 Valid RMSE: 11051.07445775641\n",
            "Epoch: 7 Train RMSE: 9908.412633645505 Valid RMSE: 10724.712293824427\n",
            "Epoch: 8 Train RMSE: 9836.96372001083 Valid RMSE: 10860.963145378135\n",
            "Epoch: 9 Train RMSE: 9767.084466713068 Valid RMSE: 10690.374947787965\n",
            "Epoch: 10 Train RMSE: 9694.057497501062 Valid RMSE: 10727.001715033699\n",
            "Epoch: 11 Train RMSE: 9629.92840952817 Valid RMSE: 10630.593787332376\n",
            "Epoch: 12 Train RMSE: 9567.427095799696 Valid RMSE: 10626.290771931555\n",
            "Epoch: 13 Train RMSE: 9509.273573970226 Valid RMSE: 10564.002229490352\n",
            "Epoch: 14 Train RMSE: 9452.275597507563 Valid RMSE: 10542.932970817741\n",
            "Epoch: 15 Train RMSE: 9389.871869518318 Valid RMSE: 10493.641409092248\n",
            "Epoch: 16 Train RMSE: 9325.09635182091 Valid RMSE: 10460.619351130552\n",
            "Epoch: 17 Train RMSE: 9263.30291488706 Valid RMSE: 10418.510796713344\n",
            "Epoch: 18 Train RMSE: 9204.156218979217 Valid RMSE: 10382.983425192451\n",
            "Epoch: 19 Train RMSE: 9147.925648760427 Valid RMSE: 10344.514138849214\n",
            "Epoch: 20 Train RMSE: 9094.551263551792 Valid RMSE: 10309.593644631803\n",
            "Epoch: 21 Train RMSE: 9044.19151157603 Valid RMSE: 10274.872951409568\n",
            "Epoch: 22 Train RMSE: 8996.873835001856 Valid RMSE: 10243.204675506491\n",
            "Epoch: 23 Train RMSE: 8952.686446568905 Valid RMSE: 10213.181082774958\n",
            "Epoch: 24 Train RMSE: 8910.571620183593 Valid RMSE: 10184.684117160685\n",
            "Epoch: 25 Train RMSE: 8863.044354018983 Valid RMSE: 10150.391148485181\n",
            "Epoch: 26 Train RMSE: 8809.423236020906 Valid RMSE: 10112.068213062636\n",
            "Epoch: 27 Train RMSE: 8760.338455282064 Valid RMSE: 10079.791763674704\n",
            "Epoch: 28 Train RMSE: 8715.842144554195 Valid RMSE: 10046.488913511721\n",
            "Epoch: 29 Train RMSE: 8675.7387359731 Valid RMSE: 10016.713276122173\n",
            "Epoch: 30 Train RMSE: 8639.856782506158 Valid RMSE: 9987.87039174544\n",
            "Epoch: 31 Train RMSE: 8607.902231574997 Valid RMSE: 9961.922456669636\n",
            "Epoch: 32 Train RMSE: 8579.565740048716 Valid RMSE: 9937.773952190115\n",
            "Epoch: 33 Train RMSE: 8553.840601202586 Valid RMSE: 9923.299588929403\n",
            "Epoch: 34 Train RMSE: 8507.221448576634 Valid RMSE: 9904.97951189115\n",
            "Epoch: 35 Train RMSE: 8436.256122550305 Valid RMSE: 9887.256803115082\n",
            "Epoch: 36 Train RMSE: 8347.539233199044 Valid RMSE: 9889.25546995335\n",
            "Epoch: 37 Train RMSE: 8229.263612802246 Valid RMSE: 9843.002839486426\n",
            "Epoch: 38 Train RMSE: 8136.49119155163 Valid RMSE: 9844.565735609733\n",
            "Epoch: 39 Train RMSE: 8059.502460307536 Valid RMSE: 9837.99271204317\n",
            "Epoch: 40 Train RMSE: 7991.924128910935 Valid RMSE: 9822.963111220191\n",
            "Epoch: 41 Train RMSE: 7940.870885299403 Valid RMSE: 9814.893647240788\n",
            "Epoch: 42 Train RMSE: 7904.015862695478 Valid RMSE: 9805.44832525032\n",
            "Epoch: 43 Train RMSE: 7876.160272682777 Valid RMSE: 9804.65865076845\n",
            "Epoch: 44 Train RMSE: 7850.227161037005 Valid RMSE: 9790.804101878026\n",
            "Epoch: 45 Train RMSE: 7814.909505324137 Valid RMSE: 9774.633341141522\n",
            "Epoch: 46 Train RMSE: 7783.364268328837 Valid RMSE: 9755.612708926614\n",
            "Epoch: 47 Train RMSE: 7753.905330127259 Valid RMSE: 9733.057224562339\n",
            "Epoch: 48 Train RMSE: 7717.485355330413 Valid RMSE: 9694.72186498205\n",
            "Epoch: 49 Train RMSE: 7660.236618309971 Valid RMSE: 9606.239165855563\n",
            "Epoch: 50 Train RMSE: 7351.524265650549 Valid RMSE: 9314.08950845636\n",
            "Epoch: 51 Train RMSE: 7106.341861506303 Valid RMSE: 9278.94822347149\n",
            "Epoch: 52 Train RMSE: 7014.276287460944 Valid RMSE: 9153.081120765684\n",
            "Epoch: 53 Train RMSE: 6941.833718350526 Valid RMSE: 9141.946567195506\n",
            "Epoch: 54 Train RMSE: 6883.353840192647 Valid RMSE: 9051.536067971469\n",
            "Epoch: 55 Train RMSE: 6832.957137873881 Valid RMSE: 9033.571152153463\n",
            "Epoch: 56 Train RMSE: 6779.005233720955 Valid RMSE: 8982.82778751292\n",
            "Epoch: 57 Train RMSE: 6727.9659056138335 Valid RMSE: 8972.443245094943\n",
            "Epoch: 58 Train RMSE: 6678.537197737935 Valid RMSE: 8933.46060675491\n",
            "Epoch: 59 Train RMSE: 6629.746278894073 Valid RMSE: 8925.842027214541\n",
            "Epoch: 60 Train RMSE: 6581.397801532215 Valid RMSE: 8894.837738267273\n",
            "Epoch: 61 Train RMSE: 6533.23400500955 Valid RMSE: 8888.808049907175\n",
            "Epoch: 62 Train RMSE: 6486.509101657462 Valid RMSE: 8865.486974107802\n",
            "Epoch: 63 Train RMSE: 6444.220910948505 Valid RMSE: 8835.047716066023\n",
            "Epoch: 64 Train RMSE: 6407.532466137091 Valid RMSE: 8815.948250439294\n",
            "Epoch: 65 Train RMSE: 6376.413244263083 Valid RMSE: 8804.892695503882\n",
            "Epoch: 66 Train RMSE: 6341.5440882771145 Valid RMSE: 8746.621819497166\n",
            "Epoch: 67 Train RMSE: 6314.666302272232 Valid RMSE: 8699.310830170896\n",
            "Epoch: 68 Train RMSE: 6346.73457880679 Valid RMSE: 8675.66367487513\n",
            "Epoch: 69 Train RMSE: 6287.818940036869 Valid RMSE: 8693.790158706408\n",
            "Epoch: 70 Train RMSE: 6350.434956273813 Valid RMSE: 8624.206574065845\n",
            "Epoch: 71 Train RMSE: 6280.9712962898275 Valid RMSE: 8706.88083548554\n",
            "Epoch: 72 Train RMSE: 6374.551056184705 Valid RMSE: 8580.886705381683\n",
            "Epoch: 73 Train RMSE: 6292.940348579564 Valid RMSE: 8730.93991055531\n",
            "Epoch: 74 Train RMSE: 6416.696824669346 Valid RMSE: 8532.621268089724\n",
            "Epoch: 75 Train RMSE: 6275.9378282230655 Valid RMSE: 8697.911092480526\n",
            "Epoch: 76 Train RMSE: 6397.466708226782 Valid RMSE: 8494.263636281754\n",
            "Epoch: 77 Train RMSE: 6263.470906946649 Valid RMSE: 8673.4015013047\n",
            "Epoch: 78 Train RMSE: 6382.064542187861 Valid RMSE: 8459.68610107202\n",
            "Epoch: 79 Train RMSE: 6259.029399283564 Valid RMSE: 8668.091663835246\n",
            "Epoch: 80 Train RMSE: 6396.484552254554 Valid RMSE: 8439.501828933262\n",
            "Epoch: 81 Train RMSE: 6308.185637662084 Valid RMSE: 8716.472370622125\n",
            "Epoch: 82 Train RMSE: 6477.333892845023 Valid RMSE: 8401.977097940618\n",
            "Epoch: 83 Train RMSE: 6315.248683346792 Valid RMSE: 8707.829379516534\n",
            "Epoch: 84 Train RMSE: 6496.918832372521 Valid RMSE: 8374.209562441078\n",
            "Epoch: 85 Train RMSE: 6326.47759746273 Valid RMSE: 8702.313068394154\n",
            "Epoch: 86 Train RMSE: 6516.787876659198 Valid RMSE: 8348.913868383046\n",
            "Epoch: 87 Train RMSE: 6336.357375716694 Valid RMSE: 8693.663710432342\n",
            "Epoch: 88 Train RMSE: 6534.052433049746 Valid RMSE: 8360.087740452129\n",
            "Epoch: 89 Train RMSE: 6415.771735877255 Valid RMSE: 8751.275984735752\n",
            "Epoch: 90 Train RMSE: 6619.899583783004 Valid RMSE: 8301.075557342134\n",
            "Epoch: 91 Train RMSE: 6344.718460620229 Valid RMSE: 8653.974424881853\n",
            "Epoch: 92 Train RMSE: 6527.7461751161545 Valid RMSE: 8258.528134377448\n",
            "Epoch: 93 Train RMSE: 6272.753996657854 Valid RMSE: 8571.730046616181\n",
            "Epoch: 94 Train RMSE: 6433.818280127753 Valid RMSE: 8206.332015625549\n",
            "Epoch: 95 Train RMSE: 6174.140644437238 Valid RMSE: 8485.47430507976\n",
            "Epoch: 96 Train RMSE: 6351.0718507758365 Valid RMSE: 8254.182847418957\n",
            "Epoch: 97 Train RMSE: 6312.352820727823 Valid RMSE: 8620.21134576354\n",
            "Epoch: 98 Train RMSE: 6503.81397607066 Valid RMSE: 8209.848286368431\n",
            "Epoch: 99 Train RMSE: 6298.816809080846 Valid RMSE: 8577.487680559369\n",
            "Epoch: 100 Train RMSE: 6479.85407906731 Valid RMSE: 8165.583042033334\n",
            "Epoch: 101 Train RMSE: 6241.859798593773 Valid RMSE: 8505.291453454247\n",
            "Epoch: 102 Train RMSE: 6395.138197419118 Valid RMSE: 8128.681687435626\n",
            "Epoch: 103 Train RMSE: 6184.074935217732 Valid RMSE: 8454.545350139171\n",
            "Epoch: 104 Train RMSE: 6347.82769313452 Valid RMSE: 8092.814805381018\n",
            "Epoch: 105 Train RMSE: 6126.292144329477 Valid RMSE: 8398.971326145243\n",
            "Epoch: 106 Train RMSE: 6289.727783821028 Valid RMSE: 8059.880399719477\n",
            "Epoch: 107 Train RMSE: 6075.48714908438 Valid RMSE: 8346.435121147777\n",
            "Epoch: 108 Train RMSE: 6228.862028746131 Valid RMSE: 8015.225594136967\n",
            "Epoch: 109 Train RMSE: 6005.685531977827 Valid RMSE: 8274.825294882805\n",
            "Epoch: 110 Train RMSE: 6153.860452859322 Valid RMSE: 7980.10442890924\n",
            "Epoch: 111 Train RMSE: 5951.713606963561 Valid RMSE: 8222.855716804443\n",
            "Epoch: 112 Train RMSE: 6101.828537369776 Valid RMSE: 7948.583473952592\n",
            "Epoch: 113 Train RMSE: 5907.369764823615 Valid RMSE: 8178.388439631795\n",
            "Epoch: 114 Train RMSE: 6060.267295626545 Valid RMSE: 7918.3261783851685\n",
            "Epoch: 115 Train RMSE: 5868.842841136585 Valid RMSE: 8137.076050920547\n",
            "Epoch: 116 Train RMSE: 6024.680252927916 Valid RMSE: 7887.152652520811\n",
            "Epoch: 117 Train RMSE: 5837.452729178916 Valid RMSE: 8043.386546787729\n",
            "Epoch: 118 Train RMSE: 5821.464979985508 Valid RMSE: 7871.850565839044\n",
            "Epoch: 119 Train RMSE: 5825.465958871552 Valid RMSE: 8106.012948496838\n"
          ]
        }
      ]
    },
    {
      "cell_type": "code",
      "source": [
        "y_pred =  net_3.predict(meta_X_val_formatted_original)\n",
        "model_3_result = np.sqrt(mean_squared_error(y_val_formatted, y_pred))\n",
        "model_3_result"
      ],
      "metadata": {
        "colab": {
          "base_uri": "https://localhost:8080/"
        },
        "id": "jtLwA1r4Kqks",
        "outputId": "1b589b97-ada5-40c5-bd37-53788a6796e2"
      },
      "execution_count": null,
      "outputs": [
        {
          "output_type": "execute_result",
          "data": {
            "text/plain": [
              "8557.161517086532"
            ]
          },
          "metadata": {},
          "execution_count": 53
        }
      ]
    },
    {
      "cell_type": "markdown",
      "source": [
        "hmm, little improvement, but still not that good"
      ],
      "metadata": {
        "id": "ik6dpMgLNoCS"
      }
    },
    {
      "cell_type": "markdown",
      "source": [
        "#### Model 4: Model 3 but with 5 models as the base layer"
      ],
      "metadata": {
        "id": "pza-I2JgNqjw"
      }
    },
    {
      "cell_type": "code",
      "source": [
        "models_selected"
      ],
      "metadata": {
        "colab": {
          "base_uri": "https://localhost:8080/"
        },
        "id": "yhQ5lZjxNwWb",
        "outputId": "dca4a3fb-205f-4e77-ca86-3ba51bb0023f"
      },
      "execution_count": null,
      "outputs": [
        {
          "output_type": "execute_result",
          "data": {
            "text/plain": [
              "[('lr', LinearRegression()),\n",
              " ('knn', KNeighborsRegressor()),\n",
              " ('rfr', RandomForestRegressor()),\n",
              " ('xgb',\n",
              "  XGBRegressor(base_score=None, booster=None, callbacks=None,\n",
              "               colsample_bylevel=None, colsample_bynode=None,\n",
              "               colsample_bytree=None, device=None, early_stopping_rounds=None,\n",
              "               enable_categorical=False, eval_metric=None, feature_types=None,\n",
              "               gamma=None, grow_policy=None, importance_type=None,\n",
              "               interaction_constraints=None, learning_rate=None, max_bin=None,\n",
              "               max_cat_threshold=None, max_cat_to_onehot=None,\n",
              "               max_delta_step=None, max_depth=None, max_leaves=None,\n",
              "               min_child_weight=None, missing=nan, monotone_constraints=None,\n",
              "               multi_strategy=None, n_estimators=None, n_jobs=None,\n",
              "               num_parallel_tree=None, random_state=None, ...)),\n",
              " ('abr', AdaBoostRegressor())]"
            ]
          },
          "metadata": {},
          "execution_count": 54
        }
      ]
    },
    {
      "cell_type": "code",
      "source": [
        "layer_structure = [5,4,1]\n",
        "net_4 = Network(layer_structure, 300, 1e-6, 16)\n",
        "net_4.fit(meta_X_train_formatted_selected, y_train_formatted)\n"
      ],
      "metadata": {
        "colab": {
          "base_uri": "https://localhost:8080/"
        },
        "outputId": "8430407d-a988-4592-b2fe-561bea1227bd",
        "id": "u6Eq0QqSNwWk"
      },
      "execution_count": null,
      "outputs": [
        {
          "output_type": "stream",
          "name": "stdout",
          "text": [
            "Epoch: 0 Train RMSE: 17451.304493116244 Valid RMSE: 18159.816971575645\n",
            "Epoch: 1 Train RMSE: 17450.308211425043 Valid RMSE: 18158.223286812376\n",
            "Epoch: 2 Train RMSE: 17448.31103522768 Valid RMSE: 18154.57463258683\n",
            "Epoch: 3 Train RMSE: 17443.334515797313 Valid RMSE: 18144.879203725897\n",
            "Epoch: 4 Train RMSE: 17429.779203413007 Valid RMSE: 18118.294673892306\n",
            "Epoch: 5 Train RMSE: 17392.496738950802 Valid RMSE: 18045.513372725225\n",
            "Epoch: 6 Train RMSE: 17290.002318913266 Valid RMSE: 17848.26586475412\n",
            "Epoch: 7 Train RMSE: 17011.372335076034 Valid RMSE: 17331.712620704264\n",
            "Epoch: 8 Train RMSE: 16280.169695095146 Valid RMSE: 16103.370599971313\n",
            "Epoch: 9 Train RMSE: 14539.98866436962 Valid RMSE: 13856.409052017036\n",
            "Epoch: 10 Train RMSE: 11409.108764841241 Valid RMSE: 11695.910037198355\n",
            "Epoch: 11 Train RMSE: 8864.215455191457 Valid RMSE: 11049.821983427591\n",
            "Epoch: 12 Train RMSE: 8519.04951205946 Valid RMSE: 11019.32352109944\n",
            "Epoch: 13 Train RMSE: 8496.206870141195 Valid RMSE: 11012.968432364649\n",
            "Epoch: 14 Train RMSE: 8474.128237418128 Valid RMSE: 11005.523931918184\n",
            "Epoch: 15 Train RMSE: 8452.140557275163 Valid RMSE: 10998.173749977894\n",
            "Epoch: 16 Train RMSE: 8430.228508449538 Valid RMSE: 10990.879943534514\n",
            "Epoch: 17 Train RMSE: 8408.374370629052 Valid RMSE: 10983.641693739119\n",
            "Epoch: 18 Train RMSE: 8386.561236702773 Valid RMSE: 10976.454559723446\n",
            "Epoch: 19 Train RMSE: 8364.772762395665 Valid RMSE: 10969.314507648389\n",
            "Epoch: 20 Train RMSE: 8342.99312340754 Valid RMSE: 10962.21778538883\n",
            "Epoch: 21 Train RMSE: 8321.206969028475 Valid RMSE: 10955.160913070687\n",
            "Epoch: 22 Train RMSE: 8299.39938116526 Valid RMSE: 10948.100500886176\n",
            "Epoch: 23 Train RMSE: 8277.555837985827 Valid RMSE: 10940.982903957583\n",
            "Epoch: 24 Train RMSE: 8255.66218188565 Valid RMSE: 10933.580519298404\n",
            "Epoch: 25 Train RMSE: 8233.704591508807 Valid RMSE: 10926.08101274676\n",
            "Epoch: 26 Train RMSE: 8211.669557600131 Valid RMSE: 10918.528711793613\n",
            "Epoch: 27 Train RMSE: 8189.54386250226 Valid RMSE: 10910.908117237303\n",
            "Epoch: 28 Train RMSE: 8167.314563144191 Valid RMSE: 10903.14779678613\n",
            "Epoch: 29 Train RMSE: 8144.9689773963255 Valid RMSE: 10895.193971618563\n",
            "Epoch: 30 Train RMSE: 8122.4946736915235 Valid RMSE: 10887.07221956301\n",
            "Epoch: 31 Train RMSE: 8099.879463832397 Valid RMSE: 10878.876160279699\n",
            "Epoch: 32 Train RMSE: 8077.111398922353 Valid RMSE: 10870.617924902703\n",
            "Epoch: 33 Train RMSE: 8054.178768371701 Valid RMSE: 10862.311239959476\n",
            "Epoch: 34 Train RMSE: 8031.070101940649 Valid RMSE: 10853.900029197197\n",
            "Epoch: 35 Train RMSE: 8007.774174788229 Valid RMSE: 10845.050866019235\n",
            "Epoch: 36 Train RMSE: 7984.280015500146 Valid RMSE: 10835.830731508519\n",
            "Epoch: 37 Train RMSE: 7960.576917069113 Valid RMSE: 10826.27573892532\n",
            "Epoch: 38 Train RMSE: 7936.654450798656 Valid RMSE: 10816.43118512068\n",
            "Epoch: 39 Train RMSE: 7912.502483095365 Valid RMSE: 10806.241978684104\n",
            "Epoch: 40 Train RMSE: 7888.111195105229 Valid RMSE: 10795.626126890162\n",
            "Epoch: 41 Train RMSE: 7863.471105137234 Valid RMSE: 10784.678741283968\n",
            "Epoch: 42 Train RMSE: 7838.573093801625 Valid RMSE: 10773.538360140117\n",
            "Epoch: 43 Train RMSE: 7813.408431771396 Valid RMSE: 10762.194185891707\n",
            "Epoch: 44 Train RMSE: 7786.837081077348 Valid RMSE: 10753.109132273597\n",
            "Epoch: 45 Train RMSE: 7752.592762397488 Valid RMSE: 10738.766760379123\n",
            "Epoch: 46 Train RMSE: 7711.99102907359 Valid RMSE: 10719.120726576362\n",
            "Epoch: 47 Train RMSE: 7668.924723265441 Valid RMSE: 10711.304368885607\n",
            "Epoch: 48 Train RMSE: 7613.307962011404 Valid RMSE: 10699.340462639007\n",
            "Epoch: 49 Train RMSE: 7548.388265785241 Valid RMSE: 10678.311451890333\n",
            "Epoch: 50 Train RMSE: 7482.718529600378 Valid RMSE: 10657.597264668093\n",
            "Epoch: 51 Train RMSE: 7416.3213753568425 Valid RMSE: 10636.862191739792\n",
            "Epoch: 52 Train RMSE: 7349.243860838016 Valid RMSE: 10615.76837184878\n",
            "Epoch: 53 Train RMSE: 7281.548631617076 Valid RMSE: 10593.911591615362\n",
            "Epoch: 54 Train RMSE: 7213.309721171479 Valid RMSE: 10571.422590272696\n",
            "Epoch: 55 Train RMSE: 7144.612680638499 Valid RMSE: 10548.463116977473\n",
            "Epoch: 56 Train RMSE: 7075.554179683626 Valid RMSE: 10525.214733212473\n",
            "Epoch: 57 Train RMSE: 7006.24139660493 Valid RMSE: 10501.379409112691\n",
            "Epoch: 58 Train RMSE: 6936.791165459992 Valid RMSE: 10477.02849406058\n",
            "Epoch: 59 Train RMSE: 6867.328886081185 Valid RMSE: 10451.493823257108\n",
            "Epoch: 60 Train RMSE: 6797.987209841913 Valid RMSE: 10425.428214857035\n",
            "Epoch: 61 Train RMSE: 6728.904523852574 Valid RMSE: 10398.761948028885\n",
            "Epoch: 62 Train RMSE: 6660.223265230934 Valid RMSE: 10372.23092785\n",
            "Epoch: 63 Train RMSE: 6592.088104935345 Valid RMSE: 10345.420577750972\n",
            "Epoch: 64 Train RMSE: 6524.644046833234 Valid RMSE: 10318.771032240826\n",
            "Epoch: 65 Train RMSE: 6458.034491812644 Valid RMSE: 10291.621735976187\n",
            "Epoch: 66 Train RMSE: 6392.39931858482 Valid RMSE: 10264.44035211672\n",
            "Epoch: 67 Train RMSE: 6327.873032288625 Valid RMSE: 10237.115549310267\n",
            "Epoch: 68 Train RMSE: 6264.583029174974 Valid RMSE: 10209.696095476786\n",
            "Epoch: 69 Train RMSE: 6202.648020752719 Valid RMSE: 10182.27183189643\n",
            "Epoch: 70 Train RMSE: 6142.176654169724 Valid RMSE: 10154.39523300189\n",
            "Epoch: 71 Train RMSE: 6083.2663577226185 Valid RMSE: 10126.528745175898\n",
            "Epoch: 72 Train RMSE: 6026.002431720401 Valid RMSE: 10098.406798201382\n",
            "Epoch: 73 Train RMSE: 5970.457395961609 Valid RMSE: 10070.32772361691\n",
            "Epoch: 74 Train RMSE: 5916.690596285109 Valid RMSE: 10042.511967673867\n",
            "Epoch: 75 Train RMSE: 5864.748064427246 Valid RMSE: 10015.068348829383\n",
            "Epoch: 76 Train RMSE: 5814.662618093645 Valid RMSE: 9988.297608944406\n",
            "Epoch: 77 Train RMSE: 5766.454181975746 Valid RMSE: 9961.939570764487\n",
            "Epoch: 78 Train RMSE: 5720.130305562789 Valid RMSE: 9936.327551896482\n",
            "Epoch: 79 Train RMSE: 5675.68685008533 Valid RMSE: 9911.429744168781\n",
            "Epoch: 80 Train RMSE: 5633.108814764484 Valid RMSE: 9887.282229902108\n",
            "Epoch: 81 Train RMSE: 5592.371271654367 Valid RMSE: 9863.547191636942\n",
            "Epoch: 82 Train RMSE: 5553.440378625844 Valid RMSE: 9840.2100683066\n",
            "Epoch: 83 Train RMSE: 5516.274441284044 Valid RMSE: 9817.554544078297\n",
            "Epoch: 84 Train RMSE: 5480.824996655955 Valid RMSE: 9795.532106091347\n",
            "Epoch: 85 Train RMSE: 5447.037894135787 Valid RMSE: 9773.96594660162\n",
            "Epoch: 86 Train RMSE: 5414.854352246199 Valid RMSE: 9752.726066589184\n",
            "Epoch: 87 Train RMSE: 5384.211973086667 Valid RMSE: 9731.83041259328\n",
            "Epoch: 88 Train RMSE: 5355.045699738683 Valid RMSE: 9711.318462790441\n",
            "Epoch: 89 Train RMSE: 5327.288705246537 Valid RMSE: 9691.153567414727\n",
            "Epoch: 90 Train RMSE: 5300.873204982306 Valid RMSE: 9671.153246084714\n",
            "Epoch: 91 Train RMSE: 5275.731187150254 Valid RMSE: 9651.409688158654\n",
            "Epoch: 92 Train RMSE: 5251.7950588292315 Valid RMSE: 9631.933758935264\n",
            "Epoch: 93 Train RMSE: 5228.998207254499 Valid RMSE: 9612.682120486545\n",
            "Epoch: 94 Train RMSE: 5207.275477985283 Valid RMSE: 9593.49695245079\n",
            "Epoch: 95 Train RMSE: 5186.563573190228 Valid RMSE: 9574.603256409237\n",
            "Epoch: 96 Train RMSE: 5166.801374522494 Valid RMSE: 9556.092927393382\n",
            "Epoch: 97 Train RMSE: 5147.930195972441 Valid RMSE: 9538.024085383788\n",
            "Epoch: 98 Train RMSE: 5129.893972708551 Valid RMSE: 9520.348822499729\n",
            "Epoch: 99 Train RMSE: 5112.639392281368 Valid RMSE: 9502.845534471808\n",
            "Epoch: 100 Train RMSE: 5096.115974707515 Valid RMSE: 9485.642834110804\n",
            "Epoch: 101 Train RMSE: 5080.276107908557 Valid RMSE: 9468.69757866259\n",
            "Epoch: 102 Train RMSE: 5065.075044788629 Valid RMSE: 9452.005374101635\n",
            "Epoch: 103 Train RMSE: 5050.470867929101 Valid RMSE: 9435.485989031054\n",
            "Epoch: 104 Train RMSE: 5036.424427488531 Valid RMSE: 9419.185304857763\n",
            "Epoch: 105 Train RMSE: 5022.899257449077 Valid RMSE: 9402.996061406606\n",
            "Epoch: 106 Train RMSE: 5009.861474869382 Valid RMSE: 9386.948878113673\n",
            "Epoch: 107 Train RMSE: 4997.279666308385 Valid RMSE: 9371.054621911113\n",
            "Epoch: 108 Train RMSE: 4985.124765090218 Valid RMSE: 9355.295170007372\n",
            "Epoch: 109 Train RMSE: 4973.3699225999 Valid RMSE: 9339.665461528406\n",
            "Epoch: 110 Train RMSE: 4961.990376342173 Valid RMSE: 9324.168865303242\n",
            "Epoch: 111 Train RMSE: 4950.963317068366 Valid RMSE: 9308.859849911696\n",
            "Epoch: 112 Train RMSE: 4940.267756882911 Valid RMSE: 9293.65345385802\n",
            "Epoch: 113 Train RMSE: 4929.884399884618 Valid RMSE: 9278.44798233482\n",
            "Epoch: 114 Train RMSE: 4919.7955165789635 Valid RMSE: 9263.267808778923\n",
            "Epoch: 115 Train RMSE: 4909.984823016073 Valid RMSE: 9248.119724135107\n",
            "Epoch: 116 Train RMSE: 4900.437365363591 Valid RMSE: 9233.013078326949\n",
            "Epoch: 117 Train RMSE: 4891.139410412364 Valid RMSE: 9217.971959193972\n",
            "Epoch: 118 Train RMSE: 4882.078342333231 Valid RMSE: 9202.931664671523\n",
            "Epoch: 119 Train RMSE: 4873.242565852768 Valid RMSE: 9187.940937475318\n",
            "Epoch: 120 Train RMSE: 4864.621415891561 Valid RMSE: 9173.029927381931\n",
            "Epoch: 121 Train RMSE: 4856.2050736077745 Valid RMSE: 9158.255547909954\n",
            "Epoch: 122 Train RMSE: 4847.984488708556 Valid RMSE: 9143.58236614286\n",
            "Epoch: 123 Train RMSE: 4839.9513078295495 Valid RMSE: 9128.953261129902\n",
            "Epoch: 124 Train RMSE: 4832.097808736031 Valid RMSE: 9114.331052295778\n",
            "Epoch: 125 Train RMSE: 4824.416840065521 Valid RMSE: 9099.718374429061\n",
            "Epoch: 126 Train RMSE: 4816.901766309168 Valid RMSE: 9085.18439979935\n",
            "Epoch: 127 Train RMSE: 4809.546417715858 Valid RMSE: 9070.74098601607\n",
            "Epoch: 128 Train RMSE: 4802.345044797138 Valid RMSE: 9056.296755698342\n",
            "Epoch: 129 Train RMSE: 4795.292277111322 Valid RMSE: 9041.935884568311\n",
            "Epoch: 130 Train RMSE: 4788.383086010157 Valid RMSE: 9027.663270730642\n",
            "Epoch: 131 Train RMSE: 4781.612751040288 Valid RMSE: 9013.477805565575\n",
            "Epoch: 132 Train RMSE: 4774.976829703218 Valid RMSE: 8999.344197294584\n",
            "Epoch: 133 Train RMSE: 4768.471130291189 Valid RMSE: 8985.342122804952\n",
            "Epoch: 134 Train RMSE: 4762.091687531306 Valid RMSE: 8971.465254597262\n",
            "Epoch: 135 Train RMSE: 4755.834740786066 Valid RMSE: 8957.667386335917\n",
            "Epoch: 136 Train RMSE: 4749.696714574711 Valid RMSE: 8944.000994422797\n",
            "Epoch: 137 Train RMSE: 4743.674201196102 Valid RMSE: 8930.458893306792\n",
            "Epoch: 138 Train RMSE: 4737.763945249908 Valid RMSE: 8917.047045128942\n",
            "Epoch: 139 Train RMSE: 4731.962829868599 Valid RMSE: 8903.764782415012\n",
            "Epoch: 140 Train RMSE: 4726.2678644878315 Valid RMSE: 8890.603569011446\n",
            "Epoch: 141 Train RMSE: 4720.676173997237 Valid RMSE: 8877.555719473536\n",
            "Epoch: 142 Train RMSE: 4715.184989127329 Valid RMSE: 8864.632287547447\n",
            "Epoch: 143 Train RMSE: 4709.791637941057 Valid RMSE: 8851.824298200545\n",
            "Epoch: 144 Train RMSE: 4704.493538310616 Valid RMSE: 8839.05323534586\n",
            "Epoch: 145 Train RMSE: 4699.288191271311 Valid RMSE: 8826.364071013013\n",
            "Epoch: 146 Train RMSE: 4694.173175154643 Valid RMSE: 8813.704680850618\n",
            "Epoch: 147 Train RMSE: 4689.146140412387 Valid RMSE: 8801.16303094053\n",
            "Epoch: 148 Train RMSE: 4684.204805052229 Valid RMSE: 8788.714200809465\n",
            "Epoch: 149 Train RMSE: 4679.346950613597 Valid RMSE: 8776.327684974402\n",
            "Epoch: 150 Train RMSE: 4674.570418619706 Valid RMSE: 8764.041691836239\n",
            "Epoch: 151 Train RMSE: 4669.873107448566 Valid RMSE: 8751.79885980104\n",
            "Epoch: 152 Train RMSE: 4665.252969571776 Valid RMSE: 8739.587122724768\n",
            "Epoch: 153 Train RMSE: 4660.708009115514 Valid RMSE: 8727.425595723193\n",
            "Epoch: 154 Train RMSE: 4656.236279703104 Valid RMSE: 8715.323865232805\n",
            "Epoch: 155 Train RMSE: 4651.835882543085 Valid RMSE: 8703.332068235555\n",
            "Epoch: 156 Train RMSE: 4647.504964730788 Valid RMSE: 8691.449029945941\n",
            "Epoch: 157 Train RMSE: 4643.241717735072 Valid RMSE: 8679.669069813554\n",
            "Epoch: 158 Train RMSE: 4639.044376045215 Valid RMSE: 8667.90261723326\n",
            "Epoch: 159 Train RMSE: 4634.911215955843 Valid RMSE: 8656.126841839683\n",
            "Epoch: 160 Train RMSE: 4630.840554470479 Valid RMSE: 8644.44485666063\n",
            "Epoch: 161 Train RMSE: 4626.830748306656 Valid RMSE: 8632.829429379584\n",
            "Epoch: 162 Train RMSE: 4622.880192987586 Valid RMSE: 8621.313296616057\n",
            "Epoch: 163 Train RMSE: 4618.987322007372 Valid RMSE: 8609.8519965179\n",
            "Epoch: 164 Train RMSE: 4615.150606058292 Valid RMSE: 8598.407278588624\n",
            "Epoch: 165 Train RMSE: 4611.368552310282 Valid RMSE: 8586.944507636876\n",
            "Epoch: 166 Train RMSE: 4607.63970373401 Valid RMSE: 8575.56339422536\n",
            "Epoch: 167 Train RMSE: 4603.9626384601015 Valid RMSE: 8564.234829575445\n",
            "Epoch: 168 Train RMSE: 4600.335969168154 Valid RMSE: 8552.967528822886\n",
            "Epoch: 169 Train RMSE: 4596.758342500019 Valid RMSE: 8541.771449775535\n",
            "Epoch: 170 Train RMSE: 4593.228438492757 Valid RMSE: 8530.639226659128\n",
            "Epoch: 171 Train RMSE: 4589.744970027186 Valid RMSE: 8519.598222504903\n",
            "Epoch: 172 Train RMSE: 4586.306682288858 Valid RMSE: 8508.64720166387\n",
            "Epoch: 173 Train RMSE: 4582.912352238449 Valid RMSE: 8497.784943925464\n",
            "Epoch: 174 Train RMSE: 4579.560788089547 Valid RMSE: 8487.007484440554\n",
            "Epoch: 175 Train RMSE: 4576.250828791549 Valid RMSE: 8476.315089741482\n",
            "Epoch: 176 Train RMSE: 4572.981343516675 Valid RMSE: 8465.706178002596\n",
            "Epoch: 177 Train RMSE: 4569.75123114916 Valid RMSE: 8455.010719689655\n",
            "Epoch: 178 Train RMSE: 4566.5594197766495 Valid RMSE: 8444.185950072395\n",
            "Epoch: 179 Train RMSE: 4563.404866181797 Valid RMSE: 8433.364128990555\n",
            "Epoch: 180 Train RMSE: 4560.2865553353195 Valid RMSE: 8422.544470245073\n",
            "Epoch: 181 Train RMSE: 4557.203499887755 Valid RMSE: 8411.799703572751\n",
            "Epoch: 182 Train RMSE: 4554.1547396630895 Valid RMSE: 8401.100688984583\n",
            "Epoch: 183 Train RMSE: 4551.13934114953 Valid RMSE: 8390.431446387152\n",
            "Epoch: 184 Train RMSE: 4548.156396993951 Valid RMSE: 8379.775395813156\n",
            "Epoch: 185 Train RMSE: 4545.2050254911 Valid RMSE: 8369.163490901554\n",
            "Epoch: 186 Train RMSE: 4542.284370080357 Valid RMSE: 8358.626686638494\n",
            "Epoch: 187 Train RMSE: 4539.393598832695 Valid RMSE: 8348.144058118654\n",
            "Epoch: 188 Train RMSE: 4536.531903952803 Valid RMSE: 8337.656491725966\n",
            "Epoch: 189 Train RMSE: 4533.698501262012 Valid RMSE: 8327.197204559056\n",
            "Epoch: 190 Train RMSE: 4530.892629711328 Valid RMSE: 8316.773309955011\n",
            "Epoch: 191 Train RMSE: 4528.113550855635 Valid RMSE: 8306.398601980114\n",
            "Epoch: 192 Train RMSE: 4525.36054838787 Valid RMSE: 8295.994627003318\n",
            "Epoch: 193 Train RMSE: 4522.632927593409 Valid RMSE: 8285.594361044043\n",
            "Epoch: 194 Train RMSE: 4519.930014925143 Valid RMSE: 8275.23932309957\n",
            "Epoch: 195 Train RMSE: 4517.251157413167 Valid RMSE: 8264.91729975729\n",
            "Epoch: 196 Train RMSE: 4514.595722320712 Valid RMSE: 8254.65844625918\n",
            "Epoch: 197 Train RMSE: 4511.963096454618 Valid RMSE: 8244.448272281403\n",
            "Epoch: 198 Train RMSE: 4509.352685985451 Valid RMSE: 8234.270104021236\n",
            "Epoch: 199 Train RMSE: 4506.763915540326 Valid RMSE: 8224.157927726654\n",
            "Epoch: 200 Train RMSE: 4504.196228364705 Valid RMSE: 8214.081097139457\n",
            "Epoch: 201 Train RMSE: 4501.649084939991 Valid RMSE: 8204.057049852901\n",
            "Epoch: 202 Train RMSE: 4499.121963871177 Valid RMSE: 8194.058257527435\n",
            "Epoch: 203 Train RMSE: 4496.6143594661235 Valid RMSE: 8184.0520089125675\n",
            "Epoch: 204 Train RMSE: 4494.1257841918905 Valid RMSE: 8174.0610246997785\n",
            "Epoch: 205 Train RMSE: 4491.655763977293 Valid RMSE: 8164.116539062764\n",
            "Epoch: 206 Train RMSE: 4489.203844112477 Valid RMSE: 8154.219751622631\n",
            "Epoch: 207 Train RMSE: 4486.769579540041 Valid RMSE: 8144.413837268251\n",
            "Epoch: 208 Train RMSE: 4484.35254843867 Valid RMSE: 8134.616722711061\n",
            "Epoch: 209 Train RMSE: 4481.952331479938 Valid RMSE: 8124.84722623687\n",
            "Epoch: 210 Train RMSE: 4479.568542946616 Valid RMSE: 8115.0075759788\n",
            "Epoch: 211 Train RMSE: 4477.200785967447 Valid RMSE: 8105.2833381409755\n",
            "Epoch: 212 Train RMSE: 4474.8487251782235 Valid RMSE: 8095.3801551583765\n",
            "Epoch: 213 Train RMSE: 4472.511991972493 Valid RMSE: 8085.891782018129\n",
            "Epoch: 214 Train RMSE: 4470.190362814966 Valid RMSE: 8075.921358925991\n",
            "Epoch: 215 Train RMSE: 4467.883576036871 Valid RMSE: 8066.833162595547\n",
            "Epoch: 216 Train RMSE: 4465.5918159524745 Valid RMSE: 8056.521843436091\n",
            "Epoch: 217 Train RMSE: 4463.31547648005 Valid RMSE: 8048.2163965288\n",
            "Epoch: 218 Train RMSE: 4461.0567204983045 Valid RMSE: 8036.984340071524\n",
            "Epoch: 219 Train RMSE: 4458.820012801209 Valid RMSE: 8030.425935454295\n",
            "Epoch: 220 Train RMSE: 4456.618356252377 Valid RMSE: 8016.809486729852\n",
            "Epoch: 221 Train RMSE: 4454.481009211434 Valid RMSE: 8014.250783679604\n",
            "Epoch: 222 Train RMSE: 4452.4836624005 Valid RMSE: 7994.883492576741\n",
            "Epoch: 223 Train RMSE: 4450.806269020134 Valid RMSE: 8001.880855051679\n",
            "Epoch: 224 Train RMSE: 4449.897387608064 Valid RMSE: 7968.747041827971\n",
            "Epoch: 225 Train RMSE: 4450.861154822999 Valid RMSE: 8000.613721394794\n",
            "Epoch: 226 Train RMSE: 4454.881626538825 Valid RMSE: 7950.100654669777\n",
            "Epoch: 227 Train RMSE: 4433.3981849517 Valid RMSE: 7998.7046547702375\n",
            "Epoch: 228 Train RMSE: 4344.977200791762 Valid RMSE: 7890.853802362228\n",
            "Epoch: 229 Train RMSE: 4096.823741565814 Valid RMSE: 7881.826084947556\n",
            "Epoch: 230 Train RMSE: 3879.929172604181 Valid RMSE: 7676.690875083534\n",
            "Epoch: 231 Train RMSE: 3827.248641994579 Valid RMSE: 7918.383547910276\n",
            "Epoch: 232 Train RMSE: 4061.6173734340427 Valid RMSE: 7755.953565507349\n",
            "Epoch: 233 Train RMSE: 4960.964277654491 Valid RMSE: 8957.509415236176\n",
            "Epoch: 234 Train RMSE: 6366.921835454391 Valid RMSE: 7542.633225200438\n",
            "Epoch: 235 Train RMSE: 5465.000394250832 Valid RMSE: 8501.68666853357\n",
            "Epoch: 236 Train RMSE: 5615.945498170355 Valid RMSE: 7050.500390511598\n",
            "Epoch: 237 Train RMSE: 4569.136323796575 Valid RMSE: 7627.828197587717\n",
            "Epoch: 238 Train RMSE: 3971.0592577169664 Valid RMSE: 7110.075651603744\n",
            "Epoch: 239 Train RMSE: 3664.3153827407436 Valid RMSE: 7391.1757642453995\n",
            "Epoch: 240 Train RMSE: 3511.0296207500924 Valid RMSE: 7187.771740629064\n",
            "Epoch: 241 Train RMSE: 3444.6604336173896 Valid RMSE: 7319.896443620617\n",
            "Epoch: 242 Train RMSE: 3426.435397550389 Valid RMSE: 7185.316641345766\n",
            "Epoch: 243 Train RMSE: 3394.1376315285174 Valid RMSE: 7282.231806666224\n",
            "Epoch: 244 Train RMSE: 3383.0513511037475 Valid RMSE: 7184.106990911839\n",
            "Epoch: 245 Train RMSE: 3376.8060990190165 Valid RMSE: 7284.627315044394\n",
            "Epoch: 246 Train RMSE: 3372.9486670989795 Valid RMSE: 7162.751148233645\n",
            "Epoch: 247 Train RMSE: 3379.1629932297965 Valid RMSE: 7303.197808872617\n",
            "Epoch: 248 Train RMSE: 3454.264400383731 Valid RMSE: 7082.7783953476555\n",
            "Epoch: 249 Train RMSE: 3374.3089422026683 Valid RMSE: 7228.810463448997\n",
            "Epoch: 250 Train RMSE: 3355.144536898056 Valid RMSE: 7083.676566984818\n",
            "Epoch: 251 Train RMSE: 3323.0789139110857 Valid RMSE: 7194.977521613298\n",
            "Epoch: 252 Train RMSE: 3314.3188533082543 Valid RMSE: 7077.492193014148\n",
            "Epoch: 253 Train RMSE: 3320.137741242416 Valid RMSE: 7233.272880976261\n",
            "Epoch: 254 Train RMSE: 3402.1733442260393 Valid RMSE: 7008.684453294412\n",
            "Epoch: 255 Train RMSE: 3323.4203031751044 Valid RMSE: 7162.222549501099\n",
            "Epoch: 256 Train RMSE: 3307.2404056999917 Valid RMSE: 7003.932361012898\n",
            "Epoch: 257 Train RMSE: 3276.2499546886534 Valid RMSE: 7130.59975149512\n",
            "Epoch: 258 Train RMSE: 3270.399951771193 Valid RMSE: 6993.588960582949\n",
            "Epoch: 259 Train RMSE: 3296.879278725197 Valid RMSE: 7202.972512224203\n",
            "Epoch: 260 Train RMSE: 3405.1126710779627 Valid RMSE: 6922.870380959218\n",
            "Epoch: 261 Train RMSE: 3306.4703071838107 Valid RMSE: 7116.760338400746\n",
            "Epoch: 262 Train RMSE: 3290.227202585155 Valid RMSE: 6917.438661501615\n",
            "Epoch: 263 Train RMSE: 3248.4736102834704 Valid RMSE: 7076.031354395074\n",
            "Epoch: 264 Train RMSE: 3247.461866081795 Valid RMSE: 6908.945958640525\n",
            "Epoch: 265 Train RMSE: 3306.22505362806 Valid RMSE: 7204.0357651115955\n",
            "Epoch: 266 Train RMSE: 3462.6888804098617 Valid RMSE: 6836.118361363004\n",
            "Epoch: 267 Train RMSE: 3319.58437998092 Valid RMSE: 7087.250062040508\n",
            "Epoch: 268 Train RMSE: 3297.209896777688 Valid RMSE: 6833.699907991702\n",
            "Epoch: 269 Train RMSE: 3234.2272907269307 Valid RMSE: 7030.810588294092\n",
            "Epoch: 270 Train RMSE: 3235.2821844811438 Valid RMSE: 6817.792976090572\n",
            "Epoch: 271 Train RMSE: 3200.106398233046 Valid RMSE: 7001.767770165772\n",
            "Epoch: 272 Train RMSE: 3207.703089640079 Valid RMSE: 6811.383968044217\n",
            "Epoch: 273 Train RMSE: 3309.45400381198 Valid RMSE: 7197.241797395529\n",
            "Epoch: 274 Train RMSE: 3527.170404870014 Valid RMSE: 6736.268445368005\n",
            "Epoch: 275 Train RMSE: 3337.9258994708675 Valid RMSE: 7052.1425261316945\n",
            "Epoch: 276 Train RMSE: 3312.67827990069 Valid RMSE: 6732.5557617979985\n",
            "Epoch: 277 Train RMSE: 3222.314321608784 Valid RMSE: 6978.789383921663\n",
            "Epoch: 278 Train RMSE: 3223.5444889657465 Valid RMSE: 6720.211596123878\n",
            "Epoch: 279 Train RMSE: 3173.2984817341976 Valid RMSE: 6940.964454109132\n",
            "Epoch: 280 Train RMSE: 3188.308671023745 Valid RMSE: 6701.126642485024\n",
            "Epoch: 281 Train RMSE: 3162.0965327536414 Valid RMSE: 7003.819938557274\n",
            "Epoch: 282 Train RMSE: 3311.5928825141373 Valid RMSE: 6663.843539049085\n",
            "Epoch: 283 Train RMSE: 3169.877054667627 Valid RMSE: 6888.879621252831\n",
            "Epoch: 284 Train RMSE: 3149.1987472863984 Valid RMSE: 6659.9743397693155\n",
            "Epoch: 285 Train RMSE: 3106.2716291936754 Valid RMSE: 6855.809837145867\n",
            "Epoch: 286 Train RMSE: 3115.594317659063 Valid RMSE: 6656.598571549617\n",
            "Epoch: 287 Train RMSE: 3260.1038161101856 Valid RMSE: 7133.275024483815\n",
            "Epoch: 288 Train RMSE: 3544.9763360221305 Valid RMSE: 6588.069332910372\n",
            "Epoch: 289 Train RMSE: 3325.410506842911 Valid RMSE: 6977.820600615167\n",
            "Epoch: 290 Train RMSE: 3308.6275192510457 Valid RMSE: 6580.984269441092\n",
            "Epoch: 291 Train RMSE: 3192.073577592297 Valid RMSE: 6891.640970511455\n",
            "Epoch: 292 Train RMSE: 3200.753781433214 Valid RMSE: 6570.04610253322\n",
            "Epoch: 293 Train RMSE: 3147.9973512837687 Valid RMSE: 6969.16362127652\n",
            "Epoch: 294 Train RMSE: 3343.1052863692166 Valid RMSE: 6540.103580176175\n",
            "Epoch: 295 Train RMSE: 3145.1012811041123 Valid RMSE: 6809.498519559278\n",
            "Epoch: 296 Train RMSE: 3114.143468848757 Valid RMSE: 6540.218974560009\n",
            "Epoch: 297 Train RMSE: 3065.767642459994 Valid RMSE: 6874.364859003054\n",
            "Epoch: 298 Train RMSE: 3223.3696741271115 Valid RMSE: 6513.029348470882\n",
            "Epoch: 299 Train RMSE: 3075.2568795919947 Valid RMSE: 6747.648150280477\n"
          ]
        }
      ]
    },
    {
      "cell_type": "code",
      "source": [
        "y_pred =  net_4.predict(meta_X_val_formatted_selected)\n",
        "model_4_result = np.sqrt(mean_squared_error(y_val_formatted, y_pred))\n",
        "model_4_result"
      ],
      "metadata": {
        "colab": {
          "base_uri": "https://localhost:8080/"
        },
        "outputId": "36f6816b-1e57-44e3-cc44-5f97e4a9aa47",
        "id": "fm9nVAbuNwWk"
      },
      "execution_count": null,
      "outputs": [
        {
          "output_type": "execute_result",
          "data": {
            "text/plain": [
              "7986.982172240964"
            ]
          },
          "metadata": {},
          "execution_count": 56
        }
      ]
    },
    {
      "cell_type": "markdown",
      "source": [
        "Quite an improvement"
      ],
      "metadata": {
        "id": "ih1jIgbeOole"
      }
    },
    {
      "cell_type": "markdown",
      "source": [
        "Compare to the original blending algorithm"
      ],
      "metadata": {
        "id": "Pe5gthAqVIsX"
      }
    },
    {
      "cell_type": "code",
      "source": [
        "bl_selected = Blending()\n",
        "bl_selected.fit(X_train, y_train, models_selected)"
      ],
      "metadata": {
        "colab": {
          "base_uri": "https://localhost:8080/",
          "height": 75
        },
        "outputId": "c1ce103a-51ae-4911-de52-8011ad1f1dda",
        "id": "C1NIDjCAVIso"
      },
      "execution_count": null,
      "outputs": [
        {
          "output_type": "execute_result",
          "data": {
            "text/plain": [
              "Blending()"
            ],
            "text/html": [
              "<style>#sk-container-id-3 {color: black;background-color: white;}#sk-container-id-3 pre{padding: 0;}#sk-container-id-3 div.sk-toggleable {background-color: white;}#sk-container-id-3 label.sk-toggleable__label {cursor: pointer;display: block;width: 100%;margin-bottom: 0;padding: 0.3em;box-sizing: border-box;text-align: center;}#sk-container-id-3 label.sk-toggleable__label-arrow:before {content: \"▸\";float: left;margin-right: 0.25em;color: #696969;}#sk-container-id-3 label.sk-toggleable__label-arrow:hover:before {color: black;}#sk-container-id-3 div.sk-estimator:hover label.sk-toggleable__label-arrow:before {color: black;}#sk-container-id-3 div.sk-toggleable__content {max-height: 0;max-width: 0;overflow: hidden;text-align: left;background-color: #f0f8ff;}#sk-container-id-3 div.sk-toggleable__content pre {margin: 0.2em;color: black;border-radius: 0.25em;background-color: #f0f8ff;}#sk-container-id-3 input.sk-toggleable__control:checked~div.sk-toggleable__content {max-height: 200px;max-width: 100%;overflow: auto;}#sk-container-id-3 input.sk-toggleable__control:checked~label.sk-toggleable__label-arrow:before {content: \"▾\";}#sk-container-id-3 div.sk-estimator input.sk-toggleable__control:checked~label.sk-toggleable__label {background-color: #d4ebff;}#sk-container-id-3 div.sk-label input.sk-toggleable__control:checked~label.sk-toggleable__label {background-color: #d4ebff;}#sk-container-id-3 input.sk-hidden--visually {border: 0;clip: rect(1px 1px 1px 1px);clip: rect(1px, 1px, 1px, 1px);height: 1px;margin: -1px;overflow: hidden;padding: 0;position: absolute;width: 1px;}#sk-container-id-3 div.sk-estimator {font-family: monospace;background-color: #f0f8ff;border: 1px dotted black;border-radius: 0.25em;box-sizing: border-box;margin-bottom: 0.5em;}#sk-container-id-3 div.sk-estimator:hover {background-color: #d4ebff;}#sk-container-id-3 div.sk-parallel-item::after {content: \"\";width: 100%;border-bottom: 1px solid gray;flex-grow: 1;}#sk-container-id-3 div.sk-label:hover label.sk-toggleable__label {background-color: #d4ebff;}#sk-container-id-3 div.sk-serial::before {content: \"\";position: absolute;border-left: 1px solid gray;box-sizing: border-box;top: 0;bottom: 0;left: 50%;z-index: 0;}#sk-container-id-3 div.sk-serial {display: flex;flex-direction: column;align-items: center;background-color: white;padding-right: 0.2em;padding-left: 0.2em;position: relative;}#sk-container-id-3 div.sk-item {position: relative;z-index: 1;}#sk-container-id-3 div.sk-parallel {display: flex;align-items: stretch;justify-content: center;background-color: white;position: relative;}#sk-container-id-3 div.sk-item::before, #sk-container-id-3 div.sk-parallel-item::before {content: \"\";position: absolute;border-left: 1px solid gray;box-sizing: border-box;top: 0;bottom: 0;left: 50%;z-index: -1;}#sk-container-id-3 div.sk-parallel-item {display: flex;flex-direction: column;z-index: 1;position: relative;background-color: white;}#sk-container-id-3 div.sk-parallel-item:first-child::after {align-self: flex-end;width: 50%;}#sk-container-id-3 div.sk-parallel-item:last-child::after {align-self: flex-start;width: 50%;}#sk-container-id-3 div.sk-parallel-item:only-child::after {width: 0;}#sk-container-id-3 div.sk-dashed-wrapped {border: 1px dashed gray;margin: 0 0.4em 0.5em 0.4em;box-sizing: border-box;padding-bottom: 0.4em;background-color: white;}#sk-container-id-3 div.sk-label label {font-family: monospace;font-weight: bold;display: inline-block;line-height: 1.2em;}#sk-container-id-3 div.sk-label-container {text-align: center;}#sk-container-id-3 div.sk-container {/* jupyter's `normalize.less` sets `[hidden] { display: none; }` but bootstrap.min.css set `[hidden] { display: none !important; }` so we also need the `!important` here to be able to override the default hidden behavior on the sphinx rendered scikit-learn.org. See: https://github.com/scikit-learn/scikit-learn/issues/21755 */display: inline-block !important;position: relative;}#sk-container-id-3 div.sk-text-repr-fallback {display: none;}</style><div id=\"sk-container-id-3\" class=\"sk-top-container\"><div class=\"sk-text-repr-fallback\"><pre>Blending()</pre><b>In a Jupyter environment, please rerun this cell to show the HTML representation or trust the notebook. <br />On GitHub, the HTML representation is unable to render, please try loading this page with nbviewer.org.</b></div><div class=\"sk-container\" hidden><div class=\"sk-item\"><div class=\"sk-estimator sk-toggleable\"><input class=\"sk-toggleable__control sk-hidden--visually\" id=\"sk-estimator-id-3\" type=\"checkbox\" checked><label for=\"sk-estimator-id-3\" class=\"sk-toggleable__label sk-toggleable__label-arrow\">Blending</label><div class=\"sk-toggleable__content\"><pre>Blending()</pre></div></div></div></div></div>"
            ]
          },
          "metadata": {},
          "execution_count": 57
        }
      ]
    },
    {
      "cell_type": "code",
      "execution_count": null,
      "metadata": {
        "outputId": "3d3101f0-63ae-45c5-856c-8d0a1a9885fe",
        "colab": {
          "base_uri": "https://localhost:8080/"
        },
        "id": "umxjzCZqVIsp"
      },
      "outputs": [
        {
          "output_type": "stream",
          "name": "stdout",
          "text": [
            "[[10045.29924924  3308.6         2897.855       1374.21789551\n",
            "  14622.84481627]\n",
            " [13651.45684988  9300.6        11154.67       12923.21582031\n",
            "  13299.24810606]\n",
            " [12821.40512465 12042.6        11748.49        9467.56835938\n",
            "  13035.13953488]\n",
            " ...\n",
            " [29869.86970095 16184.8        16607.02       13305.36328125\n",
            "  20233.67237988]\n",
            " [18980.24544271  8430.8        12841.60333333 10726.0859375\n",
            "  20233.67237988]\n",
            " [ 6451.86364811 16222.2        17089.73       16155.21582031\n",
            "  20868.29094352]]\n",
            "Blending RMSE:  5180.009019167276\n"
          ]
        }
      ],
      "source": [
        "y_pred = bl_selected.predict(X_val)\n",
        "bl_selected_score = np.sqrt(mean_squared_error(y_val, y_pred))\n",
        "print('Blending RMSE: ', bl_selected_score)"
      ]
    },
    {
      "cell_type": "markdown",
      "source": [
        "#### Model 5: Model 3 but with 4 models as the base layer"
      ],
      "metadata": {
        "id": "P1DSVJqDOxhU"
      }
    },
    {
      "cell_type": "code",
      "source": [
        "models_selected_2"
      ],
      "metadata": {
        "colab": {
          "base_uri": "https://localhost:8080/"
        },
        "id": "bRGgMXwgOxhd",
        "outputId": "50dee3ac-bade-4703-e8cc-a1dd6cedd9d7"
      },
      "execution_count": null,
      "outputs": [
        {
          "output_type": "execute_result",
          "data": {
            "text/plain": [
              "[('lr', LinearRegression()),\n",
              " ('knn', KNeighborsRegressor()),\n",
              " ('rfr', RandomForestRegressor()),\n",
              " ('xgb',\n",
              "  XGBRegressor(base_score=None, booster=None, callbacks=None,\n",
              "               colsample_bylevel=None, colsample_bynode=None,\n",
              "               colsample_bytree=None, device=None, early_stopping_rounds=None,\n",
              "               enable_categorical=False, eval_metric=None, feature_types=None,\n",
              "               gamma=None, grow_policy=None, importance_type=None,\n",
              "               interaction_constraints=None, learning_rate=None, max_bin=None,\n",
              "               max_cat_threshold=None, max_cat_to_onehot=None,\n",
              "               max_delta_step=None, max_depth=None, max_leaves=None,\n",
              "               min_child_weight=None, missing=nan, monotone_constraints=None,\n",
              "               multi_strategy=None, n_estimators=None, n_jobs=None,\n",
              "               num_parallel_tree=None, random_state=None, ...))]"
            ]
          },
          "metadata": {},
          "execution_count": 59
        }
      ]
    },
    {
      "cell_type": "code",
      "source": [
        "layer_structure = [4,4,1]\n",
        "net_5 = Network(layer_structure, 300, 1e-6, 16)\n",
        "net_5.fit(meta_X_train_formatted_selected_2, y_train_formatted)"
      ],
      "metadata": {
        "colab": {
          "base_uri": "https://localhost:8080/"
        },
        "outputId": "8439a0db-27a4-43cc-decf-18247a9252ce",
        "id": "yQK-nEuhOxhd"
      },
      "execution_count": null,
      "outputs": [
        {
          "output_type": "stream",
          "name": "stdout",
          "text": [
            "Epoch: 0 Train RMSE: 17451.305548159442 Valid RMSE: 18159.8347606152\n",
            "Epoch: 1 Train RMSE: 17450.358701095716 Valid RMSE: 18158.444434460253\n",
            "Epoch: 2 Train RMSE: 17448.740597003038 Valid RMSE: 18155.781040996364\n",
            "Epoch: 3 Train RMSE: 17445.420581562736 Valid RMSE: 18149.739921967303\n",
            "Epoch: 4 Train RMSE: 17437.58897647728 Valid RMSE: 18135.428368179095\n",
            "Epoch: 5 Train RMSE: 17418.90638238139 Valid RMSE: 18101.471076490212\n",
            "Epoch: 6 Train RMSE: 17374.265519939883 Valid RMSE: 18020.778767874595\n",
            "Epoch: 7 Train RMSE: 17267.44863516902 Valid RMSE: 17830.637433862306\n",
            "Epoch: 8 Train RMSE: 17015.15650577607 Valid RMSE: 17394.956782570054\n",
            "Epoch: 9 Train RMSE: 16436.180565213497 Valid RMSE: 16461.730478674548\n",
            "Epoch: 10 Train RMSE: 15195.792899279551 Valid RMSE: 14757.553125934823\n",
            "Epoch: 11 Train RMSE: 12945.84915481501 Valid RMSE: 12576.095627761386\n",
            "Epoch: 12 Train RMSE: 10210.28723414811 Valid RMSE: 11134.76069865719\n",
            "Epoch: 13 Train RMSE: 8813.718719359307 Valid RMSE: 10719.421170312415\n",
            "Epoch: 14 Train RMSE: 8627.46233391237 Valid RMSE: 10648.31170108602\n",
            "Epoch: 15 Train RMSE: 8607.258387490758 Valid RMSE: 10630.10422008712\n",
            "Epoch: 16 Train RMSE: 8591.882183670616 Valid RMSE: 10617.690223107918\n",
            "Epoch: 17 Train RMSE: 8576.584320135486 Valid RMSE: 10605.8294195249\n",
            "Epoch: 18 Train RMSE: 8561.284586667362 Valid RMSE: 10594.033590137187\n",
            "Epoch: 19 Train RMSE: 8545.974410132321 Valid RMSE: 10582.21374874522\n",
            "Epoch: 20 Train RMSE: 8530.647227859972 Valid RMSE: 10570.288224499396\n",
            "Epoch: 21 Train RMSE: 8515.296706200452 Valid RMSE: 10558.30988475863\n",
            "Epoch: 22 Train RMSE: 8499.916610280476 Valid RMSE: 10546.348356144907\n",
            "Epoch: 23 Train RMSE: 8484.50078543411 Valid RMSE: 10534.35070314716\n",
            "Epoch: 24 Train RMSE: 8469.043150131049 Valid RMSE: 10522.286757807507\n",
            "Epoch: 25 Train RMSE: 8453.53769067853 Valid RMSE: 10510.188440300506\n",
            "Epoch: 26 Train RMSE: 8437.978456695215 Valid RMSE: 10497.989055202223\n",
            "Epoch: 27 Train RMSE: 8422.359557253005 Valid RMSE: 10485.646859378088\n",
            "Epoch: 28 Train RMSE: 8406.675157678299 Valid RMSE: 10473.120958852058\n",
            "Epoch: 29 Train RMSE: 8390.919477017007 Valid RMSE: 10460.48687910782\n",
            "Epoch: 30 Train RMSE: 8375.086786171694 Valid RMSE: 10447.722606230533\n",
            "Epoch: 31 Train RMSE: 8359.17140672223 Valid RMSE: 10434.62062123475\n",
            "Epoch: 32 Train RMSE: 8343.167710444046 Valid RMSE: 10421.31973571006\n",
            "Epoch: 33 Train RMSE: 8327.070119540651 Valid RMSE: 10408.000361056875\n",
            "Epoch: 34 Train RMSE: 8310.87310760931 Valid RMSE: 10394.556891120297\n",
            "Epoch: 35 Train RMSE: 8294.571201360877 Valid RMSE: 10380.91544917089\n",
            "Epoch: 36 Train RMSE: 8278.158983116558 Valid RMSE: 10367.020200702585\n",
            "Epoch: 37 Train RMSE: 8261.631094105855 Valid RMSE: 10352.931991688632\n",
            "Epoch: 38 Train RMSE: 8244.98223859111 Valid RMSE: 10338.547107565193\n",
            "Epoch: 39 Train RMSE: 8228.207188844804 Valid RMSE: 10324.074999194012\n",
            "Epoch: 40 Train RMSE: 8211.300791006179 Valid RMSE: 10309.537629659486\n",
            "Epoch: 41 Train RMSE: 8194.257971843535 Valid RMSE: 10294.920094504982\n",
            "Epoch: 42 Train RMSE: 8177.073746448042 Valid RMSE: 10279.990882644348\n",
            "Epoch: 43 Train RMSE: 8159.743226883532 Valid RMSE: 10264.807756794195\n",
            "Epoch: 44 Train RMSE: 8142.261631815001 Valid RMSE: 10249.386074582324\n",
            "Epoch: 45 Train RMSE: 8124.624297135965 Valid RMSE: 10233.764994659645\n",
            "Epoch: 46 Train RMSE: 8106.826687611463 Valid RMSE: 10218.069196757166\n",
            "Epoch: 47 Train RMSE: 8088.864409549495 Valid RMSE: 10202.17472395203\n",
            "Epoch: 48 Train RMSE: 8070.733224508617 Valid RMSE: 10186.08043149313\n",
            "Epoch: 49 Train RMSE: 8052.429064043593 Valid RMSE: 10169.731012172477\n",
            "Epoch: 50 Train RMSE: 8030.360636705517 Valid RMSE: 10164.873431804053\n",
            "Epoch: 51 Train RMSE: 7983.899015461783 Valid RMSE: 10142.452409089927\n",
            "Epoch: 52 Train RMSE: 7937.393821726835 Valid RMSE: 10117.866787737823\n",
            "Epoch: 53 Train RMSE: 7890.362439055821 Valid RMSE: 10093.031230663872\n",
            "Epoch: 54 Train RMSE: 7842.801244950568 Valid RMSE: 10068.204081844651\n",
            "Epoch: 55 Train RMSE: 7794.70890930962 Valid RMSE: 10043.248744466846\n",
            "Epoch: 56 Train RMSE: 7746.087646761485 Valid RMSE: 10017.59929649085\n",
            "Epoch: 57 Train RMSE: 7696.9439906816 Valid RMSE: 9991.850145625924\n",
            "Epoch: 58 Train RMSE: 7647.289114930953 Valid RMSE: 9966.056293931666\n",
            "Epoch: 59 Train RMSE: 7597.139095659734 Valid RMSE: 9940.220665292498\n",
            "Epoch: 60 Train RMSE: 7546.515145284414 Valid RMSE: 9913.76950468193\n",
            "Epoch: 61 Train RMSE: 7495.443813760113 Valid RMSE: 9886.346977062884\n",
            "Epoch: 62 Train RMSE: 7443.957148651718 Valid RMSE: 9858.954449257759\n",
            "Epoch: 63 Train RMSE: 7389.259404800411 Valid RMSE: 9846.985532263607\n",
            "Epoch: 64 Train RMSE: 7308.124878336896 Valid RMSE: 9822.097037098083\n",
            "Epoch: 65 Train RMSE: 7221.907929847707 Valid RMSE: 9789.439981414554\n",
            "Epoch: 66 Train RMSE: 7135.928044080193 Valid RMSE: 9757.225361207964\n",
            "Epoch: 67 Train RMSE: 7050.3269177450375 Valid RMSE: 9726.321794049423\n",
            "Epoch: 68 Train RMSE: 6965.332190467072 Valid RMSE: 9696.181839568566\n",
            "Epoch: 69 Train RMSE: 6881.180725288952 Valid RMSE: 9666.893264813982\n",
            "Epoch: 70 Train RMSE: 6798.115857246075 Valid RMSE: 9638.92581724729\n",
            "Epoch: 71 Train RMSE: 6716.38310429581 Valid RMSE: 9612.394663910227\n",
            "Epoch: 72 Train RMSE: 6636.2255598364345 Valid RMSE: 9587.413289465285\n",
            "Epoch: 73 Train RMSE: 6557.879154985447 Valid RMSE: 9563.705005335574\n",
            "Epoch: 74 Train RMSE: 6481.567962287512 Valid RMSE: 9541.390317884543\n",
            "Epoch: 75 Train RMSE: 6407.499718740529 Valid RMSE: 9520.345191764354\n",
            "Epoch: 76 Train RMSE: 6335.86174198287 Valid RMSE: 9500.08946075255\n",
            "Epoch: 77 Train RMSE: 6266.817398430026 Valid RMSE: 9481.036030971982\n",
            "Epoch: 78 Train RMSE: 6200.503256881673 Valid RMSE: 9463.204697106263\n",
            "Epoch: 79 Train RMSE: 6137.027027373989 Valid RMSE: 9445.785152684\n",
            "Epoch: 80 Train RMSE: 6076.466345338747 Valid RMSE: 9429.184137018121\n",
            "Epoch: 81 Train RMSE: 6018.868418491685 Valid RMSE: 9413.303817938086\n",
            "Epoch: 82 Train RMSE: 5964.250511562186 Valid RMSE: 9398.047089899968\n",
            "Epoch: 83 Train RMSE: 5912.601205120814 Valid RMSE: 9381.84456070168\n",
            "Epoch: 84 Train RMSE: 5863.8823320394185 Valid RMSE: 9365.315086847346\n",
            "Epoch: 85 Train RMSE: 5818.031470506463 Valid RMSE: 9348.756515827863\n",
            "Epoch: 86 Train RMSE: 5774.964857135266 Valid RMSE: 9332.215921136663\n",
            "Epoch: 87 Train RMSE: 5734.580577761395 Valid RMSE: 9315.780320738208\n",
            "Epoch: 88 Train RMSE: 5696.7618964118765 Valid RMSE: 9299.716509186634\n",
            "Epoch: 89 Train RMSE: 5661.380593355976 Valid RMSE: 9283.65776415323\n",
            "Epoch: 90 Train RMSE: 5628.300199373722 Valid RMSE: 9267.920791748362\n",
            "Epoch: 91 Train RMSE: 5597.379033447647 Valid RMSE: 9252.664919258006\n",
            "Epoch: 92 Train RMSE: 5568.47297304781 Valid RMSE: 9237.62544792331\n",
            "Epoch: 93 Train RMSE: 5541.437908283792 Valid RMSE: 9222.804520744763\n",
            "Epoch: 94 Train RMSE: 5516.131852002505 Valid RMSE: 9208.240583862604\n",
            "Epoch: 95 Train RMSE: 5492.416696362587 Valid RMSE: 9193.854160610028\n",
            "Epoch: 96 Train RMSE: 5470.159621855513 Valid RMSE: 9179.385969811583\n",
            "Epoch: 97 Train RMSE: 5449.234176872741 Valid RMSE: 9164.791338409535\n",
            "Epoch: 98 Train RMSE: 5429.521054741348 Valid RMSE: 9150.1505441448\n",
            "Epoch: 99 Train RMSE: 5410.908600899428 Valid RMSE: 9135.389386178382\n",
            "Epoch: 100 Train RMSE: 5393.293085938969 Valid RMSE: 9120.597041248806\n",
            "Epoch: 101 Train RMSE: 5376.57878107206 Valid RMSE: 9105.761066905663\n",
            "Epoch: 102 Train RMSE: 5360.67787166417 Valid RMSE: 9090.86600875754\n",
            "Epoch: 103 Train RMSE: 5345.5102422954715 Valid RMSE: 9075.922005479697\n",
            "Epoch: 104 Train RMSE: 5331.003163780547 Valid RMSE: 9060.94783951206\n",
            "Epoch: 105 Train RMSE: 5317.090909057422 Valid RMSE: 9045.871682125258\n",
            "Epoch: 106 Train RMSE: 5303.71432113851 Valid RMSE: 9030.65145276607\n",
            "Epoch: 107 Train RMSE: 5290.820352620381 Valid RMSE: 9015.20888324505\n",
            "Epoch: 108 Train RMSE: 5278.3615927349465 Valid RMSE: 8999.546755400768\n",
            "Epoch: 109 Train RMSE: 5266.29579469717 Valid RMSE: 8983.81796416852\n",
            "Epoch: 110 Train RMSE: 5254.585413224516 Valid RMSE: 8967.998200331054\n",
            "Epoch: 111 Train RMSE: 5243.197159598047 Valid RMSE: 8952.103957524643\n",
            "Epoch: 112 Train RMSE: 5232.101579505111 Valid RMSE: 8936.164293359774\n",
            "Epoch: 113 Train RMSE: 5221.272657132368 Valid RMSE: 8920.152793214478\n",
            "Epoch: 114 Train RMSE: 5210.687447537079 Valid RMSE: 8904.051641809374\n",
            "Epoch: 115 Train RMSE: 5200.325738179229 Valid RMSE: 8887.8543549255\n",
            "Epoch: 116 Train RMSE: 5190.16973960958 Valid RMSE: 8871.638347041135\n",
            "Epoch: 117 Train RMSE: 5180.203804641369 Valid RMSE: 8855.384617092093\n",
            "Epoch: 118 Train RMSE: 5170.414174850269 Valid RMSE: 8839.124874830584\n",
            "Epoch: 119 Train RMSE: 5160.788752915194 Valid RMSE: 8822.876790972312\n",
            "Epoch: 120 Train RMSE: 5151.316899102363 Valid RMSE: 8806.635755915337\n",
            "Epoch: 121 Train RMSE: 5141.989250080728 Valid RMSE: 8790.32104088556\n",
            "Epoch: 122 Train RMSE: 5132.797558216836 Valid RMSE: 8773.942555221904\n",
            "Epoch: 123 Train RMSE: 5123.734549512702 Valid RMSE: 8757.550839587358\n",
            "Epoch: 124 Train RMSE: 5114.793798406441 Valid RMSE: 8741.203062705596\n",
            "Epoch: 125 Train RMSE: 5105.9696177397955 Valid RMSE: 8724.85148165681\n",
            "Epoch: 126 Train RMSE: 5097.256962299627 Valid RMSE: 8708.476389005431\n",
            "Epoch: 127 Train RMSE: 5088.651344454165 Valid RMSE: 8692.14530039952\n",
            "Epoch: 128 Train RMSE: 5080.148760523616 Valid RMSE: 8675.858397167205\n",
            "Epoch: 129 Train RMSE: 5071.745626644017 Valid RMSE: 8659.60634709872\n",
            "Epoch: 130 Train RMSE: 5063.438723000013 Valid RMSE: 8643.226639499333\n",
            "Epoch: 131 Train RMSE: 5055.225145414101 Valid RMSE: 8626.82786970972\n",
            "Epoch: 132 Train RMSE: 5047.102263385425 Valid RMSE: 8610.496446904366\n",
            "Epoch: 133 Train RMSE: 5039.067683769564 Valid RMSE: 8594.096996261269\n",
            "Epoch: 134 Train RMSE: 5031.119219381307 Valid RMSE: 8577.701733723154\n",
            "Epoch: 135 Train RMSE: 5023.254861885251 Valid RMSE: 8561.308968154875\n",
            "Epoch: 136 Train RMSE: 5015.472758414105 Valid RMSE: 8544.967750138401\n",
            "Epoch: 137 Train RMSE: 5007.771191422238 Valid RMSE: 8528.635677135162\n",
            "Epoch: 138 Train RMSE: 5000.14856134267 Valid RMSE: 8512.384837810205\n",
            "Epoch: 139 Train RMSE: 4992.603371669746 Valid RMSE: 8496.20196102765\n",
            "Epoch: 140 Train RMSE: 4985.134216137758 Valid RMSE: 8479.97077949678\n",
            "Epoch: 141 Train RMSE: 4977.739767708308 Valid RMSE: 8463.691809360585\n",
            "Epoch: 142 Train RMSE: 4970.418769116614 Valid RMSE: 8447.4217337658\n",
            "Epoch: 143 Train RMSE: 4963.170024759961 Valid RMSE: 8431.1894458961\n",
            "Epoch: 144 Train RMSE: 4955.992393740316 Valid RMSE: 8414.954538666432\n",
            "Epoch: 145 Train RMSE: 4948.88478389848 Valid RMSE: 8398.593947716745\n",
            "Epoch: 146 Train RMSE: 4941.846146699122 Valid RMSE: 8382.21746735343\n",
            "Epoch: 147 Train RMSE: 4934.875472845291 Valid RMSE: 8365.877324475294\n",
            "Epoch: 148 Train RMSE: 4927.9717885177215 Valid RMSE: 8349.589390704956\n",
            "Epoch: 149 Train RMSE: 4921.134152148706 Valid RMSE: 8333.41457455698\n",
            "Epoch: 150 Train RMSE: 4914.361651652936 Valid RMSE: 8317.227720101622\n",
            "Epoch: 151 Train RMSE: 4907.6534020485615 Valid RMSE: 8301.039826650254\n",
            "Epoch: 152 Train RMSE: 4901.008543411119 Valid RMSE: 8284.868753995223\n",
            "Epoch: 153 Train RMSE: 4894.426239111163 Valid RMSE: 8268.71115418145\n",
            "Epoch: 154 Train RMSE: 4887.9056742934 Valid RMSE: 8252.627461786482\n",
            "Epoch: 155 Train RMSE: 4881.446054561151 Valid RMSE: 8236.562785704076\n",
            "Epoch: 156 Train RMSE: 4875.046604835253 Valid RMSE: 8220.21682340115\n",
            "Epoch: 157 Train RMSE: 4868.706568360897 Valid RMSE: 8203.752944925116\n",
            "Epoch: 158 Train RMSE: 4862.425205839817 Valid RMSE: 8187.253531814498\n",
            "Epoch: 159 Train RMSE: 4856.201794668512 Valid RMSE: 8170.705082417468\n",
            "Epoch: 160 Train RMSE: 4850.035628266048 Valid RMSE: 8154.240512203763\n",
            "Epoch: 161 Train RMSE: 4843.9260154774065 Valid RMSE: 8137.895502067642\n",
            "Epoch: 162 Train RMSE: 4837.872280040451 Valid RMSE: 8121.657683127499\n",
            "Epoch: 163 Train RMSE: 4831.873760106355 Valid RMSE: 8105.472395585439\n",
            "Epoch: 164 Train RMSE: 4825.929807804891 Valid RMSE: 8089.377138316541\n",
            "Epoch: 165 Train RMSE: 4820.039788847268 Valid RMSE: 8073.383635909271\n",
            "Epoch: 166 Train RMSE: 4814.203082160347 Valid RMSE: 8057.46414551606\n",
            "Epoch: 167 Train RMSE: 4808.419079547017 Valid RMSE: 8041.583267369507\n",
            "Epoch: 168 Train RMSE: 4802.687185368333 Valid RMSE: 8025.747923114118\n",
            "Epoch: 169 Train RMSE: 4797.006816243715 Valid RMSE: 8009.8994431329065\n",
            "Epoch: 170 Train RMSE: 4791.377400766109 Valid RMSE: 7994.023121884751\n",
            "Epoch: 171 Train RMSE: 4785.798379229529 Valid RMSE: 7978.138742931848\n",
            "Epoch: 172 Train RMSE: 4780.269203366814 Valid RMSE: 7962.066083842895\n",
            "Epoch: 173 Train RMSE: 4774.7893360958 Valid RMSE: 7945.807402026186\n",
            "Epoch: 174 Train RMSE: 4769.358251272468 Valid RMSE: 7929.573278863127\n",
            "Epoch: 175 Train RMSE: 4763.975433449829 Valid RMSE: 7913.3838091339885\n",
            "Epoch: 176 Train RMSE: 4758.640377641573 Valid RMSE: 7897.269575949519\n",
            "Epoch: 177 Train RMSE: 4753.352589089703 Valid RMSE: 7881.275804488987\n",
            "Epoch: 178 Train RMSE: 4748.111583035508 Valid RMSE: 7865.336675595488\n",
            "Epoch: 179 Train RMSE: 4742.916884493403 Valid RMSE: 7849.46972379039\n",
            "Epoch: 180 Train RMSE: 4737.768028027233 Valid RMSE: 7833.694399249093\n",
            "Epoch: 181 Train RMSE: 4732.664557528784 Valid RMSE: 7818.016540424888\n",
            "Epoch: 182 Train RMSE: 4727.606025998287 Valid RMSE: 7802.366316640627\n",
            "Epoch: 183 Train RMSE: 4722.5919953267685 Valid RMSE: 7786.81760098654\n",
            "Epoch: 184 Train RMSE: 4717.6220360802 Valid RMSE: 7771.267469096009\n",
            "Epoch: 185 Train RMSE: 4712.695727285372 Valid RMSE: 7755.7611300637645\n",
            "Epoch: 186 Train RMSE: 4707.812656217525 Valid RMSE: 7740.315395035205\n",
            "Epoch: 187 Train RMSE: 4702.97241818975 Valid RMSE: 7724.978358943873\n",
            "Epoch: 188 Train RMSE: 4698.174616344224 Valid RMSE: 7709.7418406884835\n",
            "Epoch: 189 Train RMSE: 4693.418861445347 Valid RMSE: 7694.618966556198\n",
            "Epoch: 190 Train RMSE: 4688.704771674874 Valid RMSE: 7679.588024111538\n",
            "Epoch: 191 Train RMSE: 4684.0319724291285 Valid RMSE: 7664.64286339002\n",
            "Epoch: 192 Train RMSE: 4679.400096118423 Valid RMSE: 7649.792229484584\n",
            "Epoch: 193 Train RMSE: 4674.8087819687635 Valid RMSE: 7635.027273344382\n",
            "Epoch: 194 Train RMSE: 4670.257675825983 Valid RMSE: 7620.277106977762\n",
            "Epoch: 195 Train RMSE: 4665.652911684916 Valid RMSE: 7622.542640105011\n",
            "Epoch: 196 Train RMSE: 4627.115427088479 Valid RMSE: 7586.705998866273\n",
            "Epoch: 197 Train RMSE: 4543.811893947264 Valid RMSE: 7545.999009162815\n",
            "Epoch: 198 Train RMSE: 4366.995324067862 Valid RMSE: 7427.999455549848\n",
            "Epoch: 199 Train RMSE: 4198.710900731301 Valid RMSE: 7367.076966591873\n",
            "Epoch: 200 Train RMSE: 4067.954655668727 Valid RMSE: 7252.860286713529\n",
            "Epoch: 201 Train RMSE: 3966.8457709970826 Valid RMSE: 7209.933290675743\n",
            "Epoch: 202 Train RMSE: 3868.7081921303143 Valid RMSE: 7098.771349098382\n",
            "Epoch: 203 Train RMSE: 3768.4547498820425 Valid RMSE: 7041.303809310294\n",
            "Epoch: 204 Train RMSE: 3700.01910287453 Valid RMSE: 6963.464557182133\n",
            "Epoch: 205 Train RMSE: 3668.1393920795044 Valid RMSE: 6950.937347038208\n",
            "Epoch: 206 Train RMSE: 3646.2199821216163 Valid RMSE: 6901.608594892691\n",
            "Epoch: 207 Train RMSE: 3630.487210834167 Valid RMSE: 6895.2309026819685\n",
            "Epoch: 208 Train RMSE: 3616.7145613659745 Valid RMSE: 6862.977568358881\n",
            "Epoch: 209 Train RMSE: 3604.0010978391815 Valid RMSE: 6850.262025838802\n",
            "Epoch: 210 Train RMSE: 3591.9022826411833 Valid RMSE: 6826.289013712189\n",
            "Epoch: 211 Train RMSE: 3580.177746537284 Valid RMSE: 6811.187002835954\n",
            "Epoch: 212 Train RMSE: 3568.7079839099792 Valid RMSE: 6791.067013206889\n",
            "Epoch: 213 Train RMSE: 3557.4251373092425 Valid RMSE: 6775.069095142245\n",
            "Epoch: 214 Train RMSE: 3546.2946958590455 Valid RMSE: 6756.809922161932\n",
            "Epoch: 215 Train RMSE: 3535.2952927935776 Valid RMSE: 6740.377708691848\n",
            "Epoch: 216 Train RMSE: 3524.4153601731828 Valid RMSE: 6722.849599090739\n",
            "Epoch: 217 Train RMSE: 3513.646812636959 Valid RMSE: 6706.340492476009\n",
            "Epoch: 218 Train RMSE: 3502.9847705285842 Valid RMSE: 6689.44744784182\n",
            "Epoch: 219 Train RMSE: 3492.425412873831 Valid RMSE: 6672.952319482928\n",
            "Epoch: 220 Train RMSE: 3481.96614986582 Valid RMSE: 6656.143822583912\n",
            "Epoch: 221 Train RMSE: 3471.6048182283807 Valid RMSE: 6639.5163801512335\n",
            "Epoch: 222 Train RMSE: 3461.339822488532 Valid RMSE: 6622.896097832744\n",
            "Epoch: 223 Train RMSE: 3451.1698006568854 Valid RMSE: 6606.51769534689\n",
            "Epoch: 224 Train RMSE: 3441.0936954393137 Valid RMSE: 6590.221731826276\n",
            "Epoch: 225 Train RMSE: 3431.1106010228855 Valid RMSE: 6574.188874719363\n",
            "Epoch: 226 Train RMSE: 3421.2197910243976 Valid RMSE: 6558.349927931203\n",
            "Epoch: 227 Train RMSE: 3411.420641981214 Valid RMSE: 6542.745319860635\n",
            "Epoch: 228 Train RMSE: 3401.712640616239 Valid RMSE: 6527.292604358108\n",
            "Epoch: 229 Train RMSE: 3392.0953427916634 Valid RMSE: 6511.994003547885\n",
            "Epoch: 230 Train RMSE: 3382.568372400912 Valid RMSE: 6496.8316016949\n",
            "Epoch: 231 Train RMSE: 3373.1313980184314 Valid RMSE: 6481.75833617387\n",
            "Epoch: 232 Train RMSE: 3363.7841291433715 Valid RMSE: 6466.775763381971\n",
            "Epoch: 233 Train RMSE: 3354.5263022746235 Valid RMSE: 6451.950768809171\n",
            "Epoch: 234 Train RMSE: 3345.357676876969 Valid RMSE: 6437.283321908019\n",
            "Epoch: 235 Train RMSE: 3336.278026763014 Valid RMSE: 6422.708390946389\n",
            "Epoch: 236 Train RMSE: 3327.287136617261 Valid RMSE: 6408.172657844671\n",
            "Epoch: 237 Train RMSE: 3318.3847965104615 Valid RMSE: 6393.606465206598\n",
            "Epoch: 238 Train RMSE: 3309.5707991706518 Valid RMSE: 6379.0288217089255\n",
            "Epoch: 239 Train RMSE: 3300.8449364212474 Valid RMSE: 6364.6121956744855\n",
            "Epoch: 240 Train RMSE: 3292.206997145006 Valid RMSE: 6350.329897541083\n",
            "Epoch: 241 Train RMSE: 3283.656764943212 Valid RMSE: 6336.183675162055\n",
            "Epoch: 242 Train RMSE: 3275.194016667659 Valid RMSE: 6322.1553551373345\n",
            "Epoch: 243 Train RMSE: 3266.818520876512 Valid RMSE: 6308.230435339574\n",
            "Epoch: 244 Train RMSE: 3258.530036806287 Valid RMSE: 6294.448435461017\n",
            "Epoch: 245 Train RMSE: 3250.3283133597834 Valid RMSE: 6280.795817300344\n",
            "Epoch: 246 Train RMSE: 3242.158406394177 Valid RMSE: 6265.51877842458\n",
            "Epoch: 247 Train RMSE: 3233.474725227802 Valid RMSE: 6255.946039507899\n",
            "Epoch: 248 Train RMSE: 3225.029266871935 Valid RMSE: 6240.09034569857\n",
            "Epoch: 249 Train RMSE: 3216.720683387468 Valid RMSE: 6230.1559259688\n",
            "Epoch: 250 Train RMSE: 3208.5084780167886 Valid RMSE: 6214.32448026566\n",
            "Epoch: 251 Train RMSE: 3200.3757118250296 Valid RMSE: 6204.442216267981\n",
            "Epoch: 252 Train RMSE: 3192.3162537217563 Valid RMSE: 6188.946135889934\n",
            "Epoch: 253 Train RMSE: 3184.3269259523468 Valid RMSE: 6179.22043997449\n",
            "Epoch: 254 Train RMSE: 3176.4071800992583 Valid RMSE: 6163.919276439045\n",
            "Epoch: 255 Train RMSE: 3168.556051431608 Valid RMSE: 6154.373802023184\n",
            "Epoch: 256 Train RMSE: 3160.773876851605 Valid RMSE: 6139.276022605073\n",
            "Epoch: 257 Train RMSE: 3153.060046741055 Valid RMSE: 6130.110732507487\n",
            "Epoch: 258 Train RMSE: 3145.4150262062535 Valid RMSE: 6115.222102039929\n",
            "Epoch: 259 Train RMSE: 3137.838262428684 Valid RMSE: 6106.3543097585225\n",
            "Epoch: 260 Train RMSE: 3130.990603488617 Valid RMSE: 6105.561963618714\n",
            "Epoch: 261 Train RMSE: 3126.56192222325 Valid RMSE: 6069.070293821677\n",
            "Epoch: 262 Train RMSE: 3118.3936254111636 Valid RMSE: 6084.828442365808\n",
            "Epoch: 263 Train RMSE: 3110.8405465236483 Valid RMSE: 6046.609206543854\n",
            "Epoch: 264 Train RMSE: 3108.8216045827053 Valid RMSE: 6090.827599442119\n",
            "Epoch: 265 Train RMSE: 3110.402136340725 Valid RMSE: 6003.634661371815\n",
            "Epoch: 266 Train RMSE: 3109.7524739231017 Valid RMSE: 6113.726358519741\n",
            "Epoch: 267 Train RMSE: 3125.9172549062964 Valid RMSE: 5977.221069903258\n",
            "Epoch: 268 Train RMSE: 3107.0847925986095 Valid RMSE: 6069.217439488439\n",
            "Epoch: 269 Train RMSE: 3095.835587338659 Valid RMSE: 5956.044639994524\n",
            "Epoch: 270 Train RMSE: 3103.105630849624 Valid RMSE: 6112.933307535119\n",
            "Epoch: 271 Train RMSE: 3129.925642752484 Valid RMSE: 5931.977004428105\n",
            "Epoch: 272 Train RMSE: 3102.323145387097 Valid RMSE: 6057.634096592066\n",
            "Epoch: 273 Train RMSE: 3090.712579629879 Valid RMSE: 5910.215080001216\n",
            "Epoch: 274 Train RMSE: 3109.2651432540024 Valid RMSE: 6128.20584054071\n",
            "Epoch: 275 Train RMSE: 3152.41753121527 Valid RMSE: 5890.03810208711\n",
            "Epoch: 276 Train RMSE: 3109.7145931103196 Valid RMSE: 6057.098776778082\n",
            "Epoch: 277 Train RMSE: 3093.665086161953 Valid RMSE: 5884.906632056332\n",
            "Epoch: 278 Train RMSE: 3070.328000022015 Valid RMSE: 6013.9534790522175\n",
            "Epoch: 279 Train RMSE: 3060.424611601414 Valid RMSE: 5862.062100329677\n",
            "Epoch: 280 Train RMSE: 3091.5525342207507 Valid RMSE: 6108.284345857481\n",
            "Epoch: 281 Train RMSE: 3150.438682144798 Valid RMSE: 5840.750668201121\n",
            "Epoch: 282 Train RMSE: 3102.2683497878597 Valid RMSE: 6039.223441095202\n",
            "Epoch: 283 Train RMSE: 3087.4429562679925 Valid RMSE: 5836.190784434029\n",
            "Epoch: 284 Train RMSE: 3060.7082756834147 Valid RMSE: 6055.531592340003\n",
            "Epoch: 285 Train RMSE: 3092.1799881630227 Valid RMSE: 5839.413407069826\n",
            "Epoch: 286 Train RMSE: 3048.137503829567 Valid RMSE: 5954.157011134944\n",
            "Epoch: 287 Train RMSE: 3016.3984790368104 Valid RMSE: 5814.13652649155\n",
            "Epoch: 288 Train RMSE: 3050.6745177923503 Valid RMSE: 6057.475098622603\n",
            "Epoch: 289 Train RMSE: 3115.903507750198 Valid RMSE: 5792.069545509303\n",
            "Epoch: 290 Train RMSE: 3075.160249986156 Valid RMSE: 6072.821074689185\n",
            "Epoch: 291 Train RMSE: 3117.485665099457 Valid RMSE: 5803.153581945971\n",
            "Epoch: 292 Train RMSE: 3055.010518655257 Valid RMSE: 5950.4466389745485\n",
            "Epoch: 293 Train RMSE: 3016.404190813855 Valid RMSE: 5772.1591163606245\n",
            "Epoch: 294 Train RMSE: 3072.9378062069864 Valid RMSE: 6097.414613905152\n",
            "Epoch: 295 Train RMSE: 3171.745657424367 Valid RMSE: 5758.0078048328705\n",
            "Epoch: 296 Train RMSE: 3107.734736858094 Valid RMSE: 6107.491954880813\n",
            "Epoch: 297 Train RMSE: 3162.040957433512 Valid RMSE: 5776.469668497938\n",
            "Epoch: 298 Train RMSE: 3075.6434038572825 Valid RMSE: 5959.6603787020595\n",
            "Epoch: 299 Train RMSE: 3026.6199824229816 Valid RMSE: 5757.873146474535\n"
          ]
        }
      ]
    },
    {
      "cell_type": "code",
      "source": [
        "y_pred =  net_5.predict(meta_X_val_formatted_selected_2)\n",
        "model_5_result = np.sqrt(mean_squared_error(y_val_formatted, y_pred))\n",
        "model_5_result"
      ],
      "metadata": {
        "colab": {
          "base_uri": "https://localhost:8080/"
        },
        "outputId": "e45f49c0-92ce-4d4e-b3b9-4fc9bfef35a7",
        "id": "sRemzKdKOxhe"
      },
      "execution_count": null,
      "outputs": [
        {
          "output_type": "execute_result",
          "data": {
            "text/plain": [
              "7039.019883184005"
            ]
          },
          "metadata": {},
          "execution_count": 61
        }
      ]
    },
    {
      "cell_type": "markdown",
      "source": [
        "Not that improved"
      ],
      "metadata": {
        "id": "HFwG0ZY6NrlE"
      }
    },
    {
      "cell_type": "markdown",
      "source": [
        "Compare to the original blending algorithm"
      ],
      "metadata": {
        "id": "mPXmKl9TQgJ-"
      }
    },
    {
      "cell_type": "code",
      "source": [
        "bl_2 = Blending()\n",
        "bl_2.fit(X_train, y_train, models_selected_2)"
      ],
      "metadata": {
        "colab": {
          "base_uri": "https://localhost:8080/",
          "height": 75
        },
        "id": "Y8a8gIX3QlSr",
        "outputId": "54414744-03f2-4fbe-c4da-dc86f58d51d1"
      },
      "execution_count": null,
      "outputs": [
        {
          "output_type": "execute_result",
          "data": {
            "text/plain": [
              "Blending()"
            ],
            "text/html": [
              "<style>#sk-container-id-4 {color: black;background-color: white;}#sk-container-id-4 pre{padding: 0;}#sk-container-id-4 div.sk-toggleable {background-color: white;}#sk-container-id-4 label.sk-toggleable__label {cursor: pointer;display: block;width: 100%;margin-bottom: 0;padding: 0.3em;box-sizing: border-box;text-align: center;}#sk-container-id-4 label.sk-toggleable__label-arrow:before {content: \"▸\";float: left;margin-right: 0.25em;color: #696969;}#sk-container-id-4 label.sk-toggleable__label-arrow:hover:before {color: black;}#sk-container-id-4 div.sk-estimator:hover label.sk-toggleable__label-arrow:before {color: black;}#sk-container-id-4 div.sk-toggleable__content {max-height: 0;max-width: 0;overflow: hidden;text-align: left;background-color: #f0f8ff;}#sk-container-id-4 div.sk-toggleable__content pre {margin: 0.2em;color: black;border-radius: 0.25em;background-color: #f0f8ff;}#sk-container-id-4 input.sk-toggleable__control:checked~div.sk-toggleable__content {max-height: 200px;max-width: 100%;overflow: auto;}#sk-container-id-4 input.sk-toggleable__control:checked~label.sk-toggleable__label-arrow:before {content: \"▾\";}#sk-container-id-4 div.sk-estimator input.sk-toggleable__control:checked~label.sk-toggleable__label {background-color: #d4ebff;}#sk-container-id-4 div.sk-label input.sk-toggleable__control:checked~label.sk-toggleable__label {background-color: #d4ebff;}#sk-container-id-4 input.sk-hidden--visually {border: 0;clip: rect(1px 1px 1px 1px);clip: rect(1px, 1px, 1px, 1px);height: 1px;margin: -1px;overflow: hidden;padding: 0;position: absolute;width: 1px;}#sk-container-id-4 div.sk-estimator {font-family: monospace;background-color: #f0f8ff;border: 1px dotted black;border-radius: 0.25em;box-sizing: border-box;margin-bottom: 0.5em;}#sk-container-id-4 div.sk-estimator:hover {background-color: #d4ebff;}#sk-container-id-4 div.sk-parallel-item::after {content: \"\";width: 100%;border-bottom: 1px solid gray;flex-grow: 1;}#sk-container-id-4 div.sk-label:hover label.sk-toggleable__label {background-color: #d4ebff;}#sk-container-id-4 div.sk-serial::before {content: \"\";position: absolute;border-left: 1px solid gray;box-sizing: border-box;top: 0;bottom: 0;left: 50%;z-index: 0;}#sk-container-id-4 div.sk-serial {display: flex;flex-direction: column;align-items: center;background-color: white;padding-right: 0.2em;padding-left: 0.2em;position: relative;}#sk-container-id-4 div.sk-item {position: relative;z-index: 1;}#sk-container-id-4 div.sk-parallel {display: flex;align-items: stretch;justify-content: center;background-color: white;position: relative;}#sk-container-id-4 div.sk-item::before, #sk-container-id-4 div.sk-parallel-item::before {content: \"\";position: absolute;border-left: 1px solid gray;box-sizing: border-box;top: 0;bottom: 0;left: 50%;z-index: -1;}#sk-container-id-4 div.sk-parallel-item {display: flex;flex-direction: column;z-index: 1;position: relative;background-color: white;}#sk-container-id-4 div.sk-parallel-item:first-child::after {align-self: flex-end;width: 50%;}#sk-container-id-4 div.sk-parallel-item:last-child::after {align-self: flex-start;width: 50%;}#sk-container-id-4 div.sk-parallel-item:only-child::after {width: 0;}#sk-container-id-4 div.sk-dashed-wrapped {border: 1px dashed gray;margin: 0 0.4em 0.5em 0.4em;box-sizing: border-box;padding-bottom: 0.4em;background-color: white;}#sk-container-id-4 div.sk-label label {font-family: monospace;font-weight: bold;display: inline-block;line-height: 1.2em;}#sk-container-id-4 div.sk-label-container {text-align: center;}#sk-container-id-4 div.sk-container {/* jupyter's `normalize.less` sets `[hidden] { display: none; }` but bootstrap.min.css set `[hidden] { display: none !important; }` so we also need the `!important` here to be able to override the default hidden behavior on the sphinx rendered scikit-learn.org. See: https://github.com/scikit-learn/scikit-learn/issues/21755 */display: inline-block !important;position: relative;}#sk-container-id-4 div.sk-text-repr-fallback {display: none;}</style><div id=\"sk-container-id-4\" class=\"sk-top-container\"><div class=\"sk-text-repr-fallback\"><pre>Blending()</pre><b>In a Jupyter environment, please rerun this cell to show the HTML representation or trust the notebook. <br />On GitHub, the HTML representation is unable to render, please try loading this page with nbviewer.org.</b></div><div class=\"sk-container\" hidden><div class=\"sk-item\"><div class=\"sk-estimator sk-toggleable\"><input class=\"sk-toggleable__control sk-hidden--visually\" id=\"sk-estimator-id-4\" type=\"checkbox\" checked><label for=\"sk-estimator-id-4\" class=\"sk-toggleable__label sk-toggleable__label-arrow\">Blending</label><div class=\"sk-toggleable__content\"><pre>Blending()</pre></div></div></div></div></div>"
            ]
          },
          "metadata": {},
          "execution_count": 62
        }
      ]
    },
    {
      "cell_type": "code",
      "execution_count": null,
      "metadata": {
        "outputId": "45e08067-a4c4-4d3a-8b6d-26057dbf78cc",
        "colab": {
          "base_uri": "https://localhost:8080/"
        },
        "id": "e6ZO31dfQsZ-"
      },
      "outputs": [
        {
          "output_type": "stream",
          "name": "stdout",
          "text": [
            "[[10119.9721616   2869.6         2589.76        1766.1661377 ]\n",
            " [16777.60837341 17812.8        12791.69       10542.69628906]\n",
            " [13034.60605139 12669.8        11685.95       11196.95214844]\n",
            " ...\n",
            " [30058.11296156 16363.         16659.49       15388.36621094]\n",
            " [18941.2238303   8209.8        11560.9         6759.57568359]\n",
            " [ 6535.78779905 19036.2        18570.95       17994.48242188]]\n",
            "Blending RMSE:  5278.110435699338\n"
          ]
        }
      ],
      "source": [
        "y_pred = bl_2.predict(X_val)\n",
        "bl_2_score = np.sqrt(mean_squared_error(y_val, y_pred))\n",
        "print('Blending RMSE: ', bl_2_score)"
      ]
    },
    {
      "cell_type": "code",
      "source": [
        "bl_score"
      ],
      "metadata": {
        "colab": {
          "base_uri": "https://localhost:8080/"
        },
        "id": "wvswFGm3xCBP",
        "outputId": "b4c66c5f-1eb2-4a41-b2ad-514c6a8f3899"
      },
      "execution_count": null,
      "outputs": [
        {
          "output_type": "execute_result",
          "data": {
            "text/plain": [
              "5222.66016409529"
            ]
          },
          "metadata": {},
          "execution_count": 64
        }
      ]
    },
    {
      "cell_type": "markdown",
      "source": [
        "better than the baseline, so this is a better selection of models"
      ],
      "metadata": {
        "id": "8z2tNEaMxDY4"
      }
    },
    {
      "cell_type": "markdown",
      "source": [
        "#### Model 6: Model 3 but with 3 models as the base layer"
      ],
      "metadata": {
        "id": "0NqUFSuiPwGq"
      }
    },
    {
      "cell_type": "code",
      "source": [
        "models_selected_3"
      ],
      "metadata": {
        "colab": {
          "base_uri": "https://localhost:8080/"
        },
        "id": "ejSlw74yPwGv",
        "outputId": "f18a89ca-0a6f-42f5-f79f-0b8bfec37dcc"
      },
      "execution_count": null,
      "outputs": [
        {
          "output_type": "execute_result",
          "data": {
            "text/plain": [
              "[('knn', KNeighborsRegressor()),\n",
              " ('rfr', RandomForestRegressor()),\n",
              " ('xgb',\n",
              "  XGBRegressor(base_score=None, booster=None, callbacks=None,\n",
              "               colsample_bylevel=None, colsample_bynode=None,\n",
              "               colsample_bytree=None, device=None, early_stopping_rounds=None,\n",
              "               enable_categorical=False, eval_metric=None, feature_types=None,\n",
              "               gamma=None, grow_policy=None, importance_type=None,\n",
              "               interaction_constraints=None, learning_rate=None, max_bin=None,\n",
              "               max_cat_threshold=None, max_cat_to_onehot=None,\n",
              "               max_delta_step=None, max_depth=None, max_leaves=None,\n",
              "               min_child_weight=None, missing=nan, monotone_constraints=None,\n",
              "               multi_strategy=None, n_estimators=None, n_jobs=None,\n",
              "               num_parallel_tree=None, random_state=None, ...))]"
            ]
          },
          "metadata": {},
          "execution_count": 65
        }
      ]
    },
    {
      "cell_type": "code",
      "source": [
        "layer_structure = [3,4,1]\n",
        "net_6 = Network(layer_structure, 300, 1e-6, 16)\n",
        "net_6.fit(meta_X_train_formatted_selected_3, y_train_formatted)\n"
      ],
      "metadata": {
        "colab": {
          "base_uri": "https://localhost:8080/"
        },
        "outputId": "a86e4d07-21c5-499d-867f-a4432db704c6",
        "id": "hQYwyvD2PwG1"
      },
      "execution_count": null,
      "outputs": [
        {
          "output_type": "stream",
          "name": "stdout",
          "text": [
            "Epoch: 0 Train RMSE: 17451.25467085694 Valid RMSE: 18159.88450693678\n",
            "Epoch: 1 Train RMSE: 17450.429542832033 Valid RMSE: 18158.703851249138\n",
            "Epoch: 2 Train RMSE: 17449.064826084727 Valid RMSE: 18156.593020165874\n",
            "Epoch: 3 Train RMSE: 17446.444618852198 Valid RMSE: 18152.331470677833\n",
            "Epoch: 4 Train RMSE: 17440.87349593625 Valid RMSE: 18142.95985342593\n",
            "Epoch: 5 Train RMSE: 17428.44197977379 Valid RMSE: 18122.14247953874\n",
            "Epoch: 6 Train RMSE: 17400.70060620262 Valid RMSE: 18076.252051661842\n",
            "Epoch: 7 Train RMSE: 17339.267737331145 Valid RMSE: 17975.170546855836\n",
            "Epoch: 8 Train RMSE: 17203.37159439003 Valid RMSE: 17755.443488946905\n",
            "Epoch: 9 Train RMSE: 16907.360195498284 Valid RMSE: 17292.068407001836\n",
            "Epoch: 10 Train RMSE: 16282.066939522425 Valid RMSE: 16378.636256962973\n",
            "Epoch: 11 Train RMSE: 15048.728438932543 Valid RMSE: 14823.08702049733\n",
            "Epoch: 12 Train RMSE: 12959.53744850188 Valid RMSE: 12858.412089830115\n",
            "Epoch: 13 Train RMSE: 10421.832279053255 Valid RMSE: 11383.805304303818\n",
            "Epoch: 14 Train RMSE: 8836.73062850211 Valid RMSE: 10800.593452051757\n",
            "Epoch: 15 Train RMSE: 8469.764150482859 Valid RMSE: 10649.158301124693\n",
            "Epoch: 16 Train RMSE: 8421.180966310147 Valid RMSE: 10606.960559872346\n",
            "Epoch: 17 Train RMSE: 8398.54926264642 Valid RMSE: 10586.478135125706\n",
            "Epoch: 18 Train RMSE: 8377.08159252713 Valid RMSE: 10570.036695246237\n",
            "Epoch: 19 Train RMSE: 8355.642387244994 Valid RMSE: 10554.198047311991\n",
            "Epoch: 20 Train RMSE: 8334.171470467198 Valid RMSE: 10538.511003332876\n",
            "Epoch: 21 Train RMSE: 8312.654478892508 Valid RMSE: 10522.858977844771\n",
            "Epoch: 22 Train RMSE: 8291.0801089303 Valid RMSE: 10507.215115688492\n",
            "Epoch: 23 Train RMSE: 8269.437538741975 Valid RMSE: 10491.529249053045\n",
            "Epoch: 24 Train RMSE: 8247.716127101246 Valid RMSE: 10475.806451346674\n",
            "Epoch: 25 Train RMSE: 8225.905356085092 Valid RMSE: 10460.068525037203\n",
            "Epoch: 26 Train RMSE: 8203.994813539872 Valid RMSE: 10444.241668211225\n",
            "Epoch: 27 Train RMSE: 8181.974183815934 Valid RMSE: 10428.312213598905\n",
            "Epoch: 28 Train RMSE: 8159.8332412477475 Valid RMSE: 10412.098654162064\n",
            "Epoch: 29 Train RMSE: 8137.561845400632 Valid RMSE: 10395.650664331311\n",
            "Epoch: 30 Train RMSE: 8115.149937929954 Valid RMSE: 10379.14298745932\n",
            "Epoch: 31 Train RMSE: 8092.587541054114 Valid RMSE: 10362.58117832351\n",
            "Epoch: 32 Train RMSE: 8069.864757676629 Valid RMSE: 10345.959688793531\n",
            "Epoch: 33 Train RMSE: 8046.97177320396 Valid RMSE: 10329.261677126657\n",
            "Epoch: 34 Train RMSE: 8023.898859112385 Valid RMSE: 10312.2213363646\n",
            "Epoch: 35 Train RMSE: 8000.636378322275 Valid RMSE: 10294.908388393429\n",
            "Epoch: 36 Train RMSE: 7977.174792442078 Valid RMSE: 10277.508566541033\n",
            "Epoch: 37 Train RMSE: 7953.504670947227 Valid RMSE: 10259.875479136073\n",
            "Epoch: 38 Train RMSE: 7929.61670236072 Valid RMSE: 10242.069388083659\n",
            "Epoch: 39 Train RMSE: 7905.50170750242 Valid RMSE: 10224.048662109743\n",
            "Epoch: 40 Train RMSE: 7881.15065487276 Valid RMSE: 10205.760502437382\n",
            "Epoch: 41 Train RMSE: 7856.554678233512 Valid RMSE: 10187.345645956519\n",
            "Epoch: 42 Train RMSE: 7831.705096443311 Valid RMSE: 10168.400937673085\n",
            "Epoch: 43 Train RMSE: 7806.593435598585 Valid RMSE: 10149.295434707281\n",
            "Epoch: 44 Train RMSE: 7781.211453521176 Valid RMSE: 10130.006497506396\n",
            "Epoch: 45 Train RMSE: 7755.551166622219 Valid RMSE: 10110.41786290209\n",
            "Epoch: 46 Train RMSE: 7729.604879157351 Valid RMSE: 10090.611903836172\n",
            "Epoch: 47 Train RMSE: 7703.365214871212 Valid RMSE: 10070.530357602782\n",
            "Epoch: 48 Train RMSE: 7676.825151009138 Valid RMSE: 10050.224108836688\n",
            "Epoch: 49 Train RMSE: 7649.978054650936 Valid RMSE: 10029.614672909018\n",
            "Epoch: 50 Train RMSE: 7622.817721295696 Valid RMSE: 10008.829707739957\n",
            "Epoch: 51 Train RMSE: 7595.338415597607 Valid RMSE: 9987.885475044359\n",
            "Epoch: 52 Train RMSE: 7567.534914121096 Valid RMSE: 9966.77634656273\n",
            "Epoch: 53 Train RMSE: 7539.402549949083 Valid RMSE: 9945.334337788498\n",
            "Epoch: 54 Train RMSE: 7510.937258941362 Valid RMSE: 9923.566923185384\n",
            "Epoch: 55 Train RMSE: 7482.135627401253 Valid RMSE: 9901.328290107263\n",
            "Epoch: 56 Train RMSE: 7452.9949408681505 Valid RMSE: 9878.818855001597\n",
            "Epoch: 57 Train RMSE: 7423.513233712131 Valid RMSE: 9855.730953830905\n",
            "Epoch: 58 Train RMSE: 7393.413279423809 Valid RMSE: 9835.19198267192\n",
            "Epoch: 59 Train RMSE: 7356.1849383148065 Valid RMSE: 9812.839074073756\n",
            "Epoch: 60 Train RMSE: 7315.402428766304 Valid RMSE: 9784.324103202405\n",
            "Epoch: 61 Train RMSE: 7274.10771031944 Valid RMSE: 9754.4173055519\n",
            "Epoch: 62 Train RMSE: 7232.250050529588 Valid RMSE: 9723.73010053251\n",
            "Epoch: 63 Train RMSE: 7189.835060371781 Valid RMSE: 9692.724921460353\n",
            "Epoch: 64 Train RMSE: 7146.87062868414 Valid RMSE: 9661.37505681376\n",
            "Epoch: 65 Train RMSE: 7103.366878649132 Valid RMSE: 9629.701567692067\n",
            "Epoch: 66 Train RMSE: 7059.336394866186 Valid RMSE: 9597.775870820627\n",
            "Epoch: 67 Train RMSE: 7014.794329339221 Valid RMSE: 9565.627842345566\n",
            "Epoch: 68 Train RMSE: 6969.758476313435 Valid RMSE: 9533.25450739403\n",
            "Epoch: 69 Train RMSE: 6924.249329204817 Valid RMSE: 9500.637058416743\n",
            "Epoch: 70 Train RMSE: 6878.290119779058 Valid RMSE: 9467.431856744934\n",
            "Epoch: 71 Train RMSE: 6831.906838082353 Valid RMSE: 9433.79456576233\n",
            "Epoch: 72 Train RMSE: 6785.128231565594 Valid RMSE: 9399.774859694962\n",
            "Epoch: 73 Train RMSE: 6737.98578202133 Valid RMSE: 9365.564381765274\n",
            "Epoch: 74 Train RMSE: 6690.513659193748 Valid RMSE: 9331.16609947656\n",
            "Epoch: 75 Train RMSE: 6642.74865020101 Valid RMSE: 9296.587814934914\n",
            "Epoch: 76 Train RMSE: 6594.730064219541 Valid RMSE: 9261.948045292142\n",
            "Epoch: 77 Train RMSE: 6546.49961221597 Valid RMSE: 9227.22353021891\n",
            "Epoch: 78 Train RMSE: 6498.10126186771 Valid RMSE: 9192.253031975111\n",
            "Epoch: 79 Train RMSE: 6449.581068181448 Valid RMSE: 9157.308544894679\n",
            "Epoch: 80 Train RMSE: 6400.986980692419 Valid RMSE: 9122.436358265382\n",
            "Epoch: 81 Train RMSE: 6352.368628499234 Valid RMSE: 9087.584916344587\n",
            "Epoch: 82 Train RMSE: 6303.777084751533 Valid RMSE: 9052.709208427428\n",
            "Epoch: 83 Train RMSE: 6255.2646125536885 Valid RMSE: 9017.242878128272\n",
            "Epoch: 84 Train RMSE: 6206.884394569995 Valid RMSE: 8981.166918083007\n",
            "Epoch: 85 Train RMSE: 6158.690248908724 Valid RMSE: 8945.019558090371\n",
            "Epoch: 86 Train RMSE: 6110.736334117973 Valid RMSE: 8908.910660598927\n",
            "Epoch: 87 Train RMSE: 6063.076846339849 Valid RMSE: 8872.94956537774\n",
            "Epoch: 88 Train RMSE: 6015.765711836739 Valid RMSE: 8837.226978746652\n",
            "Epoch: 89 Train RMSE: 5968.856278219984 Valid RMSE: 8801.84889525336\n",
            "Epoch: 90 Train RMSE: 5922.401007774706 Valid RMSE: 8766.838954620149\n",
            "Epoch: 91 Train RMSE: 5876.4511762823295 Valid RMSE: 8732.198718598102\n",
            "Epoch: 92 Train RMSE: 5831.056580694102 Valid RMSE: 8697.837265392347\n",
            "Epoch: 93 Train RMSE: 5786.265258904415 Valid RMSE: 8663.509174049059\n",
            "Epoch: 94 Train RMSE: 5742.123224713486 Valid RMSE: 8629.414328547284\n",
            "Epoch: 95 Train RMSE: 5698.674220857539 Valid RMSE: 8595.366854304804\n",
            "Epoch: 96 Train RMSE: 5655.959492724388 Valid RMSE: 8561.111768399582\n",
            "Epoch: 97 Train RMSE: 5614.017585068431 Valid RMSE: 8527.05253573467\n",
            "Epoch: 98 Train RMSE: 5572.884163696973 Valid RMSE: 8492.573811725666\n",
            "Epoch: 99 Train RMSE: 5532.591863726531 Valid RMSE: 8457.818605841212\n",
            "Epoch: 100 Train RMSE: 5493.1701656107925 Valid RMSE: 8423.57217481069\n",
            "Epoch: 101 Train RMSE: 5454.645299729362 Valid RMSE: 8389.461118302908\n",
            "Epoch: 102 Train RMSE: 5417.040179907082 Valid RMSE: 8355.53920090387\n",
            "Epoch: 103 Train RMSE: 5380.374365816151 Valid RMSE: 8322.204057446324\n",
            "Epoch: 104 Train RMSE: 5344.664053806298 Valid RMSE: 8289.42825327201\n",
            "Epoch: 105 Train RMSE: 5309.922095320279 Valid RMSE: 8257.113690189004\n",
            "Epoch: 106 Train RMSE: 5276.158041690583 Valid RMSE: 8225.092395531157\n",
            "Epoch: 107 Train RMSE: 5243.378213785625 Valid RMSE: 8193.498151778726\n",
            "Epoch: 108 Train RMSE: 5211.585794685579 Valid RMSE: 8162.562939294844\n",
            "Epoch: 109 Train RMSE: 5180.780943324213 Valid RMSE: 8132.158436943647\n",
            "Epoch: 110 Train RMSE: 5150.960926837107 Valid RMSE: 8102.06791642315\n",
            "Epoch: 111 Train RMSE: 5122.12026921026 Valid RMSE: 8072.258981953166\n",
            "Epoch: 112 Train RMSE: 5094.250913727271 Valid RMSE: 8042.84065556358\n",
            "Epoch: 113 Train RMSE: 5067.342396667024 Valid RMSE: 8013.78213330235\n",
            "Epoch: 114 Train RMSE: 5041.382029705351 Valid RMSE: 7985.032240837639\n",
            "Epoch: 115 Train RMSE: 5016.355088520166 Valid RMSE: 7956.5126128332795\n",
            "Epoch: 116 Train RMSE: 4992.245005186222 Valid RMSE: 7928.320418867906\n",
            "Epoch: 117 Train RMSE: 4969.033562067861 Valid RMSE: 7900.5599617689795\n",
            "Epoch: 118 Train RMSE: 4946.701085070645 Valid RMSE: 7873.277444704045\n",
            "Epoch: 119 Train RMSE: 4925.226634289853 Valid RMSE: 7846.337798371053\n",
            "Epoch: 120 Train RMSE: 4904.588190289451 Valid RMSE: 7819.614910425138\n",
            "Epoch: 121 Train RMSE: 4884.762834453703 Valid RMSE: 7793.124970316198\n",
            "Epoch: 122 Train RMSE: 4865.726922069305 Valid RMSE: 7766.914967878596\n",
            "Epoch: 123 Train RMSE: 4847.456247013712 Valid RMSE: 7740.894518877127\n",
            "Epoch: 124 Train RMSE: 4829.92619714045 Valid RMSE: 7715.204767869269\n",
            "Epoch: 125 Train RMSE: 4813.111899660482 Valid RMSE: 7689.955735033621\n",
            "Epoch: 126 Train RMSE: 4796.988356016749 Valid RMSE: 7665.137957889702\n",
            "Epoch: 127 Train RMSE: 4781.53056593395 Valid RMSE: 7640.627588044472\n",
            "Epoch: 128 Train RMSE: 4766.71364049524 Valid RMSE: 7616.400788248057\n",
            "Epoch: 129 Train RMSE: 4752.512904250459 Valid RMSE: 7592.390852333806\n",
            "Epoch: 130 Train RMSE: 4738.903986495637 Valid RMSE: 7568.693820375547\n",
            "Epoch: 131 Train RMSE: 4725.862901980605 Valid RMSE: 7545.209985823299\n",
            "Epoch: 132 Train RMSE: 4713.366121400579 Valid RMSE: 7522.016587555525\n",
            "Epoch: 133 Train RMSE: 4701.3906321091035 Valid RMSE: 7498.999192525942\n",
            "Epoch: 134 Train RMSE: 4689.91398955455 Valid RMSE: 7476.216561463953\n",
            "Epoch: 135 Train RMSE: 4678.914359991506 Valid RMSE: 7453.735981755895\n",
            "Epoch: 136 Train RMSE: 4668.370555053177 Valid RMSE: 7431.583582814821\n",
            "Epoch: 137 Train RMSE: 4658.262058792691 Valid RMSE: 7409.807343624426\n",
            "Epoch: 138 Train RMSE: 4648.569047811401 Valid RMSE: 7388.369210181274\n",
            "Epoch: 139 Train RMSE: 4639.2724050924935 Valid RMSE: 7367.380297847226\n",
            "Epoch: 140 Train RMSE: 4630.353728149701 Valid RMSE: 7346.81451745327\n",
            "Epoch: 141 Train RMSE: 4621.795332085327 Valid RMSE: 7326.469525222265\n",
            "Epoch: 142 Train RMSE: 4613.580248130237 Valid RMSE: 7306.364481106887\n",
            "Epoch: 143 Train RMSE: 4605.692218212331 Valid RMSE: 7286.474823855066\n",
            "Epoch: 144 Train RMSE: 4598.115686070321 Valid RMSE: 7266.791670543411\n",
            "Epoch: 145 Train RMSE: 4590.835785397508 Valid RMSE: 7247.279065299418\n",
            "Epoch: 146 Train RMSE: 4583.838325466397 Valid RMSE: 7227.970979431202\n",
            "Epoch: 147 Train RMSE: 4577.109774650462 Valid RMSE: 7208.8429010146565\n",
            "Epoch: 148 Train RMSE: 4570.637242224452 Valid RMSE: 7189.992696373266\n",
            "Epoch: 149 Train RMSE: 4564.408458790321 Valid RMSE: 7171.353743542274\n",
            "Epoch: 150 Train RMSE: 4558.4117556421825 Valid RMSE: 7152.8686294415365\n",
            "Epoch: 151 Train RMSE: 4552.636043351331 Valid RMSE: 7134.635404700405\n",
            "Epoch: 152 Train RMSE: 4547.070789821386 Valid RMSE: 7116.71729392693\n",
            "Epoch: 153 Train RMSE: 4541.705998034404 Valid RMSE: 7099.084119240256\n",
            "Epoch: 154 Train RMSE: 4536.532183681306 Valid RMSE: 7081.76348541879\n",
            "Epoch: 155 Train RMSE: 4531.54035284444 Valid RMSE: 7064.728739023723\n",
            "Epoch: 156 Train RMSE: 4526.721979876527 Valid RMSE: 7047.946333106915\n",
            "Epoch: 157 Train RMSE: 4522.068985598533 Valid RMSE: 7031.466424321805\n",
            "Epoch: 158 Train RMSE: 4517.573715919344 Valid RMSE: 7015.25874534409\n",
            "Epoch: 159 Train RMSE: 4513.228920962215 Valid RMSE: 6999.292549581887\n",
            "Epoch: 160 Train RMSE: 4509.027734766906 Valid RMSE: 6983.587201863671\n",
            "Epoch: 161 Train RMSE: 4504.9636556220885 Valid RMSE: 6968.184533315199\n",
            "Epoch: 162 Train RMSE: 4501.0305270697845 Valid RMSE: 6953.087264040572\n",
            "Epoch: 163 Train RMSE: 4497.2225196124355 Valid RMSE: 6938.2496021523475\n",
            "Epoch: 164 Train RMSE: 4493.534113143271 Valid RMSE: 6923.642649251771\n",
            "Epoch: 165 Train RMSE: 4489.960080112114 Valid RMSE: 6909.285118328646\n",
            "Epoch: 166 Train RMSE: 4486.495469431382 Valid RMSE: 6895.149297474433\n",
            "Epoch: 167 Train RMSE: 4483.135591120683 Valid RMSE: 6881.2257118091175\n",
            "Epoch: 168 Train RMSE: 4479.733646958727 Valid RMSE: 6872.232669928349\n",
            "Epoch: 169 Train RMSE: 4452.477529871555 Valid RMSE: 6839.641017258522\n",
            "Epoch: 170 Train RMSE: 4400.46567516404 Valid RMSE: 6793.303550527733\n",
            "Epoch: 171 Train RMSE: 4323.847309821739 Valid RMSE: 6735.960226982447\n",
            "Epoch: 172 Train RMSE: 4142.129553945824 Valid RMSE: 6637.482088062068\n",
            "Epoch: 173 Train RMSE: 3955.856080087635 Valid RMSE: 6574.611293995631\n",
            "Epoch: 174 Train RMSE: 3806.913183429274 Valid RMSE: 6503.096693582111\n",
            "Epoch: 175 Train RMSE: 3688.8321435148528 Valid RMSE: 6466.347902795186\n",
            "Epoch: 176 Train RMSE: 3596.164629534241 Valid RMSE: 6413.977075651866\n",
            "Epoch: 177 Train RMSE: 3523.869707948061 Valid RMSE: 6392.385147160765\n",
            "Epoch: 178 Train RMSE: 3471.4410002690142 Valid RMSE: 6349.474992004356\n",
            "Epoch: 179 Train RMSE: 3448.638692192949 Valid RMSE: 6349.714093703728\n",
            "Epoch: 180 Train RMSE: 3431.2794311867447 Valid RMSE: 6327.872770348826\n",
            "Epoch: 181 Train RMSE: 3410.888536110583 Valid RMSE: 6327.9899797970775\n",
            "Epoch: 182 Train RMSE: 3395.426810975129 Valid RMSE: 6314.610851735645\n",
            "Epoch: 183 Train RMSE: 3382.911124432367 Valid RMSE: 6307.763073729725\n",
            "Epoch: 184 Train RMSE: 3372.1946189629825 Valid RMSE: 6296.461252510531\n",
            "Epoch: 185 Train RMSE: 3362.5965238707477 Valid RMSE: 6287.223120139206\n",
            "Epoch: 186 Train RMSE: 3353.712241428255 Valid RMSE: 6276.501066758142\n",
            "Epoch: 187 Train RMSE: 3345.29971136557 Valid RMSE: 6266.2881979201975\n",
            "Epoch: 188 Train RMSE: 3337.2144905943587 Valid RMSE: 6255.604570418467\n",
            "Epoch: 189 Train RMSE: 3329.3698932127886 Valid RMSE: 6245.125277740136\n",
            "Epoch: 190 Train RMSE: 3321.7137241552673 Valid RMSE: 6234.5238496011\n",
            "Epoch: 191 Train RMSE: 3314.2141095067304 Valid RMSE: 6223.897702541952\n",
            "Epoch: 192 Train RMSE: 3306.851231168326 Valid RMSE: 6213.282543409829\n",
            "Epoch: 193 Train RMSE: 3299.612354576185 Valid RMSE: 6202.759167456378\n",
            "Epoch: 194 Train RMSE: 3292.48894195678 Valid RMSE: 6192.3338588632\n",
            "Epoch: 195 Train RMSE: 3285.4749336519603 Valid RMSE: 6182.064125193989\n",
            "Epoch: 196 Train RMSE: 3278.565754587427 Valid RMSE: 6171.710106599857\n",
            "Epoch: 197 Train RMSE: 3271.757726990839 Valid RMSE: 6161.4846651627695\n",
            "Epoch: 198 Train RMSE: 3265.047731459531 Valid RMSE: 6151.278802840857\n",
            "Epoch: 199 Train RMSE: 3258.4330070176134 Valid RMSE: 6141.098698187098\n",
            "Epoch: 200 Train RMSE: 3251.911035144902 Valid RMSE: 6131.099478519782\n",
            "Epoch: 201 Train RMSE: 3245.479470751411 Valid RMSE: 6121.281650648636\n",
            "Epoch: 202 Train RMSE: 3239.1361012797233 Valid RMSE: 6111.6447639655125\n",
            "Epoch: 203 Train RMSE: 3232.878821544931 Valid RMSE: 6102.165611209887\n",
            "Epoch: 204 Train RMSE: 3226.705617974015 Valid RMSE: 6092.949539643034\n",
            "Epoch: 205 Train RMSE: 3220.6145581407995 Valid RMSE: 6083.916804067593\n",
            "Epoch: 206 Train RMSE: 3214.603783487509 Valid RMSE: 6075.053905565912\n",
            "Epoch: 207 Train RMSE: 3208.671503883892 Valid RMSE: 6066.367668070087\n",
            "Epoch: 208 Train RMSE: 3202.8159933269926 Valid RMSE: 6057.858302394242\n",
            "Epoch: 209 Train RMSE: 3197.035586338466 Valid RMSE: 6049.4734977619855\n",
            "Epoch: 210 Train RMSE: 3191.3286748278965 Valid RMSE: 6041.251250809063\n",
            "Epoch: 211 Train RMSE: 3185.693705274152 Valid RMSE: 6033.190476125184\n",
            "Epoch: 212 Train RMSE: 3180.1291761450475 Valid RMSE: 6025.274557399546\n",
            "Epoch: 213 Train RMSE: 3174.633635502935 Valid RMSE: 6017.481384042126\n",
            "Epoch: 214 Train RMSE: 3169.2056787658084 Valid RMSE: 6009.8357632211655\n",
            "Epoch: 215 Train RMSE: 3163.843946602616 Valid RMSE: 6002.340961815316\n",
            "Epoch: 216 Train RMSE: 3158.547122948615 Valid RMSE: 5994.95601583579\n",
            "Epoch: 217 Train RMSE: 3153.313933129801 Valid RMSE: 5987.640344898791\n",
            "Epoch: 218 Train RMSE: 3148.143142087942 Valid RMSE: 5980.399869652519\n",
            "Epoch: 219 Train RMSE: 3143.0335526990048 Valid RMSE: 5973.2912560873765\n",
            "Epoch: 220 Train RMSE: 3137.9840041787465 Valid RMSE: 5966.317252227552\n",
            "Epoch: 221 Train RMSE: 3132.9933705699314 Valid RMSE: 5959.480208275026\n",
            "Epoch: 222 Train RMSE: 3128.060559306104 Valid RMSE: 5952.7776182515745\n",
            "Epoch: 223 Train RMSE: 3123.184509847274 Valid RMSE: 5946.207020806205\n",
            "Epoch: 224 Train RMSE: 3118.364192383227 Valid RMSE: 5939.765999174325\n",
            "Epoch: 225 Train RMSE: 3113.598606600475 Valid RMSE: 5933.4521809492835\n",
            "Epoch: 226 Train RMSE: 3108.8867805091268 Valid RMSE: 5927.263237689507\n",
            "Epoch: 227 Train RMSE: 3104.227769326237 Valid RMSE: 5921.082121456739\n",
            "Epoch: 228 Train RMSE: 3099.6206544123916 Valid RMSE: 5914.945246360923\n",
            "Epoch: 229 Train RMSE: 3095.0645422585217 Valid RMSE: 5908.871594536267\n",
            "Epoch: 230 Train RMSE: 3090.558563520144 Valid RMSE: 5902.908144735323\n",
            "Epoch: 231 Train RMSE: 3086.101872096389 Valid RMSE: 5897.052387004356\n",
            "Epoch: 232 Train RMSE: 3081.6936442513515 Valid RMSE: 5891.293239153144\n",
            "Epoch: 233 Train RMSE: 3077.1468554574803 Valid RMSE: 5866.969359574424\n",
            "Epoch: 234 Train RMSE: 3074.061803481258 Valid RMSE: 5911.190374425289\n",
            "Epoch: 235 Train RMSE: 3073.086567816748 Valid RMSE: 5863.611858888896\n",
            "Epoch: 236 Train RMSE: 3065.302059182113 Valid RMSE: 5865.95508390015\n",
            "Epoch: 237 Train RMSE: 3060.5497432630564 Valid RMSE: 5885.532669128312\n",
            "Epoch: 238 Train RMSE: 3056.845505424046 Valid RMSE: 5831.00348142896\n",
            "Epoch: 239 Train RMSE: 3062.950770830664 Valid RMSE: 5916.944305060105\n",
            "Epoch: 240 Train RMSE: 3063.0663288409046 Valid RMSE: 5831.169401924889\n",
            "Epoch: 241 Train RMSE: 3049.5316477505553 Valid RMSE: 5902.159891754586\n",
            "Epoch: 242 Train RMSE: 3049.455204739327 Valid RMSE: 5847.436410924774\n",
            "Epoch: 243 Train RMSE: 3041.4225182796167 Valid RMSE: 5859.8022882689565\n",
            "Epoch: 244 Train RMSE: 3035.298391424888 Valid RMSE: 5815.742707153812\n",
            "Epoch: 245 Train RMSE: 3040.579855847308 Valid RMSE: 5894.180573777061\n",
            "Epoch: 246 Train RMSE: 3040.333952511366 Valid RMSE: 5780.467984636461\n",
            "Epoch: 247 Train RMSE: 3056.6523475677695 Valid RMSE: 5939.098719097304\n",
            "Epoch: 248 Train RMSE: 3060.5185938659442 Valid RMSE: 5792.030997612063\n",
            "Epoch: 249 Train RMSE: 3035.6145775962555 Valid RMSE: 5909.0763713698825\n",
            "Epoch: 250 Train RMSE: 3033.2102944568505 Valid RMSE: 5818.97594318042\n",
            "Epoch: 251 Train RMSE: 3018.605330813688 Valid RMSE: 5843.434402996786\n",
            "Epoch: 252 Train RMSE: 3011.4574777315843 Valid RMSE: 5821.826276474464\n",
            "Epoch: 253 Train RMSE: 3009.0422438661894 Valid RMSE: 5843.7352860712135\n",
            "Epoch: 254 Train RMSE: 3006.4110530844573 Valid RMSE: 5841.567801805406\n",
            "Epoch: 255 Train RMSE: 3007.0926634402485 Valid RMSE: 5828.760536711461\n",
            "Epoch: 256 Train RMSE: 3000.2486308024027 Valid RMSE: 5850.078883118179\n",
            "Epoch: 257 Train RMSE: 3003.2509495205904 Valid RMSE: 5823.121060734241\n",
            "Epoch: 258 Train RMSE: 2995.0378228333702 Valid RMSE: 5812.275118741124\n",
            "Epoch: 259 Train RMSE: 2994.2288128954187 Valid RMSE: 5831.99403594009\n",
            "Epoch: 260 Train RMSE: 2992.191530570096 Valid RMSE: 5804.597002548928\n",
            "Epoch: 261 Train RMSE: 2990.3030415532744 Valid RMSE: 5834.596519565087\n",
            "Epoch: 262 Train RMSE: 2988.6088682616673 Valid RMSE: 5794.965186124677\n",
            "Epoch: 263 Train RMSE: 2987.1842963222643 Valid RMSE: 5840.283869464238\n",
            "Epoch: 264 Train RMSE: 2986.1425586229643 Valid RMSE: 5782.50108684911\n",
            "Epoch: 265 Train RMSE: 2985.6630984707967 Valid RMSE: 5850.689580001211\n",
            "Epoch: 266 Train RMSE: 2985.557263561525 Valid RMSE: 5803.056365759224\n",
            "Epoch: 267 Train RMSE: 2975.8528375467813 Valid RMSE: 5850.351466178387\n",
            "Epoch: 268 Train RMSE: 2981.201060167572 Valid RMSE: 5802.9756916480765\n",
            "Epoch: 269 Train RMSE: 2972.502245522237 Valid RMSE: 5843.995935556247\n",
            "Epoch: 270 Train RMSE: 2975.1643510008107 Valid RMSE: 5798.011153118063\n",
            "Epoch: 271 Train RMSE: 2969.9203092099096 Valid RMSE: 5843.051705657019\n",
            "Epoch: 272 Train RMSE: 2970.6030957170515 Valid RMSE: 5792.731133693658\n",
            "Epoch: 273 Train RMSE: 2966.795132248981 Valid RMSE: 5821.945449342328\n",
            "Epoch: 274 Train RMSE: 2963.403479427107 Valid RMSE: 5816.433623080958\n",
            "Epoch: 275 Train RMSE: 2960.275624731763 Valid RMSE: 5793.199267932126\n",
            "Epoch: 276 Train RMSE: 2960.108534617268 Valid RMSE: 5813.068914076597\n",
            "Epoch: 277 Train RMSE: 2958.185166124695 Valid RMSE: 5785.23296272396\n",
            "Epoch: 278 Train RMSE: 2956.45971197572 Valid RMSE: 5816.239447370827\n",
            "Epoch: 279 Train RMSE: 2954.9750309470182 Valid RMSE: 5774.962855595733\n",
            "Epoch: 280 Train RMSE: 2953.8208931487707 Valid RMSE: 5822.7310698578785\n",
            "Epoch: 281 Train RMSE: 2953.135826155249 Valid RMSE: 5761.193746504352\n",
            "Epoch: 282 Train RMSE: 2953.1539575591837 Valid RMSE: 5834.962623236896\n",
            "Epoch: 283 Train RMSE: 2954.213184684455 Valid RMSE: 5742.530186498085\n",
            "Epoch: 284 Train RMSE: 2956.874799422185 Valid RMSE: 5856.595591245449\n",
            "Epoch: 285 Train RMSE: 2961.922529622974 Valid RMSE: 5717.620030444879\n",
            "Epoch: 286 Train RMSE: 2970.686116517336 Valid RMSE: 5893.919483555648\n",
            "Epoch: 287 Train RMSE: 2984.933629776612 Valid RMSE: 5685.4665337447595\n",
            "Epoch: 288 Train RMSE: 3007.787092781136 Valid RMSE: 5958.2324000364015\n",
            "Epoch: 289 Train RMSE: 3035.0305059709617 Valid RMSE: 5699.732921772437\n",
            "Epoch: 290 Train RMSE: 2993.580367775431 Valid RMSE: 5933.478233081483\n",
            "Epoch: 291 Train RMSE: 2991.541811925238 Valid RMSE: 5728.591979358994\n",
            "Epoch: 292 Train RMSE: 2961.4068944761243 Valid RMSE: 5879.34829192639\n",
            "Epoch: 293 Train RMSE: 2952.403620171624 Valid RMSE: 5744.804791340359\n",
            "Epoch: 294 Train RMSE: 2944.1030404198227 Valid RMSE: 5848.845676141116\n",
            "Epoch: 295 Train RMSE: 2937.192520021635 Valid RMSE: 5772.429692933253\n",
            "Epoch: 296 Train RMSE: 2930.8025264975527 Valid RMSE: 5839.417732774354\n",
            "Epoch: 297 Train RMSE: 2930.3612529960596 Valid RMSE: 5763.001876524977\n",
            "Epoch: 298 Train RMSE: 2929.5541522731755 Valid RMSE: 5818.250334355692\n",
            "Epoch: 299 Train RMSE: 2926.3393574765278 Valid RMSE: 5788.058561689073\n"
          ]
        }
      ]
    },
    {
      "cell_type": "code",
      "source": [
        "y_pred =  net_6.predict(meta_X_val_formatted_selected_3)\n",
        "model_6_result = np.sqrt(mean_squared_error(y_val_formatted, y_pred))\n",
        "model_6_result"
      ],
      "metadata": {
        "colab": {
          "base_uri": "https://localhost:8080/"
        },
        "outputId": "110ec433-031d-4548-9996-a19afe26c86d",
        "id": "CX8_tXMVPwG1"
      },
      "execution_count": null,
      "outputs": [
        {
          "output_type": "execute_result",
          "data": {
            "text/plain": [
              "6730.711707145554"
            ]
          },
          "metadata": {},
          "execution_count": 67
        }
      ]
    },
    {
      "cell_type": "markdown",
      "source": [
        "better than last! but not still didn't beat the rest"
      ],
      "metadata": {
        "id": "bNvGJtaKQZHb"
      }
    },
    {
      "cell_type": "markdown",
      "source": [
        "Compare to the original blending algorithm"
      ],
      "metadata": {
        "id": "6DKFxVeZVU7Y"
      }
    },
    {
      "cell_type": "code",
      "source": [
        "bl_3 = Blending()\n",
        "bl_3.fit(X_train, y_train, models_selected_3)"
      ],
      "metadata": {
        "colab": {
          "base_uri": "https://localhost:8080/",
          "height": 75
        },
        "outputId": "9d4a7338-12d6-4b34-8c43-632cd5f24cc5",
        "id": "fTdoBsfyVU7n"
      },
      "execution_count": null,
      "outputs": [
        {
          "output_type": "execute_result",
          "data": {
            "text/plain": [
              "Blending()"
            ],
            "text/html": [
              "<style>#sk-container-id-5 {color: black;background-color: white;}#sk-container-id-5 pre{padding: 0;}#sk-container-id-5 div.sk-toggleable {background-color: white;}#sk-container-id-5 label.sk-toggleable__label {cursor: pointer;display: block;width: 100%;margin-bottom: 0;padding: 0.3em;box-sizing: border-box;text-align: center;}#sk-container-id-5 label.sk-toggleable__label-arrow:before {content: \"▸\";float: left;margin-right: 0.25em;color: #696969;}#sk-container-id-5 label.sk-toggleable__label-arrow:hover:before {color: black;}#sk-container-id-5 div.sk-estimator:hover label.sk-toggleable__label-arrow:before {color: black;}#sk-container-id-5 div.sk-toggleable__content {max-height: 0;max-width: 0;overflow: hidden;text-align: left;background-color: #f0f8ff;}#sk-container-id-5 div.sk-toggleable__content pre {margin: 0.2em;color: black;border-radius: 0.25em;background-color: #f0f8ff;}#sk-container-id-5 input.sk-toggleable__control:checked~div.sk-toggleable__content {max-height: 200px;max-width: 100%;overflow: auto;}#sk-container-id-5 input.sk-toggleable__control:checked~label.sk-toggleable__label-arrow:before {content: \"▾\";}#sk-container-id-5 div.sk-estimator input.sk-toggleable__control:checked~label.sk-toggleable__label {background-color: #d4ebff;}#sk-container-id-5 div.sk-label input.sk-toggleable__control:checked~label.sk-toggleable__label {background-color: #d4ebff;}#sk-container-id-5 input.sk-hidden--visually {border: 0;clip: rect(1px 1px 1px 1px);clip: rect(1px, 1px, 1px, 1px);height: 1px;margin: -1px;overflow: hidden;padding: 0;position: absolute;width: 1px;}#sk-container-id-5 div.sk-estimator {font-family: monospace;background-color: #f0f8ff;border: 1px dotted black;border-radius: 0.25em;box-sizing: border-box;margin-bottom: 0.5em;}#sk-container-id-5 div.sk-estimator:hover {background-color: #d4ebff;}#sk-container-id-5 div.sk-parallel-item::after {content: \"\";width: 100%;border-bottom: 1px solid gray;flex-grow: 1;}#sk-container-id-5 div.sk-label:hover label.sk-toggleable__label {background-color: #d4ebff;}#sk-container-id-5 div.sk-serial::before {content: \"\";position: absolute;border-left: 1px solid gray;box-sizing: border-box;top: 0;bottom: 0;left: 50%;z-index: 0;}#sk-container-id-5 div.sk-serial {display: flex;flex-direction: column;align-items: center;background-color: white;padding-right: 0.2em;padding-left: 0.2em;position: relative;}#sk-container-id-5 div.sk-item {position: relative;z-index: 1;}#sk-container-id-5 div.sk-parallel {display: flex;align-items: stretch;justify-content: center;background-color: white;position: relative;}#sk-container-id-5 div.sk-item::before, #sk-container-id-5 div.sk-parallel-item::before {content: \"\";position: absolute;border-left: 1px solid gray;box-sizing: border-box;top: 0;bottom: 0;left: 50%;z-index: -1;}#sk-container-id-5 div.sk-parallel-item {display: flex;flex-direction: column;z-index: 1;position: relative;background-color: white;}#sk-container-id-5 div.sk-parallel-item:first-child::after {align-self: flex-end;width: 50%;}#sk-container-id-5 div.sk-parallel-item:last-child::after {align-self: flex-start;width: 50%;}#sk-container-id-5 div.sk-parallel-item:only-child::after {width: 0;}#sk-container-id-5 div.sk-dashed-wrapped {border: 1px dashed gray;margin: 0 0.4em 0.5em 0.4em;box-sizing: border-box;padding-bottom: 0.4em;background-color: white;}#sk-container-id-5 div.sk-label label {font-family: monospace;font-weight: bold;display: inline-block;line-height: 1.2em;}#sk-container-id-5 div.sk-label-container {text-align: center;}#sk-container-id-5 div.sk-container {/* jupyter's `normalize.less` sets `[hidden] { display: none; }` but bootstrap.min.css set `[hidden] { display: none !important; }` so we also need the `!important` here to be able to override the default hidden behavior on the sphinx rendered scikit-learn.org. See: https://github.com/scikit-learn/scikit-learn/issues/21755 */display: inline-block !important;position: relative;}#sk-container-id-5 div.sk-text-repr-fallback {display: none;}</style><div id=\"sk-container-id-5\" class=\"sk-top-container\"><div class=\"sk-text-repr-fallback\"><pre>Blending()</pre><b>In a Jupyter environment, please rerun this cell to show the HTML representation or trust the notebook. <br />On GitHub, the HTML representation is unable to render, please try loading this page with nbviewer.org.</b></div><div class=\"sk-container\" hidden><div class=\"sk-item\"><div class=\"sk-estimator sk-toggleable\"><input class=\"sk-toggleable__control sk-hidden--visually\" id=\"sk-estimator-id-5\" type=\"checkbox\" checked><label for=\"sk-estimator-id-5\" class=\"sk-toggleable__label sk-toggleable__label-arrow\">Blending</label><div class=\"sk-toggleable__content\"><pre>Blending()</pre></div></div></div></div></div>"
            ]
          },
          "metadata": {},
          "execution_count": 68
        }
      ]
    },
    {
      "cell_type": "code",
      "execution_count": null,
      "metadata": {
        "outputId": "bb14f5e5-7ac1-45fe-a105-9e5f92cf3771",
        "colab": {
          "base_uri": "https://localhost:8080/"
        },
        "id": "KAo7QFpeVU7n"
      },
      "outputs": [
        {
          "output_type": "stream",
          "name": "stdout",
          "text": [
            "[[ 3120.4         3064.89        2188.65625   ]\n",
            " [15429.4        13244.59        9144.24316406]\n",
            " [12669.8        11382.29       11786.86328125]\n",
            " ...\n",
            " [17596.2        16190.726      14383.63574219]\n",
            " [ 8200.          9340.89        8442.81542969]\n",
            " [18158.2        20458.84       24630.02929688]]\n",
            "Blending RMSE:  5148.438239334698\n"
          ]
        }
      ],
      "source": [
        "y_pred = bl_3.predict(X_val)\n",
        "bl_3_score = np.sqrt(mean_squared_error(y_val, y_pred))\n",
        "print('Blending RMSE: ', bl_3_score)"
      ]
    },
    {
      "cell_type": "markdown",
      "source": [
        "Hmmm looking at this, I think that the neural network is not necesarrily getting better, it's more to because our model can't learn really well with complex models, let's stick with models_selected_2"
      ],
      "metadata": {
        "id": "L25fWKktYJJI"
      }
    },
    {
      "cell_type": "markdown",
      "source": [
        "#### Model 7: Experimenting on DNN with 4 models as the base layer"
      ],
      "metadata": {
        "id": "O6BkXIZHPtek"
      }
    },
    {
      "cell_type": "code",
      "source": [
        "models_selected_2"
      ],
      "metadata": {
        "colab": {
          "base_uri": "https://localhost:8080/"
        },
        "id": "wOS1uYqOQXtZ",
        "outputId": "27d5e428-7672-4255-83ba-ee7c56a09d68"
      },
      "execution_count": null,
      "outputs": [
        {
          "output_type": "execute_result",
          "data": {
            "text/plain": [
              "[('lr', LinearRegression()),\n",
              " ('knn', KNeighborsRegressor()),\n",
              " ('rfr', RandomForestRegressor()),\n",
              " ('xgb',\n",
              "  XGBRegressor(base_score=None, booster=None, callbacks=None,\n",
              "               colsample_bylevel=None, colsample_bynode=None,\n",
              "               colsample_bytree=None, device=None, early_stopping_rounds=None,\n",
              "               enable_categorical=False, eval_metric=None, feature_types=None,\n",
              "               gamma=None, grow_policy=None, importance_type=None,\n",
              "               interaction_constraints=None, learning_rate=None, max_bin=None,\n",
              "               max_cat_threshold=None, max_cat_to_onehot=None,\n",
              "               max_delta_step=None, max_depth=None, max_leaves=None,\n",
              "               min_child_weight=None, missing=nan, monotone_constraints=None,\n",
              "               multi_strategy=None, n_estimators=None, n_jobs=None,\n",
              "               num_parallel_tree=None, random_state=None, ...))]"
            ]
          },
          "metadata": {},
          "execution_count": 70
        }
      ]
    },
    {
      "cell_type": "code",
      "source": [
        "layer_structure = [4,10, 10, 1]\n",
        "net_7 = Network(layer_structure, 300, 1e-8, 16)\n",
        "net_7.fit(meta_X_train_formatted_selected_2, y_train_formatted)\n"
      ],
      "metadata": {
        "colab": {
          "base_uri": "https://localhost:8080/"
        },
        "id": "qQ62GIgcWzL5",
        "outputId": "098951d9-556d-42bd-fdce-e24b2bd8e30a"
      },
      "execution_count": null,
      "outputs": [
        {
          "output_type": "stream",
          "name": "stdout",
          "text": [
            "Epoch: 0 Train RMSE: 17707.089918486185 Valid RMSE: 18160.570708788528\n",
            "Epoch: 1 Train RMSE: 17707.048981129803 Valid RMSE: 18160.53102801275\n",
            "Epoch: 2 Train RMSE: 17707.00790757849 Valid RMSE: 18160.491190520563\n",
            "Epoch: 3 Train RMSE: 17706.966662835384 Valid RMSE: 18160.451162409416\n",
            "Epoch: 4 Train RMSE: 17706.92521173883 Valid RMSE: 18160.4109095966\n",
            "Epoch: 5 Train RMSE: 17706.883518928396 Valid RMSE: 18160.37039778668\n",
            "Epoch: 6 Train RMSE: 17706.841548810276 Valid RMSE: 18160.329592438375\n",
            "Epoch: 7 Train RMSE: 17706.799265522073 Valid RMSE: 18160.28845873081\n",
            "Epoch: 8 Train RMSE: 17706.75663289671 Valid RMSE: 18160.24696152903\n",
            "Epoch: 9 Train RMSE: 17706.71361442554 Valid RMSE: 18160.20506534862\n",
            "Epoch: 10 Train RMSE: 17706.67017322034 Valid RMSE: 18160.16273431949\n",
            "Epoch: 11 Train RMSE: 17706.626271974266 Valid RMSE: 18160.11993214854\n",
            "Epoch: 12 Train RMSE: 17706.58187292146 Valid RMSE: 18160.076622081197\n",
            "Epoch: 13 Train RMSE: 17706.536937795343 Valid RMSE: 18160.03276686171\n",
            "Epoch: 14 Train RMSE: 17706.491427785317 Valid RMSE: 18159.98832869202\n",
            "Epoch: 15 Train RMSE: 17706.44530349182 Valid RMSE: 18159.943269189134\n",
            "Epoch: 16 Train RMSE: 17706.39852487954 Valid RMSE: 18159.897549340847\n",
            "Epoch: 17 Train RMSE: 17706.351051228623 Valid RMSE: 18159.85112945965\n",
            "Epoch: 18 Train RMSE: 17706.30284108371 Valid RMSE: 18159.803969134704\n",
            "Epoch: 19 Train RMSE: 17706.253852200618 Valid RMSE: 18159.756027181662\n",
            "Epoch: 20 Train RMSE: 17706.20404149043 Valid RMSE: 18159.707261590247\n",
            "Epoch: 21 Train RMSE: 17706.15336496085 Valid RMSE: 18159.657629469315\n",
            "Epoch: 22 Train RMSE: 17706.101777654516 Valid RMSE: 18159.607086989232\n",
            "Epoch: 23 Train RMSE: 17706.049233584108 Valid RMSE: 18159.55558932138\n",
            "Epoch: 24 Train RMSE: 17705.995685663886 Valid RMSE: 18159.50309057454\n",
            "Epoch: 25 Train RMSE: 17705.941085637525 Valid RMSE: 18159.449543727893\n",
            "Epoch: 26 Train RMSE: 17705.88538400176 Valid RMSE: 18159.39490056038\n",
            "Epoch: 27 Train RMSE: 17705.82852992571 Valid RMSE: 18159.339111576177\n",
            "Epoch: 28 Train RMSE: 17705.770471165404 Valid RMSE: 18159.282125925933\n",
            "Epoch: 29 Train RMSE: 17705.71115397315 Valid RMSE: 18159.223891323454\n",
            "Epoch: 30 Train RMSE: 17705.650523001408 Valid RMSE: 18159.164353957523\n",
            "Epoch: 31 Train RMSE: 17705.588521200705 Valid RMSE: 18159.10345839839\n",
            "Epoch: 32 Train RMSE: 17705.525089711056 Valid RMSE: 18159.041147498618\n",
            "Epoch: 33 Train RMSE: 17705.4601677465 Valid RMSE: 18158.97736228779\n",
            "Epoch: 34 Train RMSE: 17705.393692472135 Valid RMSE: 18158.912041860633\n",
            "Epoch: 35 Train RMSE: 17705.325598873056 Valid RMSE: 18158.84512325796\n",
            "Epoch: 36 Train RMSE: 17705.25581961463 Valid RMSE: 18158.776541340027\n",
            "Epoch: 37 Train RMSE: 17705.184284893334 Valid RMSE: 18158.70622865155\n",
            "Epoch: 38 Train RMSE: 17705.110922277447 Valid RMSE: 18158.634115277837\n",
            "Epoch: 39 Train RMSE: 17705.035656536835 Valid RMSE: 18158.560128691257\n",
            "Epoch: 40 Train RMSE: 17704.958409460833 Valid RMSE: 18158.484193587363\n",
            "Epoch: 41 Train RMSE: 17704.879099663416 Valid RMSE: 18158.406231709734\n",
            "Epoch: 42 Train RMSE: 17704.797642374513 Valid RMSE: 18158.326161662753\n",
            "Epoch: 43 Train RMSE: 17704.7139492164 Valid RMSE: 18158.243898711247\n",
            "Epoch: 44 Train RMSE: 17704.62792796392 Valid RMSE: 18158.159354565993\n",
            "Epoch: 45 Train RMSE: 17704.539482287255 Valid RMSE: 18158.07243715389\n",
            "Epoch: 46 Train RMSE: 17704.4485114757 Valid RMSE: 18157.98305037156\n",
            "Epoch: 47 Train RMSE: 17704.354910140988 Valid RMSE: 18157.891093821036\n",
            "Epoch: 48 Train RMSE: 17704.258567898334 Valid RMSE: 18157.796462525945\n",
            "Epoch: 49 Train RMSE: 17704.15936902339 Valid RMSE: 18157.69904662668\n",
            "Epoch: 50 Train RMSE: 17704.05719208301 Valid RMSE: 18157.598731052705\n",
            "Epoch: 51 Train RMSE: 17703.951909537627 Valid RMSE: 18157.49539517002\n",
            "Epoch: 52 Train RMSE: 17703.843387312718 Valid RMSE: 18157.388912401748\n",
            "Epoch: 53 Train RMSE: 17703.73148433672 Valid RMSE: 18157.279149819395\n",
            "Epoch: 54 Train RMSE: 17703.616052042413 Valid RMSE: 18157.16596770233\n",
            "Epoch: 55 Train RMSE: 17703.496933828523 Valid RMSE: 18157.0492190626\n",
            "Epoch: 56 Train RMSE: 17703.373964477985 Valid RMSE: 18156.92874913199\n",
            "Epoch: 57 Train RMSE: 17703.246969528973 Valid RMSE: 18156.804394808038\n",
            "Epoch: 58 Train RMSE: 17703.115764594313 Valid RMSE: 18156.675984055157\n",
            "Epoch: 59 Train RMSE: 17702.980154624598 Valid RMSE: 18156.543335256774\n",
            "Epoch: 60 Train RMSE: 17702.83993310972 Valid RMSE: 18156.40625651405\n",
            "Epoch: 61 Train RMSE: 17702.69488121303 Valid RMSE: 18156.26454488604\n",
            "Epoch: 62 Train RMSE: 17702.54476683173 Valid RMSE: 18156.117985565867\n",
            "Epoch: 63 Train RMSE: 17702.389343576415 Valid RMSE: 18155.96635098677\n",
            "Epoch: 64 Train RMSE: 17702.228349661924 Valid RMSE: 18155.809399851223\n",
            "Epoch: 65 Train RMSE: 17702.061506700797 Valid RMSE: 18155.646876075665\n",
            "Epoch: 66 Train RMSE: 17701.888518389653 Valid RMSE: 18155.47850764251\n",
            "Epoch: 67 Train RMSE: 17701.709069077824 Valid RMSE: 18155.304005350135\n",
            "Epoch: 68 Train RMSE: 17701.52282220621 Valid RMSE: 18155.123061450646\n",
            "Epoch: 69 Train RMSE: 17701.329418603145 Valid RMSE: 18154.93534816384\n",
            "Epoch: 70 Train RMSE: 17701.12847462237 Valid RMSE: 18154.74051605471\n",
            "Epoch: 71 Train RMSE: 17700.91958010654 Valid RMSE: 18154.53819226011\n",
            "Epoch: 72 Train RMSE: 17700.702296157797 Valid RMSE: 18154.327978548696\n",
            "Epoch: 73 Train RMSE: 17700.476152694595 Valid RMSE: 18154.109449196272\n",
            "Epoch: 74 Train RMSE: 17700.240645771544 Valid RMSE: 18153.882148656496\n",
            "Epoch: 75 Train RMSE: 17699.995234636175 Valid RMSE: 18153.645589004514\n",
            "Epoch: 76 Train RMSE: 17699.73933849327 Valid RMSE: 18153.399247128255\n",
            "Epoch: 77 Train RMSE: 17699.47233294371 Valid RMSE: 18153.142561638957\n",
            "Epoch: 78 Train RMSE: 17699.193546060604 Valid RMSE: 18152.87492946892\n",
            "Epoch: 79 Train RMSE: 17698.902254060653 Valid RMSE: 18152.595702120238\n",
            "Epoch: 80 Train RMSE: 17698.59767652321 Valid RMSE: 18152.304181523752\n",
            "Epoch: 81 Train RMSE: 17698.278971103206 Valid RMSE: 18151.999615461773\n",
            "Epoch: 82 Train RMSE: 17697.945227676853 Valid RMSE: 18151.681192502136\n",
            "Epoch: 83 Train RMSE: 17697.595461850815 Valid RMSE: 18151.348036383955\n",
            "Epoch: 84 Train RMSE: 17697.228607755886 Valid RMSE: 18150.99919978707\n",
            "Epoch: 85 Train RMSE: 17696.843510035254 Valid RMSE: 18150.633657407932\n",
            "Epoch: 86 Train RMSE: 17696.43891492459 Valid RMSE: 18150.250298253435\n",
            "Epoch: 87 Train RMSE: 17696.013460306567 Valid RMSE: 18149.84791705166\n",
            "Epoch: 88 Train RMSE: 17695.565664605114 Valid RMSE: 18149.42520466365\n",
            "Epoch: 89 Train RMSE: 17695.093914364978 Valid RMSE: 18148.98073736316\n",
            "Epoch: 90 Train RMSE: 17694.596450338748 Valid RMSE: 18148.512964831283\n",
            "Epoch: 91 Train RMSE: 17694.07135187657 Valid RMSE: 18148.020196689544\n",
            "Epoch: 92 Train RMSE: 17693.516519381952 Valid RMSE: 18147.50058736748\n",
            "Epoch: 93 Train RMSE: 17692.929654559997 Valid RMSE: 18146.95211906884\n",
            "Epoch: 94 Train RMSE: 17692.30823814049 Valid RMSE: 18146.372582562468\n",
            "Epoch: 95 Train RMSE: 17691.64950470702 Valid RMSE: 18145.75955547956\n",
            "Epoch: 96 Train RMSE: 17690.950414202274 Valid RMSE: 18145.110377746212\n",
            "Epoch: 97 Train RMSE: 17690.20761960781 Valid RMSE: 18144.422123717755\n",
            "Epoch: 98 Train RMSE: 17689.417430210917 Valid RMSE: 18143.69157020916\n",
            "Epoch: 99 Train RMSE: 17688.57576976975 Valid RMSE: 18142.91515564211\n",
            "Epoch: 100 Train RMSE: 17687.678128766136 Valid RMSE: 18142.0889295049\n",
            "Epoch: 101 Train RMSE: 17686.71950979051 Valid RMSE: 18141.208539828123\n",
            "Epoch: 102 Train RMSE: 17685.694364928804 Valid RMSE: 18140.2691444357\n",
            "Epoch: 103 Train RMSE: 17684.59652381132 Valid RMSE: 18139.26534866853\n",
            "Epoch: 104 Train RMSE: 17683.4191107301 Valid RMSE: 18138.19115023246\n",
            "Epoch: 105 Train RMSE: 17682.15444662372 Valid RMSE: 18137.039646530367\n",
            "Epoch: 106 Train RMSE: 17680.79322985988 Valid RMSE: 18135.803207162648\n",
            "Epoch: 107 Train RMSE: 17679.326158393316 Valid RMSE: 18134.473533456236\n",
            "Epoch: 108 Train RMSE: 17677.742122851494 Valid RMSE: 18133.039914723646\n",
            "Epoch: 109 Train RMSE: 17676.025074474754 Valid RMSE: 18131.490810601907\n",
            "Epoch: 110 Train RMSE: 17674.16133802447 Valid RMSE: 18129.812753326732\n",
            "Epoch: 111 Train RMSE: 17672.13372754515 Valid RMSE: 18127.991960125088\n",
            "Epoch: 112 Train RMSE: 17669.92306523879 Valid RMSE: 18126.01043030171\n",
            "Epoch: 113 Train RMSE: 17667.504138694825 Valid RMSE: 18123.848764757604\n",
            "Epoch: 114 Train RMSE: 17664.852456679328 Valid RMSE: 18121.48387755058\n",
            "Epoch: 115 Train RMSE: 17661.93547179539 Valid RMSE: 18118.89197726865\n",
            "Epoch: 116 Train RMSE: 17658.725817576218 Valid RMSE: 18116.04383660371\n",
            "Epoch: 117 Train RMSE: 17655.184327722596 Valid RMSE: 18112.90250553475\n",
            "Epoch: 118 Train RMSE: 17651.260656485654 Valid RMSE: 18109.428525771873\n",
            "Epoch: 119 Train RMSE: 17646.899274832227 Valid RMSE: 18105.566275975874\n",
            "Epoch: 120 Train RMSE: 17642.015853807447 Valid RMSE: 18101.252126381925\n",
            "Epoch: 121 Train RMSE: 17636.532036523837 Valid RMSE: 18096.410758735652\n",
            "Epoch: 122 Train RMSE: 17630.324387912013 Valid RMSE: 18090.950692624796\n",
            "Epoch: 123 Train RMSE: 17623.297736495904 Valid RMSE: 18084.780207541797\n",
            "Epoch: 124 Train RMSE: 17615.320782682207 Valid RMSE: 18077.768514671618\n",
            "Epoch: 125 Train RMSE: 17606.202781428456 Valid RMSE: 18069.76774803635\n",
            "Epoch: 126 Train RMSE: 17595.75531445119 Valid RMSE: 18060.596193120087\n",
            "Epoch: 127 Train RMSE: 17583.73098063499 Valid RMSE: 18050.035108419917\n",
            "Epoch: 128 Train RMSE: 17569.8524137163 Valid RMSE: 18037.82333443851\n",
            "Epoch: 129 Train RMSE: 17553.73873866242 Valid RMSE: 18023.591977121196\n",
            "Epoch: 130 Train RMSE: 17534.83185422946 Valid RMSE: 18006.876349551527\n",
            "Epoch: 131 Train RMSE: 17512.549195393603 Valid RMSE: 17987.162362661\n",
            "Epoch: 132 Train RMSE: 17486.182333372068 Valid RMSE: 17963.728235940187\n",
            "Epoch: 133 Train RMSE: 17454.694264187256 Valid RMSE: 17935.642075420696\n",
            "Epoch: 134 Train RMSE: 17416.819432136217 Valid RMSE: 17901.73781338716\n",
            "Epoch: 135 Train RMSE: 17370.935668309292 Valid RMSE: 17860.4624207059\n",
            "Epoch: 136 Train RMSE: 17314.819216178625 Valid RMSE: 17809.71462193447\n",
            "Epoch: 137 Train RMSE: 17245.551562181143 Valid RMSE: 17746.746254998896\n",
            "Epoch: 138 Train RMSE: 17159.24582728756 Valid RMSE: 17667.72843461609\n",
            "Epoch: 139 Train RMSE: 17050.299559085313 Valid RMSE: 17567.419042619462\n",
            "Epoch: 140 Train RMSE: 16911.428615262434 Valid RMSE: 17438.79777410797\n",
            "Epoch: 141 Train RMSE: 16732.47900331214 Valid RMSE: 17271.9251181699\n",
            "Epoch: 142 Train RMSE: 16499.14782355791 Valid RMSE: 17053.285035392524\n",
            "Epoch: 143 Train RMSE: 16192.234122386903 Valid RMSE: 16764.5432686687\n",
            "Epoch: 144 Train RMSE: 15785.596673152997 Valid RMSE: 16381.715763712404\n",
            "Epoch: 145 Train RMSE: 15246.051521987492 Valid RMSE: 15876.290168798285\n",
            "Epoch: 146 Train RMSE: 14535.900498085944 Valid RMSE: 15220.496798575987\n",
            "Epoch: 147 Train RMSE: 13623.499470190332 Valid RMSE: 14404.172566060504\n",
            "Epoch: 148 Train RMSE: 12513.768460772213 Valid RMSE: 13461.394028851559\n",
            "Epoch: 149 Train RMSE: 11287.88968841469 Valid RMSE: 12494.530310581818\n",
            "Epoch: 150 Train RMSE: 10126.89975282205 Valid RMSE: 11650.218603656958\n",
            "Epoch: 151 Train RMSE: 9240.46734270504 Valid RMSE: 11034.121171443174\n",
            "Epoch: 152 Train RMSE: 8715.989026739024 Valid RMSE: 10649.719124298754\n",
            "Epoch: 153 Train RMSE: 8472.580895115878 Valid RMSE: 10432.568839348358\n",
            "Epoch: 154 Train RMSE: 8377.272800085806 Valid RMSE: 10314.42477015069\n",
            "Epoch: 155 Train RMSE: 8341.214242823158 Valid RMSE: 10249.572139986774\n",
            "Epoch: 156 Train RMSE: 8324.940837437449 Valid RMSE: 10212.442211211963\n",
            "Epoch: 157 Train RMSE: 8314.535690246328 Valid RMSE: 10189.5916859413\n",
            "Epoch: 158 Train RMSE: 8305.705277967521 Valid RMSE: 10174.096507679582\n",
            "Epoch: 159 Train RMSE: 8297.23053107346 Valid RMSE: 10162.38700009618\n",
            "Epoch: 160 Train RMSE: 8288.787085964113 Valid RMSE: 10152.605287858642\n",
            "Epoch: 161 Train RMSE: 8280.2950283705 Valid RMSE: 10143.773216308378\n",
            "Epoch: 162 Train RMSE: 8271.737150841704 Valid RMSE: 10135.406763970255\n",
            "Epoch: 163 Train RMSE: 8263.110736279046 Valid RMSE: 10127.230965034893\n",
            "Epoch: 164 Train RMSE: 8254.415596564424 Valid RMSE: 10119.110681635126\n",
            "Epoch: 165 Train RMSE: 8245.651483728234 Valid RMSE: 10110.99513471075\n",
            "Epoch: 166 Train RMSE: 8236.817737571508 Valid RMSE: 10102.863652472979\n",
            "Epoch: 167 Train RMSE: 8227.913372661491 Valid RMSE: 10094.656903705041\n",
            "Epoch: 168 Train RMSE: 8218.93719672434 Valid RMSE: 10086.35331382773\n",
            "Epoch: 169 Train RMSE: 8209.88789190773 Valid RMSE: 10077.966142519319\n",
            "Epoch: 170 Train RMSE: 8200.418561632374 Valid RMSE: 10069.64451781869\n",
            "Epoch: 171 Train RMSE: 8190.313768015901 Valid RMSE: 10060.993863839261\n",
            "Epoch: 172 Train RMSE: 8180.1182742017445 Valid RMSE: 10052.093199213603\n",
            "Epoch: 173 Train RMSE: 8169.828117913067 Valid RMSE: 10043.026319047038\n",
            "Epoch: 174 Train RMSE: 8159.4402077024015 Valid RMSE: 10033.813342820466\n",
            "Epoch: 175 Train RMSE: 8148.680544666404 Valid RMSE: 10024.644028687599\n",
            "Epoch: 176 Train RMSE: 8137.021887309018 Valid RMSE: 10015.094753900545\n",
            "Epoch: 177 Train RMSE: 8125.243342565773 Valid RMSE: 10005.299009057815\n",
            "Epoch: 178 Train RMSE: 8113.339394095459 Valid RMSE: 9995.296973977223\n",
            "Epoch: 179 Train RMSE: 8101.254923522965 Valid RMSE: 9985.463953170265\n",
            "Epoch: 180 Train RMSE: 8087.159057837037 Valid RMSE: 9975.425399993692\n",
            "Epoch: 181 Train RMSE: 8071.0183030279895 Valid RMSE: 9964.908264848196\n",
            "Epoch: 182 Train RMSE: 8053.376802802051 Valid RMSE: 9953.59512394944\n",
            "Epoch: 183 Train RMSE: 8034.660550112172 Valid RMSE: 9941.575978930498\n",
            "Epoch: 184 Train RMSE: 8015.489376422916 Valid RMSE: 9928.938433145071\n",
            "Epoch: 185 Train RMSE: 7996.075704239539 Valid RMSE: 9915.908585221197\n",
            "Epoch: 186 Train RMSE: 7976.40843762201 Valid RMSE: 9902.606819613255\n",
            "Epoch: 187 Train RMSE: 7955.930917074623 Valid RMSE: 9889.420925980357\n",
            "Epoch: 188 Train RMSE: 7934.101866608903 Valid RMSE: 9875.621453673259\n",
            "Epoch: 189 Train RMSE: 7911.986362579731 Valid RMSE: 9861.435449556051\n",
            "Epoch: 190 Train RMSE: 7888.997744957164 Valid RMSE: 9847.436081786998\n",
            "Epoch: 191 Train RMSE: 7864.397114680959 Valid RMSE: 9832.685069392552\n",
            "Epoch: 192 Train RMSE: 7839.476703413478 Valid RMSE: 9817.500618274602\n",
            "Epoch: 193 Train RMSE: 7814.2232769268285 Valid RMSE: 9802.040289491695\n",
            "Epoch: 194 Train RMSE: 7788.226384901052 Valid RMSE: 9786.722497116707\n",
            "Epoch: 195 Train RMSE: 7760.340730255054 Valid RMSE: 9771.454958041213\n",
            "Epoch: 196 Train RMSE: 7730.54864607797 Valid RMSE: 9755.257511793856\n",
            "Epoch: 197 Train RMSE: 7700.355550057708 Valid RMSE: 9738.411163366549\n",
            "Epoch: 198 Train RMSE: 7669.718261558128 Valid RMSE: 9721.413248995126\n",
            "Epoch: 199 Train RMSE: 7637.553577932294 Valid RMSE: 9703.992550651908\n",
            "Epoch: 200 Train RMSE: 7604.549732906036 Valid RMSE: 9685.993853300955\n",
            "Epoch: 201 Train RMSE: 7571.061184321933 Valid RMSE: 9667.602915475787\n",
            "Epoch: 202 Train RMSE: 7537.077185031644 Valid RMSE: 9648.833180799755\n",
            "Epoch: 203 Train RMSE: 7502.51855290704 Valid RMSE: 9630.285300231775\n",
            "Epoch: 204 Train RMSE: 7465.373542562342 Valid RMSE: 9612.459554371288\n",
            "Epoch: 205 Train RMSE: 7424.320656001589 Valid RMSE: 9594.173507501953\n",
            "Epoch: 206 Train RMSE: 7380.529969945407 Valid RMSE: 9574.78012552259\n",
            "Epoch: 207 Train RMSE: 7335.174875983324 Valid RMSE: 9553.939839547102\n",
            "Epoch: 208 Train RMSE: 7289.202791476698 Valid RMSE: 9532.200781877682\n",
            "Epoch: 209 Train RMSE: 7242.602734205137 Valid RMSE: 9509.823186069869\n",
            "Epoch: 210 Train RMSE: 7195.376933599827 Valid RMSE: 9487.158744936956\n",
            "Epoch: 211 Train RMSE: 7146.898012890985 Valid RMSE: 9465.099297789864\n",
            "Epoch: 212 Train RMSE: 7096.4119594097865 Valid RMSE: 9442.063771866086\n",
            "Epoch: 213 Train RMSE: 7045.377690407828 Valid RMSE: 9418.577809589973\n",
            "Epoch: 214 Train RMSE: 6992.931784969065 Valid RMSE: 9395.901282850293\n",
            "Epoch: 215 Train RMSE: 6938.674627244263 Valid RMSE: 9372.269109076322\n",
            "Epoch: 216 Train RMSE: 6884.029352420082 Valid RMSE: 9348.059060602905\n",
            "Epoch: 217 Train RMSE: 6829.035034367826 Valid RMSE: 9323.526408214648\n",
            "Epoch: 218 Train RMSE: 6773.742922560321 Valid RMSE: 9298.913189097073\n",
            "Epoch: 219 Train RMSE: 6718.026073888276 Valid RMSE: 9275.060192327375\n",
            "Epoch: 220 Train RMSE: 6660.539749124212 Valid RMSE: 9251.299354256595\n",
            "Epoch: 221 Train RMSE: 6602.679530723508 Valid RMSE: 9227.099705349952\n",
            "Epoch: 222 Train RMSE: 6544.935581676599 Valid RMSE: 9202.819002193426\n",
            "Epoch: 223 Train RMSE: 6487.391645863278 Valid RMSE: 9178.529408602339\n",
            "Epoch: 224 Train RMSE: 6430.005703050565 Valid RMSE: 9155.580297577186\n",
            "Epoch: 225 Train RMSE: 6369.282593669726 Valid RMSE: 9131.929488881491\n",
            "Epoch: 226 Train RMSE: 6307.70392820498 Valid RMSE: 9107.009369845986\n",
            "Epoch: 227 Train RMSE: 6246.588802676008 Valid RMSE: 9081.51399416001\n",
            "Epoch: 228 Train RMSE: 6186.0249391823745 Valid RMSE: 9055.797865266606\n",
            "Epoch: 229 Train RMSE: 6125.5466078668405 Valid RMSE: 9030.803655086886\n",
            "Epoch: 230 Train RMSE: 6060.276905775695 Valid RMSE: 9004.184988628773\n",
            "Epoch: 231 Train RMSE: 5989.783774879301 Valid RMSE: 8977.803498841538\n",
            "Epoch: 232 Train RMSE: 5906.53215722229 Valid RMSE: 8946.104402714804\n",
            "Epoch: 233 Train RMSE: 5822.727793071861 Valid RMSE: 8910.439590172939\n",
            "Epoch: 234 Train RMSE: 5736.640851470019 Valid RMSE: 8871.166451222693\n",
            "Epoch: 235 Train RMSE: 5650.680841465771 Valid RMSE: 8828.72586916151\n",
            "Epoch: 236 Train RMSE: 5565.838345418965 Valid RMSE: 8784.625115661205\n",
            "Epoch: 237 Train RMSE: 5479.917578237825 Valid RMSE: 8741.122481456461\n",
            "Epoch: 238 Train RMSE: 5390.951528527336 Valid RMSE: 8693.810770195814\n",
            "Epoch: 239 Train RMSE: 5300.4721083839795 Valid RMSE: 8645.794661485155\n",
            "Epoch: 240 Train RMSE: 5206.228553748385 Valid RMSE: 8593.452620583585\n",
            "Epoch: 241 Train RMSE: 5117.6336640872205 Valid RMSE: 8542.142255421702\n",
            "Epoch: 242 Train RMSE: 5042.621404817418 Valid RMSE: 8498.823106908545\n",
            "Epoch: 243 Train RMSE: 4972.464927277281 Valid RMSE: 8458.60406408727\n",
            "Epoch: 244 Train RMSE: 4907.58351468018 Valid RMSE: 8421.667046446822\n",
            "Epoch: 245 Train RMSE: 4847.007964520877 Valid RMSE: 8386.05049869395\n",
            "Epoch: 246 Train RMSE: 4788.897239582925 Valid RMSE: 8355.60591010931\n",
            "Epoch: 247 Train RMSE: 4731.23151503921 Valid RMSE: 8323.610377342635\n",
            "Epoch: 248 Train RMSE: 4677.225740063122 Valid RMSE: 8291.603056193393\n",
            "Epoch: 249 Train RMSE: 4626.614503705774 Valid RMSE: 8260.084860555302\n",
            "Epoch: 250 Train RMSE: 4579.0486368270285 Valid RMSE: 8232.095791441712\n",
            "Epoch: 251 Train RMSE: 4531.920088379053 Valid RMSE: 8204.75009988136\n",
            "Epoch: 252 Train RMSE: 4486.988576967762 Valid RMSE: 8176.252226204822\n",
            "Epoch: 253 Train RMSE: 4444.813677067579 Valid RMSE: 8148.359664517451\n",
            "Epoch: 254 Train RMSE: 4403.117503935938 Valid RMSE: 8120.268244554692\n",
            "Epoch: 255 Train RMSE: 4366.393014561229 Valid RMSE: 8097.609583176556\n",
            "Epoch: 256 Train RMSE: 4334.534228118134 Valid RMSE: 8078.2624207018835\n",
            "Epoch: 257 Train RMSE: 4305.764637946303 Valid RMSE: 8059.274286055122\n",
            "Epoch: 258 Train RMSE: 4276.697029520644 Valid RMSE: 8043.527659207971\n",
            "Epoch: 259 Train RMSE: 4247.072786324342 Valid RMSE: 8028.571960357829\n",
            "Epoch: 260 Train RMSE: 4219.457433582095 Valid RMSE: 8010.8273630954\n",
            "Epoch: 261 Train RMSE: 4192.311869063007 Valid RMSE: 7994.04258631714\n",
            "Epoch: 262 Train RMSE: 4170.186391586773 Valid RMSE: 7976.872158520632\n",
            "Epoch: 263 Train RMSE: 4148.870595313883 Valid RMSE: 7956.62959140013\n",
            "Epoch: 264 Train RMSE: 4128.538557802048 Valid RMSE: 7939.1061053628755\n",
            "Epoch: 265 Train RMSE: 4110.767009360254 Valid RMSE: 7920.160359766357\n",
            "Epoch: 266 Train RMSE: 4094.4528663037668 Valid RMSE: 7901.74577405237\n",
            "Epoch: 267 Train RMSE: 4079.2131345574603 Valid RMSE: 7884.107944678933\n",
            "Epoch: 268 Train RMSE: 4065.122763270705 Valid RMSE: 7865.544832374812\n",
            "Epoch: 269 Train RMSE: 4051.9381001035545 Valid RMSE: 7847.337181305812\n",
            "Epoch: 270 Train RMSE: 4039.33077912327 Valid RMSE: 7828.632478074381\n",
            "Epoch: 271 Train RMSE: 4026.5766113930054 Valid RMSE: 7812.794137469678\n",
            "Epoch: 272 Train RMSE: 4014.9795232916954 Valid RMSE: 7793.267193683541\n",
            "Epoch: 273 Train RMSE: 4004.4049489532636 Valid RMSE: 7777.355921644797\n",
            "Epoch: 274 Train RMSE: 3993.7376646404828 Valid RMSE: 7757.326440499382\n",
            "Epoch: 275 Train RMSE: 3983.984073065837 Valid RMSE: 7739.795630485465\n",
            "Epoch: 276 Train RMSE: 3974.609698746036 Valid RMSE: 7724.9603896970075\n",
            "Epoch: 277 Train RMSE: 3964.2402098084544 Valid RMSE: 7705.894777492512\n",
            "Epoch: 278 Train RMSE: 3955.1274042428886 Valid RMSE: 7689.573276716512\n",
            "Epoch: 279 Train RMSE: 3946.3927502640854 Valid RMSE: 7676.332385171726\n",
            "Epoch: 280 Train RMSE: 3936.5524133195395 Valid RMSE: 7658.489539807171\n",
            "Epoch: 281 Train RMSE: 3927.3794506743748 Valid RMSE: 7640.467765404632\n",
            "Epoch: 282 Train RMSE: 3918.4569294531375 Valid RMSE: 7623.903609575943\n",
            "Epoch: 283 Train RMSE: 3910.133748550186 Valid RMSE: 7610.708005123842\n",
            "Epoch: 284 Train RMSE: 3901.2787775582055 Valid RMSE: 7596.863125479068\n",
            "Epoch: 285 Train RMSE: 3892.2404368374964 Valid RMSE: 7580.284084898678\n",
            "Epoch: 286 Train RMSE: 3883.532365786988 Valid RMSE: 7563.659423134455\n",
            "Epoch: 287 Train RMSE: 3874.923843463754 Valid RMSE: 7547.288062345382\n",
            "Epoch: 288 Train RMSE: 3866.384718092005 Valid RMSE: 7531.155017696285\n",
            "Epoch: 289 Train RMSE: 3857.9045772232057 Valid RMSE: 7515.26157804411\n",
            "Epoch: 290 Train RMSE: 3849.477096645217 Valid RMSE: 7499.609889261592\n",
            "Epoch: 291 Train RMSE: 3841.0977243346933 Valid RMSE: 7484.151344809355\n",
            "Epoch: 292 Train RMSE: 3832.763062504876 Valid RMSE: 7468.850770125634\n",
            "Epoch: 293 Train RMSE: 3824.4705482234917 Valid RMSE: 7453.714026382407\n",
            "Epoch: 294 Train RMSE: 3816.218234280801 Valid RMSE: 7438.710132676891\n",
            "Epoch: 295 Train RMSE: 3808.0046292307097 Valid RMSE: 7423.815472377119\n",
            "Epoch: 296 Train RMSE: 3799.828579453293 Valid RMSE: 7408.989347208636\n",
            "Epoch: 297 Train RMSE: 3791.689182127021 Valid RMSE: 7394.233768886565\n",
            "Epoch: 298 Train RMSE: 3783.58572104143 Valid RMSE: 7379.547242022317\n",
            "Epoch: 299 Train RMSE: 3775.5176192780496 Valid RMSE: 7364.946251876565\n"
          ]
        }
      ]
    },
    {
      "cell_type": "code",
      "source": [
        "y_pred =  net_7.predict(meta_X_val_formatted_selected_2)\n",
        "model_7_result = np.sqrt(mean_squared_error(y_val_formatted, y_pred))\n",
        "model_7_result"
      ],
      "metadata": {
        "colab": {
          "base_uri": "https://localhost:8080/"
        },
        "id": "5lk98DSAW-9s",
        "outputId": "43a1616d-e54d-418b-d14d-dbff4202553e"
      },
      "execution_count": null,
      "outputs": [
        {
          "output_type": "execute_result",
          "data": {
            "text/plain": [
              "8436.585705577656"
            ]
          },
          "metadata": {},
          "execution_count": 72
        }
      ]
    },
    {
      "cell_type": "markdown",
      "source": [
        "Not that good"
      ],
      "metadata": {
        "id": "NoLBZ7Leq1wh"
      }
    },
    {
      "cell_type": "markdown",
      "source": [
        "#### Model 8: Model 7 but a deeper neueral network"
      ],
      "metadata": {
        "id": "Sz_FC1KAjd2Y"
      }
    },
    {
      "cell_type": "code",
      "source": [
        "layer_structure = [4,10, 10, 10, 1]\n",
        "net_8 = Network(layer_structure, 300, 1e-8, 8)\n",
        "net_8.fit(meta_X_train_formatted_selected_2, y_train_formatted)\n"
      ],
      "metadata": {
        "colab": {
          "base_uri": "https://localhost:8080/"
        },
        "outputId": "2a5ba192-19f9-4563-d4af-59e1bb4a1b9e",
        "id": "hDhlVTTRjlwZ"
      },
      "execution_count": null,
      "outputs": [
        {
          "output_type": "stream",
          "name": "stdout",
          "text": [
            "Epoch: 0 Train RMSE: 15677.00339466423 Valid RMSE: 18160.523127962046\n",
            "Epoch: 1 Train RMSE: 15676.97711296242 Valid RMSE: 18160.49750437994\n",
            "Epoch: 2 Train RMSE: 15676.950761336198 Valid RMSE: 18160.47180676921\n",
            "Epoch: 3 Train RMSE: 15676.924330502496 Valid RMSE: 18160.446026069905\n",
            "Epoch: 4 Train RMSE: 15676.897811131774 Valid RMSE: 18160.42015317383\n",
            "Epoch: 5 Train RMSE: 15676.871193843313 Valid RMSE: 18160.394178919876\n",
            "Epoch: 6 Train RMSE: 15676.844469200365 Valid RMSE: 18160.36809408918\n",
            "Epoch: 7 Train RMSE: 15676.817627705132 Valid RMSE: 18160.341889400137\n",
            "Epoch: 8 Train RMSE: 15676.790659793576 Valid RMSE: 18160.31555550324\n",
            "Epoch: 9 Train RMSE: 15676.763555830039 Valid RMSE: 18160.28908297568\n",
            "Epoch: 10 Train RMSE: 15676.736306101646 Valid RMSE: 18160.262462315797\n",
            "Epoch: 11 Train RMSE: 15676.708900812495 Valid RMSE: 18160.235683937244\n",
            "Epoch: 12 Train RMSE: 15676.681330077592 Valid RMSE: 18160.20873816292\n",
            "Epoch: 13 Train RMSE: 15676.653583916537 Valid RMSE: 18160.18161521866\n",
            "Epoch: 14 Train RMSE: 15676.625652246925 Valid RMSE: 18160.154305226595\n",
            "Epoch: 15 Train RMSE: 15676.597524877434 Valid RMSE: 18160.126798198275\n",
            "Epoch: 16 Train RMSE: 15676.569191500626 Valid RMSE: 18160.099084027366\n",
            "Epoch: 17 Train RMSE: 15676.54064168537 Valid RMSE: 18160.07115248211\n",
            "Epoch: 18 Train RMSE: 15676.511864868911 Valid RMSE: 18160.04299319733\n",
            "Epoch: 19 Train RMSE: 15676.482850348579 Valid RMSE: 18160.014595666093\n",
            "Epoch: 20 Train RMSE: 15676.45358727303 Valid RMSE: 18159.98594923091\n",
            "Epoch: 21 Train RMSE: 15676.4240646331 Valid RMSE: 18159.957043074537\n",
            "Epoch: 22 Train RMSE: 15676.394271252166 Valid RMSE: 18159.92786621027\n",
            "Epoch: 23 Train RMSE: 15676.364195776006 Valid RMSE: 18159.898407471745\n",
            "Epoch: 24 Train RMSE: 15676.333826662156 Valid RMSE: 18159.86865550222\n",
            "Epoch: 25 Train RMSE: 15676.303152168686 Valid RMSE: 18159.838598743274\n",
            "Epoch: 26 Train RMSE: 15676.272160342396 Valid RMSE: 18159.80822542291\n",
            "Epoch: 27 Train RMSE: 15676.240839006388 Valid RMSE: 18159.777523543024\n",
            "Epoch: 28 Train RMSE: 15676.209175746959 Valid RMSE: 18159.746480866226\n",
            "Epoch: 29 Train RMSE: 15676.1771578998 Valid RMSE: 18159.7150849019\n",
            "Epoch: 30 Train RMSE: 15676.144772535454 Valid RMSE: 18159.68332289155\n",
            "Epoch: 31 Train RMSE: 15676.11200644396 Valid RMSE: 18159.651181793317\n",
            "Epoch: 32 Train RMSE: 15676.07884611868 Valid RMSE: 18159.61864826567\n",
            "Epoch: 33 Train RMSE: 15676.045277739231 Valid RMSE: 18159.58570865019\n",
            "Epoch: 34 Train RMSE: 15676.011287153471 Valid RMSE: 18159.55234895338\n",
            "Epoch: 35 Train RMSE: 15675.97685985849 Valid RMSE: 18159.51855482751\n",
            "Epoch: 36 Train RMSE: 15675.941980980542 Valid RMSE: 18159.484311550354\n",
            "Epoch: 37 Train RMSE: 15675.906635253856 Valid RMSE: 18159.44960400379\n",
            "Epoch: 38 Train RMSE: 15675.870806998259 Valid RMSE: 18159.414416651223\n",
            "Epoch: 39 Train RMSE: 15675.834480095531 Valid RMSE: 18159.378733513728\n",
            "Epoch: 40 Train RMSE: 15675.79763796444 Valid RMSE: 18159.342538144803\n",
            "Epoch: 41 Train RMSE: 15675.760263534325 Valid RMSE: 18159.30581360372\n",
            "Epoch: 42 Train RMSE: 15675.7223392172 Valid RMSE: 18159.268542427355\n",
            "Epoch: 43 Train RMSE: 15675.683846878255 Valid RMSE: 18159.23070660035\n",
            "Epoch: 44 Train RMSE: 15675.64476780464 Valid RMSE: 18159.192287523598\n",
            "Epoch: 45 Train RMSE: 15675.605082672459 Valid RMSE: 18159.153265980895\n",
            "Epoch: 46 Train RMSE: 15675.564771511834 Valid RMSE: 18159.11362210362\n",
            "Epoch: 47 Train RMSE: 15675.523813669943 Valid RMSE: 18159.073335333364\n",
            "Epoch: 48 Train RMSE: 15675.48218777187 Valid RMSE: 18159.032384382353\n",
            "Epoch: 49 Train RMSE: 15675.43987167915 Valid RMSE: 18158.99074719155\n",
            "Epoch: 50 Train RMSE: 15675.396842445862 Valid RMSE: 18158.948400886202\n",
            "Epoch: 51 Train RMSE: 15675.353076272098 Valid RMSE: 18158.905321728806\n",
            "Epoch: 52 Train RMSE: 15675.308548454628 Valid RMSE: 18158.861485069177\n",
            "Epoch: 53 Train RMSE: 15675.263233334606 Valid RMSE: 18158.816865291526\n",
            "Epoch: 54 Train RMSE: 15675.217104242083 Valid RMSE: 18158.77143575831\n",
            "Epoch: 55 Train RMSE: 15675.170133437148 Valid RMSE: 18158.72516875063\n",
            "Epoch: 56 Train RMSE: 15675.122292047428 Valid RMSE: 18158.678035404937\n",
            "Epoch: 57 Train RMSE: 15675.073550001744 Valid RMSE: 18158.630005645857\n",
            "Epoch: 58 Train RMSE: 15675.023875959607 Valid RMSE: 18158.58104811474\n",
            "Epoch: 59 Train RMSE: 15674.9732372363 Valid RMSE: 18158.53113009377\n",
            "Epoch: 60 Train RMSE: 15674.921599723228 Valid RMSE: 18158.48021742522\n",
            "Epoch: 61 Train RMSE: 15674.868927803189 Valid RMSE: 18158.428274425565\n",
            "Epoch: 62 Train RMSE: 15674.815184260206 Valid RMSE: 18158.375263794034\n",
            "Epoch: 63 Train RMSE: 15674.76033018352 Valid RMSE: 18158.32114651526\n",
            "Epoch: 64 Train RMSE: 15674.704324865354 Valid RMSE: 18158.265881755524\n",
            "Epoch: 65 Train RMSE: 15674.6471256919 Valid RMSE: 18158.20942675215\n",
            "Epoch: 66 Train RMSE: 15674.58868802713 Valid RMSE: 18158.15173669555\n",
            "Epoch: 67 Train RMSE: 15674.52896508881 Valid RMSE: 18158.092764603352\n",
            "Epoch: 68 Train RMSE: 15674.46790781615 Valid RMSE: 18158.03246118596\n",
            "Epoch: 69 Train RMSE: 15674.405464728437 Valid RMSE: 18157.97077470296\n",
            "Epoch: 70 Train RMSE: 15674.341581773973 Valid RMSE: 18157.907650809582\n",
            "Epoch: 71 Train RMSE: 15674.2762021685 Valid RMSE: 18157.843032392484\n",
            "Epoch: 72 Train RMSE: 15674.20926622233 Valid RMSE: 18157.776859393965\n",
            "Epoch: 73 Train RMSE: 15674.140711155233 Valid RMSE: 18157.709068623702\n",
            "Epoch: 74 Train RMSE: 15674.070470898092 Valid RMSE: 18157.63959355693\n",
            "Epoch: 75 Train RMSE: 15673.998475880238 Valid RMSE: 18157.568364118037\n",
            "Epoch: 76 Train RMSE: 15673.924652801268 Valid RMSE: 18157.495306448254\n",
            "Epoch: 77 Train RMSE: 15673.848924386017 Valid RMSE: 18157.420342656147\n",
            "Epoch: 78 Train RMSE: 15673.771209121283 Valid RMSE: 18157.34339054942\n",
            "Epoch: 79 Train RMSE: 15673.691420972667 Valid RMSE: 18157.264363346392\n",
            "Epoch: 80 Train RMSE: 15673.609469079845 Valid RMSE: 18157.183169365388\n",
            "Epoch: 81 Train RMSE: 15673.525257428322 Valid RMSE: 18157.099711690043\n",
            "Epoch: 82 Train RMSE: 15673.438684495553 Valid RMSE: 18157.0138878084\n",
            "Epoch: 83 Train RMSE: 15673.349642869134 Valid RMSE: 18156.925589223305\n",
            "Epoch: 84 Train RMSE: 15673.258018834431 Valid RMSE: 18156.834701031592\n",
            "Epoch: 85 Train RMSE: 15673.163691928867 Valid RMSE: 18156.741101468997\n",
            "Epoch: 86 Train RMSE: 15673.066534459635 Valid RMSE: 18156.644661417628\n",
            "Epoch: 87 Train RMSE: 15672.966410981398 Valid RMSE: 18156.54524387238\n",
            "Epoch: 88 Train RMSE: 15672.863177730054 Valid RMSE: 18156.442703362252\n",
            "Epoch: 89 Train RMSE: 15672.756682008228 Valid RMSE: 18156.33688532215\n",
            "Epoch: 90 Train RMSE: 15672.646761517717 Valid RMSE: 18156.227625410214\n",
            "Epoch: 91 Train RMSE: 15672.533243633472 Valid RMSE: 18156.114748765103\n",
            "Epoch: 92 Train RMSE: 15672.415944613129 Valid RMSE: 18155.9980691971\n",
            "Epoch: 93 Train RMSE: 15672.294668735398 Valid RMSE: 18155.877388306075\n",
            "Epoch: 94 Train RMSE: 15672.169207359742 Valid RMSE: 18155.75249451857\n",
            "Epoch: 95 Train RMSE: 15672.039337898967 Valid RMSE: 18155.623162035303\n",
            "Epoch: 96 Train RMSE: 15671.904822695169 Valid RMSE: 18155.489149679343\n",
            "Epoch: 97 Train RMSE: 15671.765407788445 Valid RMSE: 18155.350199633824\n",
            "Epoch: 98 Train RMSE: 15671.620821566252 Valid RMSE: 18155.206036056956\n",
            "Epoch: 99 Train RMSE: 15671.470773279865 Valid RMSE: 18155.05636356006\n",
            "Epoch: 100 Train RMSE: 15671.314951412523 Valid RMSE: 18154.900865532967\n",
            "Epoch: 101 Train RMSE: 15671.153021881832 Valid RMSE: 18154.73920229855\n",
            "Epoch: 102 Train RMSE: 15670.984626056586 Valid RMSE: 18154.571009076022\n",
            "Epoch: 103 Train RMSE: 15670.809378565487 Valid RMSE: 18154.395893729594\n",
            "Epoch: 104 Train RMSE: 15670.626864872007 Valid RMSE: 18154.213434275964\n",
            "Epoch: 105 Train RMSE: 15670.436638586027 Valid RMSE: 18154.023176120085\n",
            "Epoch: 106 Train RMSE: 15670.238218478593 Valid RMSE: 18153.824628984443\n",
            "Epoch: 107 Train RMSE: 15670.031085161143 Valid RMSE: 18153.617263491782\n",
            "Epoch: 108 Train RMSE: 15669.814677384786 Valid RMSE: 18153.40050735514\n",
            "Epoch: 109 Train RMSE: 15669.58838790842 Valid RMSE: 18153.173741122093\n",
            "Epoch: 110 Train RMSE: 15669.351558876406 Valid RMSE: 18152.93629341169\n",
            "Epoch: 111 Train RMSE: 15669.103476637283 Valid RMSE: 18152.687435572774\n",
            "Epoch: 112 Train RMSE: 15668.843365923753 Valid RMSE: 18152.426375680854\n",
            "Epoch: 113 Train RMSE: 15668.570383301147 Valid RMSE: 18152.152251776868\n",
            "Epoch: 114 Train RMSE: 15668.283609775948 Valid RMSE: 18151.86412423501\n",
            "Epoch: 115 Train RMSE: 15667.982042437408 Valid RMSE: 18151.56096712716\n",
            "Epoch: 116 Train RMSE: 15667.664584983078 Valid RMSE: 18151.24165842841\n",
            "Epoch: 117 Train RMSE: 15667.330036952517 Valid RMSE: 18150.904968880033\n",
            "Epoch: 118 Train RMSE: 15666.97708146145 Valid RMSE: 18150.549549292817\n",
            "Epoch: 119 Train RMSE: 15666.604271189994 Valid RMSE: 18150.17391603289\n",
            "Epoch: 120 Train RMSE: 15666.210012331881 Valid RMSE: 18149.776434382944\n",
            "Epoch: 121 Train RMSE: 15665.792546154553 Valid RMSE: 18149.355299411614\n",
            "Epoch: 122 Train RMSE: 15665.349927750678 Valid RMSE: 18148.90851391035\n",
            "Epoch: 123 Train RMSE: 15664.88000147632 Valid RMSE: 18148.433862866856\n",
            "Epoch: 124 Train RMSE: 15664.380372466103 Valid RMSE: 18147.92888383278\n",
            "Epoch: 125 Train RMSE: 15663.848373485878 Valid RMSE: 18147.39083240546\n",
            "Epoch: 126 Train RMSE: 15663.281026222121 Valid RMSE: 18146.81664187152\n",
            "Epoch: 127 Train RMSE: 15662.674995905681 Valid RMSE: 18146.202875845134\n",
            "Epoch: 128 Train RMSE: 15662.026537914637 Valid RMSE: 18145.54567246304\n",
            "Epoch: 129 Train RMSE: 15661.331434681619 Valid RMSE: 18144.840678355933\n",
            "Epoch: 130 Train RMSE: 15660.584920825771 Valid RMSE: 18144.082970180145\n",
            "Epoch: 131 Train RMSE: 15659.781593912032 Valid RMSE: 18143.266960935478\n",
            "Epoch: 132 Train RMSE: 15658.915307575722 Valid RMSE: 18142.386287576333\n",
            "Epoch: 133 Train RMSE: 15657.979042890835 Valid RMSE: 18141.43367549062\n",
            "Epoch: 134 Train RMSE: 15656.964752741384 Valid RMSE: 18140.400774203037\n",
            "Epoch: 135 Train RMSE: 15655.863172487534 Valid RMSE: 18139.277957055867\n",
            "Epoch: 136 Train RMSE: 15654.663588279005 Valid RMSE: 18138.054075494085\n",
            "Epoch: 137 Train RMSE: 15653.35355178493 Valid RMSE: 18136.71615573673\n",
            "Epoch: 138 Train RMSE: 15651.918526638507 Valid RMSE: 18135.24902177786\n",
            "Epoch: 139 Train RMSE: 15650.3414471893 Valid RMSE: 18133.634823431035\n",
            "Epoch: 140 Train RMSE: 15648.602163714806 Valid RMSE: 18131.852440936465\n",
            "Epoch: 141 Train RMSE: 15646.676739334984 Valid RMSE: 18129.8767276445\n",
            "Epoch: 142 Train RMSE: 15644.536551418638 Valid RMSE: 18127.677538216365\n",
            "Epoch: 143 Train RMSE: 15642.147132652308 Valid RMSE: 18125.2184697469\n",
            "Epoch: 144 Train RMSE: 15639.466661705166 Valid RMSE: 18122.455214312253\n",
            "Epoch: 145 Train RMSE: 15636.443976784314 Valid RMSE: 18119.333379165444\n",
            "Epoch: 146 Train RMSE: 15633.015931405103 Valid RMSE: 18115.785568006995\n",
            "Epoch: 147 Train RMSE: 15629.10383095172 Valid RMSE: 18111.72742194989\n",
            "Epoch: 148 Train RMSE: 15624.608565722086 Valid RMSE: 18107.052173090673\n",
            "Epoch: 149 Train RMSE: 15619.403865685748 Valid RMSE: 18101.623035289012\n",
            "Epoch: 150 Train RMSE: 15613.326800986662 Valid RMSE: 18095.262391378328\n",
            "Epoch: 151 Train RMSE: 15606.164165366818 Valid RMSE: 18087.736137588043\n",
            "Epoch: 152 Train RMSE: 15597.6325735765 Valid RMSE: 18078.730540500255\n",
            "Epoch: 153 Train RMSE: 15587.34873329028 Valid RMSE: 18067.817213690047\n",
            "Epoch: 154 Train RMSE: 15574.78395256354 Valid RMSE: 18054.398355894697\n",
            "Epoch: 155 Train RMSE: 15559.192604060034 Valid RMSE: 18037.61861984987\n",
            "Epoch: 156 Train RMSE: 15539.496128399358 Valid RMSE: 18016.21493026299\n",
            "Epoch: 157 Train RMSE: 15514.056561259287 Valid RMSE: 17988.192384145248\n",
            "Epoch: 158 Train RMSE: 15480.232108864691 Valid RMSE: 17950.322525544685\n",
            "Epoch: 159 Train RMSE: 15433.467357626629 Valid RMSE: 17897.027235678004\n",
            "Epoch: 160 Train RMSE: 15366.189056948224 Valid RMSE: 17818.550315234774\n",
            "Epoch: 161 Train RMSE: 15264.536187754935 Valid RMSE: 17695.928012188968\n",
            "Epoch: 162 Train RMSE: 15099.919253082715 Valid RMSE: 17487.39546045234\n",
            "Epoch: 163 Train RMSE: 14805.376741492688 Valid RMSE: 17092.248393122194\n",
            "Epoch: 164 Train RMSE: 14218.9162242932 Valid RMSE: 16243.495731429872\n",
            "Epoch: 165 Train RMSE: 12900.69333821248 Valid RMSE: 14240.177372213184\n",
            "Epoch: 166 Train RMSE: 10125.782437256923 Valid RMSE: 10966.922058237773\n",
            "Epoch: 167 Train RMSE: 7725.414396593471 Valid RMSE: 9769.090298936597\n",
            "Epoch: 168 Train RMSE: 7382.654779377292 Valid RMSE: 9605.564992923506\n",
            "Epoch: 169 Train RMSE: 7217.648027025203 Valid RMSE: 9494.61592359286\n",
            "Epoch: 170 Train RMSE: 7032.48249443711 Valid RMSE: 9378.242310347254\n",
            "Epoch: 171 Train RMSE: 6797.794044196315 Valid RMSE: 9244.853344218422\n",
            "Epoch: 172 Train RMSE: 6513.202142841979 Valid RMSE: 9104.753409354105\n",
            "Epoch: 173 Train RMSE: 6092.779133864134 Valid RMSE: 8889.967191772876\n",
            "Epoch: 174 Train RMSE: 5583.634751987144 Valid RMSE: 8663.005684945774\n",
            "Epoch: 175 Train RMSE: 4813.151212600352 Valid RMSE: 8315.353166326946\n",
            "Epoch: 176 Train RMSE: 4073.1197519804296 Valid RMSE: 8023.752727934869\n",
            "Epoch: 177 Train RMSE: 3602.540909109829 Valid RMSE: 7821.797563283504\n",
            "Epoch: 178 Train RMSE: 3409.7134894229775 Valid RMSE: 7725.661363722893\n",
            "Epoch: 179 Train RMSE: 3330.048082206676 Valid RMSE: 7671.899944039481\n",
            "Epoch: 180 Train RMSE: 3284.9306402026923 Valid RMSE: 7642.821319897767\n",
            "Epoch: 181 Train RMSE: 3247.5266351254 Valid RMSE: 7624.019155232898\n",
            "Epoch: 182 Train RMSE: 3211.5565544905003 Valid RMSE: 7609.52489208002\n",
            "Epoch: 183 Train RMSE: 3175.289562793796 Valid RMSE: 7598.645833998976\n",
            "Epoch: 184 Train RMSE: 3138.4038556736436 Valid RMSE: 7588.9186464072955\n",
            "Epoch: 185 Train RMSE: 3109.701770314027 Valid RMSE: 7579.664395939623\n",
            "Epoch: 186 Train RMSE: 3087.747060162643 Valid RMSE: 7559.158479248856\n",
            "Epoch: 187 Train RMSE: 3067.6245982129235 Valid RMSE: 7550.3233015455335\n",
            "Epoch: 188 Train RMSE: 3044.747983120394 Valid RMSE: 7549.853738504501\n",
            "Epoch: 189 Train RMSE: 3010.9278090410944 Valid RMSE: 7541.847103313216\n",
            "Epoch: 190 Train RMSE: 2976.385009825056 Valid RMSE: 7544.951774490168\n",
            "Epoch: 191 Train RMSE: 2940.493441687934 Valid RMSE: 7524.384543895303\n",
            "Epoch: 192 Train RMSE: 2908.7586422516088 Valid RMSE: 7516.293639639939\n",
            "Epoch: 193 Train RMSE: 2875.959335311308 Valid RMSE: 7519.459986096222\n",
            "Epoch: 194 Train RMSE: 2842.50371650186 Valid RMSE: 7498.9150111373065\n",
            "Epoch: 195 Train RMSE: 2809.3870888154206 Valid RMSE: 7493.540399208337\n",
            "Epoch: 196 Train RMSE: 2776.9163459649417 Valid RMSE: 7501.045624347959\n",
            "Epoch: 197 Train RMSE: 2754.312270446915 Valid RMSE: 7482.610367944854\n",
            "Epoch: 198 Train RMSE: 2736.082081993115 Valid RMSE: 7476.369443673919\n",
            "Epoch: 199 Train RMSE: 2716.7088636017957 Valid RMSE: 7459.006307948103\n",
            "Epoch: 200 Train RMSE: 2699.2448458339177 Valid RMSE: 7453.817885774247\n",
            "Epoch: 201 Train RMSE: 2680.2654030071476 Valid RMSE: 7448.228243895714\n",
            "Epoch: 202 Train RMSE: 2661.6650294659494 Valid RMSE: 7442.827432263308\n",
            "Epoch: 203 Train RMSE: 2643.4752187798977 Valid RMSE: 7450.300957910035\n",
            "Epoch: 204 Train RMSE: 2623.898307130541 Valid RMSE: 7445.011882172675\n",
            "Epoch: 205 Train RMSE: 2604.9321568040205 Valid RMSE: 7435.355690440462\n",
            "Epoch: 206 Train RMSE: 2580.7783094257416 Valid RMSE: 7446.639936308541\n",
            "Epoch: 207 Train RMSE: 2551.9340726501046 Valid RMSE: 7431.894693449069\n",
            "Epoch: 208 Train RMSE: 2528.027992668194 Valid RMSE: 7443.089426212281\n",
            "Epoch: 209 Train RMSE: 2501.4970859696314 Valid RMSE: 7440.0824420580175\n",
            "Epoch: 210 Train RMSE: 2477.5131759468873 Valid RMSE: 7437.616094865981\n",
            "Epoch: 211 Train RMSE: 2453.8512921436236 Valid RMSE: 7424.126644126632\n",
            "Epoch: 212 Train RMSE: 2432.635358094727 Valid RMSE: 7435.904495194149\n",
            "Epoch: 213 Train RMSE: 2408.737077624949 Valid RMSE: 7433.068653331339\n",
            "Epoch: 214 Train RMSE: 2382.7150816509024 Valid RMSE: 7433.7338030128085\n",
            "Epoch: 215 Train RMSE: 2359.657822228469 Valid RMSE: 7425.259912858122\n",
            "Epoch: 216 Train RMSE: 2346.277383858388 Valid RMSE: 7416.62094808742\n",
            "Epoch: 217 Train RMSE: 2333.9106602219736 Valid RMSE: 7430.882433561096\n",
            "Epoch: 218 Train RMSE: 2317.708331112292 Valid RMSE: 7435.900173760149\n",
            "Epoch: 219 Train RMSE: 2299.3033308498157 Valid RMSE: 7426.944282383328\n",
            "Epoch: 220 Train RMSE: 2282.085218963766 Valid RMSE: 7443.416988374307\n",
            "Epoch: 221 Train RMSE: 2261.865717669269 Valid RMSE: 7443.078425321868\n",
            "Epoch: 222 Train RMSE: 2244.5912854090457 Valid RMSE: 7436.015598221999\n",
            "Epoch: 223 Train RMSE: 2228.9188541897424 Valid RMSE: 7453.012218366187\n",
            "Epoch: 224 Train RMSE: 2210.480898817171 Valid RMSE: 7454.30278962345\n",
            "Epoch: 225 Train RMSE: 2194.4841089174142 Valid RMSE: 7462.472716688348\n",
            "Epoch: 226 Train RMSE: 2171.035604788161 Valid RMSE: 7473.5843045872725\n",
            "Epoch: 227 Train RMSE: 2148.448010594572 Valid RMSE: 7469.901215409813\n",
            "Epoch: 228 Train RMSE: 2128.077070325933 Valid RMSE: 7486.641126685861\n",
            "Epoch: 229 Train RMSE: 2104.8796918706716 Valid RMSE: 7484.751987911115\n",
            "Epoch: 230 Train RMSE: 2079.176833672082 Valid RMSE: 7495.850845673987\n",
            "Epoch: 231 Train RMSE: 2058.5180438554576 Valid RMSE: 7477.7532033606285\n",
            "Epoch: 232 Train RMSE: 2044.5155722871668 Valid RMSE: 7471.350694248571\n",
            "Epoch: 233 Train RMSE: 2030.0849102891523 Valid RMSE: 7492.6445577749655\n",
            "Epoch: 234 Train RMSE: 2013.9270236855446 Valid RMSE: 7476.632612968158\n",
            "Epoch: 235 Train RMSE: 2001.8769963236873 Valid RMSE: 7492.066018009441\n",
            "Epoch: 236 Train RMSE: 1985.8385540613542 Valid RMSE: 7488.524916361881\n",
            "Epoch: 237 Train RMSE: 1969.6101018043214 Valid RMSE: 7494.82793145924\n",
            "Epoch: 238 Train RMSE: 1952.8634115229147 Valid RMSE: 7508.3471668519105\n",
            "Epoch: 239 Train RMSE: 1936.179654736889 Valid RMSE: 7496.410776360115\n",
            "Epoch: 240 Train RMSE: 1921.9055046625854 Valid RMSE: 7522.083338284525\n",
            "Epoch: 241 Train RMSE: 1904.839820833815 Valid RMSE: 7515.1982854283915\n",
            "Epoch: 242 Train RMSE: 1890.9460842197743 Valid RMSE: 7508.063983406116\n",
            "Epoch: 243 Train RMSE: 1877.1989911885578 Valid RMSE: 7532.586017908161\n",
            "Epoch: 244 Train RMSE: 1861.286767421223 Valid RMSE: 7524.865168534025\n",
            "Epoch: 245 Train RMSE: 1848.5955737788079 Valid RMSE: 7517.433649257834\n",
            "Epoch: 246 Train RMSE: 1835.6621123118791 Valid RMSE: 7540.83466276124\n",
            "Epoch: 247 Train RMSE: 1819.7798454234673 Valid RMSE: 7515.07221467192\n",
            "Epoch: 248 Train RMSE: 1799.9790044580402 Valid RMSE: 7565.183237339324\n",
            "Epoch: 249 Train RMSE: 1773.1939135016974 Valid RMSE: 7534.197870710387\n",
            "Epoch: 250 Train RMSE: 1758.7345758185945 Valid RMSE: 7507.399879790556\n",
            "Epoch: 251 Train RMSE: 1752.1001589520158 Valid RMSE: 7557.83839500385\n",
            "Epoch: 252 Train RMSE: 1736.3006525006551 Valid RMSE: 7516.17915464722\n",
            "Epoch: 253 Train RMSE: 1727.866526656152 Valid RMSE: 7566.310498059769\n",
            "Epoch: 254 Train RMSE: 1715.3865428851257 Valid RMSE: 7502.72849970913\n",
            "Epoch: 255 Train RMSE: 1710.0250965153182 Valid RMSE: 7550.536271251781\n",
            "Epoch: 256 Train RMSE: 1697.3460324891453 Valid RMSE: 7537.243541796373\n",
            "Epoch: 257 Train RMSE: 1690.8725721639648 Valid RMSE: 7566.442910658876\n",
            "Epoch: 258 Train RMSE: 1682.336545495089 Valid RMSE: 7560.207247298075\n",
            "Epoch: 259 Train RMSE: 1675.70341766831 Valid RMSE: 7553.815214748895\n",
            "Epoch: 260 Train RMSE: 1669.7426443600698 Valid RMSE: 7581.0086914012745\n",
            "Epoch: 261 Train RMSE: 1663.004661432063 Valid RMSE: 7561.038679171924\n",
            "Epoch: 262 Train RMSE: 1658.5473825729143 Valid RMSE: 7577.959437099694\n",
            "Epoch: 263 Train RMSE: 1652.846879769324 Valid RMSE: 7580.44091295413\n",
            "Epoch: 264 Train RMSE: 1647.9780725844923 Valid RMSE: 7584.72994762542\n",
            "Epoch: 265 Train RMSE: 1644.0279096278862 Valid RMSE: 7610.096380587606\n",
            "Epoch: 266 Train RMSE: 1638.7274917738976 Valid RMSE: 7583.5896254733225\n",
            "Epoch: 267 Train RMSE: 1637.7836149138438 Valid RMSE: 7629.04149529827\n",
            "Epoch: 268 Train RMSE: 1630.9916136614056 Valid RMSE: 7588.650901190943\n",
            "Epoch: 269 Train RMSE: 1631.3333424006269 Valid RMSE: 7642.882779664447\n",
            "Epoch: 270 Train RMSE: 1623.9765832786309 Valid RMSE: 7595.700116218485\n",
            "Epoch: 271 Train RMSE: 1625.4101997739044 Valid RMSE: 7639.939990018659\n",
            "Epoch: 272 Train RMSE: 1616.815431005868 Valid RMSE: 7613.581000069326\n",
            "Epoch: 273 Train RMSE: 1617.9087025152648 Valid RMSE: 7646.293021461117\n",
            "Epoch: 274 Train RMSE: 1611.3657674517272 Valid RMSE: 7628.082524124101\n",
            "Epoch: 275 Train RMSE: 1610.949056723582 Valid RMSE: 7647.483117170492\n",
            "Epoch: 276 Train RMSE: 1606.0233376447595 Valid RMSE: 7638.590313088605\n",
            "Epoch: 277 Train RMSE: 1606.2504053266907 Valid RMSE: 7661.470826471063\n",
            "Epoch: 278 Train RMSE: 1601.4752439985052 Valid RMSE: 7650.1950886337\n",
            "Epoch: 279 Train RMSE: 1600.8242579548667 Valid RMSE: 7665.008318406938\n",
            "Epoch: 280 Train RMSE: 1597.25046003866 Valid RMSE: 7659.922850314556\n",
            "Epoch: 281 Train RMSE: 1596.1137549472148 Valid RMSE: 7670.24111366912\n",
            "Epoch: 282 Train RMSE: 1592.34560119509 Valid RMSE: 7666.317640748515\n",
            "Epoch: 283 Train RMSE: 1593.151590899653 Valid RMSE: 7688.912508028185\n",
            "Epoch: 284 Train RMSE: 1588.9160885053498 Valid RMSE: 7677.47734932174\n",
            "Epoch: 285 Train RMSE: 1588.7487842306527 Valid RMSE: 7693.0320153971215\n",
            "Epoch: 286 Train RMSE: 1585.5183728092406 Valid RMSE: 7687.189306071865\n",
            "Epoch: 287 Train RMSE: 1584.8612212798419 Valid RMSE: 7698.4627411055235\n",
            "Epoch: 288 Train RMSE: 1582.26722160411 Valid RMSE: 7695.9953938013905\n",
            "Epoch: 289 Train RMSE: 1581.3380083960774 Valid RMSE: 7704.635742705482\n",
            "Epoch: 290 Train RMSE: 1579.1624674225714 Valid RMSE: 7704.259795412998\n",
            "Epoch: 291 Train RMSE: 1578.0895081192618 Valid RMSE: 7711.2534205104\n",
            "Epoch: 292 Train RMSE: 1576.2026464844344 Valid RMSE: 7712.209760714734\n",
            "Epoch: 293 Train RMSE: 1575.0627604118522 Valid RMSE: 7718.149263163995\n",
            "Epoch: 294 Train RMSE: 1573.3847034396088 Valid RMSE: 7719.9638395936345\n",
            "Epoch: 295 Train RMSE: 1572.2240270338361 Valid RMSE: 7725.20268155926\n",
            "Epoch: 296 Train RMSE: 1570.7058484047316 Valid RMSE: 7727.17851925355\n",
            "Epoch: 297 Train RMSE: 1569.6015713015445 Valid RMSE: 7732.1444847099165\n",
            "Epoch: 298 Train RMSE: 1568.1853809755744 Valid RMSE: 7734.559340153385\n",
            "Epoch: 299 Train RMSE: 1567.097559128245 Valid RMSE: 7739.148293049802\n"
          ]
        }
      ]
    },
    {
      "cell_type": "code",
      "source": [
        "y_pred =  net_8.predict(meta_X_val_formatted_selected_2)\n",
        "model_8_result = np.sqrt(mean_squared_error(y_val_formatted, y_pred))\n",
        "model_8_result"
      ],
      "metadata": {
        "colab": {
          "base_uri": "https://localhost:8080/"
        },
        "outputId": "1294d998-0b15-4912-8e2d-ecf42ccf7cb8",
        "id": "g-TQGwhBjlwZ"
      },
      "execution_count": null,
      "outputs": [
        {
          "output_type": "execute_result",
          "data": {
            "text/plain": [
              "8366.324441524019"
            ]
          },
          "metadata": {},
          "execution_count": 77
        }
      ]
    },
    {
      "cell_type": "markdown",
      "source": [
        "hmmmmmm not that good too"
      ],
      "metadata": {
        "id": "6Nmy0O9N4ysR"
      }
    },
    {
      "cell_type": "code",
      "source": [
        "model_5_result"
      ],
      "metadata": {
        "colab": {
          "base_uri": "https://localhost:8080/"
        },
        "id": "Pxb2lv0hrFoR",
        "outputId": "84ebaa32-de8d-4ca2-a178-6721bea0f9ad"
      },
      "execution_count": null,
      "outputs": [
        {
          "output_type": "execute_result",
          "data": {
            "text/plain": [
              "7039.019883184005"
            ]
          },
          "metadata": {},
          "execution_count": 78
        }
      ]
    },
    {
      "cell_type": "markdown",
      "source": [
        " better than model_5_result, but still kinda hard to see, let's now try with TensorFlow"
      ],
      "metadata": {
        "id": "laoKFVxnrHPl"
      }
    },
    {
      "cell_type": "code",
      "source": [
        "model_4_result"
      ],
      "metadata": {
        "colab": {
          "base_uri": "https://localhost:8080/"
        },
        "id": "R1opWQEf49DE",
        "outputId": "3ff62a87-4c4e-4d10-8e70-d3b2e267c4ea"
      },
      "execution_count": null,
      "outputs": [
        {
          "output_type": "execute_result",
          "data": {
            "text/plain": [
              "7986.982172240964"
            ]
          },
          "metadata": {},
          "execution_count": 79
        }
      ]
    },
    {
      "cell_type": "markdown",
      "source": [
        "but worse than model_4"
      ],
      "metadata": {
        "id": "pfVg0JQo4_Ou"
      }
    },
    {
      "cell_type": "markdown",
      "source": [
        "### Experimenting with TensorFlow"
      ],
      "metadata": {
        "id": "8EtFe5EPXcRR"
      }
    },
    {
      "cell_type": "markdown",
      "source": [
        "#### Model 1: tensorflow with the original 6 models as the base layer (SGD)"
      ],
      "metadata": {
        "id": "BpiA2qV1lA-y"
      }
    },
    {
      "cell_type": "code",
      "source": [
        "tf_model_1 = tf.keras.Sequential([\n",
        "    tf.keras.layers.Dense(6, activation='relu', input_shape=(6,)),\n",
        "    tf.keras.layers.Dense(4, activation='relu'),\n",
        "    tf.keras.layers.Dense(1)\n",
        "])"
      ],
      "metadata": {
        "id": "wkGITkBTFps-"
      },
      "execution_count": null,
      "outputs": []
    },
    {
      "cell_type": "code",
      "source": [
        "tf_model_1.compile(optimizer='sgd', loss='mse', metrics=[tf.keras.metrics.RootMeanSquaredError()])"
      ],
      "metadata": {
        "id": "1IwNVboLF3-t"
      },
      "execution_count": null,
      "outputs": []
    },
    {
      "cell_type": "code",
      "source": [
        "tf_model_1.summary()"
      ],
      "metadata": {
        "colab": {
          "base_uri": "https://localhost:8080/"
        },
        "id": "ey5UPUzEGanF",
        "outputId": "ac9ab728-73ba-414b-d700-573e84a1a50c"
      },
      "execution_count": null,
      "outputs": [
        {
          "output_type": "stream",
          "name": "stdout",
          "text": [
            "Model: \"sequential_6\"\n",
            "_________________________________________________________________\n",
            " Layer (type)                Output Shape              Param #   \n",
            "=================================================================\n",
            " dense_24 (Dense)            (None, 6)                 42        \n",
            "                                                                 \n",
            " dense_25 (Dense)            (None, 4)                 28        \n",
            "                                                                 \n",
            " dense_26 (Dense)            (None, 1)                 5         \n",
            "                                                                 \n",
            "=================================================================\n",
            "Total params: 75 (300.00 Byte)\n",
            "Trainable params: 75 (300.00 Byte)\n",
            "Non-trainable params: 0 (0.00 Byte)\n",
            "_________________________________________________________________\n"
          ]
        }
      ]
    },
    {
      "cell_type": "code",
      "source": [
        "tf_model_1.fit(meta_X_train_formatted_original, y_train_formatted, epochs=50)"
      ],
      "metadata": {
        "colab": {
          "base_uri": "https://localhost:8080/"
        },
        "id": "uTCYZJM3F6uS",
        "outputId": "8958aab6-da64-4a57-cfff-73a857e25dbc"
      },
      "execution_count": null,
      "outputs": [
        {
          "output_type": "stream",
          "name": "stdout",
          "text": [
            "Epoch 1/50\n",
            "110/110 [==============================] - 1s 3ms/step - loss: 29823174967296.0000 - root_mean_squared_error: 5461060.0000\n",
            "Epoch 2/50\n",
            "110/110 [==============================] - 0s 3ms/step - loss: 1434344960.0000 - root_mean_squared_error: 37872.7461\n",
            "Epoch 3/50\n",
            "110/110 [==============================] - 0s 3ms/step - loss: 138743104.0000 - root_mean_squared_error: 11778.9258\n",
            "Epoch 4/50\n",
            "110/110 [==============================] - 0s 3ms/step - loss: 123261304.0000 - root_mean_squared_error: 11102.3105\n",
            "Epoch 5/50\n",
            "110/110 [==============================] - 0s 4ms/step - loss: 123038632.0000 - root_mean_squared_error: 11092.2783\n",
            "Epoch 6/50\n",
            "110/110 [==============================] - 0s 3ms/step - loss: 122992896.0000 - root_mean_squared_error: 11090.2158\n",
            "Epoch 7/50\n",
            "110/110 [==============================] - 0s 3ms/step - loss: 123029840.0000 - root_mean_squared_error: 11091.8818\n",
            "Epoch 8/50\n",
            "110/110 [==============================] - 0s 3ms/step - loss: 123041384.0000 - root_mean_squared_error: 11092.4023\n",
            "Epoch 9/50\n",
            "110/110 [==============================] - 0s 3ms/step - loss: 123035512.0000 - root_mean_squared_error: 11092.1377\n",
            "Epoch 10/50\n",
            "110/110 [==============================] - 0s 3ms/step - loss: 123041608.0000 - root_mean_squared_error: 11092.4121\n",
            "Epoch 11/50\n",
            "110/110 [==============================] - 0s 3ms/step - loss: 123040288.0000 - root_mean_squared_error: 11092.3525\n",
            "Epoch 12/50\n",
            "110/110 [==============================] - 0s 3ms/step - loss: 123029520.0000 - root_mean_squared_error: 11091.8672\n",
            "Epoch 13/50\n",
            "110/110 [==============================] - 0s 3ms/step - loss: 123013768.0000 - root_mean_squared_error: 11091.1572\n",
            "Epoch 14/50\n",
            "110/110 [==============================] - 1s 5ms/step - loss: 123035520.0000 - root_mean_squared_error: 11092.1377\n",
            "Epoch 15/50\n",
            "110/110 [==============================] - 1s 5ms/step - loss: 123023296.0000 - root_mean_squared_error: 11091.5869\n",
            "Epoch 16/50\n",
            "110/110 [==============================] - 0s 4ms/step - loss: 123046592.0000 - root_mean_squared_error: 11092.6367\n",
            "Epoch 17/50\n",
            "110/110 [==============================] - 0s 4ms/step - loss: 123041592.0000 - root_mean_squared_error: 11092.4111\n",
            "Epoch 18/50\n",
            "110/110 [==============================] - 1s 5ms/step - loss: 123048000.0000 - root_mean_squared_error: 11092.7002\n",
            "Epoch 19/50\n",
            "110/110 [==============================] - 1s 5ms/step - loss: 123017928.0000 - root_mean_squared_error: 11091.3447\n",
            "Epoch 20/50\n",
            "110/110 [==============================] - 0s 5ms/step - loss: 123034016.0000 - root_mean_squared_error: 11092.0693\n",
            "Epoch 21/50\n",
            "110/110 [==============================] - 0s 4ms/step - loss: 123019128.0000 - root_mean_squared_error: 11091.3984\n",
            "Epoch 22/50\n",
            "110/110 [==============================] - 0s 4ms/step - loss: 123019952.0000 - root_mean_squared_error: 11091.4355\n",
            "Epoch 23/50\n",
            "110/110 [==============================] - 0s 4ms/step - loss: 123017648.0000 - root_mean_squared_error: 11091.3320\n",
            "Epoch 24/50\n",
            "110/110 [==============================] - 0s 3ms/step - loss: 123028968.0000 - root_mean_squared_error: 11091.8418\n",
            "Epoch 25/50\n",
            "110/110 [==============================] - 0s 3ms/step - loss: 123063032.0000 - root_mean_squared_error: 11093.3779\n",
            "Epoch 26/50\n",
            "110/110 [==============================] - 0s 3ms/step - loss: 123048872.0000 - root_mean_squared_error: 11092.7393\n",
            "Epoch 27/50\n",
            "110/110 [==============================] - 0s 3ms/step - loss: 123042752.0000 - root_mean_squared_error: 11092.4639\n",
            "Epoch 28/50\n",
            "110/110 [==============================] - 0s 3ms/step - loss: 123040032.0000 - root_mean_squared_error: 11092.3408\n",
            "Epoch 29/50\n",
            "110/110 [==============================] - 0s 3ms/step - loss: 123016472.0000 - root_mean_squared_error: 11091.2793\n",
            "Epoch 30/50\n",
            "110/110 [==============================] - 0s 3ms/step - loss: 123019744.0000 - root_mean_squared_error: 11091.4268\n",
            "Epoch 31/50\n",
            "110/110 [==============================] - 0s 3ms/step - loss: 123000480.0000 - root_mean_squared_error: 11090.5576\n",
            "Epoch 32/50\n",
            "110/110 [==============================] - 0s 3ms/step - loss: 123058864.0000 - root_mean_squared_error: 11093.1895\n",
            "Epoch 33/50\n",
            "110/110 [==============================] - 0s 3ms/step - loss: 123019448.0000 - root_mean_squared_error: 11091.4131\n",
            "Epoch 34/50\n",
            "110/110 [==============================] - 0s 3ms/step - loss: 123043400.0000 - root_mean_squared_error: 11092.4932\n",
            "Epoch 35/50\n",
            "110/110 [==============================] - 0s 3ms/step - loss: 123018960.0000 - root_mean_squared_error: 11091.3906\n",
            "Epoch 36/50\n",
            "110/110 [==============================] - 0s 3ms/step - loss: 122974424.0000 - root_mean_squared_error: 11089.3828\n",
            "Epoch 37/50\n",
            "110/110 [==============================] - 0s 3ms/step - loss: 123037984.0000 - root_mean_squared_error: 11092.2490\n",
            "Epoch 38/50\n",
            "110/110 [==============================] - 0s 3ms/step - loss: 123036176.0000 - root_mean_squared_error: 11092.1670\n",
            "Epoch 39/50\n",
            "110/110 [==============================] - 0s 3ms/step - loss: 123040696.0000 - root_mean_squared_error: 11092.3711\n",
            "Epoch 40/50\n",
            "110/110 [==============================] - 0s 3ms/step - loss: 123025984.0000 - root_mean_squared_error: 11091.7080\n",
            "Epoch 41/50\n",
            "110/110 [==============================] - 0s 3ms/step - loss: 123061000.0000 - root_mean_squared_error: 11093.2861\n",
            "Epoch 42/50\n",
            "110/110 [==============================] - 0s 3ms/step - loss: 123039304.0000 - root_mean_squared_error: 11092.3086\n",
            "Epoch 43/50\n",
            "110/110 [==============================] - 0s 3ms/step - loss: 123018528.0000 - root_mean_squared_error: 11091.3721\n",
            "Epoch 44/50\n",
            "110/110 [==============================] - 0s 3ms/step - loss: 123030016.0000 - root_mean_squared_error: 11091.8896\n",
            "Epoch 45/50\n",
            "110/110 [==============================] - 0s 3ms/step - loss: 123016544.0000 - root_mean_squared_error: 11091.2822\n",
            "Epoch 46/50\n",
            "110/110 [==============================] - 0s 3ms/step - loss: 123035064.0000 - root_mean_squared_error: 11092.1172\n",
            "Epoch 47/50\n",
            "110/110 [==============================] - 0s 3ms/step - loss: 123041856.0000 - root_mean_squared_error: 11092.4229\n",
            "Epoch 48/50\n",
            "110/110 [==============================] - 0s 3ms/step - loss: 122995352.0000 - root_mean_squared_error: 11090.3271\n",
            "Epoch 49/50\n",
            "110/110 [==============================] - 0s 3ms/step - loss: 123010640.0000 - root_mean_squared_error: 11091.0156\n",
            "Epoch 50/50\n",
            "110/110 [==============================] - 0s 3ms/step - loss: 123020328.0000 - root_mean_squared_error: 11091.4531\n"
          ]
        },
        {
          "output_type": "execute_result",
          "data": {
            "text/plain": [
              "<keras.src.callbacks.History at 0x7d563009fd30>"
            ]
          },
          "metadata": {},
          "execution_count": 118
        }
      ]
    },
    {
      "cell_type": "markdown",
      "source": [
        "It seems that even with tensorflow it's not getting better, I suspect that it's because I'm using SGD, let's experiment with Adam"
      ],
      "metadata": {
        "id": "Ami0uW_jHPAL"
      }
    },
    {
      "cell_type": "code",
      "source": [
        "tf_model_1_result = tf_model_1.evaluate(meta_X_val_formatted_original, y_val_formatted)"
      ],
      "metadata": {
        "colab": {
          "base_uri": "https://localhost:8080/"
        },
        "id": "kNX8rSTglZNz",
        "outputId": "848bb13d-c7c4-4c66-f489-6032430528b3"
      },
      "execution_count": null,
      "outputs": [
        {
          "output_type": "stream",
          "name": "stdout",
          "text": [
            "16/16 [==============================] - 0s 4ms/step - loss: 114582136.0000 - root_mean_squared_error: 10704.3047\n"
          ]
        }
      ]
    },
    {
      "cell_type": "markdown",
      "source": [
        "#### Model 2: Model 1 but with Adam optimizer"
      ],
      "metadata": {
        "id": "eBtAge7JlLE0"
      }
    },
    {
      "cell_type": "code",
      "source": [
        "tf_model_2 = tf.keras.Sequential([\n",
        "    tf.keras.layers.Dense(6, activation='relu', input_shape=(6,)),\n",
        "    tf.keras.layers.Dense(4, activation='relu'),\n",
        "    tf.keras.layers.Dense(1)\n",
        "])"
      ],
      "metadata": {
        "id": "_9X3lPYLlQcc"
      },
      "execution_count": null,
      "outputs": []
    },
    {
      "cell_type": "code",
      "source": [
        "tf_model_2.compile(optimizer='adam', loss='mse', metrics=[tf.keras.metrics.RootMeanSquaredError()])"
      ],
      "metadata": {
        "id": "b72Za1WelQch"
      },
      "execution_count": null,
      "outputs": []
    },
    {
      "cell_type": "code",
      "source": [
        "tf_model_2.summary()"
      ],
      "metadata": {
        "colab": {
          "base_uri": "https://localhost:8080/"
        },
        "outputId": "9ed4be60-7e4d-410d-d951-a6b4ac6b3f81",
        "id": "fvzqJL2zlQch"
      },
      "execution_count": null,
      "outputs": [
        {
          "output_type": "stream",
          "name": "stdout",
          "text": [
            "Model: \"sequential_1\"\n",
            "_________________________________________________________________\n",
            " Layer (type)                Output Shape              Param #   \n",
            "=================================================================\n",
            " dense_3 (Dense)             (None, 6)                 42        \n",
            "                                                                 \n",
            " dense_4 (Dense)             (None, 4)                 28        \n",
            "                                                                 \n",
            " dense_5 (Dense)             (None, 1)                 5         \n",
            "                                                                 \n",
            "=================================================================\n",
            "Total params: 75 (300.00 Byte)\n",
            "Trainable params: 75 (300.00 Byte)\n",
            "Non-trainable params: 0 (0.00 Byte)\n",
            "_________________________________________________________________\n"
          ]
        }
      ]
    },
    {
      "cell_type": "code",
      "source": [
        "tf_model_2.fit(meta_X_train_formatted_original, y_train_formatted, epochs=50)"
      ],
      "metadata": {
        "colab": {
          "base_uri": "https://localhost:8080/"
        },
        "outputId": "1bd8bff1-f3b8-49a4-b2c2-1bcaf00a61e7",
        "id": "gMG1C3FHlQch"
      },
      "execution_count": null,
      "outputs": [
        {
          "output_type": "stream",
          "name": "stdout",
          "text": [
            "Epoch 1/50\n",
            "110/110 [==============================] - 1s 3ms/step - loss: 339531424.0000 - root_mean_squared_error: 18426.3789\n",
            "Epoch 2/50\n",
            "110/110 [==============================] - 0s 3ms/step - loss: 339495712.0000 - root_mean_squared_error: 18425.4102\n",
            "Epoch 3/50\n",
            "110/110 [==============================] - 0s 3ms/step - loss: 339373888.0000 - root_mean_squared_error: 18422.1035\n",
            "Epoch 4/50\n",
            "110/110 [==============================] - 0s 3ms/step - loss: 339087296.0000 - root_mean_squared_error: 18414.3223\n",
            "Epoch 5/50\n",
            "110/110 [==============================] - 0s 3ms/step - loss: 338589024.0000 - root_mean_squared_error: 18400.7891\n",
            "Epoch 6/50\n",
            "110/110 [==============================] - 0s 3ms/step - loss: 337831744.0000 - root_mean_squared_error: 18380.1992\n",
            "Epoch 7/50\n",
            "110/110 [==============================] - 0s 3ms/step - loss: 336773088.0000 - root_mean_squared_error: 18351.3770\n",
            "Epoch 8/50\n",
            "110/110 [==============================] - 0s 3ms/step - loss: 335376736.0000 - root_mean_squared_error: 18313.2949\n",
            "Epoch 9/50\n",
            "110/110 [==============================] - 0s 3ms/step - loss: 333605856.0000 - root_mean_squared_error: 18264.8809\n",
            "Epoch 10/50\n",
            "110/110 [==============================] - 0s 3ms/step - loss: 331458496.0000 - root_mean_squared_error: 18206.0020\n",
            "Epoch 11/50\n",
            "110/110 [==============================] - 0s 3ms/step - loss: 328923488.0000 - root_mean_squared_error: 18136.2480\n",
            "Epoch 12/50\n",
            "110/110 [==============================] - 0s 3ms/step - loss: 325978752.0000 - root_mean_squared_error: 18054.8809\n",
            "Epoch 13/50\n",
            "110/110 [==============================] - 0s 4ms/step - loss: 322622688.0000 - root_mean_squared_error: 17961.7012\n",
            "Epoch 14/50\n",
            "110/110 [==============================] - 0s 4ms/step - loss: 318840064.0000 - root_mean_squared_error: 17856.0938\n",
            "Epoch 15/50\n",
            "110/110 [==============================] - 0s 4ms/step - loss: 314641696.0000 - root_mean_squared_error: 17738.1426\n",
            "Epoch 16/50\n",
            "110/110 [==============================] - 1s 5ms/step - loss: 310035840.0000 - root_mean_squared_error: 17607.8340\n",
            "Epoch 17/50\n",
            "110/110 [==============================] - 1s 5ms/step - loss: 305028416.0000 - root_mean_squared_error: 17465.0625\n",
            "Epoch 18/50\n",
            "110/110 [==============================] - 0s 4ms/step - loss: 299668192.0000 - root_mean_squared_error: 17310.9258\n",
            "Epoch 19/50\n",
            "110/110 [==============================] - 1s 5ms/step - loss: 293956192.0000 - root_mean_squared_error: 17145.1504\n",
            "Epoch 20/50\n",
            "110/110 [==============================] - 1s 5ms/step - loss: 287891872.0000 - root_mean_squared_error: 16967.3770\n",
            "Epoch 21/50\n",
            "110/110 [==============================] - 1s 5ms/step - loss: 281520000.0000 - root_mean_squared_error: 16778.5566\n",
            "Epoch 22/50\n",
            "110/110 [==============================] - 0s 4ms/step - loss: 274900800.0000 - root_mean_squared_error: 16580.1328\n",
            "Epoch 23/50\n",
            "110/110 [==============================] - 0s 3ms/step - loss: 268040176.0000 - root_mean_squared_error: 16371.9326\n",
            "Epoch 24/50\n",
            "110/110 [==============================] - 0s 3ms/step - loss: 260974560.0000 - root_mean_squared_error: 16154.7070\n",
            "Epoch 25/50\n",
            "110/110 [==============================] - 0s 3ms/step - loss: 253708096.0000 - root_mean_squared_error: 15928.2168\n",
            "Epoch 26/50\n",
            "110/110 [==============================] - 0s 3ms/step - loss: 246285792.0000 - root_mean_squared_error: 15693.4951\n",
            "Epoch 27/50\n",
            "110/110 [==============================] - 0s 3ms/step - loss: 238697024.0000 - root_mean_squared_error: 15449.8232\n",
            "Epoch 28/50\n",
            "110/110 [==============================] - 0s 3ms/step - loss: 231035456.0000 - root_mean_squared_error: 15199.8506\n",
            "Epoch 29/50\n",
            "110/110 [==============================] - 0s 3ms/step - loss: 223303232.0000 - root_mean_squared_error: 14943.3340\n",
            "Epoch 30/50\n",
            "110/110 [==============================] - 0s 3ms/step - loss: 215518880.0000 - root_mean_squared_error: 14680.5615\n",
            "Epoch 31/50\n",
            "110/110 [==============================] - 0s 3ms/step - loss: 207761168.0000 - root_mean_squared_error: 14413.9229\n",
            "Epoch 32/50\n",
            "110/110 [==============================] - 0s 3ms/step - loss: 199988976.0000 - root_mean_squared_error: 14141.7461\n",
            "Epoch 33/50\n",
            "110/110 [==============================] - 0s 3ms/step - loss: 192256016.0000 - root_mean_squared_error: 13865.6416\n",
            "Epoch 34/50\n",
            "110/110 [==============================] - 0s 3ms/step - loss: 184568224.0000 - root_mean_squared_error: 13585.5889\n",
            "Epoch 35/50\n",
            "110/110 [==============================] - 0s 3ms/step - loss: 176945728.0000 - root_mean_squared_error: 13302.0947\n",
            "Epoch 36/50\n",
            "110/110 [==============================] - 0s 3ms/step - loss: 169460544.0000 - root_mean_squared_error: 13017.7012\n",
            "Epoch 37/50\n",
            "110/110 [==============================] - 0s 3ms/step - loss: 162119360.0000 - root_mean_squared_error: 12732.6104\n",
            "Epoch 38/50\n",
            "110/110 [==============================] - 0s 3ms/step - loss: 154911392.0000 - root_mean_squared_error: 12446.3408\n",
            "Epoch 39/50\n",
            "110/110 [==============================] - 0s 3ms/step - loss: 147893184.0000 - root_mean_squared_error: 12161.1338\n",
            "Epoch 40/50\n",
            "110/110 [==============================] - 0s 3ms/step - loss: 141081360.0000 - root_mean_squared_error: 11877.7676\n",
            "Epoch 41/50\n",
            "110/110 [==============================] - 0s 3ms/step - loss: 134485920.0000 - root_mean_squared_error: 11596.8057\n",
            "Epoch 42/50\n",
            "110/110 [==============================] - 0s 3ms/step - loss: 128101568.0000 - root_mean_squared_error: 11318.1963\n",
            "Epoch 43/50\n",
            "110/110 [==============================] - 0s 3ms/step - loss: 122016032.0000 - root_mean_squared_error: 11046.0869\n",
            "Epoch 44/50\n",
            "110/110 [==============================] - 0s 3ms/step - loss: 116217576.0000 - root_mean_squared_error: 10780.4258\n",
            "Epoch 45/50\n",
            "110/110 [==============================] - 0s 3ms/step - loss: 110747832.0000 - root_mean_squared_error: 10523.6797\n",
            "Epoch 46/50\n",
            "110/110 [==============================] - 0s 3ms/step - loss: 105590848.0000 - root_mean_squared_error: 10275.7402\n",
            "Epoch 47/50\n",
            "110/110 [==============================] - 0s 3ms/step - loss: 100776056.0000 - root_mean_squared_error: 10038.7275\n",
            "Epoch 48/50\n",
            "110/110 [==============================] - 0s 3ms/step - loss: 96295072.0000 - root_mean_squared_error: 9813.0049\n",
            "Epoch 49/50\n",
            "110/110 [==============================] - 0s 3ms/step - loss: 92152448.0000 - root_mean_squared_error: 9599.6064\n",
            "Epoch 50/50\n",
            "110/110 [==============================] - 0s 4ms/step - loss: 88342920.0000 - root_mean_squared_error: 9399.0908\n"
          ]
        },
        {
          "output_type": "execute_result",
          "data": {
            "text/plain": [
              "<keras.src.callbacks.History at 0x7d55f5b72590>"
            ]
          },
          "metadata": {},
          "execution_count": 88
        }
      ]
    },
    {
      "cell_type": "code",
      "source": [
        "tf_model_2_result = tf_model_2.evaluate(meta_X_val_formatted_original, y_val_formatted)"
      ],
      "metadata": {
        "colab": {
          "base_uri": "https://localhost:8080/"
        },
        "id": "0ewiI2sIlMrM",
        "outputId": "77aebd64-5b4d-4f36-c138-2662ac32420e"
      },
      "execution_count": null,
      "outputs": [
        {
          "output_type": "stream",
          "name": "stdout",
          "text": [
            "16/16 [==============================] - 0s 4ms/step - loss: 85240880.0000 - root_mean_squared_error: 9232.5986\n"
          ]
        }
      ]
    },
    {
      "cell_type": "markdown",
      "source": [
        "It's already performing way better"
      ],
      "metadata": {
        "id": "Q4WO_eUNk_jN"
      }
    },
    {
      "cell_type": "markdown",
      "source": [
        "#### Model 3: Model 2 but with linear activation"
      ],
      "metadata": {
        "id": "JBk9hx15rkw-"
      }
    },
    {
      "cell_type": "code",
      "source": [
        "tf_model_3 = tf.keras.Sequential([\n",
        "    tf.keras.layers.Dense(6, input_shape=(6,)),\n",
        "    tf.keras.layers.Dense(4),\n",
        "    tf.keras.layers.Dense(1)\n",
        "])"
      ],
      "metadata": {
        "id": "6UYLl_kerv33"
      },
      "execution_count": null,
      "outputs": []
    },
    {
      "cell_type": "code",
      "source": [
        "tf_model_3.compile(optimizer='adam', loss='mse', metrics=[tf.keras.metrics.RootMeanSquaredError()])"
      ],
      "metadata": {
        "id": "FVzeQLZNrv34"
      },
      "execution_count": null,
      "outputs": []
    },
    {
      "cell_type": "code",
      "source": [
        "tf_model_3.summary()"
      ],
      "metadata": {
        "colab": {
          "base_uri": "https://localhost:8080/"
        },
        "outputId": "253ace0e-10cc-4292-c4be-6a714ad75fe7",
        "id": "ZL5Me15Rrv34"
      },
      "execution_count": null,
      "outputs": [
        {
          "output_type": "stream",
          "name": "stdout",
          "text": [
            "Model: \"sequential_2\"\n",
            "_________________________________________________________________\n",
            " Layer (type)                Output Shape              Param #   \n",
            "=================================================================\n",
            " dense_6 (Dense)             (None, 6)                 42        \n",
            "                                                                 \n",
            " dense_7 (Dense)             (None, 4)                 28        \n",
            "                                                                 \n",
            " dense_8 (Dense)             (None, 1)                 5         \n",
            "                                                                 \n",
            "=================================================================\n",
            "Total params: 75 (300.00 Byte)\n",
            "Trainable params: 75 (300.00 Byte)\n",
            "Non-trainable params: 0 (0.00 Byte)\n",
            "_________________________________________________________________\n"
          ]
        }
      ]
    },
    {
      "cell_type": "code",
      "source": [
        "tf_model_3.fit(meta_X_train_formatted_original, y_train_formatted, epochs=50)"
      ],
      "metadata": {
        "colab": {
          "base_uri": "https://localhost:8080/"
        },
        "outputId": "14217ff4-2582-4029-ff94-784f33d06359",
        "id": "qILDPK3Arv35"
      },
      "execution_count": null,
      "outputs": [
        {
          "output_type": "stream",
          "name": "stdout",
          "text": [
            "Epoch 1/50\n",
            "110/110 [==============================] - 2s 5ms/step - loss: 339459168.0000 - root_mean_squared_error: 18424.4180\n",
            "Epoch 2/50\n",
            "110/110 [==============================] - 1s 5ms/step - loss: 339234112.0000 - root_mean_squared_error: 18418.3086\n",
            "Epoch 3/50\n",
            "110/110 [==============================] - 0s 4ms/step - loss: 338738176.0000 - root_mean_squared_error: 18404.8418\n",
            "Epoch 4/50\n",
            "110/110 [==============================] - 1s 5ms/step - loss: 337816000.0000 - root_mean_squared_error: 18379.7715\n",
            "Epoch 5/50\n",
            "110/110 [==============================] - 0s 4ms/step - loss: 336313984.0000 - root_mean_squared_error: 18338.8652\n",
            "Epoch 6/50\n",
            "110/110 [==============================] - 0s 3ms/step - loss: 334121888.0000 - root_mean_squared_error: 18279.0020\n",
            "Epoch 7/50\n",
            "110/110 [==============================] - 0s 3ms/step - loss: 331195392.0000 - root_mean_squared_error: 18198.7734\n",
            "Epoch 8/50\n",
            "110/110 [==============================] - 0s 3ms/step - loss: 327471200.0000 - root_mean_squared_error: 18096.1641\n",
            "Epoch 9/50\n",
            "110/110 [==============================] - 0s 3ms/step - loss: 322918304.0000 - root_mean_squared_error: 17969.9277\n",
            "Epoch 10/50\n",
            "110/110 [==============================] - 0s 3ms/step - loss: 317493312.0000 - root_mean_squared_error: 17818.3418\n",
            "Epoch 11/50\n",
            "110/110 [==============================] - 0s 3ms/step - loss: 311304672.0000 - root_mean_squared_error: 17643.8281\n",
            "Epoch 12/50\n",
            "110/110 [==============================] - 0s 3ms/step - loss: 304398400.0000 - root_mean_squared_error: 17447.0176\n",
            "Epoch 13/50\n",
            "110/110 [==============================] - 0s 3ms/step - loss: 296917088.0000 - root_mean_squared_error: 17231.2832\n",
            "Epoch 14/50\n",
            "110/110 [==============================] - 0s 3ms/step - loss: 288911488.0000 - root_mean_squared_error: 16997.3965\n",
            "Epoch 15/50\n",
            "110/110 [==============================] - 0s 3ms/step - loss: 280451904.0000 - root_mean_squared_error: 16746.6992\n",
            "Epoch 16/50\n",
            "110/110 [==============================] - 0s 3ms/step - loss: 271697408.0000 - root_mean_squared_error: 16483.2461\n",
            "Epoch 17/50\n",
            "110/110 [==============================] - 0s 3ms/step - loss: 262866992.0000 - root_mean_squared_error: 16213.1729\n",
            "Epoch 18/50\n",
            "110/110 [==============================] - 0s 3ms/step - loss: 253965152.0000 - root_mean_squared_error: 15936.2842\n",
            "Epoch 19/50\n",
            "110/110 [==============================] - 0s 3ms/step - loss: 245250960.0000 - root_mean_squared_error: 15660.4902\n",
            "Epoch 20/50\n",
            "110/110 [==============================] - 0s 3ms/step - loss: 236850624.0000 - root_mean_squared_error: 15389.9521\n",
            "Epoch 21/50\n",
            "110/110 [==============================] - 0s 3ms/step - loss: 228844208.0000 - root_mean_squared_error: 15127.5977\n",
            "Epoch 22/50\n",
            "110/110 [==============================] - 0s 3ms/step - loss: 221248352.0000 - root_mean_squared_error: 14874.4189\n",
            "Epoch 23/50\n",
            "110/110 [==============================] - 0s 3ms/step - loss: 214215424.0000 - root_mean_squared_error: 14636.0996\n",
            "Epoch 24/50\n",
            "110/110 [==============================] - 0s 3ms/step - loss: 207709840.0000 - root_mean_squared_error: 14412.1416\n",
            "Epoch 25/50\n",
            "110/110 [==============================] - 0s 3ms/step - loss: 201751392.0000 - root_mean_squared_error: 14203.9219\n",
            "Epoch 26/50\n",
            "110/110 [==============================] - 0s 3ms/step - loss: 196231472.0000 - root_mean_squared_error: 14008.2637\n",
            "Epoch 27/50\n",
            "110/110 [==============================] - 0s 3ms/step - loss: 191150208.0000 - root_mean_squared_error: 13825.7080\n",
            "Epoch 28/50\n",
            "110/110 [==============================] - 0s 3ms/step - loss: 186415296.0000 - root_mean_squared_error: 13653.3984\n",
            "Epoch 29/50\n",
            "110/110 [==============================] - 0s 3ms/step - loss: 181936512.0000 - root_mean_squared_error: 13488.3848\n",
            "Epoch 30/50\n",
            "110/110 [==============================] - 0s 3ms/step - loss: 177657488.0000 - root_mean_squared_error: 13328.8213\n",
            "Epoch 31/50\n",
            "110/110 [==============================] - 0s 3ms/step - loss: 173520480.0000 - root_mean_squared_error: 13172.7168\n",
            "Epoch 32/50\n",
            "110/110 [==============================] - 0s 3ms/step - loss: 169449968.0000 - root_mean_squared_error: 13017.2949\n",
            "Epoch 33/50\n",
            "110/110 [==============================] - 0s 3ms/step - loss: 165382528.0000 - root_mean_squared_error: 12860.1143\n",
            "Epoch 34/50\n",
            "110/110 [==============================] - 1s 5ms/step - loss: 161303424.0000 - root_mean_squared_error: 12700.5283\n",
            "Epoch 35/50\n",
            "110/110 [==============================] - 1s 5ms/step - loss: 157141568.0000 - root_mean_squared_error: 12535.6123\n",
            "Epoch 36/50\n",
            "110/110 [==============================] - 1s 5ms/step - loss: 152903248.0000 - root_mean_squared_error: 12365.4053\n",
            "Epoch 37/50\n",
            "110/110 [==============================] - 0s 4ms/step - loss: 148570672.0000 - root_mean_squared_error: 12188.9570\n",
            "Epoch 38/50\n",
            "110/110 [==============================] - 0s 4ms/step - loss: 144116704.0000 - root_mean_squared_error: 12004.8613\n",
            "Epoch 39/50\n",
            "110/110 [==============================] - 1s 5ms/step - loss: 139555520.0000 - root_mean_squared_error: 11813.3623\n",
            "Epoch 40/50\n",
            "110/110 [==============================] - 1s 5ms/step - loss: 134882704.0000 - root_mean_squared_error: 11613.9014\n",
            "Epoch 41/50\n",
            "110/110 [==============================] - 0s 4ms/step - loss: 130102304.0000 - root_mean_squared_error: 11406.2393\n",
            "Epoch 42/50\n",
            "110/110 [==============================] - 0s 4ms/step - loss: 125198032.0000 - root_mean_squared_error: 11189.1924\n",
            "Epoch 43/50\n",
            "110/110 [==============================] - 0s 4ms/step - loss: 120179160.0000 - root_mean_squared_error: 10962.6250\n",
            "Epoch 44/50\n",
            "110/110 [==============================] - 0s 3ms/step - loss: 115061752.0000 - root_mean_squared_error: 10726.6846\n",
            "Epoch 45/50\n",
            "110/110 [==============================] - 0s 3ms/step - loss: 109869992.0000 - root_mean_squared_error: 10481.8887\n",
            "Epoch 46/50\n",
            "110/110 [==============================] - 0s 3ms/step - loss: 104626776.0000 - root_mean_squared_error: 10228.7227\n",
            "Epoch 47/50\n",
            "110/110 [==============================] - 0s 3ms/step - loss: 99347840.0000 - root_mean_squared_error: 9967.3389\n",
            "Epoch 48/50\n",
            "110/110 [==============================] - 0s 3ms/step - loss: 94075016.0000 - root_mean_squared_error: 9699.2275\n",
            "Epoch 49/50\n",
            "110/110 [==============================] - 0s 3ms/step - loss: 88821880.0000 - root_mean_squared_error: 9424.5361\n",
            "Epoch 50/50\n",
            "110/110 [==============================] - 0s 3ms/step - loss: 83618848.0000 - root_mean_squared_error: 9144.3340\n"
          ]
        },
        {
          "output_type": "execute_result",
          "data": {
            "text/plain": [
              "<keras.src.callbacks.History at 0x7d55d2720ee0>"
            ]
          },
          "metadata": {},
          "execution_count": 93
        }
      ]
    },
    {
      "cell_type": "code",
      "source": [
        "tf_model_3_result = tf_model_3.evaluate(meta_X_val_formatted_original, y_val_formatted)"
      ],
      "metadata": {
        "colab": {
          "base_uri": "https://localhost:8080/"
        },
        "outputId": "93f0b6f9-9ad1-4fb1-ee4e-7638fa6982e2",
        "id": "_Z2Xokjxrv35"
      },
      "execution_count": null,
      "outputs": [
        {
          "output_type": "stream",
          "name": "stdout",
          "text": [
            "16/16 [==============================] - 0s 3ms/step - loss: 83201720.0000 - root_mean_squared_error: 9121.4971\n"
          ]
        }
      ]
    },
    {
      "cell_type": "markdown",
      "source": [
        "Not better"
      ],
      "metadata": {
        "id": "_4cbjwYsrtCU"
      }
    },
    {
      "cell_type": "markdown",
      "source": [
        "#### Model 4: Model 2 but deeper with 3 hidden layers"
      ],
      "metadata": {
        "id": "nU_qAW-nsIHP"
      }
    },
    {
      "cell_type": "code",
      "source": [
        "tf_model_4 = tf.keras.Sequential([\n",
        "    tf.keras.layers.Dense(6, activation='relu', input_shape=(6,)),\n",
        "    tf.keras.layers.Dense(10, activation='relu'),\n",
        "    tf.keras.layers.Dense(10, activation='relu'),\n",
        "    tf.keras.layers.Dense(10, activation='relu'),\n",
        "    tf.keras.layers.Dense(1)\n",
        "])"
      ],
      "metadata": {
        "id": "zgEG1hKvsSYc"
      },
      "execution_count": null,
      "outputs": []
    },
    {
      "cell_type": "code",
      "source": [
        "tf_model_4.compile(optimizer='adam', loss='mse', metrics=[tf.keras.metrics.RootMeanSquaredError()])"
      ],
      "metadata": {
        "id": "_butwh4UsSYr"
      },
      "execution_count": null,
      "outputs": []
    },
    {
      "cell_type": "code",
      "source": [
        "tf_model_4.summary()"
      ],
      "metadata": {
        "colab": {
          "base_uri": "https://localhost:8080/"
        },
        "outputId": "6d811fa3-9696-4578-9671-6317d3e31b70",
        "id": "58uRJl82sSYr"
      },
      "execution_count": null,
      "outputs": [
        {
          "output_type": "stream",
          "name": "stdout",
          "text": [
            "Model: \"sequential_3\"\n",
            "_________________________________________________________________\n",
            " Layer (type)                Output Shape              Param #   \n",
            "=================================================================\n",
            " dense_9 (Dense)             (None, 6)                 42        \n",
            "                                                                 \n",
            " dense_10 (Dense)            (None, 10)                70        \n",
            "                                                                 \n",
            " dense_11 (Dense)            (None, 10)                110       \n",
            "                                                                 \n",
            " dense_12 (Dense)            (None, 10)                110       \n",
            "                                                                 \n",
            " dense_13 (Dense)            (None, 1)                 11        \n",
            "                                                                 \n",
            "=================================================================\n",
            "Total params: 343 (1.34 KB)\n",
            "Trainable params: 343 (1.34 KB)\n",
            "Non-trainable params: 0 (0.00 Byte)\n",
            "_________________________________________________________________\n"
          ]
        }
      ]
    },
    {
      "cell_type": "code",
      "source": [
        "tf_model_4.fit(meta_X_train_formatted_original, y_train_formatted, epochs=50)"
      ],
      "metadata": {
        "colab": {
          "base_uri": "https://localhost:8080/"
        },
        "outputId": "2c2ff91f-ca71-45e1-bc8f-337e5fc86037",
        "id": "Y-TgRffmsSYs"
      },
      "execution_count": null,
      "outputs": [
        {
          "output_type": "stream",
          "name": "stdout",
          "text": [
            "Epoch 1/50\n",
            "110/110 [==============================] - 2s 4ms/step - loss: 339544992.0000 - root_mean_squared_error: 18426.7461\n",
            "Epoch 2/50\n",
            "110/110 [==============================] - 0s 4ms/step - loss: 339427904.0000 - root_mean_squared_error: 18423.5684\n",
            "Epoch 3/50\n",
            "110/110 [==============================] - 0s 4ms/step - loss: 336964096.0000 - root_mean_squared_error: 18356.5820\n",
            "Epoch 4/50\n",
            "110/110 [==============================] - 0s 4ms/step - loss: 315988480.0000 - root_mean_squared_error: 17776.0645\n",
            "Epoch 5/50\n",
            "110/110 [==============================] - 0s 4ms/step - loss: 245221216.0000 - root_mean_squared_error: 15659.5410\n",
            "Epoch 6/50\n",
            "110/110 [==============================] - 0s 4ms/step - loss: 143652640.0000 - root_mean_squared_error: 11985.5176\n",
            "Epoch 7/50\n",
            "110/110 [==============================] - 0s 3ms/step - loss: 102513472.0000 - root_mean_squared_error: 10124.8936\n",
            "Epoch 8/50\n",
            "110/110 [==============================] - 0s 4ms/step - loss: 96884104.0000 - root_mean_squared_error: 9842.9717\n",
            "Epoch 9/50\n",
            "110/110 [==============================] - 0s 4ms/step - loss: 92925416.0000 - root_mean_squared_error: 9639.7832\n",
            "Epoch 10/50\n",
            "110/110 [==============================] - 0s 4ms/step - loss: 88882936.0000 - root_mean_squared_error: 9427.7744\n",
            "Epoch 11/50\n",
            "110/110 [==============================] - 0s 4ms/step - loss: 84625768.0000 - root_mean_squared_error: 9199.2266\n",
            "Epoch 12/50\n",
            "110/110 [==============================] - 0s 4ms/step - loss: 80050016.0000 - root_mean_squared_error: 8947.0674\n",
            "Epoch 13/50\n",
            "110/110 [==============================] - 0s 4ms/step - loss: 75150040.0000 - root_mean_squared_error: 8668.9121\n",
            "Epoch 14/50\n",
            "110/110 [==============================] - 0s 4ms/step - loss: 69679624.0000 - root_mean_squared_error: 8347.4316\n",
            "Epoch 15/50\n",
            "110/110 [==============================] - 1s 5ms/step - loss: 63677984.0000 - root_mean_squared_error: 7979.8486\n",
            "Epoch 16/50\n",
            "110/110 [==============================] - 1s 5ms/step - loss: 56773076.0000 - root_mean_squared_error: 7534.7910\n",
            "Epoch 17/50\n",
            "110/110 [==============================] - 1s 5ms/step - loss: 48541312.0000 - root_mean_squared_error: 6967.1597\n",
            "Epoch 18/50\n",
            "110/110 [==============================] - 1s 5ms/step - loss: 40398816.0000 - root_mean_squared_error: 6356.0063\n",
            "Epoch 19/50\n",
            "110/110 [==============================] - 1s 5ms/step - loss: 34895000.0000 - root_mean_squared_error: 5907.1992\n",
            "Epoch 20/50\n",
            "110/110 [==============================] - 1s 5ms/step - loss: 32330632.0000 - root_mean_squared_error: 5686.0029\n",
            "Epoch 21/50\n",
            "110/110 [==============================] - 1s 5ms/step - loss: 31339900.0000 - root_mean_squared_error: 5598.2051\n",
            "Epoch 22/50\n",
            "110/110 [==============================] - 1s 5ms/step - loss: 30826552.0000 - root_mean_squared_error: 5552.1665\n",
            "Epoch 23/50\n",
            "110/110 [==============================] - 0s 4ms/step - loss: 30487934.0000 - root_mean_squared_error: 5521.5879\n",
            "Epoch 24/50\n",
            "110/110 [==============================] - 0s 4ms/step - loss: 30236278.0000 - root_mean_squared_error: 5498.7524\n",
            "Epoch 25/50\n",
            "110/110 [==============================] - 0s 4ms/step - loss: 30072162.0000 - root_mean_squared_error: 5483.8091\n",
            "Epoch 26/50\n",
            "110/110 [==============================] - 0s 4ms/step - loss: 29948960.0000 - root_mean_squared_error: 5472.5640\n",
            "Epoch 27/50\n",
            "110/110 [==============================] - 0s 4ms/step - loss: 29820422.0000 - root_mean_squared_error: 5460.8076\n",
            "Epoch 28/50\n",
            "110/110 [==============================] - 0s 4ms/step - loss: 29706466.0000 - root_mean_squared_error: 5450.3638\n",
            "Epoch 29/50\n",
            "110/110 [==============================] - 0s 4ms/step - loss: 29679042.0000 - root_mean_squared_error: 5447.8472\n",
            "Epoch 30/50\n",
            "110/110 [==============================] - 0s 4ms/step - loss: 29605014.0000 - root_mean_squared_error: 5441.0488\n",
            "Epoch 31/50\n",
            "110/110 [==============================] - 0s 4ms/step - loss: 29584576.0000 - root_mean_squared_error: 5439.1704\n",
            "Epoch 32/50\n",
            "110/110 [==============================] - 0s 4ms/step - loss: 29533844.0000 - root_mean_squared_error: 5434.5049\n",
            "Epoch 33/50\n",
            "110/110 [==============================] - 0s 4ms/step - loss: 29500886.0000 - root_mean_squared_error: 5431.4717\n",
            "Epoch 34/50\n",
            "110/110 [==============================] - 0s 4ms/step - loss: 29475672.0000 - root_mean_squared_error: 5429.1499\n",
            "Epoch 35/50\n",
            "110/110 [==============================] - 0s 4ms/step - loss: 29469158.0000 - root_mean_squared_error: 5428.5503\n",
            "Epoch 36/50\n",
            "110/110 [==============================] - 0s 4ms/step - loss: 29447724.0000 - root_mean_squared_error: 5426.5757\n",
            "Epoch 37/50\n",
            "110/110 [==============================] - 0s 4ms/step - loss: 29435200.0000 - root_mean_squared_error: 5425.4214\n",
            "Epoch 38/50\n",
            "110/110 [==============================] - 0s 4ms/step - loss: 29424622.0000 - root_mean_squared_error: 5424.4468\n",
            "Epoch 39/50\n",
            "110/110 [==============================] - 0s 4ms/step - loss: 29428630.0000 - root_mean_squared_error: 5424.8159\n",
            "Epoch 40/50\n",
            "110/110 [==============================] - 0s 4ms/step - loss: 29403086.0000 - root_mean_squared_error: 5422.4609\n",
            "Epoch 41/50\n",
            "110/110 [==============================] - 0s 4ms/step - loss: 29368804.0000 - root_mean_squared_error: 5419.2993\n",
            "Epoch 42/50\n",
            "110/110 [==============================] - 0s 4ms/step - loss: 29371170.0000 - root_mean_squared_error: 5419.5176\n",
            "Epoch 43/50\n",
            "110/110 [==============================] - 0s 4ms/step - loss: 29308040.0000 - root_mean_squared_error: 5413.6899\n",
            "Epoch 44/50\n",
            "110/110 [==============================] - 0s 4ms/step - loss: 29379286.0000 - root_mean_squared_error: 5420.2661\n",
            "Epoch 45/50\n",
            "110/110 [==============================] - 0s 4ms/step - loss: 29343658.0000 - root_mean_squared_error: 5416.9790\n",
            "Epoch 46/50\n",
            "110/110 [==============================] - 0s 4ms/step - loss: 29314808.0000 - root_mean_squared_error: 5414.3149\n",
            "Epoch 47/50\n",
            "110/110 [==============================] - 1s 5ms/step - loss: 29343402.0000 - root_mean_squared_error: 5416.9551\n",
            "Epoch 48/50\n",
            "110/110 [==============================] - 1s 5ms/step - loss: 29329408.0000 - root_mean_squared_error: 5415.6631\n",
            "Epoch 49/50\n",
            "110/110 [==============================] - 1s 5ms/step - loss: 29308890.0000 - root_mean_squared_error: 5413.7686\n",
            "Epoch 50/50\n",
            "110/110 [==============================] - 1s 5ms/step - loss: 29319378.0000 - root_mean_squared_error: 5414.7373\n"
          ]
        },
        {
          "output_type": "execute_result",
          "data": {
            "text/plain": [
              "<keras.src.callbacks.History at 0x7d55ac736c20>"
            ]
          },
          "metadata": {},
          "execution_count": 98
        }
      ]
    },
    {
      "cell_type": "code",
      "source": [
        "tf_model_4_result = tf_model_4.evaluate(meta_X_val_formatted_original, y_val_formatted)"
      ],
      "metadata": {
        "colab": {
          "base_uri": "https://localhost:8080/"
        },
        "outputId": "b9467bee-0245-4a1c-e473-3417872ebaa9",
        "id": "k9-agLOIsSYs"
      },
      "execution_count": null,
      "outputs": [
        {
          "output_type": "stream",
          "name": "stdout",
          "text": [
            "16/16 [==============================] - 0s 4ms/step - loss: 37357796.0000 - root_mean_squared_error: 6112.1021\n"
          ]
        }
      ]
    },
    {
      "cell_type": "markdown",
      "source": [
        "#### Model 5: Model 4 with Leaky Relu activation"
      ],
      "metadata": {
        "id": "xL1vLUZ1s5Ft"
      }
    },
    {
      "cell_type": "code",
      "source": [
        "tf_model_5 = tf.keras.Sequential([\n",
        "    tf.keras.layers.Dense(6, activation=tf.keras.layers.LeakyReLU(), input_shape=(6,)),\n",
        "    tf.keras.layers.Dense(10, activation=tf.keras.layers.LeakyReLU()),\n",
        "    tf.keras.layers.Dense(10, activation=tf.keras.layers.LeakyReLU()),\n",
        "    tf.keras.layers.Dense(10, activation=tf.keras.layers.LeakyReLU()),\n",
        "    tf.keras.layers.Dense(1)\n",
        "])"
      ],
      "metadata": {
        "id": "SjkoiASps5F7"
      },
      "execution_count": null,
      "outputs": []
    },
    {
      "cell_type": "code",
      "source": [
        "tf_model_5.compile(optimizer='adam', loss='mse', metrics=[tf.keras.metrics.RootMeanSquaredError()])"
      ],
      "metadata": {
        "id": "W9WoNjDRs5F7"
      },
      "execution_count": null,
      "outputs": []
    },
    {
      "cell_type": "code",
      "source": [
        "tf_model_5.summary()"
      ],
      "metadata": {
        "colab": {
          "base_uri": "https://localhost:8080/"
        },
        "outputId": "4881e176-bda2-43c9-d48d-77d6225f38de",
        "id": "2ZMlg9k9s5F7"
      },
      "execution_count": null,
      "outputs": [
        {
          "output_type": "stream",
          "name": "stdout",
          "text": [
            "Model: \"sequential_4\"\n",
            "_________________________________________________________________\n",
            " Layer (type)                Output Shape              Param #   \n",
            "=================================================================\n",
            " dense_14 (Dense)            (None, 6)                 42        \n",
            "                                                                 \n",
            " dense_15 (Dense)            (None, 10)                70        \n",
            "                                                                 \n",
            " dense_16 (Dense)            (None, 10)                110       \n",
            "                                                                 \n",
            " dense_17 (Dense)            (None, 10)                110       \n",
            "                                                                 \n",
            " dense_18 (Dense)            (None, 1)                 11        \n",
            "                                                                 \n",
            "=================================================================\n",
            "Total params: 343 (1.34 KB)\n",
            "Trainable params: 343 (1.34 KB)\n",
            "Non-trainable params: 0 (0.00 Byte)\n",
            "_________________________________________________________________\n"
          ]
        }
      ]
    },
    {
      "cell_type": "code",
      "source": [
        "tf_model_5.fit(meta_X_train_formatted_original, y_train_formatted, epochs=50)"
      ],
      "metadata": {
        "colab": {
          "base_uri": "https://localhost:8080/"
        },
        "outputId": "5355e125-d902-4121-d90a-5909e04bf938",
        "id": "Fe9f9ABbs5F8"
      },
      "execution_count": null,
      "outputs": [
        {
          "output_type": "stream",
          "name": "stdout",
          "text": [
            "Epoch 1/50\n",
            "110/110 [==============================] - 2s 4ms/step - loss: 339416736.0000 - root_mean_squared_error: 18423.2656\n",
            "Epoch 2/50\n",
            "110/110 [==============================] - 0s 4ms/step - loss: 336524928.0000 - root_mean_squared_error: 18344.6152\n",
            "Epoch 3/50\n",
            "110/110 [==============================] - 0s 4ms/step - loss: 308858496.0000 - root_mean_squared_error: 17574.3711\n",
            "Epoch 4/50\n",
            "110/110 [==============================] - 0s 4ms/step - loss: 208290944.0000 - root_mean_squared_error: 14432.2881\n",
            "Epoch 5/50\n",
            "110/110 [==============================] - 0s 4ms/step - loss: 112253048.0000 - root_mean_squared_error: 10594.9541\n",
            "Epoch 6/50\n",
            "110/110 [==============================] - 0s 4ms/step - loss: 97257832.0000 - root_mean_squared_error: 9861.9385\n",
            "Epoch 7/50\n",
            "110/110 [==============================] - 0s 4ms/step - loss: 91121824.0000 - root_mean_squared_error: 9545.7754\n",
            "Epoch 8/50\n",
            "110/110 [==============================] - 0s 4ms/step - loss: 84818568.0000 - root_mean_squared_error: 9209.6992\n",
            "Epoch 9/50\n",
            "110/110 [==============================] - 0s 3ms/step - loss: 77866392.0000 - root_mean_squared_error: 8824.1934\n",
            "Epoch 10/50\n",
            "110/110 [==============================] - 0s 3ms/step - loss: 69832544.0000 - root_mean_squared_error: 8356.5869\n",
            "Epoch 11/50\n",
            "110/110 [==============================] - 0s 4ms/step - loss: 59843948.0000 - root_mean_squared_error: 7735.8867\n",
            "Epoch 12/50\n",
            "110/110 [==============================] - 0s 4ms/step - loss: 47176284.0000 - root_mean_squared_error: 6868.4995\n",
            "Epoch 13/50\n",
            "110/110 [==============================] - 0s 4ms/step - loss: 36081164.0000 - root_mean_squared_error: 6006.7598\n",
            "Epoch 14/50\n",
            "110/110 [==============================] - 0s 4ms/step - loss: 31531250.0000 - root_mean_squared_error: 5615.2690\n",
            "Epoch 15/50\n",
            "110/110 [==============================] - 0s 4ms/step - loss: 30563876.0000 - root_mean_squared_error: 5528.4604\n",
            "Epoch 16/50\n",
            "110/110 [==============================] - 0s 4ms/step - loss: 30347934.0000 - root_mean_squared_error: 5508.8960\n",
            "Epoch 17/50\n",
            "110/110 [==============================] - 0s 4ms/step - loss: 30205032.0000 - root_mean_squared_error: 5495.9102\n",
            "Epoch 18/50\n",
            "110/110 [==============================] - 0s 4ms/step - loss: 30073468.0000 - root_mean_squared_error: 5483.9282\n",
            "Epoch 19/50\n",
            "110/110 [==============================] - 0s 4ms/step - loss: 29985330.0000 - root_mean_squared_error: 5475.8862\n",
            "Epoch 20/50\n",
            "110/110 [==============================] - 0s 3ms/step - loss: 29910776.0000 - root_mean_squared_error: 5469.0742\n",
            "Epoch 21/50\n",
            "110/110 [==============================] - 0s 4ms/step - loss: 29840520.0000 - root_mean_squared_error: 5462.6479\n",
            "Epoch 22/50\n",
            "110/110 [==============================] - 0s 4ms/step - loss: 29769736.0000 - root_mean_squared_error: 5456.1650\n",
            "Epoch 23/50\n",
            "110/110 [==============================] - 0s 4ms/step - loss: 29700172.0000 - root_mean_squared_error: 5449.7861\n",
            "Epoch 24/50\n",
            "110/110 [==============================] - 0s 4ms/step - loss: 29709930.0000 - root_mean_squared_error: 5450.6816\n",
            "Epoch 25/50\n",
            "110/110 [==============================] - 0s 4ms/step - loss: 29642250.0000 - root_mean_squared_error: 5444.4697\n",
            "Epoch 26/50\n",
            "110/110 [==============================] - 1s 5ms/step - loss: 29583876.0000 - root_mean_squared_error: 5439.1060\n",
            "Epoch 27/50\n",
            "110/110 [==============================] - 1s 6ms/step - loss: 29542740.0000 - root_mean_squared_error: 5435.3232\n",
            "Epoch 28/50\n",
            "110/110 [==============================] - 1s 5ms/step - loss: 29534148.0000 - root_mean_squared_error: 5434.5327\n",
            "Epoch 29/50\n",
            "110/110 [==============================] - 1s 5ms/step - loss: 29500834.0000 - root_mean_squared_error: 5431.4668\n",
            "Epoch 30/50\n",
            "110/110 [==============================] - 1s 5ms/step - loss: 29439496.0000 - root_mean_squared_error: 5425.8174\n",
            "Epoch 31/50\n",
            "110/110 [==============================] - 1s 5ms/step - loss: 29464506.0000 - root_mean_squared_error: 5428.1216\n",
            "Epoch 32/50\n",
            "110/110 [==============================] - 1s 5ms/step - loss: 29398730.0000 - root_mean_squared_error: 5422.0596\n",
            "Epoch 33/50\n",
            "110/110 [==============================] - 1s 5ms/step - loss: 29377524.0000 - root_mean_squared_error: 5420.1035\n",
            "Epoch 34/50\n",
            "110/110 [==============================] - 1s 5ms/step - loss: 29363750.0000 - root_mean_squared_error: 5418.8325\n",
            "Epoch 35/50\n",
            "110/110 [==============================] - 0s 4ms/step - loss: 29349244.0000 - root_mean_squared_error: 5417.4941\n",
            "Epoch 36/50\n",
            "110/110 [==============================] - 0s 4ms/step - loss: 29327756.0000 - root_mean_squared_error: 5415.5107\n",
            "Epoch 37/50\n",
            "110/110 [==============================] - 0s 4ms/step - loss: 29304024.0000 - root_mean_squared_error: 5413.3193\n",
            "Epoch 38/50\n",
            "110/110 [==============================] - 0s 4ms/step - loss: 29259016.0000 - root_mean_squared_error: 5409.1602\n",
            "Epoch 39/50\n",
            "110/110 [==============================] - 0s 4ms/step - loss: 29304338.0000 - root_mean_squared_error: 5413.3481\n",
            "Epoch 40/50\n",
            "110/110 [==============================] - 0s 4ms/step - loss: 29235462.0000 - root_mean_squared_error: 5406.9829\n",
            "Epoch 41/50\n",
            "110/110 [==============================] - 0s 4ms/step - loss: 29240806.0000 - root_mean_squared_error: 5407.4771\n",
            "Epoch 42/50\n",
            "110/110 [==============================] - 0s 4ms/step - loss: 29276068.0000 - root_mean_squared_error: 5410.7363\n",
            "Epoch 43/50\n",
            "110/110 [==============================] - 0s 4ms/step - loss: 29221428.0000 - root_mean_squared_error: 5405.6846\n",
            "Epoch 44/50\n",
            "110/110 [==============================] - 0s 4ms/step - loss: 29202282.0000 - root_mean_squared_error: 5403.9136\n",
            "Epoch 45/50\n",
            "110/110 [==============================] - 0s 4ms/step - loss: 29179360.0000 - root_mean_squared_error: 5401.7920\n",
            "Epoch 46/50\n",
            "110/110 [==============================] - 0s 4ms/step - loss: 29181212.0000 - root_mean_squared_error: 5401.9639\n",
            "Epoch 47/50\n",
            "110/110 [==============================] - 0s 4ms/step - loss: 29172550.0000 - root_mean_squared_error: 5401.1616\n",
            "Epoch 48/50\n",
            "110/110 [==============================] - 0s 4ms/step - loss: 29194996.0000 - root_mean_squared_error: 5403.2393\n",
            "Epoch 49/50\n",
            "110/110 [==============================] - 0s 4ms/step - loss: 29172042.0000 - root_mean_squared_error: 5401.1147\n",
            "Epoch 50/50\n",
            "110/110 [==============================] - 0s 4ms/step - loss: 29156216.0000 - root_mean_squared_error: 5399.6494\n"
          ]
        },
        {
          "output_type": "execute_result",
          "data": {
            "text/plain": [
              "<keras.src.callbacks.History at 0x7d55ac535c60>"
            ]
          },
          "metadata": {},
          "execution_count": 103
        }
      ]
    },
    {
      "cell_type": "code",
      "source": [
        "tf_model_5_result = tf_model_5.evaluate(meta_X_val_formatted_original, y_val_formatted)"
      ],
      "metadata": {
        "colab": {
          "base_uri": "https://localhost:8080/"
        },
        "outputId": "cef96b3b-0247-42fd-81f0-f8ed57c58899",
        "id": "8CZkUf4Is5F8"
      },
      "execution_count": null,
      "outputs": [
        {
          "output_type": "stream",
          "name": "stdout",
          "text": [
            "16/16 [==============================] - 0s 2ms/step - loss: 37222984.0000 - root_mean_squared_error: 6101.0645\n"
          ]
        }
      ]
    },
    {
      "cell_type": "markdown",
      "source": [
        "#### Model 6: Model 5 but with 4 models as the base layer\n",
        "\n",
        "\n",
        "\n",
        "\n"
      ],
      "metadata": {
        "id": "bsu8xZ0qpDNn"
      }
    },
    {
      "cell_type": "code",
      "source": [
        "models_selected_2"
      ],
      "metadata": {
        "colab": {
          "base_uri": "https://localhost:8080/"
        },
        "id": "3XN_4SHC5xH9",
        "outputId": "cec852bd-e32c-4481-e5bb-310387ce727f"
      },
      "execution_count": null,
      "outputs": [
        {
          "output_type": "execute_result",
          "data": {
            "text/plain": [
              "[('lr', LinearRegression()),\n",
              " ('knn', KNeighborsRegressor()),\n",
              " ('rfr', RandomForestRegressor()),\n",
              " ('xgb',\n",
              "  XGBRegressor(base_score=None, booster=None, callbacks=None,\n",
              "               colsample_bylevel=None, colsample_bynode=None,\n",
              "               colsample_bytree=None, device=None, early_stopping_rounds=None,\n",
              "               enable_categorical=False, eval_metric=None, feature_types=None,\n",
              "               gamma=None, grow_policy=None, importance_type=None,\n",
              "               interaction_constraints=None, learning_rate=None, max_bin=None,\n",
              "               max_cat_threshold=None, max_cat_to_onehot=None,\n",
              "               max_delta_step=None, max_depth=None, max_leaves=None,\n",
              "               min_child_weight=None, missing=nan, monotone_constraints=None,\n",
              "               multi_strategy=None, n_estimators=None, n_jobs=None,\n",
              "               num_parallel_tree=None, random_state=None, ...))]"
            ]
          },
          "metadata": {},
          "execution_count": 105
        }
      ]
    },
    {
      "cell_type": "code",
      "source": [
        "tf_model_6 = tf.keras.Sequential([\n",
        "    tf.keras.layers.Dense(6, activation=tf.keras.layers.LeakyReLU(), input_shape=(4,)),\n",
        "    tf.keras.layers.Dense(10, activation=tf.keras.layers.LeakyReLU()),\n",
        "    tf.keras.layers.Dense(10, activation=tf.keras.layers.LeakyReLU()),\n",
        "    tf.keras.layers.Dense(10, activation=tf.keras.layers.LeakyReLU()),\n",
        "    tf.keras.layers.Dense(1)\n",
        "])"
      ],
      "metadata": {
        "id": "DlAIBRR3pDN6"
      },
      "execution_count": null,
      "outputs": []
    },
    {
      "cell_type": "code",
      "source": [
        "tf_model_6.compile(optimizer='adam', loss='mse', metrics=[tf.keras.metrics.RootMeanSquaredError()])"
      ],
      "metadata": {
        "id": "Ic5Mn7E5pDN6"
      },
      "execution_count": null,
      "outputs": []
    },
    {
      "cell_type": "code",
      "source": [
        "tf_model_6.summary()"
      ],
      "metadata": {
        "colab": {
          "base_uri": "https://localhost:8080/"
        },
        "outputId": "b38a85df-b350-4022-f99b-073ba56bf63b",
        "id": "OTUXQwGCpDN6"
      },
      "execution_count": null,
      "outputs": [
        {
          "output_type": "stream",
          "name": "stdout",
          "text": [
            "Model: \"sequential_5\"\n",
            "_________________________________________________________________\n",
            " Layer (type)                Output Shape              Param #   \n",
            "=================================================================\n",
            " dense_19 (Dense)            (None, 6)                 30        \n",
            "                                                                 \n",
            " dense_20 (Dense)            (None, 10)                70        \n",
            "                                                                 \n",
            " dense_21 (Dense)            (None, 10)                110       \n",
            "                                                                 \n",
            " dense_22 (Dense)            (None, 10)                110       \n",
            "                                                                 \n",
            " dense_23 (Dense)            (None, 1)                 11        \n",
            "                                                                 \n",
            "=================================================================\n",
            "Total params: 331 (1.29 KB)\n",
            "Trainable params: 331 (1.29 KB)\n",
            "Non-trainable params: 0 (0.00 Byte)\n",
            "_________________________________________________________________\n"
          ]
        }
      ]
    },
    {
      "cell_type": "code",
      "source": [
        "tf_model_6.fit(meta_X_train_formatted_selected_2, y_train_formatted, epochs=50)"
      ],
      "metadata": {
        "colab": {
          "base_uri": "https://localhost:8080/"
        },
        "outputId": "0de4c809-895b-4363-9027-1333a44a8740",
        "id": "-5tOGo8npDN7"
      },
      "execution_count": null,
      "outputs": [
        {
          "output_type": "stream",
          "name": "stdout",
          "text": [
            "Epoch 1/50\n",
            "110/110 [==============================] - 2s 4ms/step - loss: 339463808.0000 - root_mean_squared_error: 18424.5430\n",
            "Epoch 2/50\n",
            "110/110 [==============================] - 0s 4ms/step - loss: 338071200.0000 - root_mean_squared_error: 18386.7129\n",
            "Epoch 3/50\n",
            "110/110 [==============================] - 0s 4ms/step - loss: 324474400.0000 - root_mean_squared_error: 18013.1719\n",
            "Epoch 4/50\n",
            "110/110 [==============================] - 0s 4ms/step - loss: 267169008.0000 - root_mean_squared_error: 16345.3057\n",
            "Epoch 5/50\n",
            "110/110 [==============================] - 0s 4ms/step - loss: 158703088.0000 - root_mean_squared_error: 12597.7412\n",
            "Epoch 6/50\n",
            "110/110 [==============================] - 0s 4ms/step - loss: 96945296.0000 - root_mean_squared_error: 9846.0801\n",
            "Epoch 7/50\n",
            "110/110 [==============================] - 0s 4ms/step - loss: 85217312.0000 - root_mean_squared_error: 9231.3223\n",
            "Epoch 8/50\n",
            "110/110 [==============================] - 0s 4ms/step - loss: 78078616.0000 - root_mean_squared_error: 8836.2100\n",
            "Epoch 9/50\n",
            "110/110 [==============================] - 0s 4ms/step - loss: 71201800.0000 - root_mean_squared_error: 8438.1162\n",
            "Epoch 10/50\n",
            "110/110 [==============================] - 0s 4ms/step - loss: 63943656.0000 - root_mean_squared_error: 7996.4775\n",
            "Epoch 11/50\n",
            "110/110 [==============================] - 0s 4ms/step - loss: 56060020.0000 - root_mean_squared_error: 7487.3242\n",
            "Epoch 12/50\n",
            "110/110 [==============================] - 0s 4ms/step - loss: 47587120.0000 - root_mean_squared_error: 6898.3418\n",
            "Epoch 13/50\n",
            "110/110 [==============================] - 0s 4ms/step - loss: 40191616.0000 - root_mean_squared_error: 6339.6860\n",
            "Epoch 14/50\n",
            "110/110 [==============================] - 0s 4ms/step - loss: 35425772.0000 - root_mean_squared_error: 5951.9551\n",
            "Epoch 15/50\n",
            "110/110 [==============================] - 0s 4ms/step - loss: 33057200.0000 - root_mean_squared_error: 5749.5391\n",
            "Epoch 16/50\n",
            "110/110 [==============================] - 0s 4ms/step - loss: 32008858.0000 - root_mean_squared_error: 5657.6372\n",
            "Epoch 17/50\n",
            "110/110 [==============================] - 0s 3ms/step - loss: 31544546.0000 - root_mean_squared_error: 5616.4531\n",
            "Epoch 18/50\n",
            "110/110 [==============================] - 0s 4ms/step - loss: 31244702.0000 - root_mean_squared_error: 5589.6958\n",
            "Epoch 19/50\n",
            "110/110 [==============================] - 0s 4ms/step - loss: 31009572.0000 - root_mean_squared_error: 5568.6235\n",
            "Epoch 20/50\n",
            "110/110 [==============================] - 0s 4ms/step - loss: 30836834.0000 - root_mean_squared_error: 5553.0923\n",
            "Epoch 21/50\n",
            "110/110 [==============================] - 1s 5ms/step - loss: 30681130.0000 - root_mean_squared_error: 5539.0547\n",
            "Epoch 22/50\n",
            "110/110 [==============================] - 1s 5ms/step - loss: 30546266.0000 - root_mean_squared_error: 5526.8677\n",
            "Epoch 23/50\n",
            "110/110 [==============================] - 1s 5ms/step - loss: 30396516.0000 - root_mean_squared_error: 5513.3037\n",
            "Epoch 24/50\n",
            "110/110 [==============================] - 1s 5ms/step - loss: 30398952.0000 - root_mean_squared_error: 5513.5244\n",
            "Epoch 25/50\n",
            "110/110 [==============================] - 1s 5ms/step - loss: 30219230.0000 - root_mean_squared_error: 5497.2017\n",
            "Epoch 26/50\n",
            "110/110 [==============================] - 1s 5ms/step - loss: 30149810.0000 - root_mean_squared_error: 5490.8843\n",
            "Epoch 27/50\n",
            "110/110 [==============================] - 1s 5ms/step - loss: 30095876.0000 - root_mean_squared_error: 5485.9707\n",
            "Epoch 28/50\n",
            "110/110 [==============================] - 1s 5ms/step - loss: 30033328.0000 - root_mean_squared_error: 5480.2671\n",
            "Epoch 29/50\n",
            "110/110 [==============================] - 1s 5ms/step - loss: 29952778.0000 - root_mean_squared_error: 5472.9131\n",
            "Epoch 30/50\n",
            "110/110 [==============================] - 0s 4ms/step - loss: 29851552.0000 - root_mean_squared_error: 5463.6572\n",
            "Epoch 31/50\n",
            "110/110 [==============================] - 0s 4ms/step - loss: 29694056.0000 - root_mean_squared_error: 5449.2251\n",
            "Epoch 32/50\n",
            "110/110 [==============================] - 0s 4ms/step - loss: 29565354.0000 - root_mean_squared_error: 5437.4033\n",
            "Epoch 33/50\n",
            "110/110 [==============================] - 0s 4ms/step - loss: 29484900.0000 - root_mean_squared_error: 5430.0000\n",
            "Epoch 34/50\n",
            "110/110 [==============================] - 0s 4ms/step - loss: 29441402.0000 - root_mean_squared_error: 5425.9932\n",
            "Epoch 35/50\n",
            "110/110 [==============================] - 0s 4ms/step - loss: 29372254.0000 - root_mean_squared_error: 5419.6172\n",
            "Epoch 36/50\n",
            "110/110 [==============================] - 0s 4ms/step - loss: 29380876.0000 - root_mean_squared_error: 5420.4126\n",
            "Epoch 37/50\n",
            "110/110 [==============================] - 0s 4ms/step - loss: 29350092.0000 - root_mean_squared_error: 5417.5728\n",
            "Epoch 38/50\n",
            "110/110 [==============================] - 0s 4ms/step - loss: 29305076.0000 - root_mean_squared_error: 5413.4165\n",
            "Epoch 39/50\n",
            "110/110 [==============================] - 0s 4ms/step - loss: 29355312.0000 - root_mean_squared_error: 5418.0542\n",
            "Epoch 40/50\n",
            "110/110 [==============================] - 0s 4ms/step - loss: 29335938.0000 - root_mean_squared_error: 5416.2661\n",
            "Epoch 41/50\n",
            "110/110 [==============================] - 0s 4ms/step - loss: 29274562.0000 - root_mean_squared_error: 5410.5972\n",
            "Epoch 42/50\n",
            "110/110 [==============================] - 0s 4ms/step - loss: 29272042.0000 - root_mean_squared_error: 5410.3643\n",
            "Epoch 43/50\n",
            "110/110 [==============================] - 0s 4ms/step - loss: 29231850.0000 - root_mean_squared_error: 5406.6484\n",
            "Epoch 44/50\n",
            "110/110 [==============================] - 0s 3ms/step - loss: 29304742.0000 - root_mean_squared_error: 5413.3853\n",
            "Epoch 45/50\n",
            "110/110 [==============================] - 0s 4ms/step - loss: 29247466.0000 - root_mean_squared_error: 5408.0928\n",
            "Epoch 46/50\n",
            "110/110 [==============================] - 0s 3ms/step - loss: 29187668.0000 - root_mean_squared_error: 5402.5610\n",
            "Epoch 47/50\n",
            "110/110 [==============================] - 0s 4ms/step - loss: 29211724.0000 - root_mean_squared_error: 5404.7871\n",
            "Epoch 48/50\n",
            "110/110 [==============================] - 0s 4ms/step - loss: 29217244.0000 - root_mean_squared_error: 5405.2979\n",
            "Epoch 49/50\n",
            "110/110 [==============================] - 0s 4ms/step - loss: 29190190.0000 - root_mean_squared_error: 5402.7944\n",
            "Epoch 50/50\n",
            "110/110 [==============================] - 0s 3ms/step - loss: 29198708.0000 - root_mean_squared_error: 5403.5830\n"
          ]
        },
        {
          "output_type": "execute_result",
          "data": {
            "text/plain": [
              "<keras.src.callbacks.History at 0x7d55ac6b3130>"
            ]
          },
          "metadata": {},
          "execution_count": 109
        }
      ]
    },
    {
      "cell_type": "code",
      "source": [
        "tf_model_6_result = tf_model_6.evaluate(meta_X_val_formatted_selected_2, y_val_formatted)\n",
        "tf_model_6_result"
      ],
      "metadata": {
        "colab": {
          "base_uri": "https://localhost:8080/"
        },
        "id": "Yd_TNJFP51fN",
        "outputId": "731efc78-ae68-4570-d6e3-fd8603508798"
      },
      "execution_count": null,
      "outputs": [
        {
          "output_type": "stream",
          "name": "stdout",
          "text": [
            "16/16 [==============================] - 0s 3ms/step - loss: 37487224.0000 - root_mean_squared_error: 6122.6812\n"
          ]
        },
        {
          "output_type": "execute_result",
          "data": {
            "text/plain": [
              "[37487224.0, 6122.68115234375]"
            ]
          },
          "metadata": {},
          "execution_count": 110
        }
      ]
    },
    {
      "cell_type": "markdown",
      "source": [
        "## Evaluation"
      ],
      "metadata": {
        "id": "Ook7v-5Is5F8"
      }
    },
    {
      "cell_type": "code",
      "source": [
        "rfr_result = np.sqrt(mean_squared_error(y_test, rfr.predict(X_test)))\n",
        "bl_result = np.sqrt(mean_squared_error(y_test, bl.predict(X_test)))\n",
        "model_1_result = np.nan # set as a very large number since the gradient exploded when doing SGD\n",
        "model_2_result = np.sqrt(mean_squared_error(y_test_formatted, net_3.predict(meta_X_test_formatted_original))) # set as a very large number since the gradient exploded when doing SGD\n",
        "model_3_result = np.sqrt(mean_squared_error(y_test_formatted, net_3.predict(meta_X_test_formatted_original)))\n",
        "model_4_result = np.sqrt(mean_squared_error(y_test_formatted, net_4.predict(meta_X_test_formatted_selected)))\n",
        "model_5_result = np.sqrt(mean_squared_error(y_test_formatted, net_5.predict(meta_X_test_formatted_selected_2)))\n",
        "bl_2_result = np.sqrt(mean_squared_error(y_test, bl_2.predict(X_test)))\n",
        "model_6_result = np.sqrt(mean_squared_error(y_test_formatted, net_6.predict(meta_X_test_formatted_selected_3)))\n",
        "bl_3_result = np.sqrt(mean_squared_error(y_test, bl_3.predict(X_test)))\n",
        "model_7_result = np.sqrt(mean_squared_error(y_test_formatted, net_7.predict(meta_X_test_formatted_selected_2)))\n",
        "model_8_result = np.sqrt(mean_squared_error(y_test_formatted, net_8.predict(meta_X_test_formatted_selected_2)))"
      ],
      "metadata": {
        "colab": {
          "base_uri": "https://localhost:8080/"
        },
        "id": "yOKAlq4grqRU",
        "outputId": "80da2edf-c8dc-493a-ebbc-5dfab8f96a96"
      },
      "execution_count": null,
      "outputs": [
        {
          "output_type": "stream",
          "name": "stdout",
          "text": [
            "[[ 5901.33435822  7528.6        13389.4261153   8727.6\n",
            "   7470.05419922 11715.6860177 ]\n",
            " [10866.39821329 10015.8        13396.62124929  6641.77\n",
            "   6347.87255859 10628.02708124]\n",
            " [10897.83038462 16953.8        13669.86162458 26166.04333333\n",
            "  20737.27148438 22066.28655545]\n",
            " ...\n",
            " [13807.77279959 15248.6        13639.9911484  18166.95\n",
            "  17440.50585938 13287.70410367]\n",
            " [ 9369.94474428  1260.4        13464.89718239  2680.14\n",
            "   7542.328125   14867.00841346]\n",
            " [-1049.20662526  5749.         13361.13968356  3644.26\n",
            "   4275.36083984 11715.6860177 ]]\n",
            "[[ 5032.88420017  7462.          8699.38        7525.36962891]\n",
            " [ 9827.49532321  9673.2         6768.82        7304.60888672]\n",
            " [11564.37370065 18710.         23598.35       22048.55664062]\n",
            " ...\n",
            " [13648.785401   14809.6        17559.99       17515.69335938]\n",
            " [ 9746.29877945  1649.2         2047.41        7012.87060547]\n",
            " [ -808.36141866  4902.2         3857.06        3278.0534668 ]]\n",
            "[[ 7524.8         8801.54        7867.95751953]\n",
            " [ 9673.2         7498.64        8284.82714844]\n",
            " [15260.4        22087.2        19735.22070312]\n",
            " ...\n",
            " [15248.6        17751.14       17519.328125  ]\n",
            " [ 1649.2         1987.26        5201.49560547]\n",
            " [ 5989.8         3286.93        5301.35595703]]\n"
          ]
        }
      ]
    },
    {
      "cell_type": "code",
      "source": [
        "results_no_tensorflow = {\n",
        "    'Random Forest Regresor': rfr_result,\n",
        "    'base_model with 6 models (original)': bl_result,\n",
        "    'ANN Too High Learning Rate 1': model_1_result,\n",
        "    'ANN Too High Learning Rate 2': model_2_result,\n",
        "    'ANN Suitable Learning Rate': model_3_result,\n",
        "    'ANN with selected 5 models': model_4_result,\n",
        "    'ANN with selected 4 models': model_5_result,\n",
        "    'base_model with 4 models': bl_2_result,\n",
        "    'ANN with selected 3 models':  model_6_result,\n",
        "    'base_model with 3 models':bl_3_result,\n",
        "    '1 hidden layer DNN with 4 models': model_7_result,\n",
        "    '3 hidden layers DNN with 4 models': model_8_result,\n",
        "}\n",
        "\n",
        "results_no_tensorflow_df = pd.DataFrame.from_dict(results_no_tensorflow, orient='index', columns=['RMSE']).round(3)\n",
        "results_no_tensorflow_df.sort_values(by='RMSE', ascending=True, inplace=True)\n",
        "results_no_tensorflow_df"
      ],
      "metadata": {
        "colab": {
          "base_uri": "https://localhost:8080/",
          "height": 426
        },
        "id": "fyza_b7RtvS_",
        "outputId": "5e444099-8a6d-4098-c6e4-85036a935d41"
      },
      "execution_count": null,
      "outputs": [
        {
          "output_type": "execute_result",
          "data": {
            "text/plain": [
              "                                         RMSE\n",
              "Random Forest Regresor               5640.996\n",
              "base_model with 3 models             5645.460\n",
              "base_model with 4 models             5701.993\n",
              "base_model with 6 models (original)  5770.306\n",
              "ANN with selected 3 models           6223.500\n",
              "ANN with selected 4 models           6424.869\n",
              "ANN with selected 5 models           7448.343\n",
              "1 hidden layer DNN with 4 models     8043.348\n",
              "3 hidden layers DNN with 4 models    8299.116\n",
              "ANN Too High Learning Rate 2         8818.408\n",
              "ANN Suitable Learning Rate           8818.408\n",
              "ANN Too High Learning Rate 1              NaN"
            ],
            "text/html": [
              "\n",
              "  <div id=\"df-b87f5a0a-4982-4f93-ae0f-5680bb0e26b0\" class=\"colab-df-container\">\n",
              "    <div>\n",
              "<style scoped>\n",
              "    .dataframe tbody tr th:only-of-type {\n",
              "        vertical-align: middle;\n",
              "    }\n",
              "\n",
              "    .dataframe tbody tr th {\n",
              "        vertical-align: top;\n",
              "    }\n",
              "\n",
              "    .dataframe thead th {\n",
              "        text-align: right;\n",
              "    }\n",
              "</style>\n",
              "<table border=\"1\" class=\"dataframe\">\n",
              "  <thead>\n",
              "    <tr style=\"text-align: right;\">\n",
              "      <th></th>\n",
              "      <th>RMSE</th>\n",
              "    </tr>\n",
              "  </thead>\n",
              "  <tbody>\n",
              "    <tr>\n",
              "      <th>Random Forest Regresor</th>\n",
              "      <td>5640.996</td>\n",
              "    </tr>\n",
              "    <tr>\n",
              "      <th>base_model with 3 models</th>\n",
              "      <td>5645.460</td>\n",
              "    </tr>\n",
              "    <tr>\n",
              "      <th>base_model with 4 models</th>\n",
              "      <td>5701.993</td>\n",
              "    </tr>\n",
              "    <tr>\n",
              "      <th>base_model with 6 models (original)</th>\n",
              "      <td>5770.306</td>\n",
              "    </tr>\n",
              "    <tr>\n",
              "      <th>ANN with selected 3 models</th>\n",
              "      <td>6223.500</td>\n",
              "    </tr>\n",
              "    <tr>\n",
              "      <th>ANN with selected 4 models</th>\n",
              "      <td>6424.869</td>\n",
              "    </tr>\n",
              "    <tr>\n",
              "      <th>ANN with selected 5 models</th>\n",
              "      <td>7448.343</td>\n",
              "    </tr>\n",
              "    <tr>\n",
              "      <th>1 hidden layer DNN with 4 models</th>\n",
              "      <td>8043.348</td>\n",
              "    </tr>\n",
              "    <tr>\n",
              "      <th>3 hidden layers DNN with 4 models</th>\n",
              "      <td>8299.116</td>\n",
              "    </tr>\n",
              "    <tr>\n",
              "      <th>ANN Too High Learning Rate 2</th>\n",
              "      <td>8818.408</td>\n",
              "    </tr>\n",
              "    <tr>\n",
              "      <th>ANN Suitable Learning Rate</th>\n",
              "      <td>8818.408</td>\n",
              "    </tr>\n",
              "    <tr>\n",
              "      <th>ANN Too High Learning Rate 1</th>\n",
              "      <td>NaN</td>\n",
              "    </tr>\n",
              "  </tbody>\n",
              "</table>\n",
              "</div>\n",
              "    <div class=\"colab-df-buttons\">\n",
              "\n",
              "  <div class=\"colab-df-container\">\n",
              "    <button class=\"colab-df-convert\" onclick=\"convertToInteractive('df-b87f5a0a-4982-4f93-ae0f-5680bb0e26b0')\"\n",
              "            title=\"Convert this dataframe to an interactive table.\"\n",
              "            style=\"display:none;\">\n",
              "\n",
              "  <svg xmlns=\"http://www.w3.org/2000/svg\" height=\"24px\" viewBox=\"0 -960 960 960\">\n",
              "    <path d=\"M120-120v-720h720v720H120Zm60-500h600v-160H180v160Zm220 220h160v-160H400v160Zm0 220h160v-160H400v160ZM180-400h160v-160H180v160Zm440 0h160v-160H620v160ZM180-180h160v-160H180v160Zm440 0h160v-160H620v160Z\"/>\n",
              "  </svg>\n",
              "    </button>\n",
              "\n",
              "  <style>\n",
              "    .colab-df-container {\n",
              "      display:flex;\n",
              "      gap: 12px;\n",
              "    }\n",
              "\n",
              "    .colab-df-convert {\n",
              "      background-color: #E8F0FE;\n",
              "      border: none;\n",
              "      border-radius: 50%;\n",
              "      cursor: pointer;\n",
              "      display: none;\n",
              "      fill: #1967D2;\n",
              "      height: 32px;\n",
              "      padding: 0 0 0 0;\n",
              "      width: 32px;\n",
              "    }\n",
              "\n",
              "    .colab-df-convert:hover {\n",
              "      background-color: #E2EBFA;\n",
              "      box-shadow: 0px 1px 2px rgba(60, 64, 67, 0.3), 0px 1px 3px 1px rgba(60, 64, 67, 0.15);\n",
              "      fill: #174EA6;\n",
              "    }\n",
              "\n",
              "    .colab-df-buttons div {\n",
              "      margin-bottom: 4px;\n",
              "    }\n",
              "\n",
              "    [theme=dark] .colab-df-convert {\n",
              "      background-color: #3B4455;\n",
              "      fill: #D2E3FC;\n",
              "    }\n",
              "\n",
              "    [theme=dark] .colab-df-convert:hover {\n",
              "      background-color: #434B5C;\n",
              "      box-shadow: 0px 1px 3px 1px rgba(0, 0, 0, 0.15);\n",
              "      filter: drop-shadow(0px 1px 2px rgba(0, 0, 0, 0.3));\n",
              "      fill: #FFFFFF;\n",
              "    }\n",
              "  </style>\n",
              "\n",
              "    <script>\n",
              "      const buttonEl =\n",
              "        document.querySelector('#df-b87f5a0a-4982-4f93-ae0f-5680bb0e26b0 button.colab-df-convert');\n",
              "      buttonEl.style.display =\n",
              "        google.colab.kernel.accessAllowed ? 'block' : 'none';\n",
              "\n",
              "      async function convertToInteractive(key) {\n",
              "        const element = document.querySelector('#df-b87f5a0a-4982-4f93-ae0f-5680bb0e26b0');\n",
              "        const dataTable =\n",
              "          await google.colab.kernel.invokeFunction('convertToInteractive',\n",
              "                                                    [key], {});\n",
              "        if (!dataTable) return;\n",
              "\n",
              "        const docLinkHtml = 'Like what you see? Visit the ' +\n",
              "          '<a target=\"_blank\" href=https://colab.research.google.com/notebooks/data_table.ipynb>data table notebook</a>'\n",
              "          + ' to learn more about interactive tables.';\n",
              "        element.innerHTML = '';\n",
              "        dataTable['output_type'] = 'display_data';\n",
              "        await google.colab.output.renderOutput(dataTable, element);\n",
              "        const docLink = document.createElement('div');\n",
              "        docLink.innerHTML = docLinkHtml;\n",
              "        element.appendChild(docLink);\n",
              "      }\n",
              "    </script>\n",
              "  </div>\n",
              "\n",
              "\n",
              "<div id=\"df-83e42bd6-6e16-4e26-80f8-2292ad95f2e8\">\n",
              "  <button class=\"colab-df-quickchart\" onclick=\"quickchart('df-83e42bd6-6e16-4e26-80f8-2292ad95f2e8')\"\n",
              "            title=\"Suggest charts\"\n",
              "            style=\"display:none;\">\n",
              "\n",
              "<svg xmlns=\"http://www.w3.org/2000/svg\" height=\"24px\"viewBox=\"0 0 24 24\"\n",
              "     width=\"24px\">\n",
              "    <g>\n",
              "        <path d=\"M19 3H5c-1.1 0-2 .9-2 2v14c0 1.1.9 2 2 2h14c1.1 0 2-.9 2-2V5c0-1.1-.9-2-2-2zM9 17H7v-7h2v7zm4 0h-2V7h2v10zm4 0h-2v-4h2v4z\"/>\n",
              "    </g>\n",
              "</svg>\n",
              "  </button>\n",
              "\n",
              "<style>\n",
              "  .colab-df-quickchart {\n",
              "      --bg-color: #E8F0FE;\n",
              "      --fill-color: #1967D2;\n",
              "      --hover-bg-color: #E2EBFA;\n",
              "      --hover-fill-color: #174EA6;\n",
              "      --disabled-fill-color: #AAA;\n",
              "      --disabled-bg-color: #DDD;\n",
              "  }\n",
              "\n",
              "  [theme=dark] .colab-df-quickchart {\n",
              "      --bg-color: #3B4455;\n",
              "      --fill-color: #D2E3FC;\n",
              "      --hover-bg-color: #434B5C;\n",
              "      --hover-fill-color: #FFFFFF;\n",
              "      --disabled-bg-color: #3B4455;\n",
              "      --disabled-fill-color: #666;\n",
              "  }\n",
              "\n",
              "  .colab-df-quickchart {\n",
              "    background-color: var(--bg-color);\n",
              "    border: none;\n",
              "    border-radius: 50%;\n",
              "    cursor: pointer;\n",
              "    display: none;\n",
              "    fill: var(--fill-color);\n",
              "    height: 32px;\n",
              "    padding: 0;\n",
              "    width: 32px;\n",
              "  }\n",
              "\n",
              "  .colab-df-quickchart:hover {\n",
              "    background-color: var(--hover-bg-color);\n",
              "    box-shadow: 0 1px 2px rgba(60, 64, 67, 0.3), 0 1px 3px 1px rgba(60, 64, 67, 0.15);\n",
              "    fill: var(--button-hover-fill-color);\n",
              "  }\n",
              "\n",
              "  .colab-df-quickchart-complete:disabled,\n",
              "  .colab-df-quickchart-complete:disabled:hover {\n",
              "    background-color: var(--disabled-bg-color);\n",
              "    fill: var(--disabled-fill-color);\n",
              "    box-shadow: none;\n",
              "  }\n",
              "\n",
              "  .colab-df-spinner {\n",
              "    border: 2px solid var(--fill-color);\n",
              "    border-color: transparent;\n",
              "    border-bottom-color: var(--fill-color);\n",
              "    animation:\n",
              "      spin 1s steps(1) infinite;\n",
              "  }\n",
              "\n",
              "  @keyframes spin {\n",
              "    0% {\n",
              "      border-color: transparent;\n",
              "      border-bottom-color: var(--fill-color);\n",
              "      border-left-color: var(--fill-color);\n",
              "    }\n",
              "    20% {\n",
              "      border-color: transparent;\n",
              "      border-left-color: var(--fill-color);\n",
              "      border-top-color: var(--fill-color);\n",
              "    }\n",
              "    30% {\n",
              "      border-color: transparent;\n",
              "      border-left-color: var(--fill-color);\n",
              "      border-top-color: var(--fill-color);\n",
              "      border-right-color: var(--fill-color);\n",
              "    }\n",
              "    40% {\n",
              "      border-color: transparent;\n",
              "      border-right-color: var(--fill-color);\n",
              "      border-top-color: var(--fill-color);\n",
              "    }\n",
              "    60% {\n",
              "      border-color: transparent;\n",
              "      border-right-color: var(--fill-color);\n",
              "    }\n",
              "    80% {\n",
              "      border-color: transparent;\n",
              "      border-right-color: var(--fill-color);\n",
              "      border-bottom-color: var(--fill-color);\n",
              "    }\n",
              "    90% {\n",
              "      border-color: transparent;\n",
              "      border-bottom-color: var(--fill-color);\n",
              "    }\n",
              "  }\n",
              "</style>\n",
              "\n",
              "  <script>\n",
              "    async function quickchart(key) {\n",
              "      const quickchartButtonEl =\n",
              "        document.querySelector('#' + key + ' button');\n",
              "      quickchartButtonEl.disabled = true;  // To prevent multiple clicks.\n",
              "      quickchartButtonEl.classList.add('colab-df-spinner');\n",
              "      try {\n",
              "        const charts = await google.colab.kernel.invokeFunction(\n",
              "            'suggestCharts', [key], {});\n",
              "      } catch (error) {\n",
              "        console.error('Error during call to suggestCharts:', error);\n",
              "      }\n",
              "      quickchartButtonEl.classList.remove('colab-df-spinner');\n",
              "      quickchartButtonEl.classList.add('colab-df-quickchart-complete');\n",
              "    }\n",
              "    (() => {\n",
              "      let quickchartButtonEl =\n",
              "        document.querySelector('#df-83e42bd6-6e16-4e26-80f8-2292ad95f2e8 button');\n",
              "      quickchartButtonEl.style.display =\n",
              "        google.colab.kernel.accessAllowed ? 'block' : 'none';\n",
              "    })();\n",
              "  </script>\n",
              "</div>\n",
              "\n",
              "  <div id=\"id_4272e0a8-fa05-4909-a779-e8f091c0892d\">\n",
              "    <style>\n",
              "      .colab-df-generate {\n",
              "        background-color: #E8F0FE;\n",
              "        border: none;\n",
              "        border-radius: 50%;\n",
              "        cursor: pointer;\n",
              "        display: none;\n",
              "        fill: #1967D2;\n",
              "        height: 32px;\n",
              "        padding: 0 0 0 0;\n",
              "        width: 32px;\n",
              "      }\n",
              "\n",
              "      .colab-df-generate:hover {\n",
              "        background-color: #E2EBFA;\n",
              "        box-shadow: 0px 1px 2px rgba(60, 64, 67, 0.3), 0px 1px 3px 1px rgba(60, 64, 67, 0.15);\n",
              "        fill: #174EA6;\n",
              "      }\n",
              "\n",
              "      [theme=dark] .colab-df-generate {\n",
              "        background-color: #3B4455;\n",
              "        fill: #D2E3FC;\n",
              "      }\n",
              "\n",
              "      [theme=dark] .colab-df-generate:hover {\n",
              "        background-color: #434B5C;\n",
              "        box-shadow: 0px 1px 3px 1px rgba(0, 0, 0, 0.15);\n",
              "        filter: drop-shadow(0px 1px 2px rgba(0, 0, 0, 0.3));\n",
              "        fill: #FFFFFF;\n",
              "      }\n",
              "    </style>\n",
              "    <button class=\"colab-df-generate\" onclick=\"generateWithVariable('results_no_tensorflow_df')\"\n",
              "            title=\"Generate code using this dataframe.\"\n",
              "            style=\"display:none;\">\n",
              "\n",
              "  <svg xmlns=\"http://www.w3.org/2000/svg\" height=\"24px\"viewBox=\"0 0 24 24\"\n",
              "       width=\"24px\">\n",
              "    <path d=\"M7,19H8.4L18.45,9,17,7.55,7,17.6ZM5,21V16.75L18.45,3.32a2,2,0,0,1,2.83,0l1.4,1.43a1.91,1.91,0,0,1,.58,1.4,1.91,1.91,0,0,1-.58,1.4L9.25,21ZM18.45,9,17,7.55Zm-12,3A5.31,5.31,0,0,0,4.9,8.1,5.31,5.31,0,0,0,1,6.5,5.31,5.31,0,0,0,4.9,4.9,5.31,5.31,0,0,0,6.5,1,5.31,5.31,0,0,0,8.1,4.9,5.31,5.31,0,0,0,12,6.5,5.46,5.46,0,0,0,6.5,12Z\"/>\n",
              "  </svg>\n",
              "    </button>\n",
              "    <script>\n",
              "      (() => {\n",
              "      const buttonEl =\n",
              "        document.querySelector('#id_4272e0a8-fa05-4909-a779-e8f091c0892d button.colab-df-generate');\n",
              "      buttonEl.style.display =\n",
              "        google.colab.kernel.accessAllowed ? 'block' : 'none';\n",
              "\n",
              "      buttonEl.onclick = () => {\n",
              "        google.colab.notebook.generateWithVariable('results_no_tensorflow_df');\n",
              "      }\n",
              "      })();\n",
              "    </script>\n",
              "  </div>\n",
              "\n",
              "    </div>\n",
              "  </div>\n"
            ]
          },
          "metadata": {},
          "execution_count": 137
        }
      ]
    },
    {
      "cell_type": "code",
      "source": [
        "# colors\n",
        "class_rmse = list(results_no_tensorflow_df.values[:, 0])\n",
        "denominator = max(class_rmse) - min(class_rmse)\n",
        "scaled_data = [(datum-min(class_rmse))/denominator for datum in class_rmse]\n",
        "colors = []\n",
        "cmap = plt.colormaps['viridis']\n",
        "for decimal in scaled_data:\n",
        "  colors.append(cmap(decimal));\n",
        "\n",
        "# plotting\n",
        "fig = plt.subplots(figsize=(15, 10))\n",
        "scores = plt.barh(results_no_tensorflow_df.index, results_no_tensorflow_df['RMSE'], color=colors)\n",
        "plt.title('RMSE of Blending Models Without TensorFlow', fontsize=18)\n",
        "plt.bar_label(scores, fmt='%.4f')\n",
        "plt.gca().invert_yaxis()\n",
        "plt.xlabel('RMSE', fontsize=14)\n",
        "plt.ylabel('Models', fontsize=14)\n",
        "\n",
        "plt.savefig(\"/content/drive/MyDrive/ColabNotebooks/projects/AutoPartner/improved_blending_models_no_tf.png\", bbox_inches='tight')\n",
        "plt.show()"
      ],
      "metadata": {
        "colab": {
          "base_uri": "https://localhost:8080/",
          "height": 607
        },
        "id": "taO8Xb-7yFWE",
        "outputId": "c38be1b1-1a98-4637-8813-ec5580b700e0"
      },
      "execution_count": null,
      "outputs": [
        {
          "output_type": "display_data",
          "data": {
            "text/plain": [
              "<Figure size 1500x1000 with 1 Axes>"
            ],
            "image/png": "[encoded data removed]"
          },
          "metadata": {}
        }
      ]
    },
    {
      "cell_type": "markdown",
      "source": [
        "Wow I didn't do that well with my own implementation of blending algorithm neural network, but I really imrpoved the blending algorithm with 4 selected models"
      ],
      "metadata": {
        "id": "TFlNB0_j6cWA"
      }
    },
    {
      "cell_type": "code",
      "source": [
        "tf_model_1_result = np.sqrt(mean_squared_error(y_test_formatted, tf_model_1.predict(meta_X_test_formatted_original)))\n",
        "tf_model_2_result = np.sqrt(mean_squared_error(y_test_formatted, tf_model_2.predict(meta_X_test_formatted_original)))\n",
        "tf_model_3_result = np.sqrt(mean_squared_error(y_test_formatted, tf_model_3.predict(meta_X_test_formatted_original)))\n",
        "tf_model_4_result = np.sqrt(mean_squared_error(y_test_formatted, tf_model_4.predict(meta_X_test_formatted_original)))\n",
        "tf_model_5_result = np.sqrt(mean_squared_error(y_test_formatted, tf_model_5.predict(meta_X_test_formatted_original)))\n",
        "tf_model_6_result = np.sqrt(mean_squared_error(y_test_formatted, tf_model_6.predict(meta_X_test_formatted_selected_2)))"
      ],
      "metadata": {
        "colab": {
          "base_uri": "https://localhost:8080/"
        },
        "id": "rcWp51wYtFsF",
        "outputId": "9ef7c652-d039-4e8f-f44c-254364c44866"
      },
      "execution_count": null,
      "outputs": [
        {
          "output_type": "stream",
          "name": "stdout",
          "text": [
            "27/27 [==============================] - 0s 2ms/step\n",
            "27/27 [==============================] - 0s 2ms/step\n",
            "27/27 [==============================] - 0s 2ms/step\n",
            "27/27 [==============================] - 0s 2ms/step\n",
            "27/27 [==============================] - 0s 2ms/step\n",
            "27/27 [==============================] - 0s 2ms/step\n"
          ]
        }
      ]
    },
    {
      "cell_type": "code",
      "source": [
        "results_tensorflow = {\n",
        "    'Random Forest Regresor': rfr_result,\n",
        "    'base_model with 6 models': bl_result,\n",
        "    'base_model with 3 models (best RMSE)': bl_3_result,\n",
        "    'ANN but with selected 3 models (Best NN model without Tensorflow)': model_6_result,\n",
        "    '1 hidden layer Tensorflow model with SGD': tf_model_1_result,\n",
        "    '1 hidden layer Tensorflow model with Adam': tf_model_2_result,\n",
        "    '1 hidden layer Tensorflow model with Adam with linear activation': tf_model_3_result,\n",
        "    '3 hidden layer Tensorflow model with Adam': tf_model_4_result,\n",
        "    '3 hidden layer Tensorflow model with Adam with leaky relu': tf_model_5_result,\n",
        "    '3 hidden layer Tensorflow model with Adam with leaky relu and 4 selected models': tf_model_6_result,\n",
        "}\n",
        "\n",
        "results_tensorflow_df = pd.DataFrame.from_dict(results_tensorflow, orient='index', columns=['RMSE']).round(3)\n",
        "results_tensorflow_df.sort_values(by='RMSE', ascending=True, inplace=True)\n",
        "results_tensorflow_df"
      ],
      "metadata": {
        "colab": {
          "base_uri": "https://localhost:8080/",
          "height": 363
        },
        "id": "DR4W-IN50BnX",
        "outputId": "28d4b8d6-4364-4602-ca14-a4c9952f4dac"
      },
      "execution_count": null,
      "outputs": [
        {
          "output_type": "execute_result",
          "data": {
            "text/plain": [
              "                                                         RMSE\n",
              "3 hidden layer Tensorflow model with Adam with ...   5531.608\n",
              "3 hidden layer Tensorflow model with Adam            5583.249\n",
              "3 hidden layer Tensorflow model with Adam with ...   5585.303\n",
              "Random Forest Regresor                               5640.996\n",
              "base_model with 3 models (best RMSE)                 5645.460\n",
              "base_model with 6 models                             5770.306\n",
              "ANN but with selected 3 models (Best NN model w...   6223.500\n",
              "1 hidden layer Tensorflow model with Adam            9146.138\n",
              "1 hidden layer Tensorflow model with Adam with ...   9213.550\n",
              "1 hidden layer Tensorflow model with SGD            10788.709"
            ],
            "text/html": [
              "\n",
              "  <div id=\"df-0361891b-9bc5-405e-8b69-3604bd13c6c4\" class=\"colab-df-container\">\n",
              "    <div>\n",
              "<style scoped>\n",
              "    .dataframe tbody tr th:only-of-type {\n",
              "        vertical-align: middle;\n",
              "    }\n",
              "\n",
              "    .dataframe tbody tr th {\n",
              "        vertical-align: top;\n",
              "    }\n",
              "\n",
              "    .dataframe thead th {\n",
              "        text-align: right;\n",
              "    }\n",
              "</style>\n",
              "<table border=\"1\" class=\"dataframe\">\n",
              "  <thead>\n",
              "    <tr style=\"text-align: right;\">\n",
              "      <th></th>\n",
              "      <th>RMSE</th>\n",
              "    </tr>\n",
              "  </thead>\n",
              "  <tbody>\n",
              "    <tr>\n",
              "      <th>3 hidden layer Tensorflow model with Adam with leaky relu and 4 selected models</th>\n",
              "      <td>5531.608</td>\n",
              "    </tr>\n",
              "    <tr>\n",
              "      <th>3 hidden layer Tensorflow model with Adam</th>\n",
              "      <td>5583.249</td>\n",
              "    </tr>\n",
              "    <tr>\n",
              "      <th>3 hidden layer Tensorflow model with Adam with leaky relu</th>\n",
              "      <td>5585.303</td>\n",
              "    </tr>\n",
              "    <tr>\n",
              "      <th>Random Forest Regresor</th>\n",
              "      <td>5640.996</td>\n",
              "    </tr>\n",
              "    <tr>\n",
              "      <th>base_model with 3 models (best RMSE)</th>\n",
              "      <td>5645.460</td>\n",
              "    </tr>\n",
              "    <tr>\n",
              "      <th>base_model with 6 models</th>\n",
              "      <td>5770.306</td>\n",
              "    </tr>\n",
              "    <tr>\n",
              "      <th>ANN but with selected 3 models (Best NN model without Tensorflow)</th>\n",
              "      <td>6223.500</td>\n",
              "    </tr>\n",
              "    <tr>\n",
              "      <th>1 hidden layer Tensorflow model with Adam</th>\n",
              "      <td>9146.138</td>\n",
              "    </tr>\n",
              "    <tr>\n",
              "      <th>1 hidden layer Tensorflow model with Adam with linear activation</th>\n",
              "      <td>9213.550</td>\n",
              "    </tr>\n",
              "    <tr>\n",
              "      <th>1 hidden layer Tensorflow model with SGD</th>\n",
              "      <td>10788.709</td>\n",
              "    </tr>\n",
              "  </tbody>\n",
              "</table>\n",
              "</div>\n",
              "    <div class=\"colab-df-buttons\">\n",
              "\n",
              "  <div class=\"colab-df-container\">\n",
              "    <button class=\"colab-df-convert\" onclick=\"convertToInteractive('df-0361891b-9bc5-405e-8b69-3604bd13c6c4')\"\n",
              "            title=\"Convert this dataframe to an interactive table.\"\n",
              "            style=\"display:none;\">\n",
              "\n",
              "  <svg xmlns=\"http://www.w3.org/2000/svg\" height=\"24px\" viewBox=\"0 -960 960 960\">\n",
              "    <path d=\"M120-120v-720h720v720H120Zm60-500h600v-160H180v160Zm220 220h160v-160H400v160Zm0 220h160v-160H400v160ZM180-400h160v-160H180v160Zm440 0h160v-160H620v160ZM180-180h160v-160H180v160Zm440 0h160v-160H620v160Z\"/>\n",
              "  </svg>\n",
              "    </button>\n",
              "\n",
              "  <style>\n",
              "    .colab-df-container {\n",
              "      display:flex;\n",
              "      gap: 12px;\n",
              "    }\n",
              "\n",
              "    .colab-df-convert {\n",
              "      background-color: #E8F0FE;\n",
              "      border: none;\n",
              "      border-radius: 50%;\n",
              "      cursor: pointer;\n",
              "      display: none;\n",
              "      fill: #1967D2;\n",
              "      height: 32px;\n",
              "      padding: 0 0 0 0;\n",
              "      width: 32px;\n",
              "    }\n",
              "\n",
              "    .colab-df-convert:hover {\n",
              "      background-color: #E2EBFA;\n",
              "      box-shadow: 0px 1px 2px rgba(60, 64, 67, 0.3), 0px 1px 3px 1px rgba(60, 64, 67, 0.15);\n",
              "      fill: #174EA6;\n",
              "    }\n",
              "\n",
              "    .colab-df-buttons div {\n",
              "      margin-bottom: 4px;\n",
              "    }\n",
              "\n",
              "    [theme=dark] .colab-df-convert {\n",
              "      background-color: #3B4455;\n",
              "      fill: #D2E3FC;\n",
              "    }\n",
              "\n",
              "    [theme=dark] .colab-df-convert:hover {\n",
              "      background-color: #434B5C;\n",
              "      box-shadow: 0px 1px 3px 1px rgba(0, 0, 0, 0.15);\n",
              "      filter: drop-shadow(0px 1px 2px rgba(0, 0, 0, 0.3));\n",
              "      fill: #FFFFFF;\n",
              "    }\n",
              "  </style>\n",
              "\n",
              "    <script>\n",
              "      const buttonEl =\n",
              "        document.querySelector('#df-0361891b-9bc5-405e-8b69-3604bd13c6c4 button.colab-df-convert');\n",
              "      buttonEl.style.display =\n",
              "        google.colab.kernel.accessAllowed ? 'block' : 'none';\n",
              "\n",
              "      async function convertToInteractive(key) {\n",
              "        const element = document.querySelector('#df-0361891b-9bc5-405e-8b69-3604bd13c6c4');\n",
              "        const dataTable =\n",
              "          await google.colab.kernel.invokeFunction('convertToInteractive',\n",
              "                                                    [key], {});\n",
              "        if (!dataTable) return;\n",
              "\n",
              "        const docLinkHtml = 'Like what you see? Visit the ' +\n",
              "          '<a target=\"_blank\" href=https://colab.research.google.com/notebooks/data_table.ipynb>data table notebook</a>'\n",
              "          + ' to learn more about interactive tables.';\n",
              "        element.innerHTML = '';\n",
              "        dataTable['output_type'] = 'display_data';\n",
              "        await google.colab.output.renderOutput(dataTable, element);\n",
              "        const docLink = document.createElement('div');\n",
              "        docLink.innerHTML = docLinkHtml;\n",
              "        element.appendChild(docLink);\n",
              "      }\n",
              "    </script>\n",
              "  </div>\n",
              "\n",
              "\n",
              "<div id=\"df-438870eb-ddca-413b-9b86-7dac83a5415c\">\n",
              "  <button class=\"colab-df-quickchart\" onclick=\"quickchart('df-438870eb-ddca-413b-9b86-7dac83a5415c')\"\n",
              "            title=\"Suggest charts\"\n",
              "            style=\"display:none;\">\n",
              "\n",
              "<svg xmlns=\"http://www.w3.org/2000/svg\" height=\"24px\"viewBox=\"0 0 24 24\"\n",
              "     width=\"24px\">\n",
              "    <g>\n",
              "        <path d=\"M19 3H5c-1.1 0-2 .9-2 2v14c0 1.1.9 2 2 2h14c1.1 0 2-.9 2-2V5c0-1.1-.9-2-2-2zM9 17H7v-7h2v7zm4 0h-2V7h2v10zm4 0h-2v-4h2v4z\"/>\n",
              "    </g>\n",
              "</svg>\n",
              "  </button>\n",
              "\n",
              "<style>\n",
              "  .colab-df-quickchart {\n",
              "      --bg-color: #E8F0FE;\n",
              "      --fill-color: #1967D2;\n",
              "      --hover-bg-color: #E2EBFA;\n",
              "      --hover-fill-color: #174EA6;\n",
              "      --disabled-fill-color: #AAA;\n",
              "      --disabled-bg-color: #DDD;\n",
              "  }\n",
              "\n",
              "  [theme=dark] .colab-df-quickchart {\n",
              "      --bg-color: #3B4455;\n",
              "      --fill-color: #D2E3FC;\n",
              "      --hover-bg-color: #434B5C;\n",
              "      --hover-fill-color: #FFFFFF;\n",
              "      --disabled-bg-color: #3B4455;\n",
              "      --disabled-fill-color: #666;\n",
              "  }\n",
              "\n",
              "  .colab-df-quickchart {\n",
              "    background-color: var(--bg-color);\n",
              "    border: none;\n",
              "    border-radius: 50%;\n",
              "    cursor: pointer;\n",
              "    display: none;\n",
              "    fill: var(--fill-color);\n",
              "    height: 32px;\n",
              "    padding: 0;\n",
              "    width: 32px;\n",
              "  }\n",
              "\n",
              "  .colab-df-quickchart:hover {\n",
              "    background-color: var(--hover-bg-color);\n",
              "    box-shadow: 0 1px 2px rgba(60, 64, 67, 0.3), 0 1px 3px 1px rgba(60, 64, 67, 0.15);\n",
              "    fill: var(--button-hover-fill-color);\n",
              "  }\n",
              "\n",
              "  .colab-df-quickchart-complete:disabled,\n",
              "  .colab-df-quickchart-complete:disabled:hover {\n",
              "    background-color: var(--disabled-bg-color);\n",
              "    fill: var(--disabled-fill-color);\n",
              "    box-shadow: none;\n",
              "  }\n",
              "\n",
              "  .colab-df-spinner {\n",
              "    border: 2px solid var(--fill-color);\n",
              "    border-color: transparent;\n",
              "    border-bottom-color: var(--fill-color);\n",
              "    animation:\n",
              "      spin 1s steps(1) infinite;\n",
              "  }\n",
              "\n",
              "  @keyframes spin {\n",
              "    0% {\n",
              "      border-color: transparent;\n",
              "      border-bottom-color: var(--fill-color);\n",
              "      border-left-color: var(--fill-color);\n",
              "    }\n",
              "    20% {\n",
              "      border-color: transparent;\n",
              "      border-left-color: var(--fill-color);\n",
              "      border-top-color: var(--fill-color);\n",
              "    }\n",
              "    30% {\n",
              "      border-color: transparent;\n",
              "      border-left-color: var(--fill-color);\n",
              "      border-top-color: var(--fill-color);\n",
              "      border-right-color: var(--fill-color);\n",
              "    }\n",
              "    40% {\n",
              "      border-color: transparent;\n",
              "      border-right-color: var(--fill-color);\n",
              "      border-top-color: var(--fill-color);\n",
              "    }\n",
              "    60% {\n",
              "      border-color: transparent;\n",
              "      border-right-color: var(--fill-color);\n",
              "    }\n",
              "    80% {\n",
              "      border-color: transparent;\n",
              "      border-right-color: var(--fill-color);\n",
              "      border-bottom-color: var(--fill-color);\n",
              "    }\n",
              "    90% {\n",
              "      border-color: transparent;\n",
              "      border-bottom-color: var(--fill-color);\n",
              "    }\n",
              "  }\n",
              "</style>\n",
              "\n",
              "  <script>\n",
              "    async function quickchart(key) {\n",
              "      const quickchartButtonEl =\n",
              "        document.querySelector('#' + key + ' button');\n",
              "      quickchartButtonEl.disabled = true;  // To prevent multiple clicks.\n",
              "      quickchartButtonEl.classList.add('colab-df-spinner');\n",
              "      try {\n",
              "        const charts = await google.colab.kernel.invokeFunction(\n",
              "            'suggestCharts', [key], {});\n",
              "      } catch (error) {\n",
              "        console.error('Error during call to suggestCharts:', error);\n",
              "      }\n",
              "      quickchartButtonEl.classList.remove('colab-df-spinner');\n",
              "      quickchartButtonEl.classList.add('colab-df-quickchart-complete');\n",
              "    }\n",
              "    (() => {\n",
              "      let quickchartButtonEl =\n",
              "        document.querySelector('#df-438870eb-ddca-413b-9b86-7dac83a5415c button');\n",
              "      quickchartButtonEl.style.display =\n",
              "        google.colab.kernel.accessAllowed ? 'block' : 'none';\n",
              "    })();\n",
              "  </script>\n",
              "</div>\n",
              "\n",
              "  <div id=\"id_f5b46f91-31e8-46aa-ba1c-2de66476a3d2\">\n",
              "    <style>\n",
              "      .colab-df-generate {\n",
              "        background-color: #E8F0FE;\n",
              "        border: none;\n",
              "        border-radius: 50%;\n",
              "        cursor: pointer;\n",
              "        display: none;\n",
              "        fill: #1967D2;\n",
              "        height: 32px;\n",
              "        padding: 0 0 0 0;\n",
              "        width: 32px;\n",
              "      }\n",
              "\n",
              "      .colab-df-generate:hover {\n",
              "        background-color: #E2EBFA;\n",
              "        box-shadow: 0px 1px 2px rgba(60, 64, 67, 0.3), 0px 1px 3px 1px rgba(60, 64, 67, 0.15);\n",
              "        fill: #174EA6;\n",
              "      }\n",
              "\n",
              "      [theme=dark] .colab-df-generate {\n",
              "        background-color: #3B4455;\n",
              "        fill: #D2E3FC;\n",
              "      }\n",
              "\n",
              "      [theme=dark] .colab-df-generate:hover {\n",
              "        background-color: #434B5C;\n",
              "        box-shadow: 0px 1px 3px 1px rgba(0, 0, 0, 0.15);\n",
              "        filter: drop-shadow(0px 1px 2px rgba(0, 0, 0, 0.3));\n",
              "        fill: #FFFFFF;\n",
              "      }\n",
              "    </style>\n",
              "    <button class=\"colab-df-generate\" onclick=\"generateWithVariable('results_tensorflow_df')\"\n",
              "            title=\"Generate code using this dataframe.\"\n",
              "            style=\"display:none;\">\n",
              "\n",
              "  <svg xmlns=\"http://www.w3.org/2000/svg\" height=\"24px\"viewBox=\"0 0 24 24\"\n",
              "       width=\"24px\">\n",
              "    <path d=\"M7,19H8.4L18.45,9,17,7.55,7,17.6ZM5,21V16.75L18.45,3.32a2,2,0,0,1,2.83,0l1.4,1.43a1.91,1.91,0,0,1,.58,1.4,1.91,1.91,0,0,1-.58,1.4L9.25,21ZM18.45,9,17,7.55Zm-12,3A5.31,5.31,0,0,0,4.9,8.1,5.31,5.31,0,0,0,1,6.5,5.31,5.31,0,0,0,4.9,4.9,5.31,5.31,0,0,0,6.5,1,5.31,5.31,0,0,0,8.1,4.9,5.31,5.31,0,0,0,12,6.5,5.46,5.46,0,0,0,6.5,12Z\"/>\n",
              "  </svg>\n",
              "    </button>\n",
              "    <script>\n",
              "      (() => {\n",
              "      const buttonEl =\n",
              "        document.querySelector('#id_f5b46f91-31e8-46aa-ba1c-2de66476a3d2 button.colab-df-generate');\n",
              "      buttonEl.style.display =\n",
              "        google.colab.kernel.accessAllowed ? 'block' : 'none';\n",
              "\n",
              "      buttonEl.onclick = () => {\n",
              "        google.colab.notebook.generateWithVariable('results_tensorflow_df');\n",
              "      }\n",
              "      })();\n",
              "    </script>\n",
              "  </div>\n",
              "\n",
              "    </div>\n",
              "  </div>\n"
            ]
          },
          "metadata": {},
          "execution_count": 170
        }
      ]
    },
    {
      "cell_type": "code",
      "source": [
        "# colors\n",
        "class_tf_rmse = list(results_no_tensorflow_df.values[:, 0])\n",
        "denominator = max(class_tf_rmse) - min(class_tf_rmse)\n",
        "scaled_data = [(datum-min(class_tf_rmse))/denominator for datum in class_tf_rmse]\n",
        "colors = []\n",
        "cmap = plt.colormaps['viridis']\n",
        "for decimal in scaled_data:\n",
        "  colors.append(cmap(decimal));\n",
        "\n",
        "# plotting\n",
        "fig = plt.subplots(figsize=(15, 10))\n",
        "\n",
        "scores = plt.barh(results_tensorflow_df.index, results_tensorflow_df['RMSE'], color=colors)\n",
        "plt.title('RMSE of Blending Models WITH TensorFlow', fontsize=18)\n",
        "plt.bar_label(scores, fmt='%.4f')\n",
        "plt.gca().invert_yaxis()\n",
        "plt.xlabel('RMSE', fontsize=14)\n",
        "plt.ylabel('Models', fontsize=14)\n",
        "\n",
        "plt.savefig(\"/content/drive/MyDrive/ColabNotebooks/projects/AutoPartner/improved_blending_models_WITH_tf.png\", bbox_inches='tight')\n",
        "plt.show()"
      ],
      "metadata": {
        "colab": {
          "base_uri": "https://localhost:8080/",
          "height": 500
        },
        "id": "6HFk5sl00xVi",
        "outputId": "bc36f9a9-d3d2-4aba-bcc6-2ec4d2d015c0"
      },
      "execution_count": null,
      "outputs": [
        {
          "output_type": "display_data",
          "data": {
            "text/plain": [
              "<Figure size 1500x1000 with 1 Axes>"
            ],
            "image/png": "[encoded data removed]"
          },
          "metadata": {}
        }
      ]
    },
    {
      "cell_type": "code",
      "source": [
        "y_pred = rfr.predict(X_test)\n",
        "rfr_mape = mean_absolute_percentage_error(y_test, y_pred)"
      ],
      "metadata": {
        "id": "dIraNPOODava"
      },
      "execution_count": null,
      "outputs": []
    },
    {
      "cell_type": "code",
      "source": [
        "mean_absolute_percentage_error(y_test, y_pred)"
      ],
      "metadata": {
        "colab": {
          "base_uri": "https://localhost:8080/"
        },
        "id": "byhRyoU_HKL5",
        "outputId": "f61c2f26-abba-4bba-8295-5ee22e2d126e"
      },
      "execution_count": null,
      "outputs": [
        {
          "output_type": "execute_result",
          "data": {
            "text/plain": [
              "11.067134754232342"
            ]
          },
          "metadata": {},
          "execution_count": 145
        }
      ]
    },
    {
      "cell_type": "code",
      "source": [
        "y_pred = bl.predict(X_test)\n",
        "bl_mape = mean_absolute_percentage_error(y_test, y_pred)"
      ],
      "metadata": {
        "colab": {
          "base_uri": "https://localhost:8080/"
        },
        "id": "JuCx-gfV62K5",
        "outputId": "8dad4e1e-a928-4f7a-9da0-ba25953ed157"
      },
      "execution_count": null,
      "outputs": [
        {
          "output_type": "stream",
          "name": "stdout",
          "text": [
            "[[ 5901.33435822  7528.6        13389.4261153   8727.6\n",
            "   7470.05419922 11715.6860177 ]\n",
            " [10866.39821329 10015.8        13396.62124929  6641.77\n",
            "   6347.87255859 10628.02708124]\n",
            " [10897.83038462 16953.8        13669.86162458 26166.04333333\n",
            "  20737.27148438 22066.28655545]\n",
            " ...\n",
            " [13807.77279959 15248.6        13639.9911484  18166.95\n",
            "  17440.50585938 13287.70410367]\n",
            " [ 9369.94474428  1260.4        13464.89718239  2680.14\n",
            "   7542.328125   14867.00841346]\n",
            " [-1049.20662526  5749.         13361.13968356  3644.26\n",
            "   4275.36083984 11715.6860177 ]]\n"
          ]
        }
      ]
    },
    {
      "cell_type": "code",
      "source": [
        "y_pred = bl_2.predict(X_test)\n",
        "bl_2_mape = mean_absolute_percentage_error(y_test, y_pred)"
      ],
      "metadata": {
        "colab": {
          "base_uri": "https://localhost:8080/"
        },
        "id": "Dzl1IRjO6WJs",
        "outputId": "5e589bbc-f57c-43e1-a22c-2f41b54ea857"
      },
      "execution_count": null,
      "outputs": [
        {
          "output_type": "stream",
          "name": "stdout",
          "text": [
            "[[ 5032.88420017  7462.          8699.38        7525.36962891]\n",
            " [ 9827.49532321  9673.2         6768.82        7304.60888672]\n",
            " [11564.37370065 18710.         23598.35       22048.55664062]\n",
            " ...\n",
            " [13648.785401   14809.6        17559.99       17515.69335938]\n",
            " [ 9746.29877945  1649.2         2047.41        7012.87060547]\n",
            " [ -808.36141866  4902.2         3857.06        3278.0534668 ]]\n"
          ]
        }
      ]
    },
    {
      "cell_type": "code",
      "source": [
        "y_pred = net_8.predict(meta_X_test_formatted_selected_2)\n",
        "best_nn_mape = mean_absolute_percentage_error(y_test_formatted, y_pred)"
      ],
      "metadata": {
        "id": "HQu-GFR6760z"
      },
      "execution_count": null,
      "outputs": []
    },
    {
      "cell_type": "code",
      "source": [
        "y_pred = tf_model_6.predict(meta_X_test_formatted_selected_2)\n",
        "best_tf_nn_mape = mean_absolute_percentage_error(y_test_formatted, y_pred)"
      ],
      "metadata": {
        "colab": {
          "base_uri": "https://localhost:8080/"
        },
        "id": "CXdbIskS8R78",
        "outputId": "1cec55b4-452a-4935-eaf5-88aea443bdc0"
      },
      "execution_count": null,
      "outputs": [
        {
          "output_type": "stream",
          "name": "stdout",
          "text": [
            "27/27 [==============================] - 0s 2ms/step\n"
          ]
        }
      ]
    },
    {
      "cell_type": "code",
      "source": [
        "print(f'Random Forest Regressor:\\n MAPE: {rfr_mape:.2f}% \\n MRSE: {rfr_result:.2f}\\n')\n",
        "print(f'Improved blending algorithm:\\n MAPE: {bl_2_mape:.2f}% \\n MRSE: {bl_2_result:.2f}\\n')\n",
        "print(f'Original blending algorithm:\\n MAPE: {bl_mape:.2f}% \\n MRSE: {bl_result:.2f} \\n')\n",
        "print(f'Best NN Blending without tensorflow:\\n MAPE: {best_nn_mape:.2f}% \\n MRSE: {model_8_result:.2f} \\n')\n",
        "print(f'Best NN Blending WITH tensorflow:\\n MAPE: {best_tf_nn_mape:.2f}% \\n MRSE: {tf_model_6_result:.2f} \\n')"
      ],
      "metadata": {
        "colab": {
          "base_uri": "https://localhost:8080/"
        },
        "id": "x7m_yCQr694S",
        "outputId": "db85f668-0b92-4958-a2eb-76a70352b966"
      },
      "execution_count": null,
      "outputs": [
        {
          "output_type": "stream",
          "name": "stdout",
          "text": [
            "Random Forest Regressor:\n",
            " MAPE: 11.07% \n",
            " MRSE: 5641.00\n",
            "\n",
            "Improved blending algorithm:\n",
            " MAPE: 11.24% \n",
            " MRSE: 5701.99\n",
            "\n",
            "Original blending algorithm:\n",
            " MAPE: 11.77% \n",
            " MRSE: 5770.31 \n",
            "\n",
            "Best NN Blending without tensorflow:\n",
            " MAPE: 7.67% \n",
            " MRSE: 8299.12 \n",
            "\n",
            "Best NN Blending WITH tensorflow:\n",
            " MAPE: 7.61% \n",
            " MRSE: 5531.61 \n",
            "\n"
          ]
        }
      ]
    },
    {
      "cell_type": "code",
      "source": [
        "results_best_models = {\n",
        "    'Improved blending algorithm': [bl_2_mape, bl_2_result],\n",
        "    'Original blending algorithm': [bl_mape, bl_result],\n",
        "    'Random Forest Regressor': [rfr_mape, rfr_result],\n",
        "    'Best NN Blending without tensorflow': [best_nn_mape, model_8_result],\n",
        "    'Best NN Blending WITH tensorflow': [best_tf_nn_mape, tf_model_4_result],\n",
        "}\n",
        "\n",
        "results_best_models_df = pd.DataFrame.from_dict(results_best_models, orient='index', columns=['MAPE(%)', 'RMSE']).round(3)\n",
        "results_best_models_df.sort_values(by='RMSE', ascending=True, inplace=True)\n",
        "results_best_models_df"
      ],
      "metadata": {
        "colab": {
          "base_uri": "https://localhost:8080/",
          "height": 206
        },
        "outputId": "0e569f7c-874d-40cb-e368-26a8d3c3986f",
        "id": "hOh3PesZ8yfd"
      },
      "execution_count": null,
      "outputs": [
        {
          "output_type": "execute_result",
          "data": {
            "text/plain": [
              "                                     MAPE(%)      RMSE\n",
              "Best NN Blending WITH tensorflow       7.608  5583.249\n",
              "Random Forest Regressor               11.067  5640.996\n",
              "Improved blending algorithm           11.239  5701.993\n",
              "Original blending algorithm           11.769  5770.306\n",
              "Best NN Blending without tensorflow    7.669  8299.116"
            ],
            "text/html": [
              "\n",
              "  <div id=\"df-0e6533d0-fab0-47c2-98a3-a869b1e2bc45\" class=\"colab-df-container\">\n",
              "    <div>\n",
              "<style scoped>\n",
              "    .dataframe tbody tr th:only-of-type {\n",
              "        vertical-align: middle;\n",
              "    }\n",
              "\n",
              "    .dataframe tbody tr th {\n",
              "        vertical-align: top;\n",
              "    }\n",
              "\n",
              "    .dataframe thead th {\n",
              "        text-align: right;\n",
              "    }\n",
              "</style>\n",
              "<table border=\"1\" class=\"dataframe\">\n",
              "  <thead>\n",
              "    <tr style=\"text-align: right;\">\n",
              "      <th></th>\n",
              "      <th>MAPE(%)</th>\n",
              "      <th>RMSE</th>\n",
              "    </tr>\n",
              "  </thead>\n",
              "  <tbody>\n",
              "    <tr>\n",
              "      <th>Best NN Blending WITH tensorflow</th>\n",
              "      <td>7.608</td>\n",
              "      <td>5583.249</td>\n",
              "    </tr>\n",
              "    <tr>\n",
              "      <th>Random Forest Regressor</th>\n",
              "      <td>11.067</td>\n",
              "      <td>5640.996</td>\n",
              "    </tr>\n",
              "    <tr>\n",
              "      <th>Improved blending algorithm</th>\n",
              "      <td>11.239</td>\n",
              "      <td>5701.993</td>\n",
              "    </tr>\n",
              "    <tr>\n",
              "      <th>Original blending algorithm</th>\n",
              "      <td>11.769</td>\n",
              "      <td>5770.306</td>\n",
              "    </tr>\n",
              "    <tr>\n",
              "      <th>Best NN Blending without tensorflow</th>\n",
              "      <td>7.669</td>\n",
              "      <td>8299.116</td>\n",
              "    </tr>\n",
              "  </tbody>\n",
              "</table>\n",
              "</div>\n",
              "    <div class=\"colab-df-buttons\">\n",
              "\n",
              "  <div class=\"colab-df-container\">\n",
              "    <button class=\"colab-df-convert\" onclick=\"convertToInteractive('df-0e6533d0-fab0-47c2-98a3-a869b1e2bc45')\"\n",
              "            title=\"Convert this dataframe to an interactive table.\"\n",
              "            style=\"display:none;\">\n",
              "\n",
              "  <svg xmlns=\"http://www.w3.org/2000/svg\" height=\"24px\" viewBox=\"0 -960 960 960\">\n",
              "    <path d=\"M120-120v-720h720v720H120Zm60-500h600v-160H180v160Zm220 220h160v-160H400v160Zm0 220h160v-160H400v160ZM180-400h160v-160H180v160Zm440 0h160v-160H620v160ZM180-180h160v-160H180v160Zm440 0h160v-160H620v160Z\"/>\n",
              "  </svg>\n",
              "    </button>\n",
              "\n",
              "  <style>\n",
              "    .colab-df-container {\n",
              "      display:flex;\n",
              "      gap: 12px;\n",
              "    }\n",
              "\n",
              "    .colab-df-convert {\n",
              "      background-color: #E8F0FE;\n",
              "      border: none;\n",
              "      border-radius: 50%;\n",
              "      cursor: pointer;\n",
              "      display: none;\n",
              "      fill: #1967D2;\n",
              "      height: 32px;\n",
              "      padding: 0 0 0 0;\n",
              "      width: 32px;\n",
              "    }\n",
              "\n",
              "    .colab-df-convert:hover {\n",
              "      background-color: #E2EBFA;\n",
              "      box-shadow: 0px 1px 2px rgba(60, 64, 67, 0.3), 0px 1px 3px 1px rgba(60, 64, 67, 0.15);\n",
              "      fill: #174EA6;\n",
              "    }\n",
              "\n",
              "    .colab-df-buttons div {\n",
              "      margin-bottom: 4px;\n",
              "    }\n",
              "\n",
              "    [theme=dark] .colab-df-convert {\n",
              "      background-color: #3B4455;\n",
              "      fill: #D2E3FC;\n",
              "    }\n",
              "\n",
              "    [theme=dark] .colab-df-convert:hover {\n",
              "      background-color: #434B5C;\n",
              "      box-shadow: 0px 1px 3px 1px rgba(0, 0, 0, 0.15);\n",
              "      filter: drop-shadow(0px 1px 2px rgba(0, 0, 0, 0.3));\n",
              "      fill: #FFFFFF;\n",
              "    }\n",
              "  </style>\n",
              "\n",
              "    <script>\n",
              "      const buttonEl =\n",
              "        document.querySelector('#df-0e6533d0-fab0-47c2-98a3-a869b1e2bc45 button.colab-df-convert');\n",
              "      buttonEl.style.display =\n",
              "        google.colab.kernel.accessAllowed ? 'block' : 'none';\n",
              "\n",
              "      async function convertToInteractive(key) {\n",
              "        const element = document.querySelector('#df-0e6533d0-fab0-47c2-98a3-a869b1e2bc45');\n",
              "        const dataTable =\n",
              "          await google.colab.kernel.invokeFunction('convertToInteractive',\n",
              "                                                    [key], {});\n",
              "        if (!dataTable) return;\n",
              "\n",
              "        const docLinkHtml = 'Like what you see? Visit the ' +\n",
              "          '<a target=\"_blank\" href=https://colab.research.google.com/notebooks/data_table.ipynb>data table notebook</a>'\n",
              "          + ' to learn more about interactive tables.';\n",
              "        element.innerHTML = '';\n",
              "        dataTable['output_type'] = 'display_data';\n",
              "        await google.colab.output.renderOutput(dataTable, element);\n",
              "        const docLink = document.createElement('div');\n",
              "        docLink.innerHTML = docLinkHtml;\n",
              "        element.appendChild(docLink);\n",
              "      }\n",
              "    </script>\n",
              "  </div>\n",
              "\n",
              "\n",
              "<div id=\"df-d5744649-d121-45f3-9e81-0c136d5ab5b5\">\n",
              "  <button class=\"colab-df-quickchart\" onclick=\"quickchart('df-d5744649-d121-45f3-9e81-0c136d5ab5b5')\"\n",
              "            title=\"Suggest charts\"\n",
              "            style=\"display:none;\">\n",
              "\n",
              "<svg xmlns=\"http://www.w3.org/2000/svg\" height=\"24px\"viewBox=\"0 0 24 24\"\n",
              "     width=\"24px\">\n",
              "    <g>\n",
              "        <path d=\"M19 3H5c-1.1 0-2 .9-2 2v14c0 1.1.9 2 2 2h14c1.1 0 2-.9 2-2V5c0-1.1-.9-2-2-2zM9 17H7v-7h2v7zm4 0h-2V7h2v10zm4 0h-2v-4h2v4z\"/>\n",
              "    </g>\n",
              "</svg>\n",
              "  </button>\n",
              "\n",
              "<style>\n",
              "  .colab-df-quickchart {\n",
              "      --bg-color: #E8F0FE;\n",
              "      --fill-color: #1967D2;\n",
              "      --hover-bg-color: #E2EBFA;\n",
              "      --hover-fill-color: #174EA6;\n",
              "      --disabled-fill-color: #AAA;\n",
              "      --disabled-bg-color: #DDD;\n",
              "  }\n",
              "\n",
              "  [theme=dark] .colab-df-quickchart {\n",
              "      --bg-color: #3B4455;\n",
              "      --fill-color: #D2E3FC;\n",
              "      --hover-bg-color: #434B5C;\n",
              "      --hover-fill-color: #FFFFFF;\n",
              "      --disabled-bg-color: #3B4455;\n",
              "      --disabled-fill-color: #666;\n",
              "  }\n",
              "\n",
              "  .colab-df-quickchart {\n",
              "    background-color: var(--bg-color);\n",
              "    border: none;\n",
              "    border-radius: 50%;\n",
              "    cursor: pointer;\n",
              "    display: none;\n",
              "    fill: var(--fill-color);\n",
              "    height: 32px;\n",
              "    padding: 0;\n",
              "    width: 32px;\n",
              "  }\n",
              "\n",
              "  .colab-df-quickchart:hover {\n",
              "    background-color: var(--hover-bg-color);\n",
              "    box-shadow: 0 1px 2px rgba(60, 64, 67, 0.3), 0 1px 3px 1px rgba(60, 64, 67, 0.15);\n",
              "    fill: var(--button-hover-fill-color);\n",
              "  }\n",
              "\n",
              "  .colab-df-quickchart-complete:disabled,\n",
              "  .colab-df-quickchart-complete:disabled:hover {\n",
              "    background-color: var(--disabled-bg-color);\n",
              "    fill: var(--disabled-fill-color);\n",
              "    box-shadow: none;\n",
              "  }\n",
              "\n",
              "  .colab-df-spinner {\n",
              "    border: 2px solid var(--fill-color);\n",
              "    border-color: transparent;\n",
              "    border-bottom-color: var(--fill-color);\n",
              "    animation:\n",
              "      spin 1s steps(1) infinite;\n",
              "  }\n",
              "\n",
              "  @keyframes spin {\n",
              "    0% {\n",
              "      border-color: transparent;\n",
              "      border-bottom-color: var(--fill-color);\n",
              "      border-left-color: var(--fill-color);\n",
              "    }\n",
              "    20% {\n",
              "      border-color: transparent;\n",
              "      border-left-color: var(--fill-color);\n",
              "      border-top-color: var(--fill-color);\n",
              "    }\n",
              "    30% {\n",
              "      border-color: transparent;\n",
              "      border-left-color: var(--fill-color);\n",
              "      border-top-color: var(--fill-color);\n",
              "      border-right-color: var(--fill-color);\n",
              "    }\n",
              "    40% {\n",
              "      border-color: transparent;\n",
              "      border-right-color: var(--fill-color);\n",
              "      border-top-color: var(--fill-color);\n",
              "    }\n",
              "    60% {\n",
              "      border-color: transparent;\n",
              "      border-right-color: var(--fill-color);\n",
              "    }\n",
              "    80% {\n",
              "      border-color: transparent;\n",
              "      border-right-color: var(--fill-color);\n",
              "      border-bottom-color: var(--fill-color);\n",
              "    }\n",
              "    90% {\n",
              "      border-color: transparent;\n",
              "      border-bottom-color: var(--fill-color);\n",
              "    }\n",
              "  }\n",
              "</style>\n",
              "\n",
              "  <script>\n",
              "    async function quickchart(key) {\n",
              "      const quickchartButtonEl =\n",
              "        document.querySelector('#' + key + ' button');\n",
              "      quickchartButtonEl.disabled = true;  // To prevent multiple clicks.\n",
              "      quickchartButtonEl.classList.add('colab-df-spinner');\n",
              "      try {\n",
              "        const charts = await google.colab.kernel.invokeFunction(\n",
              "            'suggestCharts', [key], {});\n",
              "      } catch (error) {\n",
              "        console.error('Error during call to suggestCharts:', error);\n",
              "      }\n",
              "      quickchartButtonEl.classList.remove('colab-df-spinner');\n",
              "      quickchartButtonEl.classList.add('colab-df-quickchart-complete');\n",
              "    }\n",
              "    (() => {\n",
              "      let quickchartButtonEl =\n",
              "        document.querySelector('#df-d5744649-d121-45f3-9e81-0c136d5ab5b5 button');\n",
              "      quickchartButtonEl.style.display =\n",
              "        google.colab.kernel.accessAllowed ? 'block' : 'none';\n",
              "    })();\n",
              "  </script>\n",
              "</div>\n",
              "\n",
              "  <div id=\"id_c7288b0d-8782-471f-a964-fbc793828bc1\">\n",
              "    <style>\n",
              "      .colab-df-generate {\n",
              "        background-color: #E8F0FE;\n",
              "        border: none;\n",
              "        border-radius: 50%;\n",
              "        cursor: pointer;\n",
              "        display: none;\n",
              "        fill: #1967D2;\n",
              "        height: 32px;\n",
              "        padding: 0 0 0 0;\n",
              "        width: 32px;\n",
              "      }\n",
              "\n",
              "      .colab-df-generate:hover {\n",
              "        background-color: #E2EBFA;\n",
              "        box-shadow: 0px 1px 2px rgba(60, 64, 67, 0.3), 0px 1px 3px 1px rgba(60, 64, 67, 0.15);\n",
              "        fill: #174EA6;\n",
              "      }\n",
              "\n",
              "      [theme=dark] .colab-df-generate {\n",
              "        background-color: #3B4455;\n",
              "        fill: #D2E3FC;\n",
              "      }\n",
              "\n",
              "      [theme=dark] .colab-df-generate:hover {\n",
              "        background-color: #434B5C;\n",
              "        box-shadow: 0px 1px 3px 1px rgba(0, 0, 0, 0.15);\n",
              "        filter: drop-shadow(0px 1px 2px rgba(0, 0, 0, 0.3));\n",
              "        fill: #FFFFFF;\n",
              "      }\n",
              "    </style>\n",
              "    <button class=\"colab-df-generate\" onclick=\"generateWithVariable('results_best_models_df')\"\n",
              "            title=\"Generate code using this dataframe.\"\n",
              "            style=\"display:none;\">\n",
              "\n",
              "  <svg xmlns=\"http://www.w3.org/2000/svg\" height=\"24px\"viewBox=\"0 0 24 24\"\n",
              "       width=\"24px\">\n",
              "    <path d=\"M7,19H8.4L18.45,9,17,7.55,7,17.6ZM5,21V16.75L18.45,3.32a2,2,0,0,1,2.83,0l1.4,1.43a1.91,1.91,0,0,1,.58,1.4,1.91,1.91,0,0,1-.58,1.4L9.25,21ZM18.45,9,17,7.55Zm-12,3A5.31,5.31,0,0,0,4.9,8.1,5.31,5.31,0,0,0,1,6.5,5.31,5.31,0,0,0,4.9,4.9,5.31,5.31,0,0,0,6.5,1,5.31,5.31,0,0,0,8.1,4.9,5.31,5.31,0,0,0,12,6.5,5.46,5.46,0,0,0,6.5,12Z\"/>\n",
              "  </svg>\n",
              "    </button>\n",
              "    <script>\n",
              "      (() => {\n",
              "      const buttonEl =\n",
              "        document.querySelector('#id_c7288b0d-8782-471f-a964-fbc793828bc1 button.colab-df-generate');\n",
              "      buttonEl.style.display =\n",
              "        google.colab.kernel.accessAllowed ? 'block' : 'none';\n",
              "\n",
              "      buttonEl.onclick = () => {\n",
              "        google.colab.notebook.generateWithVariable('results_best_models_df');\n",
              "      }\n",
              "      })();\n",
              "    </script>\n",
              "  </div>\n",
              "\n",
              "    </div>\n",
              "  </div>\n"
            ]
          },
          "metadata": {},
          "execution_count": 175
        }
      ]
    },
    {
      "cell_type": "code",
      "source": [
        "# colors\n",
        "best_models_scores = list(results_best_models_df.values[:, 0])\n",
        "denominator = max(best_models_scores) - min(best_models_scores)\n",
        "scaled_data = [(datum-min(best_models_scores))/denominator for datum in best_models_scores]\n",
        "colors = []\n",
        "cmap = plt.colormaps['viridis']\n",
        "for decimal in scaled_data:\n",
        "  colors.append(cmap(decimal));\n",
        "\n",
        "# plotting\n",
        "fig = plt.subplots(figsize=(15, 10))\n",
        "\n",
        "scores = plt.barh(results_best_models_df.index, results_best_models_df['RMSE'], color=colors)\n",
        "plt.title('RMSE of Best Blending Models', fontsize=18)\n",
        "plt.bar_label(scores, fmt='%.4f')\n",
        "plt.gca().invert_yaxis()\n",
        "plt.xlabel('RMSE', fontsize=14)\n",
        "plt.ylabel('Models', fontsize=14)\n",
        "\n",
        "plt.savefig(\"/content/drive/MyDrive/ColabNotebooks/projects/AutoPartner/best_models_rmse.png\", bbox_inches='tight')\n",
        "plt.show()"
      ],
      "metadata": {
        "colab": {
          "base_uri": "https://localhost:8080/",
          "height": 606
        },
        "outputId": "cea891ee-e7b9-4b9a-82ad-b395e72abe6d",
        "id": "pdL-rnur8yfk"
      },
      "execution_count": null,
      "outputs": [
        {
          "output_type": "display_data",
          "data": {
            "text/plain": [
              "<Figure size 1500x1000 with 1 Axes>"
            ],
            "image/png": "[encoded data removed]"
          },
          "metadata": {}
        }
      ]
    },
    {
      "cell_type": "code",
      "source": [
        "results_best_models_df.sort_values(by='MAPE(%)', ascending=True, inplace=True)"
      ],
      "metadata": {
        "id": "ae8_QBB_vlqt"
      },
      "execution_count": null,
      "outputs": []
    },
    {
      "cell_type": "code",
      "source": [
        "# colors\n",
        "best_models_scores = list(results_best_models_df.values[:, 0])\n",
        "denominator = max(best_models_scores) - min(best_models_scores)\n",
        "scaled_data = [(datum-min(best_models_scores))/denominator for datum in best_models_scores]\n",
        "colors = []\n",
        "cmap = plt.colormaps['viridis']\n",
        "for decimal in scaled_data:\n",
        "  colors.append(cmap(decimal));\n",
        "\n",
        "# plotting\n",
        "fig = plt.subplots(figsize=(15, 10))\n",
        "\n",
        "scores = plt.barh(results_best_models_df.index, results_best_models_df['MAPE(%)'], color=colors)\n",
        "plt.title('MAPE(%) of Best Blending Models', fontsize=18)\n",
        "plt.bar_label(scores, fmt='%.2f')\n",
        "plt.gca().invert_yaxis()\n",
        "plt.xlabel('MAPE(%)', fontsize=14)\n",
        "plt.ylabel('Models', fontsize=14)\n",
        "\n",
        "plt.savefig(\"/content/drive/MyDrive/ColabNotebooks/projects/AutoPartner/best_models_mape.png\", bbox_inches='tight')\n",
        "plt.show()"
      ],
      "metadata": {
        "colab": {
          "base_uri": "https://localhost:8080/",
          "height": 613
        },
        "id": "iresvrcu_N5h",
        "outputId": "c8c94325-6030-4890-eac6-a54ea31af8bf"
      },
      "execution_count": null,
      "outputs": [
        {
          "output_type": "display_data",
          "data": {
            "text/plain": [
              "<Figure size 1500x1000 with 1 Axes>"
            ],
            "image/png": "[encoded data removed]"
          },
          "metadata": {}
        }
      ]
    },
    {
      "cell_type": "markdown",
      "source": [
        "## Conclusion\n",
        "\n",
        "The best RMSE with my own implementation is 8229.1160, which is worse than the original blending algorithm (5770.360) and previous best model (5169.220). However, it has lower MAPE with only 7.67%, better than the original blending algorithm (11.77%) and previous best model (13.77%).\n",
        "\n",
        "However, I've succeeded in improving the MLP blending algorithm with only 3 models, it has an RMSE score of 5701.9930 and MAPE of 11.24%, which is better than the original blending score.\n",
        "\n",
        "The best model is the blending algorithm neural networks with TensorFlow with RMSE of 5583.2490 and MAPE of 7.61%\n",
        "\n",
        "\n",
        "Below is the past model's performance I've created:\n",
        "\n",
        "![image](https://drive.google.com/uc?export=view&id=1g8ppaUiQHGHlS2-bHo6CvWxdtsk8TiGJ)"
      ],
      "metadata": {
        "id": "l_cT25So3yOE"
      }
    }
  ]
}